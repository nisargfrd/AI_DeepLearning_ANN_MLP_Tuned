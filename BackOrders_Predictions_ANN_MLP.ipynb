{
 "cells": [
  {
   "cell_type": "markdown",
   "metadata": {},
   "source": [
    "### Problem Statement\n",
    "\n",
    "    Identify products at risk of backorder before the event occurs so that business has time to react."
   ]
  },
  {
   "cell_type": "markdown",
   "metadata": {},
   "source": [
    "### What is a Backorder?\n",
    "    Backorders are products that are temporarily out of stock, but a customer is permitted to place an order against future inventory. A backorder generally indicates that customer demand for a product or service exceeds a company’s capacity to supply it. Back orders are both good and bad. Strong demand can drive back orders, but so can suboptimal planning."
   ]
  },
  {
   "cell_type": "markdown",
   "metadata": {},
   "source": [
    "### Data\n",
    "\n",
    "Data file contains the historical data for the 8 weeks prior to the week we are trying to predict. The data was taken as weekly snapshots at the start of each week. Columns are defined as follows:\n",
    "\n",
    "    sku - Random ID for the product\n",
    "\n",
    "    national_inv - Current inventory level for the part\n",
    "\n",
    "    lead_time - Transit time for product (if available)\n",
    "\n",
    "    in_transit_qty - Amount of product in transit from source\n",
    "\n",
    "    forecast_3_month - Forecast sales for the next 3 months\n",
    "\n",
    "    forecast_6_month - Forecast sales for the next 6 months\n",
    "\n",
    "    forecast_9_month - Forecast sales for the next 9 months\n",
    "\n",
    "    sales_1_month - Sales quantity for the prior 1 month time period\n",
    "\n",
    "    sales_3_month - Sales quantity for the prior 3 month time period\n",
    "\n",
    "    sales_6_month - Sales quantity for the prior 6 month time period\n",
    "\n",
    "    sales_9_month - Sales quantity for the prior 9 month time period\n",
    "\n",
    "    min_bank - Minimum recommend amount to stock\n",
    "\n",
    "    potential_issue - Source issue for part identified\n",
    "\n",
    "    pieces_past_due - Parts overdue from source\n",
    "\n",
    "    perf_6_month_avg - Source performance for prior 6 month period\n",
    "\n",
    "    perf_12_month_avg - Source performance for prior 12 month period\n",
    "\n",
    "    local_bo_qty - Amount of stock orders overdue\n",
    "\n",
    "    deck_risk - Part risk flag\n",
    "\n",
    "    oe_constraint - Part risk flag\n",
    "\n",
    "    ppap_risk - Part risk flag\n",
    "\n",
    "    stop_auto_buy - Part risk flag\n",
    "\n",
    "    rev_stop - Part risk flag\n",
    "\n",
    "    went_on_backorder - Product actually went on backorder. This is the target value."
   ]
  },
  {
   "cell_type": "markdown",
   "metadata": {},
   "source": [
    "#### Identify Right Error Metrics\n",
    "\n",
    "    Based on the business, identify right error metrics."
   ]
  },
  {
   "cell_type": "raw",
   "metadata": {},
   "source": [
    "Recall/ TPR"
   ]
  },
  {
   "cell_type": "markdown",
   "metadata": {},
   "source": [
    "### Data Pre-processing\n",
    "#### Loading the required libraries"
   ]
  },
  {
   "cell_type": "code",
   "execution_count": 1,
   "metadata": {},
   "outputs": [],
   "source": [
    "import numpy as np\n",
    "import pandas as pd\n",
    "import os"
   ]
  },
  {
   "cell_type": "markdown",
   "metadata": {},
   "source": [
    "Get current working directory"
   ]
  },
  {
   "cell_type": "code",
   "execution_count": 2,
   "metadata": {},
   "outputs": [],
   "source": [
    "PATH = os.getcwd()"
   ]
  },
  {
   "cell_type": "markdown",
   "metadata": {},
   "source": [
    "Change directory"
   ]
  },
  {
   "cell_type": "code",
   "execution_count": 3,
   "metadata": {},
   "outputs": [],
   "source": [
    "os.chdir(PATH)"
   ]
  },
  {
   "cell_type": "markdown",
   "metadata": {},
   "source": [
    "#### Loading the data"
   ]
  },
  {
   "cell_type": "code",
   "execution_count": 4,
   "metadata": {
    "scrolled": true
   },
   "outputs": [
    {
     "data": {
      "text/html": [
       "<div>\n",
       "<style scoped>\n",
       "    .dataframe tbody tr th:only-of-type {\n",
       "        vertical-align: middle;\n",
       "    }\n",
       "\n",
       "    .dataframe tbody tr th {\n",
       "        vertical-align: top;\n",
       "    }\n",
       "\n",
       "    .dataframe thead th {\n",
       "        text-align: right;\n",
       "    }\n",
       "</style>\n",
       "<table border=\"1\" class=\"dataframe\">\n",
       "  <thead>\n",
       "    <tr style=\"text-align: right;\">\n",
       "      <th></th>\n",
       "      <th>sku</th>\n",
       "      <th>national_inv</th>\n",
       "      <th>lead_time</th>\n",
       "      <th>in_transit_qty</th>\n",
       "      <th>forecast_3_month</th>\n",
       "      <th>forecast_6_month</th>\n",
       "      <th>forecast_9_month</th>\n",
       "      <th>sales_1_month</th>\n",
       "      <th>sales_3_month</th>\n",
       "      <th>sales_6_month</th>\n",
       "      <th>...</th>\n",
       "      <th>pieces_past_due</th>\n",
       "      <th>perf_6_month_avg</th>\n",
       "      <th>perf_12_month_avg</th>\n",
       "      <th>local_bo_qty</th>\n",
       "      <th>deck_risk</th>\n",
       "      <th>oe_constraint</th>\n",
       "      <th>ppap_risk</th>\n",
       "      <th>stop_auto_buy</th>\n",
       "      <th>rev_stop</th>\n",
       "      <th>went_on_backorder</th>\n",
       "    </tr>\n",
       "  </thead>\n",
       "  <tbody>\n",
       "    <tr>\n",
       "      <th>0</th>\n",
       "      <td>1888279</td>\n",
       "      <td>117</td>\n",
       "      <td>NaN</td>\n",
       "      <td>0</td>\n",
       "      <td>0</td>\n",
       "      <td>0</td>\n",
       "      <td>0</td>\n",
       "      <td>0</td>\n",
       "      <td>0</td>\n",
       "      <td>15</td>\n",
       "      <td>...</td>\n",
       "      <td>0</td>\n",
       "      <td>NaN</td>\n",
       "      <td>NaN</td>\n",
       "      <td>0</td>\n",
       "      <td>No</td>\n",
       "      <td>No</td>\n",
       "      <td>Yes</td>\n",
       "      <td>Yes</td>\n",
       "      <td>No</td>\n",
       "      <td>No</td>\n",
       "    </tr>\n",
       "    <tr>\n",
       "      <th>1</th>\n",
       "      <td>1870557</td>\n",
       "      <td>7</td>\n",
       "      <td>2.0</td>\n",
       "      <td>0</td>\n",
       "      <td>0</td>\n",
       "      <td>0</td>\n",
       "      <td>0</td>\n",
       "      <td>0</td>\n",
       "      <td>0</td>\n",
       "      <td>0</td>\n",
       "      <td>...</td>\n",
       "      <td>0</td>\n",
       "      <td>0.50</td>\n",
       "      <td>0.28</td>\n",
       "      <td>0</td>\n",
       "      <td>Yes</td>\n",
       "      <td>No</td>\n",
       "      <td>No</td>\n",
       "      <td>Yes</td>\n",
       "      <td>No</td>\n",
       "      <td>No</td>\n",
       "    </tr>\n",
       "    <tr>\n",
       "      <th>2</th>\n",
       "      <td>1475481</td>\n",
       "      <td>258</td>\n",
       "      <td>15.0</td>\n",
       "      <td>10</td>\n",
       "      <td>10</td>\n",
       "      <td>77</td>\n",
       "      <td>184</td>\n",
       "      <td>46</td>\n",
       "      <td>132</td>\n",
       "      <td>256</td>\n",
       "      <td>...</td>\n",
       "      <td>0</td>\n",
       "      <td>0.54</td>\n",
       "      <td>0.70</td>\n",
       "      <td>0</td>\n",
       "      <td>No</td>\n",
       "      <td>No</td>\n",
       "      <td>No</td>\n",
       "      <td>Yes</td>\n",
       "      <td>No</td>\n",
       "      <td>No</td>\n",
       "    </tr>\n",
       "    <tr>\n",
       "      <th>3</th>\n",
       "      <td>1758220</td>\n",
       "      <td>46</td>\n",
       "      <td>2.0</td>\n",
       "      <td>0</td>\n",
       "      <td>0</td>\n",
       "      <td>0</td>\n",
       "      <td>0</td>\n",
       "      <td>1</td>\n",
       "      <td>2</td>\n",
       "      <td>6</td>\n",
       "      <td>...</td>\n",
       "      <td>0</td>\n",
       "      <td>0.75</td>\n",
       "      <td>0.90</td>\n",
       "      <td>0</td>\n",
       "      <td>Yes</td>\n",
       "      <td>No</td>\n",
       "      <td>No</td>\n",
       "      <td>Yes</td>\n",
       "      <td>No</td>\n",
       "      <td>No</td>\n",
       "    </tr>\n",
       "    <tr>\n",
       "      <th>4</th>\n",
       "      <td>1360312</td>\n",
       "      <td>2</td>\n",
       "      <td>2.0</td>\n",
       "      <td>0</td>\n",
       "      <td>4</td>\n",
       "      <td>6</td>\n",
       "      <td>10</td>\n",
       "      <td>2</td>\n",
       "      <td>2</td>\n",
       "      <td>5</td>\n",
       "      <td>...</td>\n",
       "      <td>0</td>\n",
       "      <td>0.97</td>\n",
       "      <td>0.92</td>\n",
       "      <td>0</td>\n",
       "      <td>No</td>\n",
       "      <td>No</td>\n",
       "      <td>No</td>\n",
       "      <td>Yes</td>\n",
       "      <td>No</td>\n",
       "      <td>No</td>\n",
       "    </tr>\n",
       "  </tbody>\n",
       "</table>\n",
       "<p>5 rows × 23 columns</p>\n",
       "</div>"
      ],
      "text/plain": [
       "       sku  national_inv  lead_time  in_transit_qty  forecast_3_month  \\\n",
       "0  1888279           117        NaN               0                 0   \n",
       "1  1870557             7        2.0               0                 0   \n",
       "2  1475481           258       15.0              10                10   \n",
       "3  1758220            46        2.0               0                 0   \n",
       "4  1360312             2        2.0               0                 4   \n",
       "\n",
       "   forecast_6_month  forecast_9_month  sales_1_month  sales_3_month  \\\n",
       "0                 0                 0              0              0   \n",
       "1                 0                 0              0              0   \n",
       "2                77               184             46            132   \n",
       "3                 0                 0              1              2   \n",
       "4                 6                10              2              2   \n",
       "\n",
       "   sales_6_month  ...  pieces_past_due  perf_6_month_avg perf_12_month_avg  \\\n",
       "0             15  ...                0               NaN               NaN   \n",
       "1              0  ...                0              0.50              0.28   \n",
       "2            256  ...                0              0.54              0.70   \n",
       "3              6  ...                0              0.75              0.90   \n",
       "4              5  ...                0              0.97              0.92   \n",
       "\n",
       "   local_bo_qty  deck_risk  oe_constraint  ppap_risk stop_auto_buy rev_stop  \\\n",
       "0             0         No             No        Yes           Yes       No   \n",
       "1             0        Yes             No         No           Yes       No   \n",
       "2             0         No             No         No           Yes       No   \n",
       "3             0        Yes             No         No           Yes       No   \n",
       "4             0         No             No         No           Yes       No   \n",
       "\n",
       "  went_on_backorder  \n",
       "0                No  \n",
       "1                No  \n",
       "2                No  \n",
       "3                No  \n",
       "4                No  \n",
       "\n",
       "[5 rows x 23 columns]"
      ]
     },
     "execution_count": 4,
     "metadata": {},
     "output_type": "execute_result"
    }
   ],
   "source": [
    "#Load the Data - Backorders.csv\n",
    "data = pd.read_csv('BackOrders.csv', na_values=[-99])\n",
    "data.head()"
   ]
  },
  {
   "cell_type": "markdown",
   "metadata": {},
   "source": [
    "#### Understand the Data"
   ]
  },
  {
   "cell_type": "markdown",
   "metadata": {},
   "source": [
    "See the number row and columns"
   ]
  },
  {
   "cell_type": "code",
   "execution_count": 5,
   "metadata": {},
   "outputs": [
    {
     "data": {
      "text/plain": [
       "(61589, 23)"
      ]
     },
     "execution_count": 5,
     "metadata": {},
     "output_type": "execute_result"
    }
   ],
   "source": [
    "data.shape"
   ]
  },
  {
   "cell_type": "markdown",
   "metadata": {},
   "source": [
    "Display the columns"
   ]
  },
  {
   "cell_type": "code",
   "execution_count": 6,
   "metadata": {},
   "outputs": [
    {
     "name": "stdout",
     "output_type": "stream",
     "text": [
      "Index(['sku', 'national_inv', 'lead_time', 'in_transit_qty',\n",
      "       'forecast_3_month', 'forecast_6_month', 'forecast_9_month',\n",
      "       'sales_1_month', 'sales_3_month', 'sales_6_month', 'sales_9_month',\n",
      "       'min_bank', 'potential_issue', 'pieces_past_due', 'perf_6_month_avg',\n",
      "       'perf_12_month_avg', 'local_bo_qty', 'deck_risk', 'oe_constraint',\n",
      "       'ppap_risk', 'stop_auto_buy', 'rev_stop', 'went_on_backorder'],\n",
      "      dtype='object')\n",
      "sku                    int64\n",
      "national_inv           int64\n",
      "lead_time            float64\n",
      "in_transit_qty         int64\n",
      "forecast_3_month       int64\n",
      "forecast_6_month       int64\n",
      "forecast_9_month       int64\n",
      "sales_1_month          int64\n",
      "sales_3_month          int64\n",
      "sales_6_month          int64\n",
      "sales_9_month          int64\n",
      "min_bank               int64\n",
      "potential_issue       object\n",
      "pieces_past_due        int64\n",
      "perf_6_month_avg     float64\n",
      "perf_12_month_avg    float64\n",
      "local_bo_qty           int64\n",
      "deck_risk             object\n",
      "oe_constraint         object\n",
      "ppap_risk             object\n",
      "stop_auto_buy         object\n",
      "rev_stop              object\n",
      "went_on_backorder     object\n",
      "dtype: object\n"
     ]
    }
   ],
   "source": [
    "print(data.columns)\n",
    "print(data.dtypes)"
   ]
  },
  {
   "cell_type": "markdown",
   "metadata": {},
   "source": [
    "See the top rows of the data"
   ]
  },
  {
   "cell_type": "code",
   "execution_count": 7,
   "metadata": {},
   "outputs": [
    {
     "data": {
      "text/html": [
       "<div>\n",
       "<style scoped>\n",
       "    .dataframe tbody tr th:only-of-type {\n",
       "        vertical-align: middle;\n",
       "    }\n",
       "\n",
       "    .dataframe tbody tr th {\n",
       "        vertical-align: top;\n",
       "    }\n",
       "\n",
       "    .dataframe thead th {\n",
       "        text-align: right;\n",
       "    }\n",
       "</style>\n",
       "<table border=\"1\" class=\"dataframe\">\n",
       "  <thead>\n",
       "    <tr style=\"text-align: right;\">\n",
       "      <th></th>\n",
       "      <th>sku</th>\n",
       "      <th>national_inv</th>\n",
       "      <th>lead_time</th>\n",
       "      <th>in_transit_qty</th>\n",
       "      <th>forecast_3_month</th>\n",
       "      <th>forecast_6_month</th>\n",
       "      <th>forecast_9_month</th>\n",
       "      <th>sales_1_month</th>\n",
       "      <th>sales_3_month</th>\n",
       "      <th>sales_6_month</th>\n",
       "      <th>...</th>\n",
       "      <th>pieces_past_due</th>\n",
       "      <th>perf_6_month_avg</th>\n",
       "      <th>perf_12_month_avg</th>\n",
       "      <th>local_bo_qty</th>\n",
       "      <th>deck_risk</th>\n",
       "      <th>oe_constraint</th>\n",
       "      <th>ppap_risk</th>\n",
       "      <th>stop_auto_buy</th>\n",
       "      <th>rev_stop</th>\n",
       "      <th>went_on_backorder</th>\n",
       "    </tr>\n",
       "  </thead>\n",
       "  <tbody>\n",
       "    <tr>\n",
       "      <th>0</th>\n",
       "      <td>1888279</td>\n",
       "      <td>117</td>\n",
       "      <td>NaN</td>\n",
       "      <td>0</td>\n",
       "      <td>0</td>\n",
       "      <td>0</td>\n",
       "      <td>0</td>\n",
       "      <td>0</td>\n",
       "      <td>0</td>\n",
       "      <td>15</td>\n",
       "      <td>...</td>\n",
       "      <td>0</td>\n",
       "      <td>NaN</td>\n",
       "      <td>NaN</td>\n",
       "      <td>0</td>\n",
       "      <td>No</td>\n",
       "      <td>No</td>\n",
       "      <td>Yes</td>\n",
       "      <td>Yes</td>\n",
       "      <td>No</td>\n",
       "      <td>No</td>\n",
       "    </tr>\n",
       "    <tr>\n",
       "      <th>1</th>\n",
       "      <td>1870557</td>\n",
       "      <td>7</td>\n",
       "      <td>2.0</td>\n",
       "      <td>0</td>\n",
       "      <td>0</td>\n",
       "      <td>0</td>\n",
       "      <td>0</td>\n",
       "      <td>0</td>\n",
       "      <td>0</td>\n",
       "      <td>0</td>\n",
       "      <td>...</td>\n",
       "      <td>0</td>\n",
       "      <td>0.50</td>\n",
       "      <td>0.28</td>\n",
       "      <td>0</td>\n",
       "      <td>Yes</td>\n",
       "      <td>No</td>\n",
       "      <td>No</td>\n",
       "      <td>Yes</td>\n",
       "      <td>No</td>\n",
       "      <td>No</td>\n",
       "    </tr>\n",
       "    <tr>\n",
       "      <th>2</th>\n",
       "      <td>1475481</td>\n",
       "      <td>258</td>\n",
       "      <td>15.0</td>\n",
       "      <td>10</td>\n",
       "      <td>10</td>\n",
       "      <td>77</td>\n",
       "      <td>184</td>\n",
       "      <td>46</td>\n",
       "      <td>132</td>\n",
       "      <td>256</td>\n",
       "      <td>...</td>\n",
       "      <td>0</td>\n",
       "      <td>0.54</td>\n",
       "      <td>0.70</td>\n",
       "      <td>0</td>\n",
       "      <td>No</td>\n",
       "      <td>No</td>\n",
       "      <td>No</td>\n",
       "      <td>Yes</td>\n",
       "      <td>No</td>\n",
       "      <td>No</td>\n",
       "    </tr>\n",
       "    <tr>\n",
       "      <th>3</th>\n",
       "      <td>1758220</td>\n",
       "      <td>46</td>\n",
       "      <td>2.0</td>\n",
       "      <td>0</td>\n",
       "      <td>0</td>\n",
       "      <td>0</td>\n",
       "      <td>0</td>\n",
       "      <td>1</td>\n",
       "      <td>2</td>\n",
       "      <td>6</td>\n",
       "      <td>...</td>\n",
       "      <td>0</td>\n",
       "      <td>0.75</td>\n",
       "      <td>0.90</td>\n",
       "      <td>0</td>\n",
       "      <td>Yes</td>\n",
       "      <td>No</td>\n",
       "      <td>No</td>\n",
       "      <td>Yes</td>\n",
       "      <td>No</td>\n",
       "      <td>No</td>\n",
       "    </tr>\n",
       "    <tr>\n",
       "      <th>4</th>\n",
       "      <td>1360312</td>\n",
       "      <td>2</td>\n",
       "      <td>2.0</td>\n",
       "      <td>0</td>\n",
       "      <td>4</td>\n",
       "      <td>6</td>\n",
       "      <td>10</td>\n",
       "      <td>2</td>\n",
       "      <td>2</td>\n",
       "      <td>5</td>\n",
       "      <td>...</td>\n",
       "      <td>0</td>\n",
       "      <td>0.97</td>\n",
       "      <td>0.92</td>\n",
       "      <td>0</td>\n",
       "      <td>No</td>\n",
       "      <td>No</td>\n",
       "      <td>No</td>\n",
       "      <td>Yes</td>\n",
       "      <td>No</td>\n",
       "      <td>No</td>\n",
       "    </tr>\n",
       "    <tr>\n",
       "      <th>5</th>\n",
       "      <td>3002608</td>\n",
       "      <td>297</td>\n",
       "      <td>12.0</td>\n",
       "      <td>0</td>\n",
       "      <td>0</td>\n",
       "      <td>0</td>\n",
       "      <td>0</td>\n",
       "      <td>5</td>\n",
       "      <td>6</td>\n",
       "      <td>44</td>\n",
       "      <td>...</td>\n",
       "      <td>0</td>\n",
       "      <td>0.58</td>\n",
       "      <td>0.75</td>\n",
       "      <td>0</td>\n",
       "      <td>Yes</td>\n",
       "      <td>No</td>\n",
       "      <td>No</td>\n",
       "      <td>Yes</td>\n",
       "      <td>No</td>\n",
       "      <td>No</td>\n",
       "    </tr>\n",
       "    <tr>\n",
       "      <th>6</th>\n",
       "      <td>1707693</td>\n",
       "      <td>3285</td>\n",
       "      <td>8.0</td>\n",
       "      <td>0</td>\n",
       "      <td>0</td>\n",
       "      <td>0</td>\n",
       "      <td>0</td>\n",
       "      <td>18</td>\n",
       "      <td>81</td>\n",
       "      <td>162</td>\n",
       "      <td>...</td>\n",
       "      <td>0</td>\n",
       "      <td>0.61</td>\n",
       "      <td>0.57</td>\n",
       "      <td>0</td>\n",
       "      <td>No</td>\n",
       "      <td>No</td>\n",
       "      <td>No</td>\n",
       "      <td>Yes</td>\n",
       "      <td>No</td>\n",
       "      <td>No</td>\n",
       "    </tr>\n",
       "    <tr>\n",
       "      <th>7</th>\n",
       "      <td>2066128</td>\n",
       "      <td>6</td>\n",
       "      <td>2.0</td>\n",
       "      <td>0</td>\n",
       "      <td>0</td>\n",
       "      <td>3</td>\n",
       "      <td>9</td>\n",
       "      <td>1</td>\n",
       "      <td>5</td>\n",
       "      <td>8</td>\n",
       "      <td>...</td>\n",
       "      <td>0</td>\n",
       "      <td>0.86</td>\n",
       "      <td>0.77</td>\n",
       "      <td>0</td>\n",
       "      <td>No</td>\n",
       "      <td>No</td>\n",
       "      <td>No</td>\n",
       "      <td>Yes</td>\n",
       "      <td>No</td>\n",
       "      <td>Yes</td>\n",
       "    </tr>\n",
       "    <tr>\n",
       "      <th>8</th>\n",
       "      <td>3174990</td>\n",
       "      <td>99</td>\n",
       "      <td>8.0</td>\n",
       "      <td>0</td>\n",
       "      <td>46</td>\n",
       "      <td>169</td>\n",
       "      <td>225</td>\n",
       "      <td>2</td>\n",
       "      <td>22</td>\n",
       "      <td>176</td>\n",
       "      <td>...</td>\n",
       "      <td>0</td>\n",
       "      <td>0.11</td>\n",
       "      <td>0.37</td>\n",
       "      <td>0</td>\n",
       "      <td>No</td>\n",
       "      <td>No</td>\n",
       "      <td>No</td>\n",
       "      <td>Yes</td>\n",
       "      <td>No</td>\n",
       "      <td>No</td>\n",
       "    </tr>\n",
       "    <tr>\n",
       "      <th>9</th>\n",
       "      <td>3021709</td>\n",
       "      <td>52</td>\n",
       "      <td>2.0</td>\n",
       "      <td>0</td>\n",
       "      <td>0</td>\n",
       "      <td>0</td>\n",
       "      <td>0</td>\n",
       "      <td>0</td>\n",
       "      <td>0</td>\n",
       "      <td>0</td>\n",
       "      <td>...</td>\n",
       "      <td>0</td>\n",
       "      <td>0.83</td>\n",
       "      <td>0.69</td>\n",
       "      <td>0</td>\n",
       "      <td>No</td>\n",
       "      <td>No</td>\n",
       "      <td>No</td>\n",
       "      <td>Yes</td>\n",
       "      <td>No</td>\n",
       "      <td>No</td>\n",
       "    </tr>\n",
       "  </tbody>\n",
       "</table>\n",
       "<p>10 rows × 23 columns</p>\n",
       "</div>"
      ],
      "text/plain": [
       "       sku  national_inv  lead_time  in_transit_qty  forecast_3_month  \\\n",
       "0  1888279           117        NaN               0                 0   \n",
       "1  1870557             7        2.0               0                 0   \n",
       "2  1475481           258       15.0              10                10   \n",
       "3  1758220            46        2.0               0                 0   \n",
       "4  1360312             2        2.0               0                 4   \n",
       "5  3002608           297       12.0               0                 0   \n",
       "6  1707693          3285        8.0               0                 0   \n",
       "7  2066128             6        2.0               0                 0   \n",
       "8  3174990            99        8.0               0                46   \n",
       "9  3021709            52        2.0               0                 0   \n",
       "\n",
       "   forecast_6_month  forecast_9_month  sales_1_month  sales_3_month  \\\n",
       "0                 0                 0              0              0   \n",
       "1                 0                 0              0              0   \n",
       "2                77               184             46            132   \n",
       "3                 0                 0              1              2   \n",
       "4                 6                10              2              2   \n",
       "5                 0                 0              5              6   \n",
       "6                 0                 0             18             81   \n",
       "7                 3                 9              1              5   \n",
       "8               169               225              2             22   \n",
       "9                 0                 0              0              0   \n",
       "\n",
       "   sales_6_month  ...  pieces_past_due  perf_6_month_avg perf_12_month_avg  \\\n",
       "0             15  ...                0               NaN               NaN   \n",
       "1              0  ...                0              0.50              0.28   \n",
       "2            256  ...                0              0.54              0.70   \n",
       "3              6  ...                0              0.75              0.90   \n",
       "4              5  ...                0              0.97              0.92   \n",
       "5             44  ...                0              0.58              0.75   \n",
       "6            162  ...                0              0.61              0.57   \n",
       "7              8  ...                0              0.86              0.77   \n",
       "8            176  ...                0              0.11              0.37   \n",
       "9              0  ...                0              0.83              0.69   \n",
       "\n",
       "   local_bo_qty  deck_risk  oe_constraint  ppap_risk stop_auto_buy rev_stop  \\\n",
       "0             0         No             No        Yes           Yes       No   \n",
       "1             0        Yes             No         No           Yes       No   \n",
       "2             0         No             No         No           Yes       No   \n",
       "3             0        Yes             No         No           Yes       No   \n",
       "4             0         No             No         No           Yes       No   \n",
       "5             0        Yes             No         No           Yes       No   \n",
       "6             0         No             No         No           Yes       No   \n",
       "7             0         No             No         No           Yes       No   \n",
       "8             0         No             No         No           Yes       No   \n",
       "9             0         No             No         No           Yes       No   \n",
       "\n",
       "  went_on_backorder  \n",
       "0                No  \n",
       "1                No  \n",
       "2                No  \n",
       "3                No  \n",
       "4                No  \n",
       "5                No  \n",
       "6                No  \n",
       "7               Yes  \n",
       "8                No  \n",
       "9                No  \n",
       "\n",
       "[10 rows x 23 columns]"
      ]
     },
     "execution_count": 7,
     "metadata": {},
     "output_type": "execute_result"
    }
   ],
   "source": [
    "data.head(10)"
   ]
  },
  {
   "cell_type": "markdown",
   "metadata": {},
   "source": [
    "Shows a quick statistic summary of your data using describe.\n",
    "\n",
    "    For object data (e.g. strings or timestamps), the result’s index will include count, unique, top, and freq. \n",
    "\n",
    "        The top is the most common value.\n",
    "\n",
    "        The freq is the most common value’s frequency."
   ]
  },
  {
   "cell_type": "code",
   "execution_count": 8,
   "metadata": {
    "scrolled": true
   },
   "outputs": [
    {
     "data": {
      "text/html": [
       "<div>\n",
       "<style scoped>\n",
       "    .dataframe tbody tr th:only-of-type {\n",
       "        vertical-align: middle;\n",
       "    }\n",
       "\n",
       "    .dataframe tbody tr th {\n",
       "        vertical-align: top;\n",
       "    }\n",
       "\n",
       "    .dataframe thead th {\n",
       "        text-align: right;\n",
       "    }\n",
       "</style>\n",
       "<table border=\"1\" class=\"dataframe\">\n",
       "  <thead>\n",
       "    <tr style=\"text-align: right;\">\n",
       "      <th></th>\n",
       "      <th>sku</th>\n",
       "      <th>national_inv</th>\n",
       "      <th>lead_time</th>\n",
       "      <th>in_transit_qty</th>\n",
       "      <th>forecast_3_month</th>\n",
       "      <th>forecast_6_month</th>\n",
       "      <th>forecast_9_month</th>\n",
       "      <th>sales_1_month</th>\n",
       "      <th>sales_3_month</th>\n",
       "      <th>sales_6_month</th>\n",
       "      <th>...</th>\n",
       "      <th>pieces_past_due</th>\n",
       "      <th>perf_6_month_avg</th>\n",
       "      <th>perf_12_month_avg</th>\n",
       "      <th>local_bo_qty</th>\n",
       "      <th>deck_risk</th>\n",
       "      <th>oe_constraint</th>\n",
       "      <th>ppap_risk</th>\n",
       "      <th>stop_auto_buy</th>\n",
       "      <th>rev_stop</th>\n",
       "      <th>went_on_backorder</th>\n",
       "    </tr>\n",
       "  </thead>\n",
       "  <tbody>\n",
       "    <tr>\n",
       "      <th>count</th>\n",
       "      <td>6.158900e+04</td>\n",
       "      <td>61589.000000</td>\n",
       "      <td>58186.000000</td>\n",
       "      <td>61589.000000</td>\n",
       "      <td>6.158900e+04</td>\n",
       "      <td>6.158900e+04</td>\n",
       "      <td>6.158900e+04</td>\n",
       "      <td>61589.000000</td>\n",
       "      <td>61589.000000</td>\n",
       "      <td>6.158900e+04</td>\n",
       "      <td>...</td>\n",
       "      <td>61589.000000</td>\n",
       "      <td>57248.000000</td>\n",
       "      <td>57498.000000</td>\n",
       "      <td>61589.000000</td>\n",
       "      <td>61589</td>\n",
       "      <td>61589</td>\n",
       "      <td>61589</td>\n",
       "      <td>61589</td>\n",
       "      <td>61589</td>\n",
       "      <td>61589</td>\n",
       "    </tr>\n",
       "    <tr>\n",
       "      <th>unique</th>\n",
       "      <td>NaN</td>\n",
       "      <td>NaN</td>\n",
       "      <td>NaN</td>\n",
       "      <td>NaN</td>\n",
       "      <td>NaN</td>\n",
       "      <td>NaN</td>\n",
       "      <td>NaN</td>\n",
       "      <td>NaN</td>\n",
       "      <td>NaN</td>\n",
       "      <td>NaN</td>\n",
       "      <td>...</td>\n",
       "      <td>NaN</td>\n",
       "      <td>NaN</td>\n",
       "      <td>NaN</td>\n",
       "      <td>NaN</td>\n",
       "      <td>2</td>\n",
       "      <td>2</td>\n",
       "      <td>2</td>\n",
       "      <td>2</td>\n",
       "      <td>2</td>\n",
       "      <td>2</td>\n",
       "    </tr>\n",
       "    <tr>\n",
       "      <th>top</th>\n",
       "      <td>NaN</td>\n",
       "      <td>NaN</td>\n",
       "      <td>NaN</td>\n",
       "      <td>NaN</td>\n",
       "      <td>NaN</td>\n",
       "      <td>NaN</td>\n",
       "      <td>NaN</td>\n",
       "      <td>NaN</td>\n",
       "      <td>NaN</td>\n",
       "      <td>NaN</td>\n",
       "      <td>...</td>\n",
       "      <td>NaN</td>\n",
       "      <td>NaN</td>\n",
       "      <td>NaN</td>\n",
       "      <td>NaN</td>\n",
       "      <td>No</td>\n",
       "      <td>No</td>\n",
       "      <td>No</td>\n",
       "      <td>Yes</td>\n",
       "      <td>No</td>\n",
       "      <td>No</td>\n",
       "    </tr>\n",
       "    <tr>\n",
       "      <th>freq</th>\n",
       "      <td>NaN</td>\n",
       "      <td>NaN</td>\n",
       "      <td>NaN</td>\n",
       "      <td>NaN</td>\n",
       "      <td>NaN</td>\n",
       "      <td>NaN</td>\n",
       "      <td>NaN</td>\n",
       "      <td>NaN</td>\n",
       "      <td>NaN</td>\n",
       "      <td>NaN</td>\n",
       "      <td>...</td>\n",
       "      <td>NaN</td>\n",
       "      <td>NaN</td>\n",
       "      <td>NaN</td>\n",
       "      <td>NaN</td>\n",
       "      <td>48145</td>\n",
       "      <td>61577</td>\n",
       "      <td>53792</td>\n",
       "      <td>59303</td>\n",
       "      <td>61569</td>\n",
       "      <td>50296</td>\n",
       "    </tr>\n",
       "    <tr>\n",
       "      <th>mean</th>\n",
       "      <td>2.037188e+06</td>\n",
       "      <td>287.721882</td>\n",
       "      <td>7.559619</td>\n",
       "      <td>30.192843</td>\n",
       "      <td>1.692728e+02</td>\n",
       "      <td>3.150413e+02</td>\n",
       "      <td>4.535760e+02</td>\n",
       "      <td>44.742957</td>\n",
       "      <td>150.732631</td>\n",
       "      <td>2.835465e+02</td>\n",
       "      <td>...</td>\n",
       "      <td>1.605400</td>\n",
       "      <td>0.767787</td>\n",
       "      <td>0.763014</td>\n",
       "      <td>1.205361</td>\n",
       "      <td>NaN</td>\n",
       "      <td>NaN</td>\n",
       "      <td>NaN</td>\n",
       "      <td>NaN</td>\n",
       "      <td>NaN</td>\n",
       "      <td>NaN</td>\n",
       "    </tr>\n",
       "    <tr>\n",
       "      <th>std</th>\n",
       "      <td>6.564178e+05</td>\n",
       "      <td>4233.906931</td>\n",
       "      <td>6.498952</td>\n",
       "      <td>792.869253</td>\n",
       "      <td>5.286742e+03</td>\n",
       "      <td>9.774362e+03</td>\n",
       "      <td>1.420201e+04</td>\n",
       "      <td>1373.805831</td>\n",
       "      <td>5224.959649</td>\n",
       "      <td>8.872270e+03</td>\n",
       "      <td>...</td>\n",
       "      <td>42.309229</td>\n",
       "      <td>0.251166</td>\n",
       "      <td>0.243469</td>\n",
       "      <td>29.981155</td>\n",
       "      <td>NaN</td>\n",
       "      <td>NaN</td>\n",
       "      <td>NaN</td>\n",
       "      <td>NaN</td>\n",
       "      <td>NaN</td>\n",
       "      <td>NaN</td>\n",
       "    </tr>\n",
       "    <tr>\n",
       "      <th>min</th>\n",
       "      <td>1.068628e+06</td>\n",
       "      <td>-2999.000000</td>\n",
       "      <td>0.000000</td>\n",
       "      <td>0.000000</td>\n",
       "      <td>0.000000e+00</td>\n",
       "      <td>0.000000e+00</td>\n",
       "      <td>0.000000e+00</td>\n",
       "      <td>0.000000</td>\n",
       "      <td>0.000000</td>\n",
       "      <td>0.000000e+00</td>\n",
       "      <td>...</td>\n",
       "      <td>0.000000</td>\n",
       "      <td>0.000000</td>\n",
       "      <td>0.000000</td>\n",
       "      <td>0.000000</td>\n",
       "      <td>NaN</td>\n",
       "      <td>NaN</td>\n",
       "      <td>NaN</td>\n",
       "      <td>NaN</td>\n",
       "      <td>NaN</td>\n",
       "      <td>NaN</td>\n",
       "    </tr>\n",
       "    <tr>\n",
       "      <th>25%</th>\n",
       "      <td>1.498574e+06</td>\n",
       "      <td>3.000000</td>\n",
       "      <td>4.000000</td>\n",
       "      <td>0.000000</td>\n",
       "      <td>0.000000e+00</td>\n",
       "      <td>0.000000e+00</td>\n",
       "      <td>0.000000e+00</td>\n",
       "      <td>0.000000</td>\n",
       "      <td>0.000000</td>\n",
       "      <td>0.000000e+00</td>\n",
       "      <td>...</td>\n",
       "      <td>0.000000</td>\n",
       "      <td>0.680000</td>\n",
       "      <td>0.680000</td>\n",
       "      <td>0.000000</td>\n",
       "      <td>NaN</td>\n",
       "      <td>NaN</td>\n",
       "      <td>NaN</td>\n",
       "      <td>NaN</td>\n",
       "      <td>NaN</td>\n",
       "      <td>NaN</td>\n",
       "    </tr>\n",
       "    <tr>\n",
       "      <th>50%</th>\n",
       "      <td>1.898033e+06</td>\n",
       "      <td>10.000000</td>\n",
       "      <td>8.000000</td>\n",
       "      <td>0.000000</td>\n",
       "      <td>0.000000e+00</td>\n",
       "      <td>0.000000e+00</td>\n",
       "      <td>0.000000e+00</td>\n",
       "      <td>0.000000</td>\n",
       "      <td>2.000000</td>\n",
       "      <td>4.000000e+00</td>\n",
       "      <td>...</td>\n",
       "      <td>0.000000</td>\n",
       "      <td>0.840000</td>\n",
       "      <td>0.820000</td>\n",
       "      <td>0.000000</td>\n",
       "      <td>NaN</td>\n",
       "      <td>NaN</td>\n",
       "      <td>NaN</td>\n",
       "      <td>NaN</td>\n",
       "      <td>NaN</td>\n",
       "      <td>NaN</td>\n",
       "    </tr>\n",
       "    <tr>\n",
       "      <th>75%</th>\n",
       "      <td>2.314826e+06</td>\n",
       "      <td>57.000000</td>\n",
       "      <td>8.000000</td>\n",
       "      <td>0.000000</td>\n",
       "      <td>1.200000e+01</td>\n",
       "      <td>2.500000e+01</td>\n",
       "      <td>3.600000e+01</td>\n",
       "      <td>6.000000</td>\n",
       "      <td>17.000000</td>\n",
       "      <td>3.400000e+01</td>\n",
       "      <td>...</td>\n",
       "      <td>0.000000</td>\n",
       "      <td>0.970000</td>\n",
       "      <td>0.950000</td>\n",
       "      <td>0.000000</td>\n",
       "      <td>NaN</td>\n",
       "      <td>NaN</td>\n",
       "      <td>NaN</td>\n",
       "      <td>NaN</td>\n",
       "      <td>NaN</td>\n",
       "      <td>NaN</td>\n",
       "    </tr>\n",
       "    <tr>\n",
       "      <th>max</th>\n",
       "      <td>3.284895e+06</td>\n",
       "      <td>673445.000000</td>\n",
       "      <td>52.000000</td>\n",
       "      <td>170976.000000</td>\n",
       "      <td>1.126656e+06</td>\n",
       "      <td>2.094336e+06</td>\n",
       "      <td>3.062016e+06</td>\n",
       "      <td>295197.000000</td>\n",
       "      <td>934593.000000</td>\n",
       "      <td>1.799099e+06</td>\n",
       "      <td>...</td>\n",
       "      <td>7392.000000</td>\n",
       "      <td>1.000000</td>\n",
       "      <td>1.000000</td>\n",
       "      <td>2999.000000</td>\n",
       "      <td>NaN</td>\n",
       "      <td>NaN</td>\n",
       "      <td>NaN</td>\n",
       "      <td>NaN</td>\n",
       "      <td>NaN</td>\n",
       "      <td>NaN</td>\n",
       "    </tr>\n",
       "  </tbody>\n",
       "</table>\n",
       "<p>11 rows × 23 columns</p>\n",
       "</div>"
      ],
      "text/plain": [
       "                 sku   national_inv     lead_time  in_transit_qty  \\\n",
       "count   6.158900e+04   61589.000000  58186.000000    61589.000000   \n",
       "unique           NaN            NaN           NaN             NaN   \n",
       "top              NaN            NaN           NaN             NaN   \n",
       "freq             NaN            NaN           NaN             NaN   \n",
       "mean    2.037188e+06     287.721882      7.559619       30.192843   \n",
       "std     6.564178e+05    4233.906931      6.498952      792.869253   \n",
       "min     1.068628e+06   -2999.000000      0.000000        0.000000   \n",
       "25%     1.498574e+06       3.000000      4.000000        0.000000   \n",
       "50%     1.898033e+06      10.000000      8.000000        0.000000   \n",
       "75%     2.314826e+06      57.000000      8.000000        0.000000   \n",
       "max     3.284895e+06  673445.000000     52.000000   170976.000000   \n",
       "\n",
       "        forecast_3_month  forecast_6_month  forecast_9_month  sales_1_month  \\\n",
       "count       6.158900e+04      6.158900e+04      6.158900e+04   61589.000000   \n",
       "unique               NaN               NaN               NaN            NaN   \n",
       "top                  NaN               NaN               NaN            NaN   \n",
       "freq                 NaN               NaN               NaN            NaN   \n",
       "mean        1.692728e+02      3.150413e+02      4.535760e+02      44.742957   \n",
       "std         5.286742e+03      9.774362e+03      1.420201e+04    1373.805831   \n",
       "min         0.000000e+00      0.000000e+00      0.000000e+00       0.000000   \n",
       "25%         0.000000e+00      0.000000e+00      0.000000e+00       0.000000   \n",
       "50%         0.000000e+00      0.000000e+00      0.000000e+00       0.000000   \n",
       "75%         1.200000e+01      2.500000e+01      3.600000e+01       6.000000   \n",
       "max         1.126656e+06      2.094336e+06      3.062016e+06  295197.000000   \n",
       "\n",
       "        sales_3_month  sales_6_month  ...  pieces_past_due  perf_6_month_avg  \\\n",
       "count    61589.000000   6.158900e+04  ...     61589.000000      57248.000000   \n",
       "unique            NaN            NaN  ...              NaN               NaN   \n",
       "top               NaN            NaN  ...              NaN               NaN   \n",
       "freq              NaN            NaN  ...              NaN               NaN   \n",
       "mean       150.732631   2.835465e+02  ...         1.605400          0.767787   \n",
       "std       5224.959649   8.872270e+03  ...        42.309229          0.251166   \n",
       "min          0.000000   0.000000e+00  ...         0.000000          0.000000   \n",
       "25%          0.000000   0.000000e+00  ...         0.000000          0.680000   \n",
       "50%          2.000000   4.000000e+00  ...         0.000000          0.840000   \n",
       "75%         17.000000   3.400000e+01  ...         0.000000          0.970000   \n",
       "max     934593.000000   1.799099e+06  ...      7392.000000          1.000000   \n",
       "\n",
       "       perf_12_month_avg  local_bo_qty  deck_risk  oe_constraint  ppap_risk  \\\n",
       "count       57498.000000  61589.000000      61589          61589      61589   \n",
       "unique               NaN           NaN          2              2          2   \n",
       "top                  NaN           NaN         No             No         No   \n",
       "freq                 NaN           NaN      48145          61577      53792   \n",
       "mean            0.763014      1.205361        NaN            NaN        NaN   \n",
       "std             0.243469     29.981155        NaN            NaN        NaN   \n",
       "min             0.000000      0.000000        NaN            NaN        NaN   \n",
       "25%             0.680000      0.000000        NaN            NaN        NaN   \n",
       "50%             0.820000      0.000000        NaN            NaN        NaN   \n",
       "75%             0.950000      0.000000        NaN            NaN        NaN   \n",
       "max             1.000000   2999.000000        NaN            NaN        NaN   \n",
       "\n",
       "       stop_auto_buy rev_stop went_on_backorder  \n",
       "count          61589    61589             61589  \n",
       "unique             2        2                 2  \n",
       "top              Yes       No                No  \n",
       "freq           59303    61569             50296  \n",
       "mean             NaN      NaN               NaN  \n",
       "std              NaN      NaN               NaN  \n",
       "min              NaN      NaN               NaN  \n",
       "25%              NaN      NaN               NaN  \n",
       "50%              NaN      NaN               NaN  \n",
       "75%              NaN      NaN               NaN  \n",
       "max              NaN      NaN               NaN  \n",
       "\n",
       "[11 rows x 23 columns]"
      ]
     },
     "execution_count": 8,
     "metadata": {},
     "output_type": "execute_result"
    }
   ],
   "source": [
    "data.describe(include='all')"
   ]
  },
  {
   "cell_type": "markdown",
   "metadata": {},
   "source": [
    "Display data type of each variable"
   ]
  },
  {
   "cell_type": "code",
   "execution_count": 9,
   "metadata": {},
   "outputs": [
    {
     "data": {
      "text/plain": [
       "sku                    int64\n",
       "national_inv           int64\n",
       "lead_time            float64\n",
       "in_transit_qty         int64\n",
       "forecast_3_month       int64\n",
       "forecast_6_month       int64\n",
       "forecast_9_month       int64\n",
       "sales_1_month          int64\n",
       "sales_3_month          int64\n",
       "sales_6_month          int64\n",
       "sales_9_month          int64\n",
       "min_bank               int64\n",
       "potential_issue       object\n",
       "pieces_past_due        int64\n",
       "perf_6_month_avg     float64\n",
       "perf_12_month_avg    float64\n",
       "local_bo_qty           int64\n",
       "deck_risk             object\n",
       "oe_constraint         object\n",
       "ppap_risk             object\n",
       "stop_auto_buy         object\n",
       "rev_stop              object\n",
       "went_on_backorder     object\n",
       "dtype: object"
      ]
     },
     "execution_count": 9,
     "metadata": {},
     "output_type": "execute_result"
    }
   ],
   "source": [
    "data.dtypes"
   ]
  },
  {
   "cell_type": "markdown",
   "metadata": {},
   "source": [
    "#### Observations\n",
    "\n",
    "    sku is Categorical but is interpreted as int64 \n",
    "\n",
    "    potential_issue, deck_risk, oe_constraint, ppap_risk, stop_auto_buy, rev_stop, and went_on_backorder are categorical but are interpreted as object. "
   ]
  },
  {
   "cell_type": "markdown",
   "metadata": {},
   "source": [
    "#### Convert all the attributes to appropriate type"
   ]
  },
  {
   "cell_type": "markdown",
   "metadata": {},
   "source": [
    "Data type conversion\n",
    "\n",
    "    Using astype('category') to convert potential_issue, deck_risk, oe_constraint, ppap_risk, stop_auto_buy, rev_stop, and went_on_backorder attributes to categorical attributes.\n"
   ]
  },
  {
   "cell_type": "code",
   "execution_count": 10,
   "metadata": {},
   "outputs": [],
   "source": [
    "data[['potential_issue','deck_risk','oe_constraint','ppap_risk','stop_auto_buy','rev_stop','went_on_backorder']]=\\\n",
    "data[['potential_issue','deck_risk','oe_constraint','ppap_risk','stop_auto_buy','rev_stop','went_on_backorder']].astype('category')\n",
    "#potential_issue, deck_risk, oe_constraint, ppap_risk, stop_auto_buy, rev_stop, and went_on_backorder"
   ]
  },
  {
   "cell_type": "markdown",
   "metadata": {},
   "source": [
    "Display data type of each variable"
   ]
  },
  {
   "cell_type": "code",
   "execution_count": 11,
   "metadata": {},
   "outputs": [
    {
     "data": {
      "text/plain": [
       "sku                     int64\n",
       "national_inv            int64\n",
       "lead_time             float64\n",
       "in_transit_qty          int64\n",
       "forecast_3_month        int64\n",
       "forecast_6_month        int64\n",
       "forecast_9_month        int64\n",
       "sales_1_month           int64\n",
       "sales_3_month           int64\n",
       "sales_6_month           int64\n",
       "sales_9_month           int64\n",
       "min_bank                int64\n",
       "potential_issue      category\n",
       "pieces_past_due         int64\n",
       "perf_6_month_avg      float64\n",
       "perf_12_month_avg     float64\n",
       "local_bo_qty            int64\n",
       "deck_risk            category\n",
       "oe_constraint        category\n",
       "ppap_risk            category\n",
       "stop_auto_buy        category\n",
       "rev_stop             category\n",
       "went_on_backorder    category\n",
       "dtype: object"
      ]
     },
     "execution_count": 11,
     "metadata": {},
     "output_type": "execute_result"
    }
   ],
   "source": [
    "data.dtypes"
   ]
  },
  {
   "cell_type": "markdown",
   "metadata": {},
   "source": [
    "##### Delete sku attribute"
   ]
  },
  {
   "cell_type": "code",
   "execution_count": 12,
   "metadata": {},
   "outputs": [],
   "source": [
    "data.drop('sku', axis=1,inplace=True)"
   ]
  },
  {
   "cell_type": "code",
   "execution_count": 13,
   "metadata": {},
   "outputs": [
    {
     "data": {
      "text/plain": [
       "national_inv            int64\n",
       "lead_time             float64\n",
       "in_transit_qty          int64\n",
       "forecast_3_month        int64\n",
       "forecast_6_month        int64\n",
       "forecast_9_month        int64\n",
       "sales_1_month           int64\n",
       "sales_3_month           int64\n",
       "sales_6_month           int64\n",
       "sales_9_month           int64\n",
       "min_bank                int64\n",
       "potential_issue      category\n",
       "pieces_past_due         int64\n",
       "perf_6_month_avg      float64\n",
       "perf_12_month_avg     float64\n",
       "local_bo_qty            int64\n",
       "deck_risk            category\n",
       "oe_constraint        category\n",
       "ppap_risk            category\n",
       "stop_auto_buy        category\n",
       "rev_stop             category\n",
       "went_on_backorder    category\n",
       "dtype: object"
      ]
     },
     "execution_count": 13,
     "metadata": {},
     "output_type": "execute_result"
    }
   ],
   "source": [
    "data.dtypes"
   ]
  },
  {
   "cell_type": "markdown",
   "metadata": {},
   "source": [
    "#### Missing Data\n",
    "\n",
    "    Missing value analysis and dropping the records with missing values"
   ]
  },
  {
   "cell_type": "markdown",
   "metadata": {},
   "source": [
    "Observing the number of records before and after missing value records removal"
   ]
  },
  {
   "cell_type": "code",
   "execution_count": 14,
   "metadata": {},
   "outputs": [
    {
     "name": "stdout",
     "output_type": "stream",
     "text": [
      "Before removing NA values:\n"
     ]
    },
    {
     "data": {
      "text/plain": [
       "national_inv            0\n",
       "lead_time            3403\n",
       "in_transit_qty          0\n",
       "forecast_3_month        0\n",
       "forecast_6_month        0\n",
       "forecast_9_month        0\n",
       "sales_1_month           0\n",
       "sales_3_month           0\n",
       "sales_6_month           0\n",
       "sales_9_month           0\n",
       "min_bank                0\n",
       "potential_issue         0\n",
       "pieces_past_due         0\n",
       "perf_6_month_avg     4341\n",
       "perf_12_month_avg    4091\n",
       "local_bo_qty            0\n",
       "deck_risk               0\n",
       "oe_constraint           0\n",
       "ppap_risk               0\n",
       "stop_auto_buy           0\n",
       "rev_stop                0\n",
       "went_on_backorder       0\n",
       "dtype: int64"
      ]
     },
     "execution_count": 14,
     "metadata": {},
     "output_type": "execute_result"
    }
   ],
   "source": [
    "print('Before removing NA values:')\n",
    "data.isna().sum()"
   ]
  },
  {
   "cell_type": "markdown",
   "metadata": {},
   "source": [
    "Since the number of missing values is about 5%. For initial analysis we ignore all these records"
   ]
  },
  {
   "cell_type": "code",
   "execution_count": 15,
   "metadata": {},
   "outputs": [
    {
     "name": "stdout",
     "output_type": "stream",
     "text": [
      "After removing NA values:\n"
     ]
    },
    {
     "data": {
      "text/plain": [
       "national_inv         0\n",
       "lead_time            0\n",
       "in_transit_qty       0\n",
       "forecast_3_month     0\n",
       "forecast_6_month     0\n",
       "forecast_9_month     0\n",
       "sales_1_month        0\n",
       "sales_3_month        0\n",
       "sales_6_month        0\n",
       "sales_9_month        0\n",
       "min_bank             0\n",
       "potential_issue      0\n",
       "pieces_past_due      0\n",
       "perf_6_month_avg     0\n",
       "perf_12_month_avg    0\n",
       "local_bo_qty         0\n",
       "deck_risk            0\n",
       "oe_constraint        0\n",
       "ppap_risk            0\n",
       "stop_auto_buy        0\n",
       "rev_stop             0\n",
       "went_on_backorder    0\n",
       "dtype: int64"
      ]
     },
     "execution_count": 15,
     "metadata": {},
     "output_type": "execute_result"
    }
   ],
   "source": [
    "data.dropna(inplace=True)\n",
    "print('After removing NA values:')\n",
    "data.isna().sum()"
   ]
  },
  {
   "cell_type": "markdown",
   "metadata": {},
   "source": [
    "#### Converting Categorical to Numeric\n",
    "\n",
    "For some of the models all the independent attribute should be of type numeric and ANN model is one among them.\n",
    "But this data set has some categorial attributes.\n",
    "\n",
    "'pandas.get_dummies' To convert convert categorical variable into dummy/indicator variables\n"
   ]
  },
  {
   "cell_type": "markdown",
   "metadata": {},
   "source": [
    "##### Creating dummy variables.\n",
    "\n",
    "If we have k levels in a category, then we create k-1 dummy variables as the last one would be redundant. So we use the parameter drop_first in pd.get_dummies function that drops the first level in each of the category\n"
   ]
  },
  {
   "cell_type": "code",
   "execution_count": 16,
   "metadata": {},
   "outputs": [
    {
     "name": "stdout",
     "output_type": "stream",
     "text": [
      "national_inv               int64\n",
      "lead_time                float64\n",
      "in_transit_qty             int64\n",
      "forecast_3_month           int64\n",
      "forecast_6_month           int64\n",
      "forecast_9_month           int64\n",
      "sales_1_month              int64\n",
      "sales_3_month              int64\n",
      "sales_6_month              int64\n",
      "sales_9_month              int64\n",
      "min_bank                   int64\n",
      "pieces_past_due            int64\n",
      "perf_6_month_avg         float64\n",
      "perf_12_month_avg        float64\n",
      "local_bo_qty               int64\n",
      "potential_issue_Yes        uint8\n",
      "deck_risk_Yes              uint8\n",
      "oe_constraint_Yes          uint8\n",
      "ppap_risk_Yes              uint8\n",
      "stop_auto_buy_Yes          uint8\n",
      "rev_stop_Yes               uint8\n",
      "went_on_backorder_Yes      uint8\n",
      "dtype: object\n"
     ]
    },
    {
     "data": {
      "text/html": [
       "<div>\n",
       "<style scoped>\n",
       "    .dataframe tbody tr th:only-of-type {\n",
       "        vertical-align: middle;\n",
       "    }\n",
       "\n",
       "    .dataframe tbody tr th {\n",
       "        vertical-align: top;\n",
       "    }\n",
       "\n",
       "    .dataframe thead th {\n",
       "        text-align: right;\n",
       "    }\n",
       "</style>\n",
       "<table border=\"1\" class=\"dataframe\">\n",
       "  <thead>\n",
       "    <tr style=\"text-align: right;\">\n",
       "      <th></th>\n",
       "      <th>national_inv</th>\n",
       "      <th>lead_time</th>\n",
       "      <th>in_transit_qty</th>\n",
       "      <th>forecast_3_month</th>\n",
       "      <th>forecast_6_month</th>\n",
       "      <th>forecast_9_month</th>\n",
       "      <th>sales_1_month</th>\n",
       "      <th>sales_3_month</th>\n",
       "      <th>sales_6_month</th>\n",
       "      <th>sales_9_month</th>\n",
       "      <th>...</th>\n",
       "      <th>perf_6_month_avg</th>\n",
       "      <th>perf_12_month_avg</th>\n",
       "      <th>local_bo_qty</th>\n",
       "      <th>potential_issue_Yes</th>\n",
       "      <th>deck_risk_Yes</th>\n",
       "      <th>oe_constraint_Yes</th>\n",
       "      <th>ppap_risk_Yes</th>\n",
       "      <th>stop_auto_buy_Yes</th>\n",
       "      <th>rev_stop_Yes</th>\n",
       "      <th>went_on_backorder_Yes</th>\n",
       "    </tr>\n",
       "  </thead>\n",
       "  <tbody>\n",
       "    <tr>\n",
       "      <th>1</th>\n",
       "      <td>7</td>\n",
       "      <td>2.0</td>\n",
       "      <td>0</td>\n",
       "      <td>0</td>\n",
       "      <td>0</td>\n",
       "      <td>0</td>\n",
       "      <td>0</td>\n",
       "      <td>0</td>\n",
       "      <td>0</td>\n",
       "      <td>0</td>\n",
       "      <td>...</td>\n",
       "      <td>0.50</td>\n",
       "      <td>0.28</td>\n",
       "      <td>0</td>\n",
       "      <td>0</td>\n",
       "      <td>1</td>\n",
       "      <td>0</td>\n",
       "      <td>0</td>\n",
       "      <td>1</td>\n",
       "      <td>0</td>\n",
       "      <td>0</td>\n",
       "    </tr>\n",
       "    <tr>\n",
       "      <th>2</th>\n",
       "      <td>258</td>\n",
       "      <td>15.0</td>\n",
       "      <td>10</td>\n",
       "      <td>10</td>\n",
       "      <td>77</td>\n",
       "      <td>184</td>\n",
       "      <td>46</td>\n",
       "      <td>132</td>\n",
       "      <td>256</td>\n",
       "      <td>365</td>\n",
       "      <td>...</td>\n",
       "      <td>0.54</td>\n",
       "      <td>0.70</td>\n",
       "      <td>0</td>\n",
       "      <td>0</td>\n",
       "      <td>0</td>\n",
       "      <td>0</td>\n",
       "      <td>0</td>\n",
       "      <td>1</td>\n",
       "      <td>0</td>\n",
       "      <td>0</td>\n",
       "    </tr>\n",
       "    <tr>\n",
       "      <th>3</th>\n",
       "      <td>46</td>\n",
       "      <td>2.0</td>\n",
       "      <td>0</td>\n",
       "      <td>0</td>\n",
       "      <td>0</td>\n",
       "      <td>0</td>\n",
       "      <td>1</td>\n",
       "      <td>2</td>\n",
       "      <td>6</td>\n",
       "      <td>9</td>\n",
       "      <td>...</td>\n",
       "      <td>0.75</td>\n",
       "      <td>0.90</td>\n",
       "      <td>0</td>\n",
       "      <td>0</td>\n",
       "      <td>1</td>\n",
       "      <td>0</td>\n",
       "      <td>0</td>\n",
       "      <td>1</td>\n",
       "      <td>0</td>\n",
       "      <td>0</td>\n",
       "    </tr>\n",
       "    <tr>\n",
       "      <th>4</th>\n",
       "      <td>2</td>\n",
       "      <td>2.0</td>\n",
       "      <td>0</td>\n",
       "      <td>4</td>\n",
       "      <td>6</td>\n",
       "      <td>10</td>\n",
       "      <td>2</td>\n",
       "      <td>2</td>\n",
       "      <td>5</td>\n",
       "      <td>6</td>\n",
       "      <td>...</td>\n",
       "      <td>0.97</td>\n",
       "      <td>0.92</td>\n",
       "      <td>0</td>\n",
       "      <td>0</td>\n",
       "      <td>0</td>\n",
       "      <td>0</td>\n",
       "      <td>0</td>\n",
       "      <td>1</td>\n",
       "      <td>0</td>\n",
       "      <td>0</td>\n",
       "    </tr>\n",
       "    <tr>\n",
       "      <th>5</th>\n",
       "      <td>297</td>\n",
       "      <td>12.0</td>\n",
       "      <td>0</td>\n",
       "      <td>0</td>\n",
       "      <td>0</td>\n",
       "      <td>0</td>\n",
       "      <td>5</td>\n",
       "      <td>6</td>\n",
       "      <td>44</td>\n",
       "      <td>57</td>\n",
       "      <td>...</td>\n",
       "      <td>0.58</td>\n",
       "      <td>0.75</td>\n",
       "      <td>0</td>\n",
       "      <td>0</td>\n",
       "      <td>1</td>\n",
       "      <td>0</td>\n",
       "      <td>0</td>\n",
       "      <td>1</td>\n",
       "      <td>0</td>\n",
       "      <td>0</td>\n",
       "    </tr>\n",
       "  </tbody>\n",
       "</table>\n",
       "<p>5 rows × 22 columns</p>\n",
       "</div>"
      ],
      "text/plain": [
       "   national_inv  lead_time  in_transit_qty  forecast_3_month  \\\n",
       "1             7        2.0               0                 0   \n",
       "2           258       15.0              10                10   \n",
       "3            46        2.0               0                 0   \n",
       "4             2        2.0               0                 4   \n",
       "5           297       12.0               0                 0   \n",
       "\n",
       "   forecast_6_month  forecast_9_month  sales_1_month  sales_3_month  \\\n",
       "1                 0                 0              0              0   \n",
       "2                77               184             46            132   \n",
       "3                 0                 0              1              2   \n",
       "4                 6                10              2              2   \n",
       "5                 0                 0              5              6   \n",
       "\n",
       "   sales_6_month  sales_9_month  ...  perf_6_month_avg  perf_12_month_avg  \\\n",
       "1              0              0  ...              0.50               0.28   \n",
       "2            256            365  ...              0.54               0.70   \n",
       "3              6              9  ...              0.75               0.90   \n",
       "4              5              6  ...              0.97               0.92   \n",
       "5             44             57  ...              0.58               0.75   \n",
       "\n",
       "   local_bo_qty  potential_issue_Yes  deck_risk_Yes  oe_constraint_Yes  \\\n",
       "1             0                    0              1                  0   \n",
       "2             0                    0              0                  0   \n",
       "3             0                    0              1                  0   \n",
       "4             0                    0              0                  0   \n",
       "5             0                    0              1                  0   \n",
       "\n",
       "   ppap_risk_Yes  stop_auto_buy_Yes  rev_stop_Yes  went_on_backorder_Yes  \n",
       "1              0                  1             0                      0  \n",
       "2              0                  1             0                      0  \n",
       "3              0                  1             0                      0  \n",
       "4              0                  1             0                      0  \n",
       "5              0                  1             0                      0  \n",
       "\n",
       "[5 rows x 22 columns]"
      ]
     },
     "execution_count": 16,
     "metadata": {},
     "output_type": "execute_result"
    }
   ],
   "source": [
    "data = pd.get_dummies(data, columns=['potential_issue','deck_risk','oe_constraint','ppap_risk',\n",
    "                                     'stop_auto_buy','rev_stop','went_on_backorder'], drop_first=True)\n",
    "print(data.dtypes)\n",
    "data.head()"
   ]
  },
  {
   "cell_type": "markdown",
   "metadata": {},
   "source": [
    "#### Target attribute distribution"
   ]
  },
  {
   "cell_type": "code",
   "execution_count": 17,
   "metadata": {},
   "outputs": [
    {
     "data": {
      "text/plain": [
       "0    81.024665\n",
       "1    18.975335\n",
       "Name: went_on_backorder_Yes, dtype: float64"
      ]
     },
     "execution_count": 17,
     "metadata": {},
     "output_type": "execute_result"
    }
   ],
   "source": [
    "data.went_on_backorder_Yes.value_counts()*100/data.went_on_backorder_Yes.count()"
   ]
  },
  {
   "cell_type": "markdown",
   "metadata": {},
   "source": [
    "#### Train-Test Split\n",
    "\n",
    "Using sklearn.model_selection.train_test_split\n",
    "\n",
    "    Split arrays or matrices into train and test subsets"
   ]
  },
  {
   "cell_type": "code",
   "execution_count": 18,
   "metadata": {},
   "outputs": [],
   "source": [
    "from sklearn.model_selection import train_test_split\n",
    "\n",
    "X_train, X_test, y_train, y_test = train_test_split(data[data.columns.difference(['went_on_backorder_Yes'])],\n",
    "                                                   data['went_on_backorder_Yes'], test_size=0.3,\n",
    "                                                   random_state=123, stratify = data['went_on_backorder_Yes'],\n",
    "                                                   shuffle=True)"
   ]
  },
  {
   "cell_type": "markdown",
   "metadata": {},
   "source": [
    "### Perceptron Model"
   ]
  },
  {
   "cell_type": "code",
   "execution_count": 19,
   "metadata": {},
   "outputs": [
    {
     "name": "stderr",
     "output_type": "stream",
     "text": [
      "Using TensorFlow backend.\n"
     ]
    }
   ],
   "source": [
    "from keras.models import Sequential\n",
    "from keras.layers import Dense"
   ]
  },
  {
   "cell_type": "code",
   "execution_count": 20,
   "metadata": {},
   "outputs": [],
   "source": [
    "perceptron_model = Sequential()\n",
    "\n",
    "perceptron_model.add(Dense(1, input_dim=21, activation='sigmoid', kernel_initializer='normal'))"
   ]
  },
  {
   "cell_type": "code",
   "execution_count": 21,
   "metadata": {},
   "outputs": [],
   "source": [
    "perceptron_model.compile(loss='binary_crossentropy', optimizer='sgd', metrics=['accuracy'])\n",
    "\n",
    "# Note:\n",
    "# For multi-class classification use loss = 'categorical_crossentropy' and metrics = 'categorical_accuracy'\n",
    "# Even if you use \"binary_crossentropy\" as loss, use metrics = 'categorical_accuracy' for multi-class\n",
    "\n",
    "# Why? Because:\n",
    "# Keras does not define a single accuracy metric, but several different ones, among them binary_accuracy and \n",
    "# categorical_accuracy. What happens under the hood is that, since you have selected binary cross entropy as\n",
    "# your loss function and have not specified a particular accuracy metric, Keras (wrongly...) infers that you\n",
    "# are interested in the binary_accuracy, and this is what it returns - while in fact you are interested in \n",
    "# the categorical_accuracy."
   ]
  },
  {
   "cell_type": "code",
   "execution_count": 22,
   "metadata": {},
   "outputs": [
    {
     "name": "stdout",
     "output_type": "stream",
     "text": [
      "Train on 32058 samples, validate on 8015 samples\n",
      "Epoch 1/10\n",
      "32058/32058 [==============================] - 1s 21us/step - loss: 365.6635 - accuracy: 0.8148 - val_loss: 207.4635 - val_accuracy: 0.7935\n",
      "Epoch 2/10\n",
      "32058/32058 [==============================] - 1s 18us/step - loss: 5589.9967 - accuracy: 0.7825 - val_loss: 716.5624 - val_accuracy: 0.7870\n",
      "Epoch 3/10\n",
      "32058/32058 [==============================] - 1s 18us/step - loss: 1739.1568 - accuracy: 0.7991 - val_loss: 224.1718 - val_accuracy: 0.8383\n",
      "Epoch 4/10\n",
      "32058/32058 [==============================] - 1s 31us/step - loss: 3913.1412 - accuracy: 0.7980 - val_loss: 3882.6776 - val_accuracy: 0.7694\n",
      "Epoch 5/10\n",
      "32058/32058 [==============================] - 1s 26us/step - loss: 2130.3706 - accuracy: 0.8020 - val_loss: 439.9466 - val_accuracy: 0.8031\n",
      "Epoch 6/10\n",
      "32058/32058 [==============================] - 1s 24us/step - loss: 1726.6585 - accuracy: 0.8040 - val_loss: 291.5638 - val_accuracy: 0.8362\n",
      "Epoch 7/10\n",
      "32058/32058 [==============================] - 1s 25us/step - loss: 1657.8837 - accuracy: 0.8140 - val_loss: 304.4028 - val_accuracy: 0.8417\n",
      "Epoch 8/10\n",
      "32058/32058 [==============================] - 1s 23us/step - loss: 1782.9795 - accuracy: 0.8099 - val_loss: 226.8441 - val_accuracy: 0.8377\n",
      "Epoch 9/10\n",
      "32058/32058 [==============================] - 1s 22us/step - loss: 1523.4996 - accuracy: 0.8148 - val_loss: 691.3198 - val_accuracy: 0.7956\n",
      "Epoch 10/10\n",
      "32058/32058 [==============================] - 1s 22us/step - loss: 257.4022 - accuracy: 0.8420 - val_loss: 205.5416 - val_accuracy: 0.8483\n"
     ]
    }
   ],
   "source": [
    "perceptron_model_history = perceptron_model.fit(X_train, y_train, epochs=10, batch_size=64,\n",
    "                                               validation_split=0.2,use_multiprocessing=True) #shuffle=True"
   ]
  },
  {
   "cell_type": "markdown",
   "metadata": {},
   "source": [
    "##### Plot"
   ]
  },
  {
   "cell_type": "code",
   "execution_count": 23,
   "metadata": {},
   "outputs": [
    {
     "name": "stdout",
     "output_type": "stream",
     "text": [
      "dict_keys(['val_loss', 'val_accuracy', 'loss', 'accuracy'])\n"
     ]
    }
   ],
   "source": [
    "print(perceptron_model_history.history.keys())"
   ]
  },
  {
   "cell_type": "code",
   "execution_count": 24,
   "metadata": {},
   "outputs": [],
   "source": [
    "import matplotlib.pyplot as plt"
   ]
  },
  {
   "cell_type": "code",
   "execution_count": 25,
   "metadata": {},
   "outputs": [
    {
     "data": {
      "image/png": "[encoded data removed]",
      "text/plain": [
       "<Figure size 432x288 with 1 Axes>"
      ]
     },
     "metadata": {
      "needs_background": "light"
     },
     "output_type": "display_data"
    }
   ],
   "source": [
    "plt.plot(perceptron_model_history.history['accuracy'])\n",
    "plt.plot(perceptron_model_history.history['val_accuracy'])\n",
    "plt.title('Accuracy Plot')\n",
    "plt.ylabel('Accuracy')\n",
    "plt.xlabel('Epoch')\n",
    "plt.legend(['Train', 'Validation'])\n",
    "plt.show()"
   ]
  },
  {
   "cell_type": "code",
   "execution_count": 26,
   "metadata": {},
   "outputs": [
    {
     "data": {
      "image/png": "[encoded data removed]",
      "text/plain": [
       "<Figure size 432x288 with 1 Axes>"
      ]
     },
     "metadata": {
      "needs_background": "light"
     },
     "output_type": "display_data"
    }
   ],
   "source": [
    "plt.plot(perceptron_model_history.history['loss'])\n",
    "plt.plot(perceptron_model_history.history['val_loss'])\n",
    "plt.title('Loss Function Plot')\n",
    "plt.ylabel('Loss')\n",
    "plt.xlabel('Epoch')\n",
    "plt.legend(['Train', 'Validation'])\n",
    "plt.show()"
   ]
  },
  {
   "cell_type": "code",
   "execution_count": 27,
   "metadata": {},
   "outputs": [
    {
     "name": "stdout",
     "output_type": "stream",
     "text": [
      "Model: \"sequential_1\"\n",
      "_________________________________________________________________\n",
      "Layer (type)                 Output Shape              Param #   \n",
      "=================================================================\n",
      "dense_1 (Dense)              (None, 1)                 22        \n",
      "=================================================================\n",
      "Total params: 22\n",
      "Trainable params: 22\n",
      "Non-trainable params: 0\n",
      "_________________________________________________________________\n",
      "None\n"
     ]
    }
   ],
   "source": [
    "# Get Model Summary:\n",
    "\n",
    "print(perceptron_model.summary())"
   ]
  },
  {
   "cell_type": "code",
   "execution_count": 28,
   "metadata": {},
   "outputs": [
    {
     "data": {
      "image/png": "[encoded data removed]",
      "text/plain": [
       "<IPython.core.display.Image object>"
      ]
     },
     "execution_count": 28,
     "metadata": {},
     "output_type": "execute_result"
    }
   ],
   "source": [
    "# Vizualize the model:\n",
    "\n",
    "from keras.utils.vis_utils import plot_model\n",
    "\n",
    "plot_model(perceptron_model, to_file='perceptron_model.png', show_shapes=True, show_layer_names=True) # to_file='model_plot.png'"
   ]
  },
  {
   "cell_type": "markdown",
   "metadata": {},
   "source": [
    "##### Predictions"
   ]
  },
  {
   "cell_type": "code",
   "execution_count": 29,
   "metadata": {},
   "outputs": [],
   "source": [
    "from sklearn.metrics import confusion_matrix"
   ]
  },
  {
   "cell_type": "code",
   "execution_count": 30,
   "metadata": {},
   "outputs": [
    {
     "name": "stdout",
     "output_type": "stream",
     "text": [
      "[[28967  3502]\n",
      " [ 2540  5064]]\n",
      "[[12445  1471]\n",
      " [ 1072  2187]]\n"
     ]
    }
   ],
   "source": [
    "test_pred = perceptron_model.predict_classes(X_test)\n",
    "train_pred = perceptron_model.predict_classes(X_train)\n",
    "\n",
    "confusion_matrix_test = confusion_matrix(y_test, test_pred)\n",
    "confusion_matrix_train = confusion_matrix(y_train, train_pred)\n",
    "\n",
    "print(confusion_matrix_train)\n",
    "print(confusion_matrix_test)"
   ]
  },
  {
   "cell_type": "markdown",
   "metadata": {},
   "source": [
    "##### Train Test Accuracy, True Negative Rate and True Positive Rate"
   ]
  },
  {
   "cell_type": "code",
   "execution_count": 31,
   "metadata": {},
   "outputs": [
    {
     "name": "stdout",
     "output_type": "stream",
     "text": [
      "Train TNR:  0.8921432751239644\n",
      "Train TPR:  0.6659652814308259\n",
      "Train Accuracy:  0.8492251640755621\n",
      "-----------------------\n",
      "Test TNR:  0.8942943374532911\n",
      "Test TPR:  0.6710647437864375\n",
      "Test Accuracy:  0.8519359534206695\n"
     ]
    }
   ],
   "source": [
    "Accuracy_Train=(confusion_matrix_train[0,0]+confusion_matrix_train[1,1])/(confusion_matrix_train[0,0]+confusion_matrix_train[0,1]+confusion_matrix_train[1,0]+confusion_matrix_train[1,1])\n",
    "TNR_Train= confusion_matrix_train[0,0]/(confusion_matrix_train[0,0]+confusion_matrix_train[0,1])\n",
    "TPR_Train= confusion_matrix_train[1,1]/(confusion_matrix_train[1,0]+confusion_matrix_train[1,1])\n",
    "\n",
    "print(\"Train TNR: \",TNR_Train)\n",
    "print(\"Train TPR: \",TPR_Train)\n",
    "print(\"Train Accuracy: \",Accuracy_Train)\n",
    "\n",
    "print(\"-----------------------\")\n",
    "\n",
    "Accuracy_Test=(confusion_matrix_test[0,0]+confusion_matrix_test[1,1])/(confusion_matrix_test[0,0]+confusion_matrix_test[0,1]+confusion_matrix_test[1,0]+confusion_matrix_test[1,1])\n",
    "TNR_Test= confusion_matrix_test[0,0]/(confusion_matrix_test[0,0] +confusion_matrix_test[0,1])\n",
    "TPR_Test= confusion_matrix_test[1,1]/(confusion_matrix_test[1,0] +confusion_matrix_test[1,1])\n",
    "\n",
    "print(\"Test TNR: \",TNR_Test)\n",
    "print(\"Test TPR: \",TPR_Test)\n",
    "print(\"Test Accuracy: \",Accuracy_Test)"
   ]
  },
  {
   "cell_type": "markdown",
   "metadata": {},
   "source": [
    "### MLP with 2 layers\n",
    "\n",
    "    1 hidden layer with 15 neurons"
   ]
  },
  {
   "cell_type": "code",
   "execution_count": 32,
   "metadata": {},
   "outputs": [
    {
     "name": "stdout",
     "output_type": "stream",
     "text": [
      "Train on 32058 samples, validate on 8015 samples\n",
      "Epoch 1/10\n",
      "32058/32058 [==============================] - 1s 29us/step - loss: 0.3286 - accuracy: 0.8453 - val_loss: 0.3067 - val_accuracy: 0.8692\n",
      "Epoch 2/10\n",
      "32058/32058 [==============================] - 1s 26us/step - loss: 0.3048 - accuracy: 0.8586 - val_loss: 0.3157 - val_accuracy: 0.8143\n",
      "Epoch 3/10\n",
      "32058/32058 [==============================] - 1s 24us/step - loss: 0.2914 - accuracy: 0.8704 - val_loss: 0.2706 - val_accuracy: 0.8937\n",
      "Epoch 4/10\n",
      "32058/32058 [==============================] - 1s 24us/step - loss: 0.3036 - accuracy: 0.8719 - val_loss: 0.2932 - val_accuracy: 0.8883\n",
      "Epoch 5/10\n",
      "32058/32058 [==============================] - 1s 23us/step - loss: 0.2827 - accuracy: 0.8814 - val_loss: 0.2697 - val_accuracy: 0.8882\n",
      "Epoch 6/10\n",
      "32058/32058 [==============================] - 1s 22us/step - loss: 0.2863 - accuracy: 0.8737 - val_loss: 0.2857 - val_accuracy: 0.8719\n",
      "Epoch 7/10\n",
      "32058/32058 [==============================] - 1s 23us/step - loss: 0.2855 - accuracy: 0.8767 - val_loss: 0.2828 - val_accuracy: 0.8755\n",
      "Epoch 8/10\n",
      "32058/32058 [==============================] - 1s 22us/step - loss: 0.2942 - accuracy: 0.8625 - val_loss: 0.3059 - val_accuracy: 0.8870\n",
      "Epoch 9/10\n",
      "32058/32058 [==============================] - 1s 23us/step - loss: 0.3390 - accuracy: 0.8287 - val_loss: 0.2996 - val_accuracy: 0.8379\n",
      "Epoch 10/10\n",
      "32058/32058 [==============================] - 1s 23us/step - loss: 0.3055 - accuracy: 0.8570 - val_loss: 0.2910 - val_accuracy: 0.8826\n",
      "dict_keys(['val_loss', 'val_accuracy', 'loss', 'accuracy'])\n"
     ]
    },
    {
     "data": {
      "image/png": "[encoded data removed]",
      "text/plain": [
       "<Figure size 432x288 with 1 Axes>"
      ]
     },
     "metadata": {
      "needs_background": "light"
     },
     "output_type": "display_data"
    },
    {
     "data": {
      "image/png": "[encoded data removed]",
      "text/plain": [
       "<Figure size 432x288 with 1 Axes>"
      ]
     },
     "metadata": {
      "needs_background": "light"
     },
     "output_type": "display_data"
    },
    {
     "name": "stdout",
     "output_type": "stream",
     "text": [
      "Model: \"sequential_2\"\n",
      "_________________________________________________________________\n",
      "Layer (type)                 Output Shape              Param #   \n",
      "=================================================================\n",
      "dense_2 (Dense)              (None, 15)                330       \n",
      "_________________________________________________________________\n",
      "dense_3 (Dense)              (None, 1)                 16        \n",
      "=================================================================\n",
      "Total params: 346\n",
      "Trainable params: 346\n",
      "Non-trainable params: 0\n",
      "_________________________________________________________________\n",
      "None\n"
     ]
    },
    {
     "data": {
      "image/png": "[encoded data removed]",
      "text/plain": [
       "<IPython.core.display.Image object>"
      ]
     },
     "execution_count": 32,
     "metadata": {},
     "output_type": "execute_result"
    }
   ],
   "source": [
    "## MLP with 2 layers and 15 neurons:\n",
    "\n",
    "# Define MLP model:\n",
    "\n",
    "from keras import initializers\n",
    "\n",
    "mlp_model_15 = Sequential()\n",
    "\n",
    "mlp_model_15.add(Dense(15, input_dim=21, activation='tanh', kernel_initializer=initializers.RandomUniform(seed=123)))\n",
    "mlp_model_15.add(Dense(1, activation='sigmoid'))\n",
    "mlp_model_15.compile(loss='binary_crossentropy', optimizer='sgd', metrics=['accuracy'])\n",
    "\n",
    "\n",
    "mlp_model_15_history = mlp_model_15.fit(X_train, y_train, epochs=10, batch_size=64,\n",
    "                                        validation_split=0.2,use_multiprocessing=True)\n",
    "\n",
    "## Plot:\n",
    "print(mlp_model_15_history.history.keys())\n",
    "\n",
    "## Accuracy:\n",
    "plt.plot(mlp_model_15_history.history['accuracy'])\n",
    "plt.plot(mlp_model_15_history.history['val_accuracy'])\n",
    "plt.title('Accuracy Plot')\n",
    "plt.ylabel('Accuracy')\n",
    "plt.xlabel('Epoch')\n",
    "plt.legend(['Train', 'Validation'])\n",
    "plt.show()\n",
    "\n",
    "## Loss:\n",
    "plt.plot(mlp_model_15_history.history['loss'])\n",
    "plt.plot(mlp_model_15_history.history['val_loss'])\n",
    "plt.title('Loss Function Plot')\n",
    "plt.ylabel('Loss')\n",
    "plt.xlabel('Epoch')\n",
    "plt.legend(['Train', 'Validation'])\n",
    "plt.show()\n",
    "\n",
    "# Get Model Summary:\n",
    "print(mlp_model_15.summary())\n",
    "\n",
    "# Vizualize the model:\n",
    "from keras.utils.vis_utils import plot_model\n",
    "\n",
    "plot_model(mlp_model_15, to_file='mlp_model_15.png', show_shapes=True, show_layer_names=True) # to_file='model_plot.png'\n"
   ]
  },
  {
   "cell_type": "markdown",
   "metadata": {},
   "source": [
    "#### Predictions"
   ]
  },
  {
   "cell_type": "markdown",
   "metadata": {},
   "source": [
    "#### Getting evaluation metrics and evaluating model performance"
   ]
  },
  {
   "cell_type": "markdown",
   "metadata": {},
   "source": [
    "#### Calculate Accuracy, True Positive Rate and True Negative Rates"
   ]
  },
  {
   "cell_type": "code",
   "execution_count": 33,
   "metadata": {},
   "outputs": [
    {
     "name": "stdout",
     "output_type": "stream",
     "text": [
      "[[29882  2587]\n",
      " [ 2176  5428]]\n",
      "[[12832  1084]\n",
      " [  947  2312]]\n",
      "Train TNR:  0.9203240013551387\n",
      "Train TPR:  0.7138348237769595\n",
      "Train Accuracy:  0.881141916003294\n",
      "-----------------------\n",
      "Test TNR:  0.9221040528887612\n",
      "Test TPR:  0.7094200675053698\n",
      "Test Accuracy:  0.8817467248908297\n"
     ]
    }
   ],
   "source": [
    "#### Predictions\n",
    "\n",
    "#### Getting evaluation metrics and evaluating model performance\n",
    "\n",
    "mlp_test_pred_15 = mlp_model_15.predict_classes(X_test)\n",
    "mlp_train_pred_15 = mlp_model_15.predict_classes(X_train)\n",
    "\n",
    "mlp_confusion_matrix_test_15 = confusion_matrix(y_test, mlp_test_pred_15)\n",
    "mlp_confusion_matrix_train_15 = confusion_matrix(y_train, mlp_train_pred_15)\n",
    "\n",
    "print(mlp_confusion_matrix_train_15)\n",
    "print(mlp_confusion_matrix_test_15)\n",
    "\n",
    "\n",
    "#### Calculate Accuracy, True Positive Rate and True Negative Rates\n",
    "\n",
    "##### Train Test Accuracy, True Negative Rate and True Positive Rate\n",
    "\n",
    "mlp_Accuracy_Train_15=(mlp_confusion_matrix_train_15[0,0]+mlp_confusion_matrix_train_15[1,1])/(mlp_confusion_matrix_train_15[0,0]+mlp_confusion_matrix_train_15[0,1]+mlp_confusion_matrix_train_15[1,0]+mlp_confusion_matrix_train_15[1,1])\n",
    "mlp_TNR_Train_15=mlp_confusion_matrix_train_15[0,0]/(mlp_confusion_matrix_train_15[0,0]+mlp_confusion_matrix_train_15[0,1])\n",
    "mlp_TPR_Train_15=mlp_confusion_matrix_train_15[1,1]/(mlp_confusion_matrix_train_15[1,0]+mlp_confusion_matrix_train_15[1,1])\n",
    "\n",
    "print(\"Train TNR: \",mlp_TNR_Train_15)\n",
    "print(\"Train TPR: \",mlp_TPR_Train_15)\n",
    "print(\"Train Accuracy: \",mlp_Accuracy_Train_15)\n",
    "\n",
    "print(\"-----------------------\")\n",
    "\n",
    "mlp_Accuracy_Test_15=(mlp_confusion_matrix_test_15[0,0]+mlp_confusion_matrix_test_15[1,1])/(mlp_confusion_matrix_test_15[0,0]+mlp_confusion_matrix_test_15[0,1]+mlp_confusion_matrix_test_15[1,0]+mlp_confusion_matrix_test_15[1,1])\n",
    "mlp_TNR_Test_15= mlp_confusion_matrix_test_15[0,0]/(mlp_confusion_matrix_test_15[0,0] + mlp_confusion_matrix_test_15[0,1])\n",
    "mlp_TPR_Test_15= mlp_confusion_matrix_test_15[1,1]/(mlp_confusion_matrix_test_15[1,0] + mlp_confusion_matrix_test_15[1,1])\n",
    "\n",
    "print(\"Test TNR: \",mlp_TNR_Test_15)\n",
    "print(\"Test TPR: \",mlp_TPR_Test_15)\n",
    "print(\"Test Accuracy: \",mlp_Accuracy_Test_15)"
   ]
  },
  {
   "cell_type": "markdown",
   "metadata": {},
   "source": [
    "### MLP with 2 layers\n",
    "\n",
    "    1 hidden layer with 20 neurons"
   ]
  },
  {
   "cell_type": "code",
   "execution_count": 34,
   "metadata": {},
   "outputs": [],
   "source": [
    "# Define MLP model:\n",
    "\n",
    "from keras import initializers\n",
    "\n",
    "mlp_model = Sequential()\n",
    "\n",
    "mlp_model.add(Dense(20, input_dim=21, activation='relu', kernel_initializer=initializers.RandomUniform(seed=123)))\n",
    "mlp_model.add(Dense(1, activation='sigmoid'))\n",
    "mlp_model.compile(loss='binary_crossentropy', optimizer='sgd', metrics=['accuracy'])\n"
   ]
  },
  {
   "cell_type": "code",
   "execution_count": 35,
   "metadata": {},
   "outputs": [
    {
     "name": "stdout",
     "output_type": "stream",
     "text": [
      "Train on 32058 samples, validate on 8015 samples\n",
      "Epoch 1/10\n",
      "32058/32058 [==============================] - 1s 25us/step - loss: 0.4687 - accuracy: 0.8102 - val_loss: 0.3916 - val_accuracy: 0.8070\n",
      "Epoch 2/10\n",
      "32058/32058 [==============================] - 1s 22us/step - loss: 3.8956 - accuracy: 0.8103 - val_loss: 0.3914 - val_accuracy: 0.8055\n",
      "Epoch 3/10\n",
      "32058/32058 [==============================] - 1s 23us/step - loss: 0.3872 - accuracy: 0.8114 - val_loss: 0.3967 - val_accuracy: 0.8054\n",
      "Epoch 4/10\n",
      "32058/32058 [==============================] - 1s 23us/step - loss: 0.3648 - accuracy: 0.8114 - val_loss: 0.3995 - val_accuracy: 0.8055\n",
      "Epoch 5/10\n",
      "32058/32058 [==============================] - 1s 23us/step - loss: 0.3828 - accuracy: 0.8115 - val_loss: 0.3910 - val_accuracy: 0.8054\n",
      "Epoch 6/10\n",
      "32058/32058 [==============================] - 1s 22us/step - loss: 0.3759 - accuracy: 0.8114 - val_loss: 0.3867 - val_accuracy: 0.8054\n",
      "Epoch 7/10\n",
      "32058/32058 [==============================] - 1s 22us/step - loss: 0.3696 - accuracy: 0.8114 - val_loss: 0.3775 - val_accuracy: 0.8055\n",
      "Epoch 8/10\n",
      "32058/32058 [==============================] - 1s 23us/step - loss: 0.4250 - accuracy: 0.8103 - val_loss: 0.3979 - val_accuracy: 0.8054\n",
      "Epoch 9/10\n",
      "32058/32058 [==============================] - 1s 23us/step - loss: 0.3804 - accuracy: 0.8114 - val_loss: 0.3878 - val_accuracy: 0.8055\n",
      "Epoch 10/10\n",
      "32058/32058 [==============================] - 1s 22us/step - loss: 0.4249 - accuracy: 0.8112 - val_loss: 0.4007 - val_accuracy: 0.8055\n"
     ]
    }
   ],
   "source": [
    "mlp_model_history = mlp_model.fit(X_train, y_train, epochs=10, batch_size=64, validation_split=0.2,\n",
    "                                 use_multiprocessing=True)"
   ]
  },
  {
   "cell_type": "code",
   "execution_count": 36,
   "metadata": {},
   "outputs": [
    {
     "name": "stdout",
     "output_type": "stream",
     "text": [
      "dict_keys(['val_loss', 'val_accuracy', 'loss', 'accuracy'])\n"
     ]
    },
    {
     "data": {
      "image/png": "[encoded data removed]",
      "text/plain": [
       "<Figure size 432x288 with 1 Axes>"
      ]
     },
     "metadata": {
      "needs_background": "light"
     },
     "output_type": "display_data"
    },
    {
     "data": {
      "image/png": "[encoded data removed]",
      "text/plain": [
       "<Figure size 432x288 with 1 Axes>"
      ]
     },
     "metadata": {
      "needs_background": "light"
     },
     "output_type": "display_data"
    }
   ],
   "source": [
    "## Plot:\n",
    "print(mlp_model_history.history.keys())\n",
    "\n",
    "## Accuracy:\n",
    "plt.plot(mlp_model_history.history['accuracy'])\n",
    "plt.plot(mlp_model_history.history['val_accuracy'])\n",
    "plt.title('Accuracy Plot')\n",
    "plt.ylabel('Accuracy')\n",
    "plt.xlabel('Epoch')\n",
    "plt.legend(['Train', 'Validation'])\n",
    "plt.show()\n",
    "\n",
    "## Loss:\n",
    "plt.plot(mlp_model_history.history['loss'])\n",
    "plt.plot(mlp_model_history.history['val_loss'])\n",
    "plt.title('Loss Function Plot')\n",
    "plt.ylabel('Loss')\n",
    "plt.xlabel('Epoch')\n",
    "plt.legend(['Train', 'Validation'])\n",
    "plt.show()"
   ]
  },
  {
   "cell_type": "code",
   "execution_count": 37,
   "metadata": {},
   "outputs": [
    {
     "name": "stdout",
     "output_type": "stream",
     "text": [
      "Model: \"sequential_3\"\n",
      "_________________________________________________________________\n",
      "Layer (type)                 Output Shape              Param #   \n",
      "=================================================================\n",
      "dense_4 (Dense)              (None, 20)                440       \n",
      "_________________________________________________________________\n",
      "dense_5 (Dense)              (None, 1)                 21        \n",
      "=================================================================\n",
      "Total params: 461\n",
      "Trainable params: 461\n",
      "Non-trainable params: 0\n",
      "_________________________________________________________________\n",
      "None\n"
     ]
    }
   ],
   "source": [
    "# Get Model Summary:\n",
    "print(mlp_model.summary())"
   ]
  },
  {
   "cell_type": "code",
   "execution_count": 38,
   "metadata": {},
   "outputs": [
    {
     "data": {
      "image/png": "[encoded data removed]",
      "text/plain": [
       "<IPython.core.display.Image object>"
      ]
     },
     "execution_count": 38,
     "metadata": {},
     "output_type": "execute_result"
    }
   ],
   "source": [
    "# Vizualize the model:\n",
    "from keras.utils.vis_utils import plot_model\n",
    "\n",
    "plot_model(mlp_model, to_file='mlp_model.png', show_shapes=True, show_layer_names=True) # to_file='model_plot.png'"
   ]
  },
  {
   "cell_type": "markdown",
   "metadata": {},
   "source": [
    "#### Predictions"
   ]
  },
  {
   "cell_type": "markdown",
   "metadata": {},
   "source": [
    "#### Getting evaluation metrics and evaluating model performance"
   ]
  },
  {
   "cell_type": "code",
   "execution_count": 39,
   "metadata": {},
   "outputs": [
    {
     "name": "stdout",
     "output_type": "stream",
     "text": [
      "[[32468     1]\n",
      " [ 7602     2]]\n",
      "[[13916     0]\n",
      " [ 3259     0]]\n"
     ]
    }
   ],
   "source": [
    "mlp_test_pred = mlp_model.predict_classes(X_test)\n",
    "mlp_train_pred = mlp_model.predict_classes(X_train)\n",
    "\n",
    "mlp_confusion_matrix_test = confusion_matrix(y_test, mlp_test_pred)\n",
    "mlp_confusion_matrix_train = confusion_matrix(y_train, mlp_train_pred)\n",
    "\n",
    "print(mlp_confusion_matrix_train)\n",
    "print(mlp_confusion_matrix_test)\n"
   ]
  },
  {
   "cell_type": "markdown",
   "metadata": {},
   "source": [
    "#### Calculate Accuracy, True Positive Rate and True Negative Rates"
   ]
  },
  {
   "cell_type": "code",
   "execution_count": 40,
   "metadata": {},
   "outputs": [
    {
     "name": "stdout",
     "output_type": "stream",
     "text": [
      "Train TNR:  0.9999692013920971\n",
      "Train TPR:  0.0002630194634402946\n",
      "Train Accuracy:  0.8102712549596985\n",
      "-----------------------\n",
      "Test TNR:  1.0\n",
      "Test TPR:  0.0\n",
      "Test Accuracy:  0.8102474526928676\n"
     ]
    }
   ],
   "source": [
    "##### Train Test Accuracy, True Negative Rate and True Positive Rate\n",
    "\n",
    "mlp_Accuracy_Train=(mlp_confusion_matrix_train[0,0]+mlp_confusion_matrix_train[1,1])/(mlp_confusion_matrix_train[0,0]+mlp_confusion_matrix_train[0,1]+mlp_confusion_matrix_train[1,0]+mlp_confusion_matrix_train[1,1])\n",
    "mlp_TNR_Train=mlp_confusion_matrix_train[0,0]/(mlp_confusion_matrix_train[0,0]+mlp_confusion_matrix_train[0,1])\n",
    "mlp_TPR_Train=mlp_confusion_matrix_train[1,1]/(mlp_confusion_matrix_train[1,0]+mlp_confusion_matrix_train[1,1])\n",
    "\n",
    "print(\"Train TNR: \",mlp_TNR_Train)\n",
    "print(\"Train TPR: \",mlp_TPR_Train)\n",
    "print(\"Train Accuracy: \",mlp_Accuracy_Train)\n",
    "\n",
    "print(\"-----------------------\")\n",
    "\n",
    "mlp_Accuracy_Test=(mlp_confusion_matrix_test[0,0]+mlp_confusion_matrix_test[1,1])/(mlp_confusion_matrix_test[0,0]+mlp_confusion_matrix_test[0,1]+mlp_confusion_matrix_test[1,0]+mlp_confusion_matrix_test[1,1])\n",
    "mlp_TNR_Test= mlp_confusion_matrix_test[0,0]/(mlp_confusion_matrix_test[0,0] + mlp_confusion_matrix_test[0,1])\n",
    "mlp_TPR_Test= mlp_confusion_matrix_test[1,1]/(mlp_confusion_matrix_test[1,0] + mlp_confusion_matrix_test[1,1])\n",
    "\n",
    "print(\"Test TNR: \",mlp_TNR_Test)\n",
    "print(\"Test TPR: \",mlp_TPR_Test)\n",
    "print(\"Test Accuracy: \",mlp_Accuracy_Test)"
   ]
  },
  {
   "cell_type": "markdown",
   "metadata": {},
   "source": [
    "### MLP with 2 layers\n",
    "\n",
    "    1 hidden layer with 25 neurons"
   ]
  },
  {
   "cell_type": "code",
   "execution_count": 41,
   "metadata": {},
   "outputs": [],
   "source": [
    "mlp25 = Sequential()\n",
    "\n",
    "mlp25.add(Dense(25, input_dim=21, activation='sigmoid', kernel_initializer=initializers.RandomUniform(seed=351)))\n",
    "mlp25.add(Dense(1, activation='sigmoid'))\n",
    "mlp25.compile(loss='binary_crossentropy', optimizer='sgd', metrics=['accuracy'])"
   ]
  },
  {
   "cell_type": "code",
   "execution_count": 42,
   "metadata": {},
   "outputs": [
    {
     "name": "stdout",
     "output_type": "stream",
     "text": [
      "Train on 32058 samples, validate on 8015 samples\n",
      "Epoch 1/10\n",
      "32058/32058 [==============================] - 1s 25us/step - loss: 0.3544 - accuracy: 0.8331 - val_loss: 0.3157 - val_accuracy: 0.8586\n",
      "Epoch 2/10\n",
      "32058/32058 [==============================] - 1s 23us/step - loss: 0.2985 - accuracy: 0.8683 - val_loss: 0.2921 - val_accuracy: 0.8791\n",
      "Epoch 3/10\n",
      "32058/32058 [==============================] - 1s 22us/step - loss: 0.2847 - accuracy: 0.8775 - val_loss: 0.2913 - val_accuracy: 0.8751\n",
      "Epoch 4/10\n",
      "32058/32058 [==============================] - 1s 22us/step - loss: 0.2797 - accuracy: 0.8826 - val_loss: 0.2765 - val_accuracy: 0.8896\n",
      "Epoch 5/10\n",
      "32058/32058 [==============================] - 1s 22us/step - loss: 0.2777 - accuracy: 0.8841 - val_loss: 0.2850 - val_accuracy: 0.8837\n",
      "Epoch 6/10\n",
      "32058/32058 [==============================] - 1s 22us/step - loss: 0.2778 - accuracy: 0.8851 - val_loss: 0.2883 - val_accuracy: 0.8705\n",
      "Epoch 7/10\n",
      "32058/32058 [==============================] - 1s 22us/step - loss: 0.2703 - accuracy: 0.8866 - val_loss: 0.2748 - val_accuracy: 0.8910\n",
      "Epoch 8/10\n",
      "32058/32058 [==============================] - 1s 23us/step - loss: 0.2703 - accuracy: 0.8883 - val_loss: 0.2791 - val_accuracy: 0.8847\n",
      "Epoch 9/10\n",
      "32058/32058 [==============================] - 1s 23us/step - loss: 0.2694 - accuracy: 0.8894 - val_loss: 0.2670 - val_accuracy: 0.8878\n",
      "Epoch 10/10\n",
      "32058/32058 [==============================] - 1s 23us/step - loss: 0.2659 - accuracy: 0.8921 - val_loss: 0.2673 - val_accuracy: 0.8885\n"
     ]
    }
   ],
   "source": [
    "mlp25_hist = mlp25.fit(X_train, y_train, epochs=10, batch_size=64, validation_split=0.2,\n",
    "                      use_multiprocessing=True, shuffle=True)"
   ]
  },
  {
   "cell_type": "code",
   "execution_count": 43,
   "metadata": {},
   "outputs": [
    {
     "name": "stdout",
     "output_type": "stream",
     "text": [
      "dict_keys(['val_loss', 'val_accuracy', 'loss', 'accuracy'])\n"
     ]
    },
    {
     "data": {
      "image/png": "[encoded data removed]",
      "text/plain": [
       "<Figure size 432x288 with 1 Axes>"
      ]
     },
     "metadata": {
      "needs_background": "light"
     },
     "output_type": "display_data"
    },
    {
     "data": {
      "image/png": "[encoded data removed]",
      "text/plain": [
       "<Figure size 432x288 with 1 Axes>"
      ]
     },
     "metadata": {
      "needs_background": "light"
     },
     "output_type": "display_data"
    }
   ],
   "source": [
    "## Plot:\n",
    "\n",
    "print(mlp25_hist.history.keys())\n",
    "\n",
    "## Accuracy:\n",
    "\n",
    "plt.plot(mlp25_hist.history['accuracy'])\n",
    "plt.plot(mlp25_hist.history['val_accuracy'])\n",
    "plt.title('Accuracy Plot')\n",
    "plt.ylabel('Accuracy')\n",
    "plt.xlabel('Epoch')\n",
    "plt.legend(['Train','Validation'])\n",
    "plt.show()\n",
    "\n",
    "## Loss:\n",
    "\n",
    "plt.plot(mlp25_hist.history['loss'])\n",
    "plt.plot(mlp25_hist.history['val_loss'])\n",
    "plt.title('Loss Function Plot')\n",
    "plt.ylabel('Loss')\n",
    "plt.xlabel('Epoch')\n",
    "plt.legend(['Train','Validation'])\n",
    "plt.show()"
   ]
  },
  {
   "cell_type": "code",
   "execution_count": 44,
   "metadata": {},
   "outputs": [
    {
     "name": "stdout",
     "output_type": "stream",
     "text": [
      "Model: \"sequential_4\"\n",
      "_________________________________________________________________\n",
      "Layer (type)                 Output Shape              Param #   \n",
      "=================================================================\n",
      "dense_6 (Dense)              (None, 25)                550       \n",
      "_________________________________________________________________\n",
      "dense_7 (Dense)              (None, 1)                 26        \n",
      "=================================================================\n",
      "Total params: 576\n",
      "Trainable params: 576\n",
      "Non-trainable params: 0\n",
      "_________________________________________________________________\n"
     ]
    }
   ],
   "source": [
    "mlp25.summary()"
   ]
  },
  {
   "cell_type": "code",
   "execution_count": 45,
   "metadata": {},
   "outputs": [
    {
     "data": {
      "image/png": "[encoded data removed]",
      "text/plain": [
       "<IPython.core.display.Image object>"
      ]
     },
     "execution_count": 45,
     "metadata": {},
     "output_type": "execute_result"
    }
   ],
   "source": [
    "plot_model(mlp25, to_file=\"MLP_25_Neuron.png\", show_layer_names=True, show_shapes=True)"
   ]
  },
  {
   "cell_type": "markdown",
   "metadata": {},
   "source": [
    "#### Predictions"
   ]
  },
  {
   "cell_type": "markdown",
   "metadata": {},
   "source": [
    "#### Getting evaluation metrics and evaluating model performance"
   ]
  },
  {
   "cell_type": "code",
   "execution_count": 46,
   "metadata": {},
   "outputs": [
    {
     "name": "stdout",
     "output_type": "stream",
     "text": [
      "Confusion Matrix for Train Data:\n",
      "[[30825  1644]\n",
      " [ 2771  4833]]\n",
      "Confusion Matrix for Test Data:\n",
      "[[13242   674]\n",
      " [ 1194  2065]]\n"
     ]
    }
   ],
   "source": [
    "mlp25_test_pred = mlp25.predict_classes(X_test)\n",
    "mlp25_train_pred = mlp25.predict_classes(X_train)\n",
    "\n",
    "mlp25_confusion_matrix_test = confusion_matrix(y_test, mlp25_test_pred)\n",
    "mlp25_confusion_matrix_train = confusion_matrix(y_train, mlp25_train_pred)\n",
    "\n",
    "print(\"Confusion Matrix for Train Data:\")\n",
    "print(mlp25_confusion_matrix_train)\n",
    "print(\"Confusion Matrix for Test Data:\")\n",
    "print(mlp25_confusion_matrix_test)\n"
   ]
  },
  {
   "cell_type": "markdown",
   "metadata": {},
   "source": [
    "#### Calculate Accuracy, True Positive Rate and True Negative Rates"
   ]
  },
  {
   "cell_type": "markdown",
   "metadata": {},
   "source": [
    "Observation:\n",
    "\n",
    "    Based on the TPR, 2 layer MLP with 25 nodes hidden layer is best"
   ]
  },
  {
   "cell_type": "code",
   "execution_count": 47,
   "metadata": {},
   "outputs": [
    {
     "name": "stdout",
     "output_type": "stream",
     "text": [
      "Train TNR:  0.9493670886075949\n",
      "Train TPR:  0.6355865334034718\n",
      "Train Accuracy:  0.8898260674269458\n",
      "-----------------------\n",
      "Test TNR:  0.9515665421098016\n",
      "Test TPR:  0.6336299478367597\n",
      "Test Accuracy:  0.8912372634643377\n"
     ]
    }
   ],
   "source": [
    "##### Train Test Accuracy, True Negative Rate and True Positive Rate\n",
    "\n",
    "mlp25_Accuracy_Train = (mlp25_confusion_matrix_train[0,0]+\n",
    "                        mlp25_confusion_matrix_train[1,1])/(\n",
    "                        mlp25_confusion_matrix_train[0,0]+\n",
    "                        mlp25_confusion_matrix_train[0,1]+\n",
    "                        mlp25_confusion_matrix_train[1,0]+\n",
    "                        mlp25_confusion_matrix_train[1,1])\n",
    "    \n",
    "mlp25_TNR_Train = mlp25_confusion_matrix_train[0,0]/(\n",
    "                    mlp25_confusion_matrix_train[0,0]+\n",
    "                    mlp25_confusion_matrix_train[0,1])\n",
    "\n",
    "mlp25_TPR_Train = mlp25_confusion_matrix_train[1,1]/(\n",
    "                    mlp25_confusion_matrix_train[1,0]+\n",
    "                    mlp25_confusion_matrix_train[1,1])\n",
    "\n",
    "print(\"Train TNR: \",mlp25_TNR_Train)\n",
    "print(\"Train TPR: \",mlp25_TPR_Train)\n",
    "print(\"Train Accuracy: \",mlp25_Accuracy_Train)\n",
    "\n",
    "print(\"-----------------------\")\n",
    "\n",
    "mlp25_Accuracy_Test = (mlp25_confusion_matrix_test[0,0]+\n",
    "                        mlp25_confusion_matrix_test[1,1])/(\n",
    "                        mlp25_confusion_matrix_test[0,0]+\n",
    "                        mlp25_confusion_matrix_test[0,1]+\n",
    "                        mlp25_confusion_matrix_test[1,0]+\n",
    "                        mlp25_confusion_matrix_test[1,1])\n",
    "    \n",
    "mlp25_TNR_Test = mlp25_confusion_matrix_test[0,0]/(\n",
    "                    mlp25_confusion_matrix_test[0,0]+\n",
    "                    mlp25_confusion_matrix_test[0,1])\n",
    "\n",
    "mlp25_TPR_Test = mlp25_confusion_matrix_test[1,1]/(\n",
    "                    mlp25_confusion_matrix_test[1,0]+\n",
    "                    mlp25_confusion_matrix_test[1,1])\n",
    "\n",
    "print(\"Test TNR: \",mlp25_TNR_Test)\n",
    "print(\"Test TPR: \",mlp25_TPR_Test)\n",
    "print(\"Test Accuracy: \",mlp25_Accuracy_Test)\n"
   ]
  },
  {
   "cell_type": "markdown",
   "metadata": {},
   "source": [
    "### MLP with 3 layers\n",
    "\n",
    "    1st hidden layer with 25 neurons\n",
    "    2nd hidden layer with 15 neurons"
   ]
  },
  {
   "cell_type": "code",
   "execution_count": 48,
   "metadata": {},
   "outputs": [
    {
     "name": "stdout",
     "output_type": "stream",
     "text": [
      "Train on 32058 samples, validate on 8015 samples\n",
      "Epoch 1/10\n",
      "32058/32058 [==============================] - 1s 30us/step - loss: 1.5740 - accuracy: 0.8286 - val_loss: 0.9273 - val_accuracy: 0.8432\n",
      "Epoch 2/10\n",
      "32058/32058 [==============================] - 1s 25us/step - loss: 0.6344 - accuracy: 0.8639 - val_loss: 0.3866 - val_accuracy: 0.8818\n",
      "Epoch 3/10\n",
      "32058/32058 [==============================] - 1s 25us/step - loss: 0.5644 - accuracy: 0.8735 - val_loss: 0.5795 - val_accuracy: 0.8802\n",
      "Epoch 4/10\n",
      "32058/32058 [==============================] - 1s 25us/step - loss: 0.7105 - accuracy: 0.8692 - val_loss: 0.9374 - val_accuracy: 0.8564\n",
      "Epoch 5/10\n",
      "32058/32058 [==============================] - 1s 27us/step - loss: 0.4884 - accuracy: 0.8728 - val_loss: 0.9982 - val_accuracy: 0.8791\n",
      "Epoch 6/10\n",
      "32058/32058 [==============================] - 1s 26us/step - loss: 0.4278 - accuracy: 0.8770 - val_loss: 0.3677 - val_accuracy: 0.8806\n",
      "Epoch 7/10\n",
      "32058/32058 [==============================] - 1s 27us/step - loss: 0.4238 - accuracy: 0.8764 - val_loss: 1.3770 - val_accuracy: 0.8599\n",
      "Epoch 8/10\n",
      "32058/32058 [==============================] - 1s 25us/step - loss: 0.6351 - accuracy: 0.8682 - val_loss: 0.3226 - val_accuracy: 0.8774\n",
      "Epoch 9/10\n",
      "32058/32058 [==============================] - 1s 28us/step - loss: 0.4247 - accuracy: 0.8783 - val_loss: 0.8005 - val_accuracy: 0.8707\n",
      "Epoch 10/10\n",
      "32058/32058 [==============================] - 1s 26us/step - loss: 0.7918 - accuracy: 0.8630 - val_loss: 0.3556 - val_accuracy: 0.8780\n"
     ]
    }
   ],
   "source": [
    "## MLP with 3 layers: 25 & 15 neurons:\n",
    "\n",
    "# Define MLP model:\n",
    "\n",
    "from keras import initializers\n",
    "from keras.layers.advanced_activations import LeakyReLU\n",
    "\n",
    "mlp_model_3 = Sequential()\n",
    "mlp_model_3.add(Dense(25, input_dim=21, activation='relu', kernel_initializer=initializers.RandomUniform(seed=351)))\n",
    "mlp_model_3.add(Dense(15))\n",
    "mlp_model_3.add(LeakyReLU(alpha=0.09))\n",
    "mlp_model_3.add(Dense(1, activation='sigmoid'))\n",
    "mlp_model_3.compile(loss='binary_crossentropy', optimizer='adam', metrics=['accuracy'])\n",
    "\n",
    "\n",
    "mlp_model_3_history = mlp_model_3.fit(X_train, y_train, epochs=10, batch_size=64, validation_split=0.2, use_multiprocessing=True)\n"
   ]
  },
  {
   "cell_type": "code",
   "execution_count": 49,
   "metadata": {},
   "outputs": [
    {
     "name": "stdout",
     "output_type": "stream",
     "text": [
      "dict_keys(['val_loss', 'val_accuracy', 'loss', 'accuracy'])\n"
     ]
    },
    {
     "data": {
      "image/png": "[encoded data removed]",
      "text/plain": [
       "<Figure size 432x288 with 1 Axes>"
      ]
     },
     "metadata": {
      "needs_background": "light"
     },
     "output_type": "display_data"
    },
    {
     "data": {
      "image/png": "[encoded data removed]",
      "text/plain": [
       "<Figure size 432x288 with 1 Axes>"
      ]
     },
     "metadata": {
      "needs_background": "light"
     },
     "output_type": "display_data"
    },
    {
     "name": "stdout",
     "output_type": "stream",
     "text": [
      "Model: \"sequential_5\"\n",
      "_________________________________________________________________\n",
      "Layer (type)                 Output Shape              Param #   \n",
      "=================================================================\n",
      "dense_8 (Dense)              (None, 25)                550       \n",
      "_________________________________________________________________\n",
      "dense_9 (Dense)              (None, 15)                390       \n",
      "_________________________________________________________________\n",
      "leaky_re_lu_1 (LeakyReLU)    (None, 15)                0         \n",
      "_________________________________________________________________\n",
      "dense_10 (Dense)             (None, 1)                 16        \n",
      "=================================================================\n",
      "Total params: 956\n",
      "Trainable params: 956\n",
      "Non-trainable params: 0\n",
      "_________________________________________________________________\n",
      "None\n"
     ]
    },
    {
     "data": {
      "image/png": "[encoded data removed]",
      "text/plain": [
       "<IPython.core.display.Image object>"
      ]
     },
     "execution_count": 49,
     "metadata": {},
     "output_type": "execute_result"
    }
   ],
   "source": [
    "## Plot:\n",
    "print(mlp_model_3_history.history.keys())\n",
    "\n",
    "## Accuracy:\n",
    "plt.plot(mlp_model_3_history.history['accuracy'])\n",
    "plt.plot(mlp_model_3_history.history['val_accuracy'])\n",
    "plt.title('Accuracy Plot')\n",
    "plt.ylabel('Accuracy')\n",
    "plt.xlabel('Epoch')\n",
    "plt.legend(['Train', 'Validation'])\n",
    "plt.show()\n",
    "\n",
    "## Loss:\n",
    "plt.plot(mlp_model_3_history.history['loss'])\n",
    "plt.plot(mlp_model_3_history.history['val_loss'])\n",
    "plt.title('Loss Function Plot')\n",
    "plt.ylabel('Loss')\n",
    "plt.xlabel('Epoch')\n",
    "plt.legend(['Train', 'Validation'])\n",
    "plt.show()\n",
    "\n",
    "# Get Model Summary:\n",
    "print(mlp_model_3.summary())\n",
    "\n",
    "# Vizualize the model:\n",
    "from keras.utils.vis_utils import plot_model\n",
    "\n",
    "plot_model(mlp_model_3, to_file='mlp_model_3.png', show_shapes=True, show_layer_names=True) # to_file='model_plot.png'\n"
   ]
  },
  {
   "cell_type": "markdown",
   "metadata": {},
   "source": [
    "#### Predictions"
   ]
  },
  {
   "cell_type": "markdown",
   "metadata": {},
   "source": [
    "#### Getting evaluation metrics and evaluating model performance"
   ]
  },
  {
   "cell_type": "markdown",
   "metadata": {},
   "source": [
    "#### Calculate Accuracy, True Positive Rate and True Negative Rates"
   ]
  },
  {
   "cell_type": "markdown",
   "metadata": {},
   "source": [
    "Observation:\n",
    "\n",
    "    Based on the TPR: 3 layer mlp, with 25 nodes in hidden layer 1 and 15 nodes in hidden layer 2 is the best "
   ]
  },
  {
   "cell_type": "code",
   "execution_count": 50,
   "metadata": {},
   "outputs": [
    {
     "name": "stdout",
     "output_type": "stream",
     "text": [
      "[[30428  2041]\n",
      " [ 2866  4738]]\n",
      "[[13068   848]\n",
      " [ 1207  2052]]\n",
      "Train TNR:  0.9371400412701346\n",
      "Train TPR:  0.6230931088900579\n",
      "Train Accuracy:  0.8775484740348863\n",
      "-----------------------\n",
      "Test TNR:  0.9390629491233113\n",
      "Test TPR:  0.6296409941699908\n",
      "Test Accuracy:  0.880349344978166\n"
     ]
    }
   ],
   "source": [
    "#### Predictions\n",
    "\n",
    "#### Getting evaluation metrics and evaluating model performance\n",
    "\n",
    "mlp_test_pred_3 = mlp_model_3.predict_classes(X_test)\n",
    "mlp_train_pred_3 = mlp_model_3.predict_classes(X_train)\n",
    "\n",
    "mlp_confusion_matrix_test_3 = confusion_matrix(y_test, mlp_test_pred_3)\n",
    "mlp_confusion_matrix_train_3 = confusion_matrix(y_train, mlp_train_pred_3)\n",
    "\n",
    "print(mlp_confusion_matrix_train_3)\n",
    "print(mlp_confusion_matrix_test_3)\n",
    "\n",
    "\n",
    "#### Calculate Accuracy, True Positive Rate and True Negative Rates\n",
    "\n",
    "##### Train Test Accuracy, True Negative Rate and True Positive Rate\n",
    "\n",
    "mlp_Accuracy_Train_3=(mlp_confusion_matrix_train_3[0,0]+mlp_confusion_matrix_train_3[1,1])/(mlp_confusion_matrix_train_3[0,0]+mlp_confusion_matrix_train_3[0,1]+mlp_confusion_matrix_train_3[1,0]+mlp_confusion_matrix_train_3[1,1])\n",
    "mlp_TNR_Train_3=mlp_confusion_matrix_train_3[0,0]/(mlp_confusion_matrix_train_3[0,0]+mlp_confusion_matrix_train_3[0,1])\n",
    "mlp_TPR_Train_3=mlp_confusion_matrix_train_3[1,1]/(mlp_confusion_matrix_train_3[1,0]+mlp_confusion_matrix_train_3[1,1])\n",
    "\n",
    "print(\"Train TNR: \",mlp_TNR_Train_3)\n",
    "print(\"Train TPR: \",mlp_TPR_Train_3)\n",
    "print(\"Train Accuracy: \",mlp_Accuracy_Train_3)\n",
    "\n",
    "print(\"-----------------------\")\n",
    "\n",
    "mlp_Accuracy_Test_3=(mlp_confusion_matrix_test_3[0,0]+mlp_confusion_matrix_test_3[1,1])/(mlp_confusion_matrix_test_3[0,0]+mlp_confusion_matrix_test_3[0,1]+mlp_confusion_matrix_test_3[1,0]+mlp_confusion_matrix_test_3[1,1])\n",
    "mlp_TNR_Test_3= mlp_confusion_matrix_test_3[0,0]/(mlp_confusion_matrix_test_3[0,0] + mlp_confusion_matrix_test_3[0,1])\n",
    "mlp_TPR_Test_3= mlp_confusion_matrix_test_3[1,1]/(mlp_confusion_matrix_test_3[1,0] + mlp_confusion_matrix_test_3[1,1])\n",
    "\n",
    "print(\"Test TNR: \",mlp_TNR_Test_3)\n",
    "print(\"Test TPR: \",mlp_TPR_Test_3)\n",
    "print(\"Test Accuracy: \",mlp_Accuracy_Test_3)"
   ]
  },
  {
   "cell_type": "markdown",
   "metadata": {},
   "source": [
    "### MLP with 3 layers\n",
    "\n",
    "    1st hidden layer with 25 neurons\n",
    "    2nd hidden layer with 20 neurons"
   ]
  },
  {
   "cell_type": "code",
   "execution_count": 51,
   "metadata": {},
   "outputs": [
    {
     "name": "stdout",
     "output_type": "stream",
     "text": [
      "Train on 32058 samples, validate on 8015 samples\n",
      "Epoch 1/10\n",
      "32058/32058 [==============================] - 1s 40us/step - loss: 0.5041 - accuracy: 0.8540 - val_loss: 0.3993 - val_accuracy: 0.8755\n",
      "Epoch 2/10\n",
      "32058/32058 [==============================] - 1s 33us/step - loss: 0.5029 - accuracy: 0.8642 - val_loss: 0.6029 - val_accuracy: 0.8625\n",
      "Epoch 3/10\n",
      "32058/32058 [==============================] - 1s 33us/step - loss: 0.4593 - accuracy: 0.8693 - val_loss: 0.3816 - val_accuracy: 0.8818\n",
      "Epoch 4/10\n",
      "32058/32058 [==============================] - 1s 32us/step - loss: 0.4076 - accuracy: 0.8696 - val_loss: 0.3120 - val_accuracy: 0.8911\n",
      "Epoch 5/10\n",
      "32058/32058 [==============================] - 1s 33us/step - loss: 0.3353 - accuracy: 0.8767 - val_loss: 0.3687 - val_accuracy: 0.8866\n",
      "Epoch 6/10\n",
      "32058/32058 [==============================] - 1s 27us/step - loss: 0.4282 - accuracy: 0.8838 - val_loss: 0.3276 - val_accuracy: 0.8913\n",
      "Epoch 7/10\n",
      "32058/32058 [==============================] - 1s 26us/step - loss: 0.4500 - accuracy: 0.8783 - val_loss: 0.6216 - val_accuracy: 0.8830\n",
      "Epoch 8/10\n",
      "32058/32058 [==============================] - 1s 26us/step - loss: 0.5726 - accuracy: 0.8739 - val_loss: 0.3695 - val_accuracy: 0.8933\n",
      "Epoch 9/10\n",
      "32058/32058 [==============================] - 1s 30us/step - loss: 0.3601 - accuracy: 0.8869 - val_loss: 0.3291 - val_accuracy: 0.8928\n",
      "Epoch 10/10\n",
      "32058/32058 [==============================] - 1s 34us/step - loss: 0.2962 - accuracy: 0.8925 - val_loss: 0.3013 - val_accuracy: 0.8897\n"
     ]
    }
   ],
   "source": [
    "## MLP with 3 layers: 25 & 20 neurons:\n",
    "\n",
    "# Define MLP model:\n",
    "\n",
    "from keras import initializers\n",
    "from keras.layers.advanced_activations import LeakyReLU\n",
    "\n",
    "mlp_model_25_20 = Sequential()\n",
    "mlp_model_25_20.add(Dense(25, input_dim=21, activation='relu', kernel_initializer=initializers.RandomUniform(seed=351)))\n",
    "mlp_model_25_20.add(Dense(20))\n",
    "mlp_model_25_20.add(LeakyReLU(alpha=0.09))\n",
    "mlp_model_25_20.add(Dense(1, activation='sigmoid'))\n",
    "mlp_model_25_20.compile(loss='binary_crossentropy', optimizer='adam', metrics=['accuracy'])\n",
    "\n",
    "\n",
    "mlp_model_25_20_history = mlp_model_25_20.fit(X_train, y_train, epochs=10, batch_size=64, validation_split=0.2, use_multiprocessing=True)\n"
   ]
  },
  {
   "cell_type": "code",
   "execution_count": 52,
   "metadata": {},
   "outputs": [
    {
     "name": "stdout",
     "output_type": "stream",
     "text": [
      "dict_keys(['val_loss', 'val_accuracy', 'loss', 'accuracy'])\n"
     ]
    },
    {
     "data": {
      "image/png": "[encoded data removed]",
      "text/plain": [
       "<Figure size 432x288 with 1 Axes>"
      ]
     },
     "metadata": {
      "needs_background": "light"
     },
     "output_type": "display_data"
    },
    {
     "data": {
      "image/png": "[encoded data removed]",
      "text/plain": [
       "<Figure size 432x288 with 1 Axes>"
      ]
     },
     "metadata": {
      "needs_background": "light"
     },
     "output_type": "display_data"
    },
    {
     "name": "stdout",
     "output_type": "stream",
     "text": [
      "Model: \"sequential_6\"\n",
      "_________________________________________________________________\n",
      "Layer (type)                 Output Shape              Param #   \n",
      "=================================================================\n",
      "dense_11 (Dense)             (None, 25)                550       \n",
      "_________________________________________________________________\n",
      "dense_12 (Dense)             (None, 20)                520       \n",
      "_________________________________________________________________\n",
      "leaky_re_lu_2 (LeakyReLU)    (None, 20)                0         \n",
      "_________________________________________________________________\n",
      "dense_13 (Dense)             (None, 1)                 21        \n",
      "=================================================================\n",
      "Total params: 1,091\n",
      "Trainable params: 1,091\n",
      "Non-trainable params: 0\n",
      "_________________________________________________________________\n",
      "None\n"
     ]
    },
    {
     "data": {
      "image/png": "[encoded data removed]",
      "text/plain": [
       "<IPython.core.display.Image object>"
      ]
     },
     "execution_count": 52,
     "metadata": {},
     "output_type": "execute_result"
    }
   ],
   "source": [
    "## Plot:\n",
    "print(mlp_model_25_20_history.history.keys())\n",
    "\n",
    "## Accuracy:\n",
    "plt.plot(mlp_model_25_20_history.history['accuracy'])\n",
    "plt.plot(mlp_model_25_20_history.history['val_accuracy'])\n",
    "plt.title('Accuracy Plot')\n",
    "plt.ylabel('Accuracy')\n",
    "plt.xlabel('Epoch')\n",
    "plt.legend(['Train', 'Validation'])\n",
    "plt.show()\n",
    "\n",
    "## Loss:\n",
    "plt.plot(mlp_model_25_20_history.history['loss'])\n",
    "plt.plot(mlp_model_25_20_history.history['val_loss'])\n",
    "plt.title('Loss Function Plot')\n",
    "plt.ylabel('Loss')\n",
    "plt.xlabel('Epoch')\n",
    "plt.legend(['Train', 'Validation'])\n",
    "plt.show()\n",
    "\n",
    "# Get Model Summary:\n",
    "print(mlp_model_25_20.summary())\n",
    "\n",
    "# Vizualize the model:\n",
    "from keras.utils.vis_utils import plot_model\n",
    "\n",
    "plot_model(mlp_model_25_20, to_file='mlp_model_20_25.png', show_shapes=True, show_layer_names=True) # to_file='model_plot.png'\n"
   ]
  },
  {
   "cell_type": "markdown",
   "metadata": {},
   "source": [
    "#### Predictions"
   ]
  },
  {
   "cell_type": "markdown",
   "metadata": {},
   "source": [
    "#### Getting evaluation metrics and evaluating model performance"
   ]
  },
  {
   "cell_type": "markdown",
   "metadata": {},
   "source": [
    "#### Calculate Accuracy, True Positive Rate and True Negative Rates"
   ]
  },
  {
   "cell_type": "code",
   "execution_count": 53,
   "metadata": {},
   "outputs": [
    {
     "name": "stdout",
     "output_type": "stream",
     "text": [
      "[[30983  1486]\n",
      " [ 2901  4703]]\n",
      "[[13323   593]\n",
      " [ 1235  2024]]\n",
      "Train TNR:  0.9542332686562567\n",
      "Train TPR:  0.6184902682798528\n",
      "Train Accuracy:  0.8905247922541362\n",
      "-----------------------\n",
      "Test TNR:  0.9573871802242023\n",
      "Test TPR:  0.62104940165695\n",
      "Test Accuracy:  0.893566229985444\n"
     ]
    }
   ],
   "source": [
    "#### Predictions\n",
    "\n",
    "#### Getting evaluation metrics and evaluating model performance\n",
    "\n",
    "mlp_test_pred_25_20 = mlp_model_25_20.predict_classes(X_test)\n",
    "mlp_train_pred_25_20 = mlp_model_25_20.predict_classes(X_train)\n",
    "\n",
    "mlp_confusion_matrix_test_25_20 = confusion_matrix(y_test, mlp_test_pred_25_20)\n",
    "mlp_confusion_matrix_train_25_20 = confusion_matrix(y_train, mlp_train_pred_25_20)\n",
    "\n",
    "print(mlp_confusion_matrix_train_25_20)\n",
    "print(mlp_confusion_matrix_test_25_20)\n",
    "\n",
    "\n",
    "#### Calculate Accuracy, True Positive Rate and True Negative Rates\n",
    "\n",
    "##### Train Test Accuracy, True Negative Rate and True Positive Rate\n",
    "\n",
    "mlp_Accuracy_Train_25_20=(mlp_confusion_matrix_train_25_20[0,0]+mlp_confusion_matrix_train_25_20[1,1])/(mlp_confusion_matrix_train_25_20[0,0]+mlp_confusion_matrix_train_25_20[0,1]+mlp_confusion_matrix_train_25_20[1,0]+mlp_confusion_matrix_train_25_20[1,1])\n",
    "mlp_TNR_Train_25_20=mlp_confusion_matrix_train_25_20[0,0]/(mlp_confusion_matrix_train_25_20[0,0]+mlp_confusion_matrix_train_25_20[0,1])\n",
    "mlp_TPR_Train_25_20=mlp_confusion_matrix_train_25_20[1,1]/(mlp_confusion_matrix_train_25_20[1,0]+mlp_confusion_matrix_train_25_20[1,1])\n",
    "\n",
    "print(\"Train TNR: \",mlp_TNR_Train_25_20)\n",
    "print(\"Train TPR: \",mlp_TPR_Train_25_20)\n",
    "print(\"Train Accuracy: \",mlp_Accuracy_Train_25_20)\n",
    "\n",
    "print(\"-----------------------\")\n",
    "\n",
    "mlp_Accuracy_Test_25_20=(mlp_confusion_matrix_test_25_20[0,0]+mlp_confusion_matrix_test_25_20[1,1])/(mlp_confusion_matrix_test_25_20[0,0]+mlp_confusion_matrix_test_25_20[0,1]+mlp_confusion_matrix_test_25_20[1,0]+mlp_confusion_matrix_test_25_20[1,1])\n",
    "mlp_TNR_Test_25_20= mlp_confusion_matrix_test_25_20[0,0]/(mlp_confusion_matrix_test_25_20[0,0] + mlp_confusion_matrix_test_25_20[0,1])\n",
    "mlp_TPR_Test_25_20= mlp_confusion_matrix_test_25_20[1,1]/(mlp_confusion_matrix_test_25_20[1,0] + mlp_confusion_matrix_test_25_20[1,1])\n",
    "\n",
    "print(\"Test TNR: \",mlp_TNR_Test_25_20)\n",
    "print(\"Test TPR: \",mlp_TPR_Test_25_20)\n",
    "print(\"Test Accuracy: \",mlp_Accuracy_Test_25_20)"
   ]
  },
  {
   "cell_type": "code",
   "execution_count": 54,
   "metadata": {},
   "outputs": [
    {
     "name": "stdout",
     "output_type": "stream",
     "text": [
      "[0.6710647437864375, 0.7094200675053698, 0.0, 0.6336299478367597, 0.6296409941699908, 0.62104940165695]\n",
      "\n",
      "[0.8942943374532911, 0.9221040528887612, 1.0, 0.9515665421098016, 0.9390629491233113, 0.9573871802242023]\n",
      "\n",
      "[0.8519359534206695, 0.8817467248908297, 0.8102474526928676, 0.8912372634643377, 0.880349344978166, 0.893566229985444]\n"
     ]
    }
   ],
   "source": [
    "#np.logspace(0.0001,1,8, base=0.5)\n",
    "#np.logspace(-3,-1,8)\n",
    "#np.exp(-3)\n",
    "tpr=[TPR_Test,mlp_TPR_Test_15,mlp_TPR_Test,\n",
    "     mlp25_TPR_Test,mlp_TPR_Test_3, mlp_TPR_Test_25_20]\n",
    "print(tpr)\n",
    "print()\n",
    "\n",
    "tnr=[TNR_Test,mlp_TNR_Test_15,mlp_TNR_Test,\n",
    "     mlp25_TNR_Test,mlp_TNR_Test_3, mlp_TNR_Test_25_20]\n",
    "print(tnr)\n",
    "print()\n",
    "\n",
    "models_l = ['Perceptron','MLP_15_neurons','MLP_20_neurons',\n",
    "            'MLP_25_neurons','MLP_25_15_neurons','MLP_25_20_neurons']\n",
    "\n",
    "accuracy=[Accuracy_Test, mlp_Accuracy_Test_15,\n",
    "         mlp_Accuracy_Test, mlp25_Accuracy_Test,\n",
    "         mlp_Accuracy_Test_3, mlp_Accuracy_Test_25_20]\n",
    "print(accuracy)\n"
   ]
  },
  {
   "cell_type": "code",
   "execution_count": 55,
   "metadata": {},
   "outputs": [],
   "source": [
    "best_model = pd.DataFrame(list(zip(models_l, accuracy, tpr, tnr)), \n",
    "             columns=(['Model_type','Accuracy','TPR','TNR']))\n"
   ]
  },
  {
   "cell_type": "code",
   "execution_count": 56,
   "metadata": {},
   "outputs": [
    {
     "data": {
      "text/html": [
       "<div>\n",
       "<style scoped>\n",
       "    .dataframe tbody tr th:only-of-type {\n",
       "        vertical-align: middle;\n",
       "    }\n",
       "\n",
       "    .dataframe tbody tr th {\n",
       "        vertical-align: top;\n",
       "    }\n",
       "\n",
       "    .dataframe thead th {\n",
       "        text-align: right;\n",
       "    }\n",
       "</style>\n",
       "<table border=\"1\" class=\"dataframe\">\n",
       "  <thead>\n",
       "    <tr style=\"text-align: right;\">\n",
       "      <th></th>\n",
       "      <th>Model_type</th>\n",
       "      <th>Accuracy</th>\n",
       "      <th>TPR</th>\n",
       "      <th>TNR</th>\n",
       "    </tr>\n",
       "  </thead>\n",
       "  <tbody>\n",
       "    <tr>\n",
       "      <th>0</th>\n",
       "      <td>Perceptron</td>\n",
       "      <td>0.851936</td>\n",
       "      <td>0.671065</td>\n",
       "      <td>0.894294</td>\n",
       "    </tr>\n",
       "    <tr>\n",
       "      <th>1</th>\n",
       "      <td>MLP_15_neurons</td>\n",
       "      <td>0.881747</td>\n",
       "      <td>0.709420</td>\n",
       "      <td>0.922104</td>\n",
       "    </tr>\n",
       "    <tr>\n",
       "      <th>2</th>\n",
       "      <td>MLP_20_neurons</td>\n",
       "      <td>0.810247</td>\n",
       "      <td>0.000000</td>\n",
       "      <td>1.000000</td>\n",
       "    </tr>\n",
       "    <tr>\n",
       "      <th>3</th>\n",
       "      <td>MLP_25_neurons</td>\n",
       "      <td>0.891237</td>\n",
       "      <td>0.633630</td>\n",
       "      <td>0.951567</td>\n",
       "    </tr>\n",
       "    <tr>\n",
       "      <th>4</th>\n",
       "      <td>MLP_25_15_neurons</td>\n",
       "      <td>0.880349</td>\n",
       "      <td>0.629641</td>\n",
       "      <td>0.939063</td>\n",
       "    </tr>\n",
       "    <tr>\n",
       "      <th>5</th>\n",
       "      <td>MLP_25_20_neurons</td>\n",
       "      <td>0.893566</td>\n",
       "      <td>0.621049</td>\n",
       "      <td>0.957387</td>\n",
       "    </tr>\n",
       "  </tbody>\n",
       "</table>\n",
       "</div>"
      ],
      "text/plain": [
       "          Model_type  Accuracy       TPR       TNR\n",
       "0         Perceptron  0.851936  0.671065  0.894294\n",
       "1     MLP_15_neurons  0.881747  0.709420  0.922104\n",
       "2     MLP_20_neurons  0.810247  0.000000  1.000000\n",
       "3     MLP_25_neurons  0.891237  0.633630  0.951567\n",
       "4  MLP_25_15_neurons  0.880349  0.629641  0.939063\n",
       "5  MLP_25_20_neurons  0.893566  0.621049  0.957387"
      ]
     },
     "execution_count": 56,
     "metadata": {},
     "output_type": "execute_result"
    }
   ],
   "source": [
    "best_model"
   ]
  },
  {
   "cell_type": "code",
   "execution_count": 57,
   "metadata": {},
   "outputs": [],
   "source": [
    "best_tpr_v = best_model.sort_values('TPR',ascending=False).reset_index().drop('index',axis=1).iloc[0][0]"
   ]
  },
  {
   "cell_type": "code",
   "execution_count": 58,
   "metadata": {},
   "outputs": [
    {
     "data": {
      "text/plain": [
       "'MLP_15_neurons'"
      ]
     },
     "execution_count": 58,
     "metadata": {},
     "output_type": "execute_result"
    }
   ],
   "source": [
    "best_tpr_v"
   ]
  },
  {
   "cell_type": "code",
   "execution_count": 59,
   "metadata": {},
   "outputs": [
    {
     "name": "stdout",
     "output_type": "stream",
     "text": [
      "Observation:\n",
      "Based on the TPR, following model is the best: MLP_15_neurons\n"
     ]
    }
   ],
   "source": [
    "print(\"Observation:\")\n",
    "print(\"Based on the TPR, following model is the best: \"+best_tpr_v)\n"
   ]
  },
  {
   "cell_type": "markdown",
   "metadata": {},
   "source": [
    "## Find best parameter"
   ]
  },
  {
   "cell_type": "markdown",
   "metadata": {},
   "source": [
    "### Find the best Learning rate"
   ]
  },
  {
   "cell_type": "markdown",
   "metadata": {},
   "source": [
    "    Using logarithmic scale randomly generate values between 0.0001 to 1 "
   ]
  },
  {
   "cell_type": "code",
   "execution_count": 60,
   "metadata": {},
   "outputs": [
    {
     "data": {
      "text/plain": [
       "array([0.001     , 0.0019307 , 0.00372759, 0.00719686, 0.01389495,\n",
       "       0.02682696, 0.05179475, 0.1       ])"
      ]
     },
     "execution_count": 60,
     "metadata": {},
     "output_type": "execute_result"
    }
   ],
   "source": [
    "#l_rate = np.logspace(0.0001,1,8)\n",
    "#l_rate = 10**(-2.3 * np.random.rand(6))\n",
    "l_rate = np.logspace(-3,-1,8)\n",
    "l_rate\n"
   ]
  },
  {
   "cell_type": "code",
   "execution_count": 61,
   "metadata": {},
   "outputs": [],
   "source": [
    "from keras.optimizers import Adam, SGD\n",
    "from sklearn.model_selection import GridSearchCV"
   ]
  },
  {
   "cell_type": "code",
   "execution_count": 62,
   "metadata": {},
   "outputs": [],
   "source": [
    "def tune_l_rate(l_rate=0.01):\n",
    "    \n",
    "    # Create a model:\n",
    "    ['Perceptron','MLP_15_neurons','MLP_20_neurons',\n",
    "            'MLP_25_neurons','MLP_25_15_neurons','MLP_25_20_neurons']\n",
    "    \n",
    "    if best_tpr_v=='Perceptron':\n",
    "        tuned_model = Sequential()\n",
    "        tuned_model.add(Dense(1, input_dim=21, activation='sigmoid', kernel_initializer='normal'))\n",
    "        optimizer = SGD(lr=l_rate)\n",
    "    \n",
    "    elif best_tpr_v=='MLP_15_neurons':\n",
    "        tuned_model = Sequential()\n",
    "        tuned_model.add(Dense(15, input_dim=21, activation='tanh', kernel_initializer=initializers.RandomUniform(seed=123)))\n",
    "        tuned_model.add(Dense(1, activation='sigmoid'))\n",
    "        optimizer = SGD(lr=l_rate)\n",
    "\n",
    "    elif best_tpr_v=='MLP_20_neurons':\n",
    "        tuned_model = Sequential()\n",
    "        tuned_model.add(Dense(20, input_dim=21, activation='relu', kernel_initializer=initializers.RandomUniform(seed=123)))\n",
    "        tuned_model.add(Dense(1, activation='sigmoid'))\n",
    "        optimizer = SGD(lr=l_rate)\n",
    "        \n",
    "    elif best_tpr_v=='MLP_25_neurons':\n",
    "        tuned_model = Sequential()\n",
    "        tuned_model.add(Dense(25, input_dim=21, activation='sigmoid', kernel_initializer=initializers.RandomUniform(seed=351)))\n",
    "        tuned_model.add(Dense(1, activation='sigmoid'))\n",
    "        optimizer = SGD(lr=l_rate)\n",
    "        \n",
    "    elif best_tpr_v=='MLP_25_15_neurons':\n",
    "        tuned_model = Sequential()\n",
    "        tuned_model.add(Dense(25, input_dim=21, activation='relu', kernel_initializer=initializers.RandomUniform(seed=351)))\n",
    "        tuned_model.add(Dense(15))\n",
    "        tuned_model.add(LeakyReLU(alpha=0.09))\n",
    "        tuned_model.add(Dense(1, activation='sigmoid'))\n",
    "        optimizer = Adam(lr=l_rate)\n",
    "\n",
    "    elif best_tpr_v=='MLP_25_20_neurons':\n",
    "        tuned_model = Sequential()\n",
    "        tuned_model.add(Dense(25, input_dim=21, activation='relu', kernel_initializer=initializers.RandomUniform(seed=351)))\n",
    "        tuned_model.add(Dense(20))\n",
    "        tuned_model.add(LeakyReLU(alpha=0.09))\n",
    "        tuned_model.add(Dense(1, activation='sigmoid'))\n",
    "        optimizer = Adam(lr=l_rate)\n",
    "    \n",
    "    # Compile Model:\n",
    "    tuned_model.compile(loss='binary_crossentropy', optimizer=optimizer, metrics=['accuracy'])\n",
    "\n",
    "    return tuned_model\n"
   ]
  },
  {
   "cell_type": "code",
   "execution_count": 63,
   "metadata": {},
   "outputs": [
    {
     "name": "stdout",
     "output_type": "stream",
     "text": [
      "Train on 32058 samples, validate on 8015 samples\n",
      "Epoch 1/1\n",
      "32058/32058 [==============================] - 1s 25us/step - loss: 0.3355 - accuracy: 0.8545 - val_loss: 0.2934 - val_accuracy: 0.8803\n",
      "Train on 32058 samples, validate on 8015 samples\n",
      "Epoch 1/1\n",
      "32058/32058 [==============================] - 1s 26us/step - loss: 0.3288 - accuracy: 0.8490 - val_loss: 0.2946 - val_accuracy: 0.8711\n",
      "Train on 32058 samples, validate on 8015 samples\n",
      "Epoch 1/1\n",
      "32058/32058 [==============================] - 1s 24us/step - loss: 0.3270 - accuracy: 0.8533 - val_loss: 0.2972 - val_accuracy: 0.8740\n",
      "Train on 32058 samples, validate on 8015 samples\n",
      "Epoch 1/1\n",
      "32058/32058 [==============================] - 1s 25us/step - loss: 0.3170 - accuracy: 0.8534 - val_loss: 0.2850 - val_accuracy: 0.8857\n",
      "Train on 32058 samples, validate on 8015 samples\n",
      "Epoch 1/1\n",
      "32058/32058 [==============================] - 1s 36us/step - loss: 0.3235 - accuracy: 0.8412 - val_loss: 0.2939 - val_accuracy: 0.8816\n",
      "Train on 32058 samples, validate on 8015 samples\n",
      "Epoch 1/1\n",
      "32058/32058 [==============================] - 1s 23us/step - loss: 0.3375 - accuracy: 0.8315 - val_loss: 0.3347 - val_accuracy: 0.8187\n",
      "Train on 32058 samples, validate on 8015 samples\n",
      "Epoch 1/1\n",
      "32058/32058 [==============================] - 1s 24us/step - loss: 0.3374 - accuracy: 0.8293 - val_loss: 0.3045 - val_accuracy: 0.8653\n",
      "Train on 32058 samples, validate on 8015 samples\n",
      "Epoch 1/1\n",
      "32058/32058 [==============================] - 1s 23us/step - loss: 0.3287 - accuracy: 0.8359 - val_loss: 0.4337 - val_accuracy: 0.8061\n"
     ]
    }
   ],
   "source": [
    "hist_loss=[]\n",
    "hist_acc=[]\n",
    "\n",
    "for l_rate_v in l_rate:\n",
    "    \n",
    "    tuned_model = tune_l_rate(l_rate_v)\n",
    "    \n",
    "    #Fit the model\n",
    "    tuned_model_history = tuned_model.fit(X_train, y_train, epochs=1,\n",
    "                                       batch_size=64, validation_split=0.2,\n",
    "                                       use_multiprocessing=True)\n",
    "\n",
    "    \n",
    "    hist_loss.append(tuned_model_history.history['val_loss'])\n",
    "    hist_acc.append(tuned_model_history.history['val_accuracy'])"
   ]
  },
  {
   "cell_type": "code",
   "execution_count": 64,
   "metadata": {
    "scrolled": true
   },
   "outputs": [
    {
     "data": {
      "text/html": [
       "<div>\n",
       "<style scoped>\n",
       "    .dataframe tbody tr th:only-of-type {\n",
       "        vertical-align: middle;\n",
       "    }\n",
       "\n",
       "    .dataframe tbody tr th {\n",
       "        vertical-align: top;\n",
       "    }\n",
       "\n",
       "    .dataframe thead th {\n",
       "        text-align: right;\n",
       "    }\n",
       "</style>\n",
       "<table border=\"1\" class=\"dataframe\">\n",
       "  <thead>\n",
       "    <tr style=\"text-align: right;\">\n",
       "      <th></th>\n",
       "      <th>l_rate</th>\n",
       "      <th>val_loss</th>\n",
       "      <th>val_accuracy</th>\n",
       "    </tr>\n",
       "  </thead>\n",
       "  <tbody>\n",
       "    <tr>\n",
       "      <th>0</th>\n",
       "      <td>0.00719686</td>\n",
       "      <td>[0.28501631983428616]</td>\n",
       "      <td>[0.8857142925262451]</td>\n",
       "    </tr>\n",
       "    <tr>\n",
       "      <th>1</th>\n",
       "      <td>0.001</td>\n",
       "      <td>[0.2934058461089619]</td>\n",
       "      <td>[0.880349338054657]</td>\n",
       "    </tr>\n",
       "    <tr>\n",
       "      <th>2</th>\n",
       "      <td>0.013895</td>\n",
       "      <td>[0.2938799406354753]</td>\n",
       "      <td>[0.8815969824790955]</td>\n",
       "    </tr>\n",
       "    <tr>\n",
       "      <th>3</th>\n",
       "      <td>0.0019307</td>\n",
       "      <td>[0.2946369007871215]</td>\n",
       "      <td>[0.8711166381835938]</td>\n",
       "    </tr>\n",
       "    <tr>\n",
       "      <th>4</th>\n",
       "      <td>0.00372759</td>\n",
       "      <td>[0.2972489592959118]</td>\n",
       "      <td>[0.8739863038063049]</td>\n",
       "    </tr>\n",
       "    <tr>\n",
       "      <th>5</th>\n",
       "      <td>0.0517947</td>\n",
       "      <td>[0.30451935108795214]</td>\n",
       "      <td>[0.865252673625946]</td>\n",
       "    </tr>\n",
       "    <tr>\n",
       "      <th>6</th>\n",
       "      <td>0.026827</td>\n",
       "      <td>[0.3346531877834501]</td>\n",
       "      <td>[0.8187149167060852]</td>\n",
       "    </tr>\n",
       "    <tr>\n",
       "      <th>7</th>\n",
       "      <td>0.1</td>\n",
       "      <td>[0.43365191380195295]</td>\n",
       "      <td>[0.8061135411262512]</td>\n",
       "    </tr>\n",
       "  </tbody>\n",
       "</table>\n",
       "</div>"
      ],
      "text/plain": [
       "       l_rate               val_loss          val_accuracy\n",
       "0  0.00719686  [0.28501631983428616]  [0.8857142925262451]\n",
       "1       0.001   [0.2934058461089619]   [0.880349338054657]\n",
       "2    0.013895   [0.2938799406354753]  [0.8815969824790955]\n",
       "3   0.0019307   [0.2946369007871215]  [0.8711166381835938]\n",
       "4  0.00372759   [0.2972489592959118]  [0.8739863038063049]\n",
       "5   0.0517947  [0.30451935108795214]   [0.865252673625946]\n",
       "6    0.026827   [0.3346531877834501]  [0.8187149167060852]\n",
       "7         0.1  [0.43365191380195295]  [0.8061135411262512]"
      ]
     },
     "execution_count": 64,
     "metadata": {},
     "output_type": "execute_result"
    }
   ],
   "source": [
    "# Get the Learning rate and loss Dataframe\n",
    "loss_l_rate = pd.DataFrame([l_rate, hist_loss, hist_acc]).T  \n",
    "\n",
    "#Give the coloumn names\n",
    "loss_l_rate.columns=['l_rate','val_loss','val_accuracy']\n",
    "\n",
    "#Sort the values and reset the index\n",
    "loss_l_rate=loss_l_rate.sort_values('val_loss').reset_index().drop('index',axis=1)\n",
    "loss_l_rate"
   ]
  },
  {
   "cell_type": "code",
   "execution_count": 65,
   "metadata": {},
   "outputs": [],
   "source": [
    "best_l_rate=loss_l_rate.iloc[0][0]"
   ]
  },
  {
   "cell_type": "code",
   "execution_count": 66,
   "metadata": {},
   "outputs": [
    {
     "data": {
      "text/plain": [
       "0.0071968567300115215"
      ]
     },
     "execution_count": 66,
     "metadata": {},
     "output_type": "execute_result"
    }
   ],
   "source": [
    "best_l_rate"
   ]
  },
  {
   "cell_type": "markdown",
   "metadata": {},
   "source": [
    "#### Build model with the best learning rate"
   ]
  },
  {
   "cell_type": "code",
   "execution_count": 67,
   "metadata": {},
   "outputs": [],
   "source": [
    "import tensorflow as tf"
   ]
  },
  {
   "cell_type": "code",
   "execution_count": 68,
   "metadata": {},
   "outputs": [],
   "source": [
    "# np.random.seed(123)\n",
    "# tf.random.set_seed(123)"
   ]
  },
  {
   "cell_type": "code",
   "execution_count": 69,
   "metadata": {},
   "outputs": [],
   "source": [
    "# Building Best Model with Best Learning Rate:\n",
    "# The function will give Compiled Model:\n",
    "\n",
    "l_tuned_model = tune_l_rate(best_l_rate)"
   ]
  },
  {
   "cell_type": "code",
   "execution_count": 70,
   "metadata": {},
   "outputs": [
    {
     "name": "stdout",
     "output_type": "stream",
     "text": [
      "Model: \"sequential_15\"\n",
      "_________________________________________________________________\n",
      "Layer (type)                 Output Shape              Param #   \n",
      "=================================================================\n",
      "dense_30 (Dense)             (None, 15)                330       \n",
      "_________________________________________________________________\n",
      "dense_31 (Dense)             (None, 1)                 16        \n",
      "=================================================================\n",
      "Total params: 346\n",
      "Trainable params: 346\n",
      "Non-trainable params: 0\n",
      "_________________________________________________________________\n"
     ]
    }
   ],
   "source": [
    "l_tuned_model.summary()"
   ]
  },
  {
   "cell_type": "code",
   "execution_count": 71,
   "metadata": {},
   "outputs": [
    {
     "name": "stdout",
     "output_type": "stream",
     "text": [
      "Train on 32058 samples, validate on 8015 samples\n",
      "Epoch 1/100\n",
      "32058/32058 [==============================] - 1s 26us/step - loss: 0.3268 - accuracy: 0.8501 - val_loss: 0.3150 - val_accuracy: 0.8502\n",
      "Epoch 2/100\n",
      "32058/32058 [==============================] - 1s 20us/step - loss: 0.2889 - accuracy: 0.8766 - val_loss: 0.2743 - val_accuracy: 0.8873\n",
      "Epoch 3/100\n",
      "32058/32058 [==============================] - 1s 20us/step - loss: 0.2979 - accuracy: 0.8700 - val_loss: 0.2902 - val_accuracy: 0.8877\n",
      "Epoch 4/100\n",
      "32058/32058 [==============================] - 1s 21us/step - loss: 0.2922 - accuracy: 0.8692 - val_loss: 0.2885 - val_accuracy: 0.8836\n",
      "Epoch 5/100\n",
      "32058/32058 [==============================] - 1s 21us/step - loss: 0.2970 - accuracy: 0.8692 - val_loss: 0.2933 - val_accuracy: 0.8707\n",
      "Epoch 6/100\n",
      "32058/32058 [==============================] - 1s 21us/step - loss: 0.2850 - accuracy: 0.8725 - val_loss: 0.2994 - val_accuracy: 0.8620\n",
      "Epoch 7/100\n",
      "32058/32058 [==============================] - 1s 21us/step - loss: 0.2988 - accuracy: 0.8690 - val_loss: 0.3073 - val_accuracy: 0.8510\n",
      "Epoch 8/100\n",
      "32058/32058 [==============================] - 1s 21us/step - loss: 0.2998 - accuracy: 0.8586 - val_loss: 0.3071 - val_accuracy: 0.8888\n",
      "Epoch 9/100\n",
      "32058/32058 [==============================] - 1s 20us/step - loss: 0.3233 - accuracy: 0.8613 - val_loss: 0.3143 - val_accuracy: 0.8656\n",
      "Epoch 10/100\n",
      "32058/32058 [==============================] - 1s 21us/step - loss: 0.3138 - accuracy: 0.8510 - val_loss: 0.3065 - val_accuracy: 0.8843\n",
      "Epoch 11/100\n",
      "32058/32058 [==============================] - 1s 20us/step - loss: 0.2968 - accuracy: 0.8780 - val_loss: 0.3254 - val_accuracy: 0.8326\n",
      "Epoch 12/100\n",
      "32058/32058 [==============================] - 1s 20us/step - loss: 0.3099 - accuracy: 0.8697 - val_loss: 0.3468 - val_accuracy: 0.8428\n",
      "Epoch 13/100\n",
      "32058/32058 [==============================] - 1s 21us/step - loss: 0.2838 - accuracy: 0.8833 - val_loss: 0.2750 - val_accuracy: 0.8937\n",
      "Epoch 14/100\n",
      "32058/32058 [==============================] - 1s 22us/step - loss: 0.3186 - accuracy: 0.8419 - val_loss: 0.3114 - val_accuracy: 0.8739\n",
      "Epoch 15/100\n",
      "32058/32058 [==============================] - 1s 21us/step - loss: 0.2971 - accuracy: 0.8772 - val_loss: 0.2982 - val_accuracy: 0.8754\n",
      "Epoch 16/100\n",
      "32058/32058 [==============================] - 1s 21us/step - loss: 0.2813 - accuracy: 0.8837 - val_loss: 0.2816 - val_accuracy: 0.8863\n",
      "Epoch 17/100\n",
      "32058/32058 [==============================] - 1s 20us/step - loss: 0.2813 - accuracy: 0.8833 - val_loss: 0.2754 - val_accuracy: 0.8891\n",
      "Epoch 18/100\n",
      "32058/32058 [==============================] - 1s 21us/step - loss: 0.2826 - accuracy: 0.8773 - val_loss: 0.2926 - val_accuracy: 0.8796\n",
      "Epoch 19/100\n",
      "32058/32058 [==============================] - 1s 22us/step - loss: 0.2825 - accuracy: 0.8822 - val_loss: 0.2879 - val_accuracy: 0.8860\n",
      "Epoch 20/100\n",
      "32058/32058 [==============================] - 1s 21us/step - loss: 0.2764 - accuracy: 0.8846 - val_loss: 0.2790 - val_accuracy: 0.8822\n",
      "Epoch 21/100\n",
      "32058/32058 [==============================] - 1s 21us/step - loss: 0.2796 - accuracy: 0.8807 - val_loss: 0.3327 - val_accuracy: 0.8279\n",
      "Epoch 22/100\n",
      "32058/32058 [==============================] - 1s 20us/step - loss: 0.2855 - accuracy: 0.8716 - val_loss: 0.2746 - val_accuracy: 0.8910\n",
      "Epoch 23/100\n",
      "32058/32058 [==============================] - 1s 21us/step - loss: 0.2754 - accuracy: 0.8851 - val_loss: 0.2906 - val_accuracy: 0.8608\n",
      "Epoch 24/100\n",
      "32058/32058 [==============================] - 1s 20us/step - loss: 0.3309 - accuracy: 0.8501 - val_loss: 0.3763 - val_accuracy: 0.8056\n",
      "Epoch 25/100\n",
      "32058/32058 [==============================] - 1s 21us/step - loss: 0.3600 - accuracy: 0.8129 - val_loss: 0.3443 - val_accuracy: 0.8102\n",
      "Epoch 26/100\n",
      "32058/32058 [==============================] - 1s 22us/step - loss: 0.2977 - accuracy: 0.8564 - val_loss: 0.3084 - val_accuracy: 0.8096\n",
      "Epoch 27/100\n",
      "32058/32058 [==============================] - 1s 20us/step - loss: 0.2947 - accuracy: 0.8802 - val_loss: 0.2919 - val_accuracy: 0.8920\n",
      "Epoch 28/100\n",
      "32058/32058 [==============================] - 1s 22us/step - loss: 0.2897 - accuracy: 0.8798 - val_loss: 0.2831 - val_accuracy: 0.8926\n",
      "Epoch 29/100\n",
      "32058/32058 [==============================] - 1s 22us/step - loss: 0.3133 - accuracy: 0.8745 - val_loss: 0.3094 - val_accuracy: 0.8923\n",
      "Epoch 30/100\n",
      "32058/32058 [==============================] - 1s 21us/step - loss: 0.3632 - accuracy: 0.8172 - val_loss: 0.3834 - val_accuracy: 0.8056\n",
      "Epoch 31/100\n",
      "32058/32058 [==============================] - 1s 20us/step - loss: 0.3713 - accuracy: 0.8124 - val_loss: 0.3793 - val_accuracy: 0.8062\n",
      "Epoch 32/100\n",
      "32058/32058 [==============================] - 1s 20us/step - loss: 0.3521 - accuracy: 0.8302 - val_loss: 0.3236 - val_accuracy: 0.8692\n",
      "Epoch 33/100\n",
      "32058/32058 [==============================] - 1s 22us/step - loss: 0.3146 - accuracy: 0.8719 - val_loss: 0.3043 - val_accuracy: 0.8901\n",
      "Epoch 34/100\n",
      "32058/32058 [==============================] - 1s 21us/step - loss: 0.3079 - accuracy: 0.8699 - val_loss: 0.2934 - val_accuracy: 0.8949\n",
      "Epoch 35/100\n",
      "32058/32058 [==============================] - 1s 21us/step - loss: 0.2973 - accuracy: 0.8792 - val_loss: 0.2888 - val_accuracy: 0.8931\n",
      "Epoch 36/100\n",
      "32058/32058 [==============================] - 1s 21us/step - loss: 0.3063 - accuracy: 0.8732 - val_loss: 0.2934 - val_accuracy: 0.8893\n",
      "Epoch 37/100\n",
      "32058/32058 [==============================] - 1s 21us/step - loss: 0.2941 - accuracy: 0.8838 - val_loss: 0.2976 - val_accuracy: 0.8754\n",
      "Epoch 38/100\n",
      "32058/32058 [==============================] - 1s 21us/step - loss: 0.2886 - accuracy: 0.8830 - val_loss: 0.2793 - val_accuracy: 0.8976\n",
      "Epoch 39/100\n",
      "32058/32058 [==============================] - 1s 22us/step - loss: 0.2795 - accuracy: 0.8889 - val_loss: 0.2809 - val_accuracy: 0.8915\n",
      "Epoch 40/100\n",
      "32058/32058 [==============================] - 1s 20us/step - loss: 0.2934 - accuracy: 0.8785 - val_loss: 0.3925 - val_accuracy: 0.8151\n",
      "Epoch 41/100\n",
      "32058/32058 [==============================] - 1s 21us/step - loss: 0.2957 - accuracy: 0.8805 - val_loss: 0.2783 - val_accuracy: 0.8930\n",
      "Epoch 42/100\n",
      "32058/32058 [==============================] - 1s 21us/step - loss: 0.2892 - accuracy: 0.8835 - val_loss: 0.2764 - val_accuracy: 0.8926\n",
      "Epoch 43/100\n",
      "32058/32058 [==============================] - 1s 21us/step - loss: 0.3356 - accuracy: 0.8165 - val_loss: 0.4269 - val_accuracy: 0.8266\n",
      "Epoch 44/100\n",
      "32058/32058 [==============================] - 1s 21us/step - loss: 0.3276 - accuracy: 0.8525 - val_loss: 0.3701 - val_accuracy: 0.8046\n",
      "Epoch 45/100\n",
      "32058/32058 [==============================] - 1s 20us/step - loss: 0.3608 - accuracy: 0.8112 - val_loss: 0.3618 - val_accuracy: 0.8050\n",
      "Epoch 46/100\n",
      "32058/32058 [==============================] - 1s 21us/step - loss: 0.3541 - accuracy: 0.8112 - val_loss: 0.3517 - val_accuracy: 0.8052\n",
      "Epoch 47/100\n",
      "32058/32058 [==============================] - 1s 20us/step - loss: 0.3417 - accuracy: 0.8113 - val_loss: 0.3341 - val_accuracy: 0.8445\n",
      "Epoch 48/100\n",
      "32058/32058 [==============================] - 1s 20us/step - loss: 0.3247 - accuracy: 0.8525 - val_loss: 0.3267 - val_accuracy: 0.8143\n",
      "Epoch 49/100\n",
      "32058/32058 [==============================] - 1s 21us/step - loss: 0.3165 - accuracy: 0.8405 - val_loss: 0.3071 - val_accuracy: 0.8595\n",
      "Epoch 50/100\n",
      "32058/32058 [==============================] - 1s 20us/step - loss: 0.3275 - accuracy: 0.8267 - val_loss: 0.3231 - val_accuracy: 0.8188\n",
      "Epoch 51/100\n",
      "32058/32058 [==============================] - 1s 20us/step - loss: 0.3408 - accuracy: 0.8402 - val_loss: 0.3647 - val_accuracy: 0.8136\n",
      "Epoch 52/100\n",
      "32058/32058 [==============================] - 1s 20us/step - loss: 0.3299 - accuracy: 0.8544 - val_loss: 0.3671 - val_accuracy: 0.8099\n",
      "Epoch 53/100\n",
      "32058/32058 [==============================] - 1s 20us/step - loss: 0.3256 - accuracy: 0.8537 - val_loss: 0.3012 - val_accuracy: 0.8795\n",
      "Epoch 54/100\n",
      "32058/32058 [==============================] - 1s 21us/step - loss: 0.2935 - accuracy: 0.8835 - val_loss: 0.2890 - val_accuracy: 0.8913\n",
      "Epoch 55/100\n",
      "32058/32058 [==============================] - 1s 20us/step - loss: 0.3365 - accuracy: 0.8388 - val_loss: 0.3499 - val_accuracy: 0.8145\n"
     ]
    },
    {
     "name": "stdout",
     "output_type": "stream",
     "text": [
      "Epoch 56/100\n",
      "32058/32058 [==============================] - 1s 21us/step - loss: 0.3290 - accuracy: 0.8219 - val_loss: 0.3166 - val_accuracy: 0.8644\n",
      "Epoch 57/100\n",
      "32058/32058 [==============================] - 1s 21us/step - loss: 0.3196 - accuracy: 0.8608 - val_loss: 0.3052 - val_accuracy: 0.8907\n",
      "Epoch 58/100\n",
      "32058/32058 [==============================] - 1s 20us/step - loss: 0.3102 - accuracy: 0.8702 - val_loss: 0.2988 - val_accuracy: 0.8873\n",
      "Epoch 59/100\n",
      "32058/32058 [==============================] - 1s 21us/step - loss: 0.2934 - accuracy: 0.8852 - val_loss: 0.2953 - val_accuracy: 0.8805\n",
      "Epoch 60/100\n",
      "32058/32058 [==============================] - 1s 20us/step - loss: 0.3071 - accuracy: 0.8619 - val_loss: 0.3029 - val_accuracy: 0.8774\n",
      "Epoch 61/100\n",
      "32058/32058 [==============================] - 1s 21us/step - loss: 0.3533 - accuracy: 0.8273 - val_loss: 0.3460 - val_accuracy: 0.8327\n",
      "Epoch 62/100\n",
      "32058/32058 [==============================] - 1s 20us/step - loss: 0.2929 - accuracy: 0.8814 - val_loss: 0.2832 - val_accuracy: 0.8880\n",
      "Epoch 63/100\n",
      "32058/32058 [==============================] - 1s 20us/step - loss: 0.2835 - accuracy: 0.8841 - val_loss: 0.2906 - val_accuracy: 0.8745\n",
      "Epoch 64/100\n",
      "32058/32058 [==============================] - 1s 21us/step - loss: 0.2830 - accuracy: 0.8832 - val_loss: 0.2795 - val_accuracy: 0.8880\n",
      "Epoch 65/100\n",
      "32058/32058 [==============================] - 1s 22us/step - loss: 0.2872 - accuracy: 0.8770 - val_loss: 0.2815 - val_accuracy: 0.8850\n",
      "Epoch 66/100\n",
      "32058/32058 [==============================] - 1s 21us/step - loss: 0.2766 - accuracy: 0.8801 - val_loss: 0.2711 - val_accuracy: 0.8892\n",
      "Epoch 67/100\n",
      "32058/32058 [==============================] - 1s 21us/step - loss: 0.3156 - accuracy: 0.8439 - val_loss: 0.3306 - val_accuracy: 0.8152\n",
      "Epoch 68/100\n",
      "32058/32058 [==============================] - 1s 20us/step - loss: 0.3206 - accuracy: 0.8425 - val_loss: 0.3134 - val_accuracy: 0.8649\n",
      "Epoch 69/100\n",
      "32058/32058 [==============================] - 1s 21us/step - loss: 0.3035 - accuracy: 0.8509 - val_loss: 0.3146 - val_accuracy: 0.8616\n",
      "Epoch 70/100\n",
      "32058/32058 [==============================] - 1s 23us/step - loss: 0.3050 - accuracy: 0.8647 - val_loss: 0.3053 - val_accuracy: 0.8774\n",
      "Epoch 71/100\n",
      "32058/32058 [==============================] - 1s 21us/step - loss: 0.2920 - accuracy: 0.8804 - val_loss: 0.2901 - val_accuracy: 0.8896\n",
      "Epoch 72/100\n",
      "32058/32058 [==============================] - 1s 20us/step - loss: 0.3218 - accuracy: 0.8591 - val_loss: 0.3701 - val_accuracy: 0.8173\n",
      "Epoch 73/100\n",
      "32058/32058 [==============================] - 1s 20us/step - loss: 0.3240 - accuracy: 0.8575 - val_loss: 0.2875 - val_accuracy: 0.8831\n",
      "Epoch 74/100\n",
      "32058/32058 [==============================] - 1s 21us/step - loss: 0.3031 - accuracy: 0.8718 - val_loss: 0.2871 - val_accuracy: 0.8833\n",
      "Epoch 75/100\n",
      "32058/32058 [==============================] - 1s 20us/step - loss: 0.2912 - accuracy: 0.8726 - val_loss: 0.2936 - val_accuracy: 0.8715\n",
      "Epoch 76/100\n",
      "32058/32058 [==============================] - 1s 20us/step - loss: 0.2880 - accuracy: 0.8846 - val_loss: 0.2788 - val_accuracy: 0.8902\n",
      "Epoch 77/100\n",
      "32058/32058 [==============================] - 1s 21us/step - loss: 0.2757 - accuracy: 0.8901 - val_loss: 0.2772 - val_accuracy: 0.8895\n",
      "Epoch 78/100\n",
      "32058/32058 [==============================] - 1s 20us/step - loss: 0.2796 - accuracy: 0.8881 - val_loss: 0.2801 - val_accuracy: 0.8863\n",
      "Epoch 79/100\n",
      "32058/32058 [==============================] - 1s 20us/step - loss: 0.2814 - accuracy: 0.8852 - val_loss: 0.2775 - val_accuracy: 0.8956\n",
      "Epoch 80/100\n",
      "32058/32058 [==============================] - 1s 21us/step - loss: 0.2775 - accuracy: 0.8892 - val_loss: 0.2769 - val_accuracy: 0.8876\n",
      "Epoch 81/100\n",
      "32058/32058 [==============================] - 1s 20us/step - loss: 0.2932 - accuracy: 0.8787 - val_loss: 0.3509 - val_accuracy: 0.8398\n",
      "Epoch 82/100\n",
      "32058/32058 [==============================] - 1s 20us/step - loss: 0.3085 - accuracy: 0.8547 - val_loss: 0.3193 - val_accuracy: 0.8342\n",
      "Epoch 83/100\n",
      "32058/32058 [==============================] - 1s 20us/step - loss: 0.2813 - accuracy: 0.8815 - val_loss: 0.2765 - val_accuracy: 0.8905\n",
      "Epoch 84/100\n",
      "32058/32058 [==============================] - 1s 20us/step - loss: 0.3799 - accuracy: 0.8138 - val_loss: 0.3754 - val_accuracy: 0.8061\n",
      "Epoch 85/100\n",
      "32058/32058 [==============================] - 1s 21us/step - loss: 0.3627 - accuracy: 0.8162 - val_loss: 0.3627 - val_accuracy: 0.8145\n",
      "Epoch 86/100\n",
      "32058/32058 [==============================] - 1s 21us/step - loss: 0.3342 - accuracy: 0.8449 - val_loss: 0.3627 - val_accuracy: 0.8069\n",
      "Epoch 87/100\n",
      "32058/32058 [==============================] - 1s 20us/step - loss: 0.3288 - accuracy: 0.8224 - val_loss: 0.3100 - val_accuracy: 0.8303\n",
      "Epoch 88/100\n",
      "32058/32058 [==============================] - 1s 20us/step - loss: 0.2873 - accuracy: 0.8705 - val_loss: 0.2703 - val_accuracy: 0.8897\n",
      "Epoch 89/100\n",
      "32058/32058 [==============================] - 1s 22us/step - loss: 0.2781 - accuracy: 0.8890 - val_loss: 0.2770 - val_accuracy: 0.8939\n",
      "Epoch 90/100\n",
      "32058/32058 [==============================] - 1s 21us/step - loss: 0.2834 - accuracy: 0.8856 - val_loss: 0.2765 - val_accuracy: 0.8943\n",
      "Epoch 91/100\n",
      "32058/32058 [==============================] - 1s 20us/step - loss: 0.2796 - accuracy: 0.8889 - val_loss: 0.2752 - val_accuracy: 0.8902\n",
      "Epoch 92/100\n",
      "32058/32058 [==============================] - 1s 21us/step - loss: 0.2760 - accuracy: 0.8891 - val_loss: 0.2815 - val_accuracy: 0.8826\n",
      "Epoch 93/100\n",
      "32058/32058 [==============================] - 1s 23us/step - loss: 0.3274 - accuracy: 0.8593 - val_loss: 0.2773 - val_accuracy: 0.8951\n",
      "Epoch 94/100\n",
      "32058/32058 [==============================] - 1s 21us/step - loss: 0.2852 - accuracy: 0.8838 - val_loss: 0.2849 - val_accuracy: 0.8801\n",
      "Epoch 95/100\n",
      "32058/32058 [==============================] - 1s 21us/step - loss: 0.2743 - accuracy: 0.8894 - val_loss: 0.2749 - val_accuracy: 0.8925\n",
      "Epoch 96/100\n",
      "32058/32058 [==============================] - 1s 20us/step - loss: 0.2709 - accuracy: 0.8923 - val_loss: 0.2745 - val_accuracy: 0.8903\n",
      "Epoch 97/100\n",
      "32058/32058 [==============================] - 1s 20us/step - loss: 0.2806 - accuracy: 0.8842 - val_loss: 0.2774 - val_accuracy: 0.8866\n",
      "Epoch 98/100\n",
      "32058/32058 [==============================] - 1s 21us/step - loss: 0.2759 - accuracy: 0.8856 - val_loss: 0.2713 - val_accuracy: 0.8967\n",
      "Epoch 99/100\n",
      "32058/32058 [==============================] - 1s 20us/step - loss: 0.2783 - accuracy: 0.8885 - val_loss: 0.2701 - val_accuracy: 0.8963\n",
      "Epoch 100/100\n",
      "32058/32058 [==============================] - 1s 20us/step - loss: 0.2766 - accuracy: 0.8840 - val_loss: 0.2749 - val_accuracy: 0.8969\n"
     ]
    }
   ],
   "source": [
    "l_tuned_model_history = l_tuned_model.fit(X_train, y_train, epochs=100,\n",
    "                                       batch_size=64, validation_split=0.2,\n",
    "                                       use_multiprocessing=True)"
   ]
  },
  {
   "cell_type": "code",
   "execution_count": 72,
   "metadata": {},
   "outputs": [
    {
     "data": {
      "image/png": "[encoded data removed]",
      "text/plain": [
       "<Figure size 432x288 with 1 Axes>"
      ]
     },
     "metadata": {
      "needs_background": "light"
     },
     "output_type": "display_data"
    }
   ],
   "source": [
    "# Plotting Accuracy\n",
    "\n",
    "plt.plot(l_tuned_model_history.history['accuracy'])\n",
    "plt.plot(l_tuned_model_history.history['val_accuracy'])\n",
    "plt.title('Accuracy Plot')\n",
    "plt.ylabel('Accuracy')\n",
    "plt.xlabel('Epoch')\n",
    "plt.legend(['Train', 'Validation'])\n",
    "plt.show()"
   ]
  },
  {
   "cell_type": "code",
   "execution_count": 73,
   "metadata": {},
   "outputs": [
    {
     "data": {
      "image/png": "[encoded data removed]",
      "text/plain": [
       "<Figure size 432x288 with 1 Axes>"
      ]
     },
     "metadata": {
      "needs_background": "light"
     },
     "output_type": "display_data"
    }
   ],
   "source": [
    "# Plotting Loss\n",
    "\n",
    "plt.plot(l_tuned_model_history.history['loss'])\n",
    "plt.plot(l_tuned_model_history.history['val_loss'])\n",
    "plt.title('Loss Plot')\n",
    "plt.ylabel('Loss')\n",
    "plt.xlabel('Epoch')\n",
    "plt.legend(['Train', 'Validation'])\n",
    "plt.show()"
   ]
  },
  {
   "cell_type": "markdown",
   "metadata": {},
   "source": [
    "#### Predictions"
   ]
  },
  {
   "cell_type": "code",
   "execution_count": 74,
   "metadata": {},
   "outputs": [],
   "source": [
    "train_l_tuned_model = l_tuned_model.predict_classes(X_train)\n",
    "test_l_tuned_model = l_tuned_model.predict_classes(X_test)"
   ]
  },
  {
   "cell_type": "markdown",
   "metadata": {},
   "source": [
    "#### Getting evaluation metrics and evaluating model performance"
   ]
  },
  {
   "cell_type": "code",
   "execution_count": 75,
   "metadata": {},
   "outputs": [
    {
     "name": "stdout",
     "output_type": "stream",
     "text": [
      "[[30868  1601]\n",
      " [ 2530  5074]]\n",
      "[[13256   660]\n",
      " [ 1113  2146]]\n"
     ]
    }
   ],
   "source": [
    "l_confusion_matrix_train = confusion_matrix(y_train, train_l_tuned_model)\n",
    "l_confusion_matrix_test = confusion_matrix(y_test, test_l_tuned_model)\n",
    "\n",
    "print(l_confusion_matrix_train)\n",
    "print(l_confusion_matrix_test)"
   ]
  },
  {
   "cell_type": "markdown",
   "metadata": {},
   "source": [
    "#### Calculate Accuracy, True Positive Rate and True Negative Rates"
   ]
  },
  {
   "cell_type": "code",
   "execution_count": 76,
   "metadata": {},
   "outputs": [
    {
     "name": "stdout",
     "output_type": "stream",
     "text": [
      "Train TNR:  0.9506914287474206\n",
      "Train TPR:  0.6672803787480274\n",
      "Train Accuracy:  0.8969131335313054\n",
      "-----------------------\n",
      "Test TNR:  0.9525725783271055\n",
      "Test TPR:  0.6584841976066278\n",
      "Test Accuracy:  0.8967685589519651\n",
      "-----------------------\n"
     ]
    }
   ],
   "source": [
    "Accuracy_Train_l =(l_confusion_matrix_train[0,0]+l_confusion_matrix_train[1,1])/(l_confusion_matrix_train[0,0]+l_confusion_matrix_train[0,1]+l_confusion_matrix_train[1,0]+l_confusion_matrix_train[1,1])\n",
    "TNR_Train_l = l_confusion_matrix_train[0,0]/(l_confusion_matrix_train[0,0]+l_confusion_matrix_train[0,1])\n",
    "TPR_Train_l = l_confusion_matrix_train[1,1]/(l_confusion_matrix_train[1,0]+l_confusion_matrix_train[1,1])\n",
    "\n",
    "print(\"Train TNR: \",TNR_Train_l)\n",
    "print(\"Train TPR: \",TPR_Train_l)\n",
    "print(\"Train Accuracy: \",Accuracy_Train_l)\n",
    "\n",
    "print(\"-----------------------\")\n",
    "\n",
    "Accuracy_Test_l = (l_confusion_matrix_test[0,0]+l_confusion_matrix_test[1,1])/(l_confusion_matrix_test[0,0]+l_confusion_matrix_test[0,1]+l_confusion_matrix_test[1,0]+l_confusion_matrix_test[1,1])\n",
    "TNR_Test_l = l_confusion_matrix_test[0,0]/(l_confusion_matrix_test[0,0] +l_confusion_matrix_test[0,1])\n",
    "TPR_Test_l = l_confusion_matrix_test[1,1]/(l_confusion_matrix_test[1,0] +l_confusion_matrix_test[1,1])\n",
    "\n",
    "print(\"Test TNR: \",TNR_Test_l)\n",
    "print(\"Test TPR: \",TPR_Test_l)\n",
    "print(\"Test Accuracy: \",Accuracy_Test_l)\n",
    "\n",
    "print(\"-----------------------\")\n"
   ]
  },
  {
   "cell_type": "markdown",
   "metadata": {},
   "source": [
    "#### Find the best Batch size "
   ]
  },
  {
   "cell_type": "code",
   "execution_count": 77,
   "metadata": {},
   "outputs": [
    {
     "data": {
      "text/plain": [
       "[32, 64, 128, 256, 500]"
      ]
     },
     "execution_count": 77,
     "metadata": {},
     "output_type": "execute_result"
    }
   ],
   "source": [
    "#l_rate = np.logspace(0.0001,1,8)\n",
    "#l_rate = 10**(-2.3 * np.random.rand(6))\n",
    "b_size = [32, 64, 128, 256, 500]\n",
    "b_size\n"
   ]
  },
  {
   "cell_type": "code",
   "execution_count": 78,
   "metadata": {},
   "outputs": [
    {
     "name": "stdout",
     "output_type": "stream",
     "text": [
      "Train on 32058 samples, validate on 8015 samples\n",
      "Epoch 1/1\n",
      "32058/32058 [==============================] - 1s 39us/step - loss: 0.2968 - accuracy: 0.8700 - val_loss: 0.2801 - val_accuracy: 0.8926\n",
      "Train on 32058 samples, validate on 8015 samples\n",
      "Epoch 1/1\n",
      "32058/32058 [==============================] - 1s 22us/step - loss: 0.2887 - accuracy: 0.8831 - val_loss: 0.2722 - val_accuracy: 0.8946\n",
      "Train on 32058 samples, validate on 8015 samples\n",
      "Epoch 1/1\n",
      "32058/32058 [==============================] - 0s 11us/step - loss: 0.2692 - accuracy: 0.8949 - val_loss: 0.2702 - val_accuracy: 0.8952\n",
      "Train on 32058 samples, validate on 8015 samples\n",
      "Epoch 1/1\n",
      "32058/32058 [==============================] - 0s 6us/step - loss: 0.2694 - accuracy: 0.8923 - val_loss: 0.2705 - val_accuracy: 0.8952\n",
      "Train on 32058 samples, validate on 8015 samples\n",
      "Epoch 1/1\n",
      "32058/32058 [==============================] - 0s 4us/step - loss: 0.2680 - accuracy: 0.8929 - val_loss: 0.2705 - val_accuracy: 0.8948\n"
     ]
    }
   ],
   "source": [
    "b_hist_loss=[]\n",
    "b_hist_acc=[]\n",
    "\n",
    "for b_size_v in b_size:\n",
    "    \n",
    "    #Fit the model\n",
    "    b_l_tuned_model_history = l_tuned_model.fit(X_train, y_train, epochs=1,\n",
    "                                       batch_size=b_size_v, validation_split=0.2,\n",
    "                                       use_multiprocessing=True)\n",
    "\n",
    "    b_hist_loss.append(b_l_tuned_model_history.history['val_loss'])\n",
    "    b_hist_acc.append(b_l_tuned_model_history.history['val_accuracy'])"
   ]
  },
  {
   "cell_type": "code",
   "execution_count": 79,
   "metadata": {},
   "outputs": [
    {
     "data": {
      "text/html": [
       "<div>\n",
       "<style scoped>\n",
       "    .dataframe tbody tr th:only-of-type {\n",
       "        vertical-align: middle;\n",
       "    }\n",
       "\n",
       "    .dataframe tbody tr th {\n",
       "        vertical-align: top;\n",
       "    }\n",
       "\n",
       "    .dataframe thead th {\n",
       "        text-align: right;\n",
       "    }\n",
       "</style>\n",
       "<table border=\"1\" class=\"dataframe\">\n",
       "  <thead>\n",
       "    <tr style=\"text-align: right;\">\n",
       "      <th></th>\n",
       "      <th>b_size</th>\n",
       "      <th>val_loss</th>\n",
       "      <th>val_accuracy</th>\n",
       "    </tr>\n",
       "  </thead>\n",
       "  <tbody>\n",
       "    <tr>\n",
       "      <th>0</th>\n",
       "      <td>128</td>\n",
       "      <td>[0.2701838998741012]</td>\n",
       "      <td>[0.8951964974403381]</td>\n",
       "    </tr>\n",
       "    <tr>\n",
       "      <th>1</th>\n",
       "      <td>500</td>\n",
       "      <td>[0.27050521490132146]</td>\n",
       "      <td>[0.8948221802711487]</td>\n",
       "    </tr>\n",
       "    <tr>\n",
       "      <th>2</th>\n",
       "      <td>256</td>\n",
       "      <td>[0.2705338045276111]</td>\n",
       "      <td>[0.8951964974403381]</td>\n",
       "    </tr>\n",
       "    <tr>\n",
       "      <th>3</th>\n",
       "      <td>64</td>\n",
       "      <td>[0.2722331180136723]</td>\n",
       "      <td>[0.8945726752281189]</td>\n",
       "    </tr>\n",
       "    <tr>\n",
       "      <th>4</th>\n",
       "      <td>32</td>\n",
       "      <td>[0.28006285797858044]</td>\n",
       "      <td>[0.8925763964653015]</td>\n",
       "    </tr>\n",
       "  </tbody>\n",
       "</table>\n",
       "</div>"
      ],
      "text/plain": [
       "  b_size               val_loss          val_accuracy\n",
       "0    128   [0.2701838998741012]  [0.8951964974403381]\n",
       "1    500  [0.27050521490132146]  [0.8948221802711487]\n",
       "2    256   [0.2705338045276111]  [0.8951964974403381]\n",
       "3     64   [0.2722331180136723]  [0.8945726752281189]\n",
       "4     32  [0.28006285797858044]  [0.8925763964653015]"
      ]
     },
     "execution_count": 79,
     "metadata": {},
     "output_type": "execute_result"
    }
   ],
   "source": [
    "# Get the Learning rate and loss Dataframe\n",
    "b_size_t = pd.DataFrame([b_size, b_hist_loss, b_hist_acc]).T  \n",
    "\n",
    "#Give the coloumn names\n",
    "b_size_t.columns=['b_size','val_loss','val_accuracy']\n",
    "\n",
    "#Sort the values and reset the index\n",
    "b_size_t=b_size_t.sort_values('val_loss').reset_index().drop('index',axis=1)\n",
    "b_size_t"
   ]
  },
  {
   "cell_type": "code",
   "execution_count": 80,
   "metadata": {},
   "outputs": [
    {
     "data": {
      "text/plain": [
       "128"
      ]
     },
     "execution_count": 80,
     "metadata": {},
     "output_type": "execute_result"
    }
   ],
   "source": [
    "best_b_size_v=b_size_t.iloc[0][0]\n",
    "best_b_size_v"
   ]
  },
  {
   "cell_type": "markdown",
   "metadata": {},
   "source": [
    "#### Build model with the best batch size"
   ]
  },
  {
   "cell_type": "code",
   "execution_count": 81,
   "metadata": {},
   "outputs": [
    {
     "name": "stdout",
     "output_type": "stream",
     "text": [
      "Train on 32058 samples, validate on 8015 samples\n",
      "Epoch 1/100\n",
      "32058/32058 [==============================] - 0s 11us/step - loss: 0.2764 - accuracy: 0.8912 - val_loss: 0.2720 - val_accuracy: 0.8923\n",
      "Epoch 2/100\n",
      "32058/32058 [==============================] - 0s 11us/step - loss: 0.2680 - accuracy: 0.8938 - val_loss: 0.2705 - val_accuracy: 0.8947\n",
      "Epoch 3/100\n",
      "32058/32058 [==============================] - 0s 11us/step - loss: 0.2695 - accuracy: 0.8935 - val_loss: 0.2693 - val_accuracy: 0.8983\n",
      "Epoch 4/100\n",
      "32058/32058 [==============================] - 0s 11us/step - loss: 0.2690 - accuracy: 0.8935 - val_loss: 0.2705 - val_accuracy: 0.8973\n",
      "Epoch 5/100\n",
      "32058/32058 [==============================] - 0s 12us/step - loss: 0.2703 - accuracy: 0.8937 - val_loss: 0.2700 - val_accuracy: 0.8972\n",
      "Epoch 6/100\n",
      "32058/32058 [==============================] - 0s 11us/step - loss: 0.2712 - accuracy: 0.8893 - val_loss: 0.2701 - val_accuracy: 0.8957\n",
      "Epoch 7/100\n",
      "32058/32058 [==============================] - 0s 11us/step - loss: 0.2783 - accuracy: 0.8887 - val_loss: 0.2719 - val_accuracy: 0.8959\n",
      "Epoch 8/100\n",
      "32058/32058 [==============================] - 0s 11us/step - loss: 0.2973 - accuracy: 0.8791 - val_loss: 0.3996 - val_accuracy: 0.8218\n",
      "Epoch 9/100\n",
      "32058/32058 [==============================] - 0s 11us/step - loss: 0.3020 - accuracy: 0.8771 - val_loss: 0.2695 - val_accuracy: 0.8968\n",
      "Epoch 10/100\n",
      "32058/32058 [==============================] - 0s 11us/step - loss: 0.2713 - accuracy: 0.8933 - val_loss: 0.2720 - val_accuracy: 0.8930\n",
      "Epoch 11/100\n",
      "32058/32058 [==============================] - 0s 11us/step - loss: 0.2686 - accuracy: 0.8948 - val_loss: 0.2685 - val_accuracy: 0.8958\n",
      "Epoch 12/100\n",
      "32058/32058 [==============================] - 0s 11us/step - loss: 0.2703 - accuracy: 0.8918 - val_loss: 0.2842 - val_accuracy: 0.8918\n",
      "Epoch 13/100\n",
      "32058/32058 [==============================] - 0s 11us/step - loss: 0.2695 - accuracy: 0.8909 - val_loss: 0.2745 - val_accuracy: 0.8891\n",
      "Epoch 14/100\n",
      "32058/32058 [==============================] - 0s 11us/step - loss: 0.2753 - accuracy: 0.8918 - val_loss: 0.2690 - val_accuracy: 0.8962\n",
      "Epoch 15/100\n",
      "32058/32058 [==============================] - 0s 11us/step - loss: 0.2768 - accuracy: 0.8832 - val_loss: 0.2813 - val_accuracy: 0.8946\n",
      "Epoch 16/100\n",
      "32058/32058 [==============================] - 0s 11us/step - loss: 0.2740 - accuracy: 0.8864 - val_loss: 0.2892 - val_accuracy: 0.8697\n",
      "Epoch 17/100\n",
      "32058/32058 [==============================] - 0s 11us/step - loss: 0.2685 - accuracy: 0.8914 - val_loss: 0.2721 - val_accuracy: 0.8902\n",
      "Epoch 18/100\n",
      "32058/32058 [==============================] - 0s 11us/step - loss: 0.3000 - accuracy: 0.8794 - val_loss: 0.2734 - val_accuracy: 0.8954\n",
      "Epoch 19/100\n",
      "32058/32058 [==============================] - 0s 11us/step - loss: 0.2678 - accuracy: 0.8955 - val_loss: 0.2701 - val_accuracy: 0.8961\n",
      "Epoch 20/100\n",
      "32058/32058 [==============================] - 0s 11us/step - loss: 0.2675 - accuracy: 0.8930 - val_loss: 0.2694 - val_accuracy: 0.8958\n",
      "Epoch 21/100\n",
      "32058/32058 [==============================] - 0s 11us/step - loss: 0.2823 - accuracy: 0.8879 - val_loss: 0.2743 - val_accuracy: 0.8953\n",
      "Epoch 22/100\n",
      "32058/32058 [==============================] - 0s 11us/step - loss: 0.2668 - accuracy: 0.8952 - val_loss: 0.2690 - val_accuracy: 0.8962\n",
      "Epoch 23/100\n",
      "32058/32058 [==============================] - 0s 11us/step - loss: 0.2679 - accuracy: 0.8942 - val_loss: 0.2715 - val_accuracy: 0.8948\n",
      "Epoch 24/100\n",
      "32058/32058 [==============================] - 0s 11us/step - loss: 0.3625 - accuracy: 0.7923 - val_loss: 0.3749 - val_accuracy: 0.8061\n",
      "Epoch 25/100\n",
      "32058/32058 [==============================] - 0s 11us/step - loss: 0.3669 - accuracy: 0.8127 - val_loss: 0.3724 - val_accuracy: 0.8066\n",
      "Epoch 26/100\n",
      "32058/32058 [==============================] - 0s 11us/step - loss: 0.3615 - accuracy: 0.8153 - val_loss: 0.3581 - val_accuracy: 0.8242\n",
      "Epoch 27/100\n",
      "32058/32058 [==============================] - 0s 11us/step - loss: 0.3419 - accuracy: 0.8404 - val_loss: 0.3275 - val_accuracy: 0.8631\n",
      "Epoch 28/100\n",
      "32058/32058 [==============================] - 0s 11us/step - loss: 0.3052 - accuracy: 0.8802 - val_loss: 0.2976 - val_accuracy: 0.8925\n",
      "Epoch 29/100\n",
      "32058/32058 [==============================] - 0s 11us/step - loss: 0.2931 - accuracy: 0.8874 - val_loss: 0.2934 - val_accuracy: 0.8920\n",
      "Epoch 30/100\n",
      "32058/32058 [==============================] - 0s 10us/step - loss: 0.3338 - accuracy: 0.8483 - val_loss: 0.2998 - val_accuracy: 0.8896\n",
      "Epoch 31/100\n",
      "32058/32058 [==============================] - 0s 10us/step - loss: 0.2983 - accuracy: 0.8816 - val_loss: 0.2936 - val_accuracy: 0.8913\n",
      "Epoch 32/100\n",
      "32058/32058 [==============================] - 0s 11us/step - loss: 0.2853 - accuracy: 0.8904 - val_loss: 0.2920 - val_accuracy: 0.8871\n",
      "Epoch 33/100\n",
      "32058/32058 [==============================] - 0s 11us/step - loss: 0.3011 - accuracy: 0.8764 - val_loss: 0.2975 - val_accuracy: 0.8833\n",
      "Epoch 34/100\n",
      "32058/32058 [==============================] - 0s 11us/step - loss: 0.2884 - accuracy: 0.8864 - val_loss: 0.2899 - val_accuracy: 0.8897\n",
      "Epoch 35/100\n",
      "32058/32058 [==============================] - 0s 10us/step - loss: 0.3177 - accuracy: 0.8616 - val_loss: 0.3571 - val_accuracy: 0.8251\n",
      "Epoch 36/100\n",
      "32058/32058 [==============================] - 0s 11us/step - loss: 0.2900 - accuracy: 0.8841 - val_loss: 0.3635 - val_accuracy: 0.8366\n",
      "Epoch 37/100\n",
      "32058/32058 [==============================] - 0s 11us/step - loss: 0.2815 - accuracy: 0.8895 - val_loss: 0.2869 - val_accuracy: 0.8876\n",
      "Epoch 38/100\n",
      "32058/32058 [==============================] - 0s 11us/step - loss: 0.3233 - accuracy: 0.8566 - val_loss: 0.2896 - val_accuracy: 0.8911\n",
      "Epoch 39/100\n",
      "32058/32058 [==============================] - 0s 11us/step - loss: 0.2886 - accuracy: 0.8824 - val_loss: 0.2841 - val_accuracy: 0.8923\n",
      "Epoch 40/100\n",
      "32058/32058 [==============================] - 0s 11us/step - loss: 0.3299 - accuracy: 0.8476 - val_loss: 0.3645 - val_accuracy: 0.8062\n",
      "Epoch 41/100\n",
      "32058/32058 [==============================] - 0s 11us/step - loss: 0.3511 - accuracy: 0.8120 - val_loss: 0.3569 - val_accuracy: 0.8060\n",
      "Epoch 42/100\n",
      "32058/32058 [==============================] - 0s 11us/step - loss: 0.3469 - accuracy: 0.8120 - val_loss: 0.3524 - val_accuracy: 0.8061\n",
      "Epoch 43/100\n",
      "32058/32058 [==============================] - 0s 11us/step - loss: 0.3430 - accuracy: 0.8121 - val_loss: 0.3465 - val_accuracy: 0.8061\n",
      "Epoch 44/100\n",
      "32058/32058 [==============================] - 0s 11us/step - loss: 0.3382 - accuracy: 0.8122 - val_loss: 0.3366 - val_accuracy: 0.8061\n",
      "Epoch 45/100\n",
      "32058/32058 [==============================] - 0s 11us/step - loss: 0.3224 - accuracy: 0.8161 - val_loss: 0.3057 - val_accuracy: 0.8575\n",
      "Epoch 46/100\n",
      "32058/32058 [==============================] - 0s 10us/step - loss: 0.2911 - accuracy: 0.8777 - val_loss: 0.2862 - val_accuracy: 0.8865\n",
      "Epoch 47/100\n",
      "32058/32058 [==============================] - 0s 11us/step - loss: 0.2801 - accuracy: 0.8871 - val_loss: 0.2818 - val_accuracy: 0.8908\n",
      "Epoch 48/100\n",
      "32058/32058 [==============================] - 0s 10us/step - loss: 0.2762 - accuracy: 0.8909 - val_loss: 0.2794 - val_accuracy: 0.8903\n",
      "Epoch 49/100\n",
      "32058/32058 [==============================] - 0s 11us/step - loss: 0.2805 - accuracy: 0.8830 - val_loss: 0.2777 - val_accuracy: 0.8931\n",
      "Epoch 50/100\n",
      "32058/32058 [==============================] - 0s 11us/step - loss: 0.2909 - accuracy: 0.8852 - val_loss: 0.2749 - val_accuracy: 0.8954\n",
      "Epoch 51/100\n",
      "32058/32058 [==============================] - 0s 11us/step - loss: 0.2715 - accuracy: 0.8948 - val_loss: 0.2724 - val_accuracy: 0.8956\n",
      "Epoch 52/100\n",
      "32058/32058 [==============================] - 0s 11us/step - loss: 0.2700 - accuracy: 0.8943 - val_loss: 0.2720 - val_accuracy: 0.8944\n",
      "Epoch 53/100\n",
      "32058/32058 [==============================] - 0s 11us/step - loss: 0.3307 - accuracy: 0.8590 - val_loss: 0.3895 - val_accuracy: 0.8086\n",
      "Epoch 54/100\n",
      "32058/32058 [==============================] - 0s 11us/step - loss: 0.3732 - accuracy: 0.8174 - val_loss: 0.3755 - val_accuracy: 0.8133\n",
      "Epoch 55/100\n",
      "32058/32058 [==============================] - 0s 11us/step - loss: 0.3654 - accuracy: 0.8224 - val_loss: 0.3635 - val_accuracy: 0.8232\n"
     ]
    },
    {
     "name": "stdout",
     "output_type": "stream",
     "text": [
      "Epoch 56/100\n",
      "32058/32058 [==============================] - 0s 11us/step - loss: 0.3258 - accuracy: 0.8575 - val_loss: 0.2779 - val_accuracy: 0.8953\n",
      "Epoch 57/100\n",
      "32058/32058 [==============================] - 0s 11us/step - loss: 0.2906 - accuracy: 0.8755 - val_loss: 0.3416 - val_accuracy: 0.8076\n",
      "Epoch 58/100\n",
      "32058/32058 [==============================] - 0s 11us/step - loss: 0.3099 - accuracy: 0.8370 - val_loss: 0.2879 - val_accuracy: 0.8840\n",
      "Epoch 59/100\n",
      "32058/32058 [==============================] - 0s 11us/step - loss: 0.2761 - accuracy: 0.8873 - val_loss: 0.2744 - val_accuracy: 0.8963\n",
      "Epoch 60/100\n",
      "32058/32058 [==============================] - 0s 11us/step - loss: 0.2736 - accuracy: 0.8888 - val_loss: 0.2761 - val_accuracy: 0.8902\n",
      "Epoch 61/100\n",
      "32058/32058 [==============================] - 0s 11us/step - loss: 0.2709 - accuracy: 0.8938 - val_loss: 0.2719 - val_accuracy: 0.8947\n",
      "Epoch 62/100\n",
      "32058/32058 [==============================] - 0s 11us/step - loss: 0.2697 - accuracy: 0.8938 - val_loss: 0.2704 - val_accuracy: 0.8968\n",
      "Epoch 63/100\n",
      "32058/32058 [==============================] - 0s 11us/step - loss: 0.2687 - accuracy: 0.8957 - val_loss: 0.2710 - val_accuracy: 0.8978\n",
      "Epoch 64/100\n",
      "32058/32058 [==============================] - 0s 11us/step - loss: 0.2739 - accuracy: 0.8894 - val_loss: 0.2713 - val_accuracy: 0.8964\n",
      "Epoch 65/100\n",
      "32058/32058 [==============================] - 0s 11us/step - loss: 0.2688 - accuracy: 0.8928 - val_loss: 0.2703 - val_accuracy: 0.8956\n",
      "Epoch 66/100\n",
      "32058/32058 [==============================] - 0s 11us/step - loss: 0.2714 - accuracy: 0.8904 - val_loss: 0.2723 - val_accuracy: 0.8927\n",
      "Epoch 67/100\n",
      "32058/32058 [==============================] - 0s 11us/step - loss: 0.2724 - accuracy: 0.8889 - val_loss: 0.2912 - val_accuracy: 0.8705\n",
      "Epoch 68/100\n",
      "32058/32058 [==============================] - 0s 11us/step - loss: 0.2712 - accuracy: 0.8893 - val_loss: 0.2764 - val_accuracy: 0.8963\n",
      "Epoch 69/100\n",
      "32058/32058 [==============================] - 0s 11us/step - loss: 0.3273 - accuracy: 0.8521 - val_loss: 0.4367 - val_accuracy: 0.8074\n",
      "Epoch 70/100\n",
      "32058/32058 [==============================] - 0s 11us/step - loss: 0.3795 - accuracy: 0.8150 - val_loss: 0.3732 - val_accuracy: 0.8155\n",
      "Epoch 71/100\n",
      "32058/32058 [==============================] - 0s 11us/step - loss: 0.3675 - accuracy: 0.8200 - val_loss: 0.3706 - val_accuracy: 0.8161\n",
      "Epoch 72/100\n",
      "32058/32058 [==============================] - 0s 11us/step - loss: 0.3653 - accuracy: 0.8206 - val_loss: 0.3683 - val_accuracy: 0.8186\n",
      "Epoch 73/100\n",
      "32058/32058 [==============================] - 0s 11us/step - loss: 0.3629 - accuracy: 0.8212 - val_loss: 0.3662 - val_accuracy: 0.8181\n",
      "Epoch 74/100\n",
      "32058/32058 [==============================] - 0s 11us/step - loss: 0.3604 - accuracy: 0.8242 - val_loss: 0.3648 - val_accuracy: 0.8221\n",
      "Epoch 75/100\n",
      "32058/32058 [==============================] - 0s 11us/step - loss: 0.3574 - accuracy: 0.8288 - val_loss: 0.3602 - val_accuracy: 0.8253\n",
      "Epoch 76/100\n",
      "32058/32058 [==============================] - 0s 11us/step - loss: 0.3253 - accuracy: 0.8610 - val_loss: 0.2909 - val_accuracy: 0.8876\n",
      "Epoch 77/100\n",
      "32058/32058 [==============================] - 0s 11us/step - loss: 0.2809 - accuracy: 0.8905 - val_loss: 0.2807 - val_accuracy: 0.8948\n",
      "Epoch 78/100\n",
      "32058/32058 [==============================] - 0s 11us/step - loss: 0.3164 - accuracy: 0.8677 - val_loss: 0.3644 - val_accuracy: 0.8252\n",
      "Epoch 79/100\n",
      "32058/32058 [==============================] - 0s 11us/step - loss: 0.3231 - accuracy: 0.8607 - val_loss: 0.2878 - val_accuracy: 0.8918\n",
      "Epoch 80/100\n",
      "32058/32058 [==============================] - 0s 10us/step - loss: 0.2957 - accuracy: 0.8822 - val_loss: 0.2791 - val_accuracy: 0.8952\n",
      "Epoch 81/100\n",
      "32058/32058 [==============================] - 0s 11us/step - loss: 0.2753 - accuracy: 0.8947 - val_loss: 0.2779 - val_accuracy: 0.8957\n",
      "Epoch 82/100\n",
      "32058/32058 [==============================] - 0s 11us/step - loss: 0.2775 - accuracy: 0.8896 - val_loss: 0.2776 - val_accuracy: 0.8957\n",
      "Epoch 83/100\n",
      "32058/32058 [==============================] - 0s 11us/step - loss: 0.2749 - accuracy: 0.8940 - val_loss: 0.2778 - val_accuracy: 0.8959\n",
      "Epoch 84/100\n",
      "32058/32058 [==============================] - 0s 11us/step - loss: 0.2724 - accuracy: 0.8943 - val_loss: 0.2850 - val_accuracy: 0.8925\n",
      "Epoch 85/100\n",
      "32058/32058 [==============================] - 0s 11us/step - loss: 0.2696 - accuracy: 0.8967 - val_loss: 0.2719 - val_accuracy: 0.8964\n",
      "Epoch 86/100\n",
      "32058/32058 [==============================] - 0s 10us/step - loss: 0.2692 - accuracy: 0.8950 - val_loss: 0.2728 - val_accuracy: 0.8962\n",
      "Epoch 87/100\n",
      "32058/32058 [==============================] - 0s 11us/step - loss: 0.2684 - accuracy: 0.8955 - val_loss: 0.2704 - val_accuracy: 0.8973\n",
      "Epoch 88/100\n",
      "32058/32058 [==============================] - 0s 11us/step - loss: 0.2677 - accuracy: 0.8965 - val_loss: 0.2698 - val_accuracy: 0.8973\n",
      "Epoch 89/100\n",
      "32058/32058 [==============================] - 0s 11us/step - loss: 0.2695 - accuracy: 0.8918 - val_loss: 0.2705 - val_accuracy: 0.8969\n",
      "Epoch 90/100\n",
      "32058/32058 [==============================] - 0s 11us/step - loss: 0.2710 - accuracy: 0.8897 - val_loss: 0.2744 - val_accuracy: 0.8915\n",
      "Epoch 91/100\n",
      "32058/32058 [==============================] - 0s 11us/step - loss: 0.2674 - accuracy: 0.8942 - val_loss: 0.2738 - val_accuracy: 0.8971\n",
      "Epoch 92/100\n",
      "32058/32058 [==============================] - 0s 11us/step - loss: 0.2671 - accuracy: 0.8957 - val_loss: 0.2781 - val_accuracy: 0.8865\n",
      "Epoch 93/100\n",
      "32058/32058 [==============================] - 0s 11us/step - loss: 0.2700 - accuracy: 0.8927 - val_loss: 0.2738 - val_accuracy: 0.8901\n",
      "Epoch 94/100\n",
      "32058/32058 [==============================] - 0s 11us/step - loss: 0.2833 - accuracy: 0.8850 - val_loss: 0.3456 - val_accuracy: 0.8599\n",
      "Epoch 95/100\n",
      "32058/32058 [==============================] - 0s 11us/step - loss: 0.2704 - accuracy: 0.8957 - val_loss: 0.2699 - val_accuracy: 0.8979\n",
      "Epoch 96/100\n",
      "32058/32058 [==============================] - 0s 11us/step - loss: 0.2924 - accuracy: 0.8827 - val_loss: 0.2779 - val_accuracy: 0.8881\n",
      "Epoch 97/100\n",
      "32058/32058 [==============================] - 0s 11us/step - loss: 0.2726 - accuracy: 0.8914 - val_loss: 0.2908 - val_accuracy: 0.8877\n",
      "Epoch 98/100\n",
      "32058/32058 [==============================] - 0s 11us/step - loss: 0.2884 - accuracy: 0.8852 - val_loss: 0.2740 - val_accuracy: 0.8923\n",
      "Epoch 99/100\n",
      "32058/32058 [==============================] - 0s 11us/step - loss: 0.2682 - accuracy: 0.8939 - val_loss: 0.2774 - val_accuracy: 0.8877\n",
      "Epoch 100/100\n",
      "32058/32058 [==============================] - 0s 11us/step - loss: 0.2720 - accuracy: 0.8881 - val_loss: 0.2726 - val_accuracy: 0.8933\n"
     ]
    }
   ],
   "source": [
    "b_l_tuned_model_history = l_tuned_model.fit(X_train, y_train, epochs=100,\n",
    "                                       batch_size=best_b_size_v, validation_split=0.2,\n",
    "                                       use_multiprocessing=True)"
   ]
  },
  {
   "cell_type": "code",
   "execution_count": 82,
   "metadata": {},
   "outputs": [
    {
     "data": {
      "image/png": "[encoded data removed]",
      "text/plain": [
       "<Figure size 432x288 with 1 Axes>"
      ]
     },
     "metadata": {
      "needs_background": "light"
     },
     "output_type": "display_data"
    }
   ],
   "source": [
    "# Plotting Accuracy\n",
    "\n",
    "plt.plot(b_l_tuned_model_history.history['accuracy'])\n",
    "plt.plot(b_l_tuned_model_history.history['val_accuracy'])\n",
    "plt.title('Accuracy Plot')\n",
    "plt.ylabel('Accuracy')\n",
    "plt.xlabel('Epoch')\n",
    "plt.legend(['Train', 'Validation'])\n",
    "plt.show()"
   ]
  },
  {
   "cell_type": "code",
   "execution_count": 83,
   "metadata": {},
   "outputs": [
    {
     "data": {
      "image/png": "[encoded data removed]",
      "text/plain": [
       "<Figure size 432x288 with 1 Axes>"
      ]
     },
     "metadata": {
      "needs_background": "light"
     },
     "output_type": "display_data"
    }
   ],
   "source": [
    "# Plotting Loss\n",
    "\n",
    "plt.plot(b_l_tuned_model_history.history['loss'])\n",
    "plt.plot(b_l_tuned_model_history.history['val_loss'])\n",
    "plt.title('Loss Plot')\n",
    "plt.ylabel('Loss')\n",
    "plt.xlabel('Epoch')\n",
    "plt.legend(['Train', 'Validation'])\n",
    "plt.show()"
   ]
  },
  {
   "cell_type": "markdown",
   "metadata": {},
   "source": [
    "#### Predictions"
   ]
  },
  {
   "cell_type": "code",
   "execution_count": 84,
   "metadata": {},
   "outputs": [],
   "source": [
    "train_b_l_tuned_model = l_tuned_model.predict_classes(X_train)\n",
    "test_b_l_tuned_model = l_tuned_model.predict_classes(X_test)"
   ]
  },
  {
   "cell_type": "markdown",
   "metadata": {},
   "source": [
    "#### Getting evaluation metrics and evaluating model performance"
   ]
  },
  {
   "cell_type": "code",
   "execution_count": 85,
   "metadata": {},
   "outputs": [
    {
     "name": "stdout",
     "output_type": "stream",
     "text": [
      "[[30000  2469]\n",
      " [ 1862  5742]]\n",
      "[[12874  1042]\n",
      " [  820  2439]]\n"
     ]
    }
   ],
   "source": [
    "b_l_confusion_matrix_train = confusion_matrix(y_train, train_b_l_tuned_model)\n",
    "b_l_confusion_matrix_test = confusion_matrix(y_test, test_b_l_tuned_model)\n",
    "\n",
    "print(b_l_confusion_matrix_train)\n",
    "print(b_l_confusion_matrix_test)"
   ]
  },
  {
   "cell_type": "markdown",
   "metadata": {},
   "source": [
    "#### Calculate Accuracy, True Positive Rate and True Negative Rates"
   ]
  },
  {
   "cell_type": "code",
   "execution_count": 86,
   "metadata": {},
   "outputs": [
    {
     "name": "stdout",
     "output_type": "stream",
     "text": [
      "Train TNR:  0.7551288795370857\n",
      "Train TPR:  0.7551288795370857\n",
      "Train Accuracy:  0.891922241908517\n",
      "-----------------------\n",
      "Test TNR:  0.9251221615406726\n",
      "Test TPR:  0.7483890764038048\n",
      "Test Accuracy:  0.8915866084425036\n",
      "-----------------------\n"
     ]
    }
   ],
   "source": [
    "Accuracy_Train_l_b =(b_l_confusion_matrix_train[0,0]+b_l_confusion_matrix_train[1,1])/(b_l_confusion_matrix_train[0,0]+b_l_confusion_matrix_train[0,1]+b_l_confusion_matrix_train[1,0]+b_l_confusion_matrix_train[1,1])\n",
    "TNR_Train_l_b = b_l_confusion_matrix_train[0,0]/(b_l_confusion_matrix_train[0,0]+b_l_confusion_matrix_train[0,1])\n",
    "TNR_Train_l_b = b_l_confusion_matrix_train[1,1]/(b_l_confusion_matrix_train[1,0]+b_l_confusion_matrix_train[1,1])\n",
    "\n",
    "print(\"Train TNR: \",TNR_Train_l_b)\n",
    "print(\"Train TPR: \",TNR_Train_l_b)\n",
    "print(\"Train Accuracy: \",Accuracy_Train_l_b)\n",
    "\n",
    "print(\"-----------------------\")\n",
    "\n",
    "Accuracy_Test_l_b = (b_l_confusion_matrix_test[0,0]+b_l_confusion_matrix_test[1,1])/(b_l_confusion_matrix_test[0,0]+b_l_confusion_matrix_test[0,1]+b_l_confusion_matrix_test[1,0]+b_l_confusion_matrix_test[1,1])\n",
    "TNR_Test_l_b = b_l_confusion_matrix_test[0,0]/(b_l_confusion_matrix_test[0,0] +b_l_confusion_matrix_test[0,1])\n",
    "TPR_Test_l_b = b_l_confusion_matrix_test[1,1]/(b_l_confusion_matrix_test[1,0] +b_l_confusion_matrix_test[1,1])\n",
    "\n",
    "print(\"Test TNR: \",TNR_Test_l_b)\n",
    "print(\"Test TPR: \",TPR_Test_l_b)\n",
    "print(\"Test Accuracy: \",Accuracy_Test_l_b)\n",
    "\n",
    "print(\"-----------------------\")\n"
   ]
  },
  {
   "cell_type": "code",
   "execution_count": 87,
   "metadata": {},
   "outputs": [
    {
     "name": "stdout",
     "output_type": "stream",
     "text": [
      "Model: \"sequential_15\"\n",
      "_________________________________________________________________\n",
      "Layer (type)                 Output Shape              Param #   \n",
      "=================================================================\n",
      "dense_30 (Dense)             (None, 15)                330       \n",
      "_________________________________________________________________\n",
      "dense_31 (Dense)             (None, 1)                 16        \n",
      "=================================================================\n",
      "Total params: 346\n",
      "Trainable params: 346\n",
      "Non-trainable params: 0\n",
      "_________________________________________________________________\n",
      "None\n"
     ]
    },
    {
     "data": {
      "image/png": "[encoded data removed]",
      "text/plain": [
       "<IPython.core.display.Image object>"
      ]
     },
     "execution_count": 87,
     "metadata": {},
     "output_type": "execute_result"
    }
   ],
   "source": [
    "# Get Model Summary:\n",
    "print(l_tuned_model.summary())\n",
    "\n",
    "# Vizualize the model:\n",
    "plot_model(l_tuned_model, to_file='l_tuned_model.png', show_shapes=True, show_layer_names=True) # to_file='model_plot.png'\n"
   ]
  },
  {
   "cell_type": "markdown",
   "metadata": {
    "collapsed": true
   },
   "source": [
    "### Reference Links:\n",
    "\n",
    "https://machinelearningmastery.com/adam-optimization-algorithm-for-deep-learning/\n",
    "\n",
    "https://keras.io/"
   ]
  },
  {
   "cell_type": "code",
   "execution_count": null,
   "metadata": {},
   "outputs": [],
   "source": []
  }
 ],
 "metadata": {
  "kernelspec": {
   "display_name": "Python 3",
   "language": "python",
   "name": "python3"
  },
  "language_info": {
   "codemirror_mode": {
    "name": "ipython",
    "version": 3
   },
   "file_extension": ".py",
   "mimetype": "text/x-python",
   "name": "python",
   "nbconvert_exporter": "python",
   "pygments_lexer": "ipython3",
   "version": "3.7.3"
  },
  "toc": {
   "base_numbering": 1,
   "nav_menu": {},
   "number_sections": true,
   "sideBar": true,
   "skip_h1_title": false,
   "title_cell": "Table of Contents",
   "title_sidebar": "Contents",
   "toc_cell": false,
   "toc_position": {
    "height": "calc(100% - 180px)",
    "left": "10px",
    "top": "150px",
    "width": "273.2px"
   },
   "toc_section_display": true,
   "toc_window_display": false
  },
  "varInspector": {
   "cols": {
    "lenName": 16,
    "lenType": 16,
    "lenVar": 40
   },
   "kernels_config": {
    "python": {
     "delete_cmd_postfix": "",
     "delete_cmd_prefix": "del ",
     "library": "var_list.py",
     "varRefreshCmd": "print(var_dic_list())"
    },
    "r": {
     "delete_cmd_postfix": ") ",
     "delete_cmd_prefix": "rm(",
     "library": "var_list.r",
     "varRefreshCmd": "cat(var_dic_list()) "
    }
   },
   "types_to_exclude": [
    "module",
    "function",
    "builtin_function_or_method",
    "instance",
    "_Feature"
   ],
   "window_display": false
  }
 },
 "nbformat": 4,
 "nbformat_minor": 2
}
