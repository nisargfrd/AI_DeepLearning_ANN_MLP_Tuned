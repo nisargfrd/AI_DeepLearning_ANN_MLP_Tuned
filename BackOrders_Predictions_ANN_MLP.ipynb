{
 "cells": [
  {
   "cell_type": "markdown",
   "metadata": {},
   "source": [
    "### Problem Statement\n",
    "\n",
    "    Identify products at risk of backorder before the event occurs so that business has time to react."
   ]
  },
  {
   "cell_type": "markdown",
   "metadata": {},
   "source": [
    "### What is a Backorder?\n",
    "    Backorders are products that are temporarily out of stock, but a customer is permitted to place an order against future inventory. A backorder generally indicates that customer demand for a product or service exceeds a company’s capacity to supply it. Back orders are both good and bad. Strong demand can drive back orders, but so can suboptimal planning."
   ]
  },
  {
   "cell_type": "markdown",
   "metadata": {},
   "source": [
    "### Data\n",
    "\n",
    "Data file contains the historical data for the 8 weeks prior to the week we are trying to predict. The data was taken as weekly snapshots at the start of each week. Columns are defined as follows:\n",
    "\n",
    "    sku - Random ID for the product\n",
    "\n",
    "    national_inv - Current inventory level for the part\n",
    "\n",
    "    lead_time - Transit time for product (if available)\n",
    "\n",
    "    in_transit_qty - Amount of product in transit from source\n",
    "\n",
    "    forecast_3_month - Forecast sales for the next 3 months\n",
    "\n",
    "    forecast_6_month - Forecast sales for the next 6 months\n",
    "\n",
    "    forecast_9_month - Forecast sales for the next 9 months\n",
    "\n",
    "    sales_1_month - Sales quantity for the prior 1 month time period\n",
    "\n",
    "    sales_3_month - Sales quantity for the prior 3 month time period\n",
    "\n",
    "    sales_6_month - Sales quantity for the prior 6 month time period\n",
    "\n",
    "    sales_9_month - Sales quantity for the prior 9 month time period\n",
    "\n",
    "    min_bank - Minimum recommend amount to stock\n",
    "\n",
    "    potential_issue - Source issue for part identified\n",
    "\n",
    "    pieces_past_due - Parts overdue from source\n",
    "\n",
    "    perf_6_month_avg - Source performance for prior 6 month period\n",
    "\n",
    "    perf_12_month_avg - Source performance for prior 12 month period\n",
    "\n",
    "    local_bo_qty - Amount of stock orders overdue\n",
    "\n",
    "    deck_risk - Part risk flag\n",
    "\n",
    "    oe_constraint - Part risk flag\n",
    "\n",
    "    ppap_risk - Part risk flag\n",
    "\n",
    "    stop_auto_buy - Part risk flag\n",
    "\n",
    "    rev_stop - Part risk flag\n",
    "\n",
    "    went_on_backorder - Product actually went on backorder. This is the target value."
   ]
  },
  {
   "cell_type": "markdown",
   "metadata": {},
   "source": [
    "#### Identify Right Error Metrics\n",
    "\n",
    "    Based on the business, identify right error metrics."
   ]
  },
  {
   "cell_type": "raw",
   "metadata": {},
   "source": [
    "Recall/ TPR"
   ]
  },
  {
   "cell_type": "markdown",
   "metadata": {},
   "source": [
    "### Data Pre-processing\n",
    "#### Loading the required libraries"
   ]
  },
  {
   "cell_type": "code",
   "execution_count": 1,
   "metadata": {},
   "outputs": [],
   "source": [
    "import numpy as np\n",
    "import pandas as pd\n",
    "import os"
   ]
  },
  {
   "cell_type": "markdown",
   "metadata": {},
   "source": [
    "Get current working directory"
   ]
  },
  {
   "cell_type": "code",
   "execution_count": 2,
   "metadata": {},
   "outputs": [],
   "source": [
    "PATH = os.getcwd()"
   ]
  },
  {
   "cell_type": "markdown",
   "metadata": {},
   "source": [
    "Change directory"
   ]
  },
  {
   "cell_type": "code",
   "execution_count": 3,
   "metadata": {},
   "outputs": [],
   "source": [
    "os.chdir(PATH)"
   ]
  },
  {
   "cell_type": "markdown",
   "metadata": {},
   "source": [
    "#### Loading the data"
   ]
  },
  {
   "cell_type": "code",
   "execution_count": 4,
   "metadata": {
    "scrolled": true
   },
   "outputs": [
    {
     "data": {
      "text/html": [
       "<div>\n",
       "<style scoped>\n",
       "    .dataframe tbody tr th:only-of-type {\n",
       "        vertical-align: middle;\n",
       "    }\n",
       "\n",
       "    .dataframe tbody tr th {\n",
       "        vertical-align: top;\n",
       "    }\n",
       "\n",
       "    .dataframe thead th {\n",
       "        text-align: right;\n",
       "    }\n",
       "</style>\n",
       "<table border=\"1\" class=\"dataframe\">\n",
       "  <thead>\n",
       "    <tr style=\"text-align: right;\">\n",
       "      <th></th>\n",
       "      <th>sku</th>\n",
       "      <th>national_inv</th>\n",
       "      <th>lead_time</th>\n",
       "      <th>in_transit_qty</th>\n",
       "      <th>forecast_3_month</th>\n",
       "      <th>forecast_6_month</th>\n",
       "      <th>forecast_9_month</th>\n",
       "      <th>sales_1_month</th>\n",
       "      <th>sales_3_month</th>\n",
       "      <th>sales_6_month</th>\n",
       "      <th>...</th>\n",
       "      <th>pieces_past_due</th>\n",
       "      <th>perf_6_month_avg</th>\n",
       "      <th>perf_12_month_avg</th>\n",
       "      <th>local_bo_qty</th>\n",
       "      <th>deck_risk</th>\n",
       "      <th>oe_constraint</th>\n",
       "      <th>ppap_risk</th>\n",
       "      <th>stop_auto_buy</th>\n",
       "      <th>rev_stop</th>\n",
       "      <th>went_on_backorder</th>\n",
       "    </tr>\n",
       "  </thead>\n",
       "  <tbody>\n",
       "    <tr>\n",
       "      <th>0</th>\n",
       "      <td>1888279</td>\n",
       "      <td>117</td>\n",
       "      <td>NaN</td>\n",
       "      <td>0</td>\n",
       "      <td>0</td>\n",
       "      <td>0</td>\n",
       "      <td>0</td>\n",
       "      <td>0</td>\n",
       "      <td>0</td>\n",
       "      <td>15</td>\n",
       "      <td>...</td>\n",
       "      <td>0</td>\n",
       "      <td>NaN</td>\n",
       "      <td>NaN</td>\n",
       "      <td>0</td>\n",
       "      <td>No</td>\n",
       "      <td>No</td>\n",
       "      <td>Yes</td>\n",
       "      <td>Yes</td>\n",
       "      <td>No</td>\n",
       "      <td>No</td>\n",
       "    </tr>\n",
       "    <tr>\n",
       "      <th>1</th>\n",
       "      <td>1870557</td>\n",
       "      <td>7</td>\n",
       "      <td>2.0</td>\n",
       "      <td>0</td>\n",
       "      <td>0</td>\n",
       "      <td>0</td>\n",
       "      <td>0</td>\n",
       "      <td>0</td>\n",
       "      <td>0</td>\n",
       "      <td>0</td>\n",
       "      <td>...</td>\n",
       "      <td>0</td>\n",
       "      <td>0.50</td>\n",
       "      <td>0.28</td>\n",
       "      <td>0</td>\n",
       "      <td>Yes</td>\n",
       "      <td>No</td>\n",
       "      <td>No</td>\n",
       "      <td>Yes</td>\n",
       "      <td>No</td>\n",
       "      <td>No</td>\n",
       "    </tr>\n",
       "    <tr>\n",
       "      <th>2</th>\n",
       "      <td>1475481</td>\n",
       "      <td>258</td>\n",
       "      <td>15.0</td>\n",
       "      <td>10</td>\n",
       "      <td>10</td>\n",
       "      <td>77</td>\n",
       "      <td>184</td>\n",
       "      <td>46</td>\n",
       "      <td>132</td>\n",
       "      <td>256</td>\n",
       "      <td>...</td>\n",
       "      <td>0</td>\n",
       "      <td>0.54</td>\n",
       "      <td>0.70</td>\n",
       "      <td>0</td>\n",
       "      <td>No</td>\n",
       "      <td>No</td>\n",
       "      <td>No</td>\n",
       "      <td>Yes</td>\n",
       "      <td>No</td>\n",
       "      <td>No</td>\n",
       "    </tr>\n",
       "    <tr>\n",
       "      <th>3</th>\n",
       "      <td>1758220</td>\n",
       "      <td>46</td>\n",
       "      <td>2.0</td>\n",
       "      <td>0</td>\n",
       "      <td>0</td>\n",
       "      <td>0</td>\n",
       "      <td>0</td>\n",
       "      <td>1</td>\n",
       "      <td>2</td>\n",
       "      <td>6</td>\n",
       "      <td>...</td>\n",
       "      <td>0</td>\n",
       "      <td>0.75</td>\n",
       "      <td>0.90</td>\n",
       "      <td>0</td>\n",
       "      <td>Yes</td>\n",
       "      <td>No</td>\n",
       "      <td>No</td>\n",
       "      <td>Yes</td>\n",
       "      <td>No</td>\n",
       "      <td>No</td>\n",
       "    </tr>\n",
       "    <tr>\n",
       "      <th>4</th>\n",
       "      <td>1360312</td>\n",
       "      <td>2</td>\n",
       "      <td>2.0</td>\n",
       "      <td>0</td>\n",
       "      <td>4</td>\n",
       "      <td>6</td>\n",
       "      <td>10</td>\n",
       "      <td>2</td>\n",
       "      <td>2</td>\n",
       "      <td>5</td>\n",
       "      <td>...</td>\n",
       "      <td>0</td>\n",
       "      <td>0.97</td>\n",
       "      <td>0.92</td>\n",
       "      <td>0</td>\n",
       "      <td>No</td>\n",
       "      <td>No</td>\n",
       "      <td>No</td>\n",
       "      <td>Yes</td>\n",
       "      <td>No</td>\n",
       "      <td>No</td>\n",
       "    </tr>\n",
       "  </tbody>\n",
       "</table>\n",
       "<p>5 rows × 23 columns</p>\n",
       "</div>"
      ],
      "text/plain": [
       "       sku  national_inv  lead_time  in_transit_qty  forecast_3_month  \\\n",
       "0  1888279           117        NaN               0                 0   \n",
       "1  1870557             7        2.0               0                 0   \n",
       "2  1475481           258       15.0              10                10   \n",
       "3  1758220            46        2.0               0                 0   \n",
       "4  1360312             2        2.0               0                 4   \n",
       "\n",
       "   forecast_6_month  forecast_9_month  sales_1_month  sales_3_month  \\\n",
       "0                 0                 0              0              0   \n",
       "1                 0                 0              0              0   \n",
       "2                77               184             46            132   \n",
       "3                 0                 0              1              2   \n",
       "4                 6                10              2              2   \n",
       "\n",
       "   sales_6_month  ...  pieces_past_due  perf_6_month_avg perf_12_month_avg  \\\n",
       "0             15  ...                0               NaN               NaN   \n",
       "1              0  ...                0              0.50              0.28   \n",
       "2            256  ...                0              0.54              0.70   \n",
       "3              6  ...                0              0.75              0.90   \n",
       "4              5  ...                0              0.97              0.92   \n",
       "\n",
       "   local_bo_qty  deck_risk  oe_constraint  ppap_risk stop_auto_buy rev_stop  \\\n",
       "0             0         No             No        Yes           Yes       No   \n",
       "1             0        Yes             No         No           Yes       No   \n",
       "2             0         No             No         No           Yes       No   \n",
       "3             0        Yes             No         No           Yes       No   \n",
       "4             0         No             No         No           Yes       No   \n",
       "\n",
       "  went_on_backorder  \n",
       "0                No  \n",
       "1                No  \n",
       "2                No  \n",
       "3                No  \n",
       "4                No  \n",
       "\n",
       "[5 rows x 23 columns]"
      ]
     },
     "execution_count": 4,
     "metadata": {},
     "output_type": "execute_result"
    }
   ],
   "source": [
    "#Load the Data - Backorders.csv\n",
    "data = pd.read_csv('BackOrders.csv', na_values=[-99])\n",
    "data.head()"
   ]
  },
  {
   "cell_type": "markdown",
   "metadata": {},
   "source": [
    "#### Understand the Data"
   ]
  },
  {
   "cell_type": "markdown",
   "metadata": {},
   "source": [
    "See the number row and columns"
   ]
  },
  {
   "cell_type": "code",
   "execution_count": 5,
   "metadata": {},
   "outputs": [
    {
     "data": {
      "text/plain": [
       "(61589, 23)"
      ]
     },
     "execution_count": 5,
     "metadata": {},
     "output_type": "execute_result"
    }
   ],
   "source": [
    "data.shape"
   ]
  },
  {
   "cell_type": "markdown",
   "metadata": {},
   "source": [
    "Display the columns"
   ]
  },
  {
   "cell_type": "code",
   "execution_count": 6,
   "metadata": {},
   "outputs": [
    {
     "name": "stdout",
     "output_type": "stream",
     "text": [
      "Index(['sku', 'national_inv', 'lead_time', 'in_transit_qty',\n",
      "       'forecast_3_month', 'forecast_6_month', 'forecast_9_month',\n",
      "       'sales_1_month', 'sales_3_month', 'sales_6_month', 'sales_9_month',\n",
      "       'min_bank', 'potential_issue', 'pieces_past_due', 'perf_6_month_avg',\n",
      "       'perf_12_month_avg', 'local_bo_qty', 'deck_risk', 'oe_constraint',\n",
      "       'ppap_risk', 'stop_auto_buy', 'rev_stop', 'went_on_backorder'],\n",
      "      dtype='object')\n",
      "sku                    int64\n",
      "national_inv           int64\n",
      "lead_time            float64\n",
      "in_transit_qty         int64\n",
      "forecast_3_month       int64\n",
      "forecast_6_month       int64\n",
      "forecast_9_month       int64\n",
      "sales_1_month          int64\n",
      "sales_3_month          int64\n",
      "sales_6_month          int64\n",
      "sales_9_month          int64\n",
      "min_bank               int64\n",
      "potential_issue       object\n",
      "pieces_past_due        int64\n",
      "perf_6_month_avg     float64\n",
      "perf_12_month_avg    float64\n",
      "local_bo_qty           int64\n",
      "deck_risk             object\n",
      "oe_constraint         object\n",
      "ppap_risk             object\n",
      "stop_auto_buy         object\n",
      "rev_stop              object\n",
      "went_on_backorder     object\n",
      "dtype: object\n"
     ]
    }
   ],
   "source": [
    "print(data.columns)\n",
    "print(data.dtypes)"
   ]
  },
  {
   "cell_type": "markdown",
   "metadata": {},
   "source": [
    "See the top rows of the data"
   ]
  },
  {
   "cell_type": "code",
   "execution_count": 7,
   "metadata": {},
   "outputs": [
    {
     "data": {
      "text/html": [
       "<div>\n",
       "<style scoped>\n",
       "    .dataframe tbody tr th:only-of-type {\n",
       "        vertical-align: middle;\n",
       "    }\n",
       "\n",
       "    .dataframe tbody tr th {\n",
       "        vertical-align: top;\n",
       "    }\n",
       "\n",
       "    .dataframe thead th {\n",
       "        text-align: right;\n",
       "    }\n",
       "</style>\n",
       "<table border=\"1\" class=\"dataframe\">\n",
       "  <thead>\n",
       "    <tr style=\"text-align: right;\">\n",
       "      <th></th>\n",
       "      <th>sku</th>\n",
       "      <th>national_inv</th>\n",
       "      <th>lead_time</th>\n",
       "      <th>in_transit_qty</th>\n",
       "      <th>forecast_3_month</th>\n",
       "      <th>forecast_6_month</th>\n",
       "      <th>forecast_9_month</th>\n",
       "      <th>sales_1_month</th>\n",
       "      <th>sales_3_month</th>\n",
       "      <th>sales_6_month</th>\n",
       "      <th>...</th>\n",
       "      <th>pieces_past_due</th>\n",
       "      <th>perf_6_month_avg</th>\n",
       "      <th>perf_12_month_avg</th>\n",
       "      <th>local_bo_qty</th>\n",
       "      <th>deck_risk</th>\n",
       "      <th>oe_constraint</th>\n",
       "      <th>ppap_risk</th>\n",
       "      <th>stop_auto_buy</th>\n",
       "      <th>rev_stop</th>\n",
       "      <th>went_on_backorder</th>\n",
       "    </tr>\n",
       "  </thead>\n",
       "  <tbody>\n",
       "    <tr>\n",
       "      <th>0</th>\n",
       "      <td>1888279</td>\n",
       "      <td>117</td>\n",
       "      <td>NaN</td>\n",
       "      <td>0</td>\n",
       "      <td>0</td>\n",
       "      <td>0</td>\n",
       "      <td>0</td>\n",
       "      <td>0</td>\n",
       "      <td>0</td>\n",
       "      <td>15</td>\n",
       "      <td>...</td>\n",
       "      <td>0</td>\n",
       "      <td>NaN</td>\n",
       "      <td>NaN</td>\n",
       "      <td>0</td>\n",
       "      <td>No</td>\n",
       "      <td>No</td>\n",
       "      <td>Yes</td>\n",
       "      <td>Yes</td>\n",
       "      <td>No</td>\n",
       "      <td>No</td>\n",
       "    </tr>\n",
       "    <tr>\n",
       "      <th>1</th>\n",
       "      <td>1870557</td>\n",
       "      <td>7</td>\n",
       "      <td>2.0</td>\n",
       "      <td>0</td>\n",
       "      <td>0</td>\n",
       "      <td>0</td>\n",
       "      <td>0</td>\n",
       "      <td>0</td>\n",
       "      <td>0</td>\n",
       "      <td>0</td>\n",
       "      <td>...</td>\n",
       "      <td>0</td>\n",
       "      <td>0.50</td>\n",
       "      <td>0.28</td>\n",
       "      <td>0</td>\n",
       "      <td>Yes</td>\n",
       "      <td>No</td>\n",
       "      <td>No</td>\n",
       "      <td>Yes</td>\n",
       "      <td>No</td>\n",
       "      <td>No</td>\n",
       "    </tr>\n",
       "    <tr>\n",
       "      <th>2</th>\n",
       "      <td>1475481</td>\n",
       "      <td>258</td>\n",
       "      <td>15.0</td>\n",
       "      <td>10</td>\n",
       "      <td>10</td>\n",
       "      <td>77</td>\n",
       "      <td>184</td>\n",
       "      <td>46</td>\n",
       "      <td>132</td>\n",
       "      <td>256</td>\n",
       "      <td>...</td>\n",
       "      <td>0</td>\n",
       "      <td>0.54</td>\n",
       "      <td>0.70</td>\n",
       "      <td>0</td>\n",
       "      <td>No</td>\n",
       "      <td>No</td>\n",
       "      <td>No</td>\n",
       "      <td>Yes</td>\n",
       "      <td>No</td>\n",
       "      <td>No</td>\n",
       "    </tr>\n",
       "    <tr>\n",
       "      <th>3</th>\n",
       "      <td>1758220</td>\n",
       "      <td>46</td>\n",
       "      <td>2.0</td>\n",
       "      <td>0</td>\n",
       "      <td>0</td>\n",
       "      <td>0</td>\n",
       "      <td>0</td>\n",
       "      <td>1</td>\n",
       "      <td>2</td>\n",
       "      <td>6</td>\n",
       "      <td>...</td>\n",
       "      <td>0</td>\n",
       "      <td>0.75</td>\n",
       "      <td>0.90</td>\n",
       "      <td>0</td>\n",
       "      <td>Yes</td>\n",
       "      <td>No</td>\n",
       "      <td>No</td>\n",
       "      <td>Yes</td>\n",
       "      <td>No</td>\n",
       "      <td>No</td>\n",
       "    </tr>\n",
       "    <tr>\n",
       "      <th>4</th>\n",
       "      <td>1360312</td>\n",
       "      <td>2</td>\n",
       "      <td>2.0</td>\n",
       "      <td>0</td>\n",
       "      <td>4</td>\n",
       "      <td>6</td>\n",
       "      <td>10</td>\n",
       "      <td>2</td>\n",
       "      <td>2</td>\n",
       "      <td>5</td>\n",
       "      <td>...</td>\n",
       "      <td>0</td>\n",
       "      <td>0.97</td>\n",
       "      <td>0.92</td>\n",
       "      <td>0</td>\n",
       "      <td>No</td>\n",
       "      <td>No</td>\n",
       "      <td>No</td>\n",
       "      <td>Yes</td>\n",
       "      <td>No</td>\n",
       "      <td>No</td>\n",
       "    </tr>\n",
       "    <tr>\n",
       "      <th>5</th>\n",
       "      <td>3002608</td>\n",
       "      <td>297</td>\n",
       "      <td>12.0</td>\n",
       "      <td>0</td>\n",
       "      <td>0</td>\n",
       "      <td>0</td>\n",
       "      <td>0</td>\n",
       "      <td>5</td>\n",
       "      <td>6</td>\n",
       "      <td>44</td>\n",
       "      <td>...</td>\n",
       "      <td>0</td>\n",
       "      <td>0.58</td>\n",
       "      <td>0.75</td>\n",
       "      <td>0</td>\n",
       "      <td>Yes</td>\n",
       "      <td>No</td>\n",
       "      <td>No</td>\n",
       "      <td>Yes</td>\n",
       "      <td>No</td>\n",
       "      <td>No</td>\n",
       "    </tr>\n",
       "    <tr>\n",
       "      <th>6</th>\n",
       "      <td>1707693</td>\n",
       "      <td>3285</td>\n",
       "      <td>8.0</td>\n",
       "      <td>0</td>\n",
       "      <td>0</td>\n",
       "      <td>0</td>\n",
       "      <td>0</td>\n",
       "      <td>18</td>\n",
       "      <td>81</td>\n",
       "      <td>162</td>\n",
       "      <td>...</td>\n",
       "      <td>0</td>\n",
       "      <td>0.61</td>\n",
       "      <td>0.57</td>\n",
       "      <td>0</td>\n",
       "      <td>No</td>\n",
       "      <td>No</td>\n",
       "      <td>No</td>\n",
       "      <td>Yes</td>\n",
       "      <td>No</td>\n",
       "      <td>No</td>\n",
       "    </tr>\n",
       "    <tr>\n",
       "      <th>7</th>\n",
       "      <td>2066128</td>\n",
       "      <td>6</td>\n",
       "      <td>2.0</td>\n",
       "      <td>0</td>\n",
       "      <td>0</td>\n",
       "      <td>3</td>\n",
       "      <td>9</td>\n",
       "      <td>1</td>\n",
       "      <td>5</td>\n",
       "      <td>8</td>\n",
       "      <td>...</td>\n",
       "      <td>0</td>\n",
       "      <td>0.86</td>\n",
       "      <td>0.77</td>\n",
       "      <td>0</td>\n",
       "      <td>No</td>\n",
       "      <td>No</td>\n",
       "      <td>No</td>\n",
       "      <td>Yes</td>\n",
       "      <td>No</td>\n",
       "      <td>Yes</td>\n",
       "    </tr>\n",
       "    <tr>\n",
       "      <th>8</th>\n",
       "      <td>3174990</td>\n",
       "      <td>99</td>\n",
       "      <td>8.0</td>\n",
       "      <td>0</td>\n",
       "      <td>46</td>\n",
       "      <td>169</td>\n",
       "      <td>225</td>\n",
       "      <td>2</td>\n",
       "      <td>22</td>\n",
       "      <td>176</td>\n",
       "      <td>...</td>\n",
       "      <td>0</td>\n",
       "      <td>0.11</td>\n",
       "      <td>0.37</td>\n",
       "      <td>0</td>\n",
       "      <td>No</td>\n",
       "      <td>No</td>\n",
       "      <td>No</td>\n",
       "      <td>Yes</td>\n",
       "      <td>No</td>\n",
       "      <td>No</td>\n",
       "    </tr>\n",
       "    <tr>\n",
       "      <th>9</th>\n",
       "      <td>3021709</td>\n",
       "      <td>52</td>\n",
       "      <td>2.0</td>\n",
       "      <td>0</td>\n",
       "      <td>0</td>\n",
       "      <td>0</td>\n",
       "      <td>0</td>\n",
       "      <td>0</td>\n",
       "      <td>0</td>\n",
       "      <td>0</td>\n",
       "      <td>...</td>\n",
       "      <td>0</td>\n",
       "      <td>0.83</td>\n",
       "      <td>0.69</td>\n",
       "      <td>0</td>\n",
       "      <td>No</td>\n",
       "      <td>No</td>\n",
       "      <td>No</td>\n",
       "      <td>Yes</td>\n",
       "      <td>No</td>\n",
       "      <td>No</td>\n",
       "    </tr>\n",
       "  </tbody>\n",
       "</table>\n",
       "<p>10 rows × 23 columns</p>\n",
       "</div>"
      ],
      "text/plain": [
       "       sku  national_inv  lead_time  in_transit_qty  forecast_3_month  \\\n",
       "0  1888279           117        NaN               0                 0   \n",
       "1  1870557             7        2.0               0                 0   \n",
       "2  1475481           258       15.0              10                10   \n",
       "3  1758220            46        2.0               0                 0   \n",
       "4  1360312             2        2.0               0                 4   \n",
       "5  3002608           297       12.0               0                 0   \n",
       "6  1707693          3285        8.0               0                 0   \n",
       "7  2066128             6        2.0               0                 0   \n",
       "8  3174990            99        8.0               0                46   \n",
       "9  3021709            52        2.0               0                 0   \n",
       "\n",
       "   forecast_6_month  forecast_9_month  sales_1_month  sales_3_month  \\\n",
       "0                 0                 0              0              0   \n",
       "1                 0                 0              0              0   \n",
       "2                77               184             46            132   \n",
       "3                 0                 0              1              2   \n",
       "4                 6                10              2              2   \n",
       "5                 0                 0              5              6   \n",
       "6                 0                 0             18             81   \n",
       "7                 3                 9              1              5   \n",
       "8               169               225              2             22   \n",
       "9                 0                 0              0              0   \n",
       "\n",
       "   sales_6_month  ...  pieces_past_due  perf_6_month_avg perf_12_month_avg  \\\n",
       "0             15  ...                0               NaN               NaN   \n",
       "1              0  ...                0              0.50              0.28   \n",
       "2            256  ...                0              0.54              0.70   \n",
       "3              6  ...                0              0.75              0.90   \n",
       "4              5  ...                0              0.97              0.92   \n",
       "5             44  ...                0              0.58              0.75   \n",
       "6            162  ...                0              0.61              0.57   \n",
       "7              8  ...                0              0.86              0.77   \n",
       "8            176  ...                0              0.11              0.37   \n",
       "9              0  ...                0              0.83              0.69   \n",
       "\n",
       "   local_bo_qty  deck_risk  oe_constraint  ppap_risk stop_auto_buy rev_stop  \\\n",
       "0             0         No             No        Yes           Yes       No   \n",
       "1             0        Yes             No         No           Yes       No   \n",
       "2             0         No             No         No           Yes       No   \n",
       "3             0        Yes             No         No           Yes       No   \n",
       "4             0         No             No         No           Yes       No   \n",
       "5             0        Yes             No         No           Yes       No   \n",
       "6             0         No             No         No           Yes       No   \n",
       "7             0         No             No         No           Yes       No   \n",
       "8             0         No             No         No           Yes       No   \n",
       "9             0         No             No         No           Yes       No   \n",
       "\n",
       "  went_on_backorder  \n",
       "0                No  \n",
       "1                No  \n",
       "2                No  \n",
       "3                No  \n",
       "4                No  \n",
       "5                No  \n",
       "6                No  \n",
       "7               Yes  \n",
       "8                No  \n",
       "9                No  \n",
       "\n",
       "[10 rows x 23 columns]"
      ]
     },
     "execution_count": 7,
     "metadata": {},
     "output_type": "execute_result"
    }
   ],
   "source": [
    "data.head(10)"
   ]
  },
  {
   "cell_type": "markdown",
   "metadata": {},
   "source": [
    "Shows a quick statistic summary of your data using describe.\n",
    "\n",
    "    For object data (e.g. strings or timestamps), the result’s index will include count, unique, top, and freq. \n",
    "\n",
    "        The top is the most common value.\n",
    "\n",
    "        The freq is the most common value’s frequency."
   ]
  },
  {
   "cell_type": "code",
   "execution_count": 8,
   "metadata": {
    "scrolled": true
   },
   "outputs": [
    {
     "data": {
      "text/html": [
       "<div>\n",
       "<style scoped>\n",
       "    .dataframe tbody tr th:only-of-type {\n",
       "        vertical-align: middle;\n",
       "    }\n",
       "\n",
       "    .dataframe tbody tr th {\n",
       "        vertical-align: top;\n",
       "    }\n",
       "\n",
       "    .dataframe thead th {\n",
       "        text-align: right;\n",
       "    }\n",
       "</style>\n",
       "<table border=\"1\" class=\"dataframe\">\n",
       "  <thead>\n",
       "    <tr style=\"text-align: right;\">\n",
       "      <th></th>\n",
       "      <th>sku</th>\n",
       "      <th>national_inv</th>\n",
       "      <th>lead_time</th>\n",
       "      <th>in_transit_qty</th>\n",
       "      <th>forecast_3_month</th>\n",
       "      <th>forecast_6_month</th>\n",
       "      <th>forecast_9_month</th>\n",
       "      <th>sales_1_month</th>\n",
       "      <th>sales_3_month</th>\n",
       "      <th>sales_6_month</th>\n",
       "      <th>...</th>\n",
       "      <th>pieces_past_due</th>\n",
       "      <th>perf_6_month_avg</th>\n",
       "      <th>perf_12_month_avg</th>\n",
       "      <th>local_bo_qty</th>\n",
       "      <th>deck_risk</th>\n",
       "      <th>oe_constraint</th>\n",
       "      <th>ppap_risk</th>\n",
       "      <th>stop_auto_buy</th>\n",
       "      <th>rev_stop</th>\n",
       "      <th>went_on_backorder</th>\n",
       "    </tr>\n",
       "  </thead>\n",
       "  <tbody>\n",
       "    <tr>\n",
       "      <th>count</th>\n",
       "      <td>6.158900e+04</td>\n",
       "      <td>61589.000000</td>\n",
       "      <td>58186.000000</td>\n",
       "      <td>61589.000000</td>\n",
       "      <td>6.158900e+04</td>\n",
       "      <td>6.158900e+04</td>\n",
       "      <td>6.158900e+04</td>\n",
       "      <td>61589.000000</td>\n",
       "      <td>61589.000000</td>\n",
       "      <td>6.158900e+04</td>\n",
       "      <td>...</td>\n",
       "      <td>61589.000000</td>\n",
       "      <td>57248.000000</td>\n",
       "      <td>57498.000000</td>\n",
       "      <td>61589.000000</td>\n",
       "      <td>61589</td>\n",
       "      <td>61589</td>\n",
       "      <td>61589</td>\n",
       "      <td>61589</td>\n",
       "      <td>61589</td>\n",
       "      <td>61589</td>\n",
       "    </tr>\n",
       "    <tr>\n",
       "      <th>unique</th>\n",
       "      <td>NaN</td>\n",
       "      <td>NaN</td>\n",
       "      <td>NaN</td>\n",
       "      <td>NaN</td>\n",
       "      <td>NaN</td>\n",
       "      <td>NaN</td>\n",
       "      <td>NaN</td>\n",
       "      <td>NaN</td>\n",
       "      <td>NaN</td>\n",
       "      <td>NaN</td>\n",
       "      <td>...</td>\n",
       "      <td>NaN</td>\n",
       "      <td>NaN</td>\n",
       "      <td>NaN</td>\n",
       "      <td>NaN</td>\n",
       "      <td>2</td>\n",
       "      <td>2</td>\n",
       "      <td>2</td>\n",
       "      <td>2</td>\n",
       "      <td>2</td>\n",
       "      <td>2</td>\n",
       "    </tr>\n",
       "    <tr>\n",
       "      <th>top</th>\n",
       "      <td>NaN</td>\n",
       "      <td>NaN</td>\n",
       "      <td>NaN</td>\n",
       "      <td>NaN</td>\n",
       "      <td>NaN</td>\n",
       "      <td>NaN</td>\n",
       "      <td>NaN</td>\n",
       "      <td>NaN</td>\n",
       "      <td>NaN</td>\n",
       "      <td>NaN</td>\n",
       "      <td>...</td>\n",
       "      <td>NaN</td>\n",
       "      <td>NaN</td>\n",
       "      <td>NaN</td>\n",
       "      <td>NaN</td>\n",
       "      <td>No</td>\n",
       "      <td>No</td>\n",
       "      <td>No</td>\n",
       "      <td>Yes</td>\n",
       "      <td>No</td>\n",
       "      <td>No</td>\n",
       "    </tr>\n",
       "    <tr>\n",
       "      <th>freq</th>\n",
       "      <td>NaN</td>\n",
       "      <td>NaN</td>\n",
       "      <td>NaN</td>\n",
       "      <td>NaN</td>\n",
       "      <td>NaN</td>\n",
       "      <td>NaN</td>\n",
       "      <td>NaN</td>\n",
       "      <td>NaN</td>\n",
       "      <td>NaN</td>\n",
       "      <td>NaN</td>\n",
       "      <td>...</td>\n",
       "      <td>NaN</td>\n",
       "      <td>NaN</td>\n",
       "      <td>NaN</td>\n",
       "      <td>NaN</td>\n",
       "      <td>48145</td>\n",
       "      <td>61577</td>\n",
       "      <td>53792</td>\n",
       "      <td>59303</td>\n",
       "      <td>61569</td>\n",
       "      <td>50296</td>\n",
       "    </tr>\n",
       "    <tr>\n",
       "      <th>mean</th>\n",
       "      <td>2.037188e+06</td>\n",
       "      <td>287.721882</td>\n",
       "      <td>7.559619</td>\n",
       "      <td>30.192843</td>\n",
       "      <td>1.692728e+02</td>\n",
       "      <td>3.150413e+02</td>\n",
       "      <td>4.535760e+02</td>\n",
       "      <td>44.742957</td>\n",
       "      <td>150.732631</td>\n",
       "      <td>2.835465e+02</td>\n",
       "      <td>...</td>\n",
       "      <td>1.605400</td>\n",
       "      <td>0.767787</td>\n",
       "      <td>0.763014</td>\n",
       "      <td>1.205361</td>\n",
       "      <td>NaN</td>\n",
       "      <td>NaN</td>\n",
       "      <td>NaN</td>\n",
       "      <td>NaN</td>\n",
       "      <td>NaN</td>\n",
       "      <td>NaN</td>\n",
       "    </tr>\n",
       "    <tr>\n",
       "      <th>std</th>\n",
       "      <td>6.564178e+05</td>\n",
       "      <td>4233.906931</td>\n",
       "      <td>6.498952</td>\n",
       "      <td>792.869253</td>\n",
       "      <td>5.286742e+03</td>\n",
       "      <td>9.774362e+03</td>\n",
       "      <td>1.420201e+04</td>\n",
       "      <td>1373.805831</td>\n",
       "      <td>5224.959649</td>\n",
       "      <td>8.872270e+03</td>\n",
       "      <td>...</td>\n",
       "      <td>42.309229</td>\n",
       "      <td>0.251166</td>\n",
       "      <td>0.243469</td>\n",
       "      <td>29.981155</td>\n",
       "      <td>NaN</td>\n",
       "      <td>NaN</td>\n",
       "      <td>NaN</td>\n",
       "      <td>NaN</td>\n",
       "      <td>NaN</td>\n",
       "      <td>NaN</td>\n",
       "    </tr>\n",
       "    <tr>\n",
       "      <th>min</th>\n",
       "      <td>1.068628e+06</td>\n",
       "      <td>-2999.000000</td>\n",
       "      <td>0.000000</td>\n",
       "      <td>0.000000</td>\n",
       "      <td>0.000000e+00</td>\n",
       "      <td>0.000000e+00</td>\n",
       "      <td>0.000000e+00</td>\n",
       "      <td>0.000000</td>\n",
       "      <td>0.000000</td>\n",
       "      <td>0.000000e+00</td>\n",
       "      <td>...</td>\n",
       "      <td>0.000000</td>\n",
       "      <td>0.000000</td>\n",
       "      <td>0.000000</td>\n",
       "      <td>0.000000</td>\n",
       "      <td>NaN</td>\n",
       "      <td>NaN</td>\n",
       "      <td>NaN</td>\n",
       "      <td>NaN</td>\n",
       "      <td>NaN</td>\n",
       "      <td>NaN</td>\n",
       "    </tr>\n",
       "    <tr>\n",
       "      <th>25%</th>\n",
       "      <td>1.498574e+06</td>\n",
       "      <td>3.000000</td>\n",
       "      <td>4.000000</td>\n",
       "      <td>0.000000</td>\n",
       "      <td>0.000000e+00</td>\n",
       "      <td>0.000000e+00</td>\n",
       "      <td>0.000000e+00</td>\n",
       "      <td>0.000000</td>\n",
       "      <td>0.000000</td>\n",
       "      <td>0.000000e+00</td>\n",
       "      <td>...</td>\n",
       "      <td>0.000000</td>\n",
       "      <td>0.680000</td>\n",
       "      <td>0.680000</td>\n",
       "      <td>0.000000</td>\n",
       "      <td>NaN</td>\n",
       "      <td>NaN</td>\n",
       "      <td>NaN</td>\n",
       "      <td>NaN</td>\n",
       "      <td>NaN</td>\n",
       "      <td>NaN</td>\n",
       "    </tr>\n",
       "    <tr>\n",
       "      <th>50%</th>\n",
       "      <td>1.898033e+06</td>\n",
       "      <td>10.000000</td>\n",
       "      <td>8.000000</td>\n",
       "      <td>0.000000</td>\n",
       "      <td>0.000000e+00</td>\n",
       "      <td>0.000000e+00</td>\n",
       "      <td>0.000000e+00</td>\n",
       "      <td>0.000000</td>\n",
       "      <td>2.000000</td>\n",
       "      <td>4.000000e+00</td>\n",
       "      <td>...</td>\n",
       "      <td>0.000000</td>\n",
       "      <td>0.840000</td>\n",
       "      <td>0.820000</td>\n",
       "      <td>0.000000</td>\n",
       "      <td>NaN</td>\n",
       "      <td>NaN</td>\n",
       "      <td>NaN</td>\n",
       "      <td>NaN</td>\n",
       "      <td>NaN</td>\n",
       "      <td>NaN</td>\n",
       "    </tr>\n",
       "    <tr>\n",
       "      <th>75%</th>\n",
       "      <td>2.314826e+06</td>\n",
       "      <td>57.000000</td>\n",
       "      <td>8.000000</td>\n",
       "      <td>0.000000</td>\n",
       "      <td>1.200000e+01</td>\n",
       "      <td>2.500000e+01</td>\n",
       "      <td>3.600000e+01</td>\n",
       "      <td>6.000000</td>\n",
       "      <td>17.000000</td>\n",
       "      <td>3.400000e+01</td>\n",
       "      <td>...</td>\n",
       "      <td>0.000000</td>\n",
       "      <td>0.970000</td>\n",
       "      <td>0.950000</td>\n",
       "      <td>0.000000</td>\n",
       "      <td>NaN</td>\n",
       "      <td>NaN</td>\n",
       "      <td>NaN</td>\n",
       "      <td>NaN</td>\n",
       "      <td>NaN</td>\n",
       "      <td>NaN</td>\n",
       "    </tr>\n",
       "    <tr>\n",
       "      <th>max</th>\n",
       "      <td>3.284895e+06</td>\n",
       "      <td>673445.000000</td>\n",
       "      <td>52.000000</td>\n",
       "      <td>170976.000000</td>\n",
       "      <td>1.126656e+06</td>\n",
       "      <td>2.094336e+06</td>\n",
       "      <td>3.062016e+06</td>\n",
       "      <td>295197.000000</td>\n",
       "      <td>934593.000000</td>\n",
       "      <td>1.799099e+06</td>\n",
       "      <td>...</td>\n",
       "      <td>7392.000000</td>\n",
       "      <td>1.000000</td>\n",
       "      <td>1.000000</td>\n",
       "      <td>2999.000000</td>\n",
       "      <td>NaN</td>\n",
       "      <td>NaN</td>\n",
       "      <td>NaN</td>\n",
       "      <td>NaN</td>\n",
       "      <td>NaN</td>\n",
       "      <td>NaN</td>\n",
       "    </tr>\n",
       "  </tbody>\n",
       "</table>\n",
       "<p>11 rows × 23 columns</p>\n",
       "</div>"
      ],
      "text/plain": [
       "                 sku   national_inv     lead_time  in_transit_qty  \\\n",
       "count   6.158900e+04   61589.000000  58186.000000    61589.000000   \n",
       "unique           NaN            NaN           NaN             NaN   \n",
       "top              NaN            NaN           NaN             NaN   \n",
       "freq             NaN            NaN           NaN             NaN   \n",
       "mean    2.037188e+06     287.721882      7.559619       30.192843   \n",
       "std     6.564178e+05    4233.906931      6.498952      792.869253   \n",
       "min     1.068628e+06   -2999.000000      0.000000        0.000000   \n",
       "25%     1.498574e+06       3.000000      4.000000        0.000000   \n",
       "50%     1.898033e+06      10.000000      8.000000        0.000000   \n",
       "75%     2.314826e+06      57.000000      8.000000        0.000000   \n",
       "max     3.284895e+06  673445.000000     52.000000   170976.000000   \n",
       "\n",
       "        forecast_3_month  forecast_6_month  forecast_9_month  sales_1_month  \\\n",
       "count       6.158900e+04      6.158900e+04      6.158900e+04   61589.000000   \n",
       "unique               NaN               NaN               NaN            NaN   \n",
       "top                  NaN               NaN               NaN            NaN   \n",
       "freq                 NaN               NaN               NaN            NaN   \n",
       "mean        1.692728e+02      3.150413e+02      4.535760e+02      44.742957   \n",
       "std         5.286742e+03      9.774362e+03      1.420201e+04    1373.805831   \n",
       "min         0.000000e+00      0.000000e+00      0.000000e+00       0.000000   \n",
       "25%         0.000000e+00      0.000000e+00      0.000000e+00       0.000000   \n",
       "50%         0.000000e+00      0.000000e+00      0.000000e+00       0.000000   \n",
       "75%         1.200000e+01      2.500000e+01      3.600000e+01       6.000000   \n",
       "max         1.126656e+06      2.094336e+06      3.062016e+06  295197.000000   \n",
       "\n",
       "        sales_3_month  sales_6_month  ...  pieces_past_due  perf_6_month_avg  \\\n",
       "count    61589.000000   6.158900e+04  ...     61589.000000      57248.000000   \n",
       "unique            NaN            NaN  ...              NaN               NaN   \n",
       "top               NaN            NaN  ...              NaN               NaN   \n",
       "freq              NaN            NaN  ...              NaN               NaN   \n",
       "mean       150.732631   2.835465e+02  ...         1.605400          0.767787   \n",
       "std       5224.959649   8.872270e+03  ...        42.309229          0.251166   \n",
       "min          0.000000   0.000000e+00  ...         0.000000          0.000000   \n",
       "25%          0.000000   0.000000e+00  ...         0.000000          0.680000   \n",
       "50%          2.000000   4.000000e+00  ...         0.000000          0.840000   \n",
       "75%         17.000000   3.400000e+01  ...         0.000000          0.970000   \n",
       "max     934593.000000   1.799099e+06  ...      7392.000000          1.000000   \n",
       "\n",
       "       perf_12_month_avg  local_bo_qty  deck_risk  oe_constraint  ppap_risk  \\\n",
       "count       57498.000000  61589.000000      61589          61589      61589   \n",
       "unique               NaN           NaN          2              2          2   \n",
       "top                  NaN           NaN         No             No         No   \n",
       "freq                 NaN           NaN      48145          61577      53792   \n",
       "mean            0.763014      1.205361        NaN            NaN        NaN   \n",
       "std             0.243469     29.981155        NaN            NaN        NaN   \n",
       "min             0.000000      0.000000        NaN            NaN        NaN   \n",
       "25%             0.680000      0.000000        NaN            NaN        NaN   \n",
       "50%             0.820000      0.000000        NaN            NaN        NaN   \n",
       "75%             0.950000      0.000000        NaN            NaN        NaN   \n",
       "max             1.000000   2999.000000        NaN            NaN        NaN   \n",
       "\n",
       "       stop_auto_buy rev_stop went_on_backorder  \n",
       "count          61589    61589             61589  \n",
       "unique             2        2                 2  \n",
       "top              Yes       No                No  \n",
       "freq           59303    61569             50296  \n",
       "mean             NaN      NaN               NaN  \n",
       "std              NaN      NaN               NaN  \n",
       "min              NaN      NaN               NaN  \n",
       "25%              NaN      NaN               NaN  \n",
       "50%              NaN      NaN               NaN  \n",
       "75%              NaN      NaN               NaN  \n",
       "max              NaN      NaN               NaN  \n",
       "\n",
       "[11 rows x 23 columns]"
      ]
     },
     "execution_count": 8,
     "metadata": {},
     "output_type": "execute_result"
    }
   ],
   "source": [
    "data.describe(include='all')"
   ]
  },
  {
   "cell_type": "markdown",
   "metadata": {},
   "source": [
    "Display data type of each variable"
   ]
  },
  {
   "cell_type": "code",
   "execution_count": 9,
   "metadata": {},
   "outputs": [
    {
     "data": {
      "text/plain": [
       "sku                    int64\n",
       "national_inv           int64\n",
       "lead_time            float64\n",
       "in_transit_qty         int64\n",
       "forecast_3_month       int64\n",
       "forecast_6_month       int64\n",
       "forecast_9_month       int64\n",
       "sales_1_month          int64\n",
       "sales_3_month          int64\n",
       "sales_6_month          int64\n",
       "sales_9_month          int64\n",
       "min_bank               int64\n",
       "potential_issue       object\n",
       "pieces_past_due        int64\n",
       "perf_6_month_avg     float64\n",
       "perf_12_month_avg    float64\n",
       "local_bo_qty           int64\n",
       "deck_risk             object\n",
       "oe_constraint         object\n",
       "ppap_risk             object\n",
       "stop_auto_buy         object\n",
       "rev_stop              object\n",
       "went_on_backorder     object\n",
       "dtype: object"
      ]
     },
     "execution_count": 9,
     "metadata": {},
     "output_type": "execute_result"
    }
   ],
   "source": [
    "data.dtypes"
   ]
  },
  {
   "cell_type": "markdown",
   "metadata": {},
   "source": [
    "#### Observations\n",
    "\n",
    "    sku is Categorical but is interpreted as int64 \n",
    "\n",
    "    potential_issue, deck_risk, oe_constraint, ppap_risk, stop_auto_buy, rev_stop, and went_on_backorder are categorical but are interpreted as object. "
   ]
  },
  {
   "cell_type": "markdown",
   "metadata": {},
   "source": [
    "#### Convert all the attributes to appropriate type"
   ]
  },
  {
   "cell_type": "markdown",
   "metadata": {},
   "source": [
    "Data type conversion\n",
    "\n",
    "    Using astype('category') to convert potential_issue, deck_risk, oe_constraint, ppap_risk, stop_auto_buy, rev_stop, and went_on_backorder attributes to categorical attributes.\n"
   ]
  },
  {
   "cell_type": "code",
   "execution_count": 10,
   "metadata": {},
   "outputs": [],
   "source": [
    "data[['potential_issue','deck_risk','oe_constraint','ppap_risk','stop_auto_buy','rev_stop','went_on_backorder']]=\\\n",
    "data[['potential_issue','deck_risk','oe_constraint','ppap_risk','stop_auto_buy','rev_stop','went_on_backorder']].astype('category')\n",
    "#potential_issue, deck_risk, oe_constraint, ppap_risk, stop_auto_buy, rev_stop, and went_on_backorder"
   ]
  },
  {
   "cell_type": "markdown",
   "metadata": {},
   "source": [
    "Display data type of each variable"
   ]
  },
  {
   "cell_type": "code",
   "execution_count": 11,
   "metadata": {},
   "outputs": [
    {
     "data": {
      "text/plain": [
       "sku                     int64\n",
       "national_inv            int64\n",
       "lead_time             float64\n",
       "in_transit_qty          int64\n",
       "forecast_3_month        int64\n",
       "forecast_6_month        int64\n",
       "forecast_9_month        int64\n",
       "sales_1_month           int64\n",
       "sales_3_month           int64\n",
       "sales_6_month           int64\n",
       "sales_9_month           int64\n",
       "min_bank                int64\n",
       "potential_issue      category\n",
       "pieces_past_due         int64\n",
       "perf_6_month_avg      float64\n",
       "perf_12_month_avg     float64\n",
       "local_bo_qty            int64\n",
       "deck_risk            category\n",
       "oe_constraint        category\n",
       "ppap_risk            category\n",
       "stop_auto_buy        category\n",
       "rev_stop             category\n",
       "went_on_backorder    category\n",
       "dtype: object"
      ]
     },
     "execution_count": 11,
     "metadata": {},
     "output_type": "execute_result"
    }
   ],
   "source": [
    "data.dtypes"
   ]
  },
  {
   "cell_type": "markdown",
   "metadata": {},
   "source": [
    "##### Delete sku attribute"
   ]
  },
  {
   "cell_type": "code",
   "execution_count": 12,
   "metadata": {},
   "outputs": [],
   "source": [
    "data.drop('sku', axis=1,inplace=True)"
   ]
  },
  {
   "cell_type": "code",
   "execution_count": 13,
   "metadata": {},
   "outputs": [
    {
     "data": {
      "text/plain": [
       "national_inv            int64\n",
       "lead_time             float64\n",
       "in_transit_qty          int64\n",
       "forecast_3_month        int64\n",
       "forecast_6_month        int64\n",
       "forecast_9_month        int64\n",
       "sales_1_month           int64\n",
       "sales_3_month           int64\n",
       "sales_6_month           int64\n",
       "sales_9_month           int64\n",
       "min_bank                int64\n",
       "potential_issue      category\n",
       "pieces_past_due         int64\n",
       "perf_6_month_avg      float64\n",
       "perf_12_month_avg     float64\n",
       "local_bo_qty            int64\n",
       "deck_risk            category\n",
       "oe_constraint        category\n",
       "ppap_risk            category\n",
       "stop_auto_buy        category\n",
       "rev_stop             category\n",
       "went_on_backorder    category\n",
       "dtype: object"
      ]
     },
     "execution_count": 13,
     "metadata": {},
     "output_type": "execute_result"
    }
   ],
   "source": [
    "data.dtypes"
   ]
  },
  {
   "cell_type": "markdown",
   "metadata": {},
   "source": [
    "#### Missing Data\n",
    "\n",
    "    Missing value analysis and dropping the records with missing values"
   ]
  },
  {
   "cell_type": "markdown",
   "metadata": {},
   "source": [
    "Observing the number of records before and after missing value records removal"
   ]
  },
  {
   "cell_type": "code",
   "execution_count": 14,
   "metadata": {},
   "outputs": [
    {
     "name": "stdout",
     "output_type": "stream",
     "text": [
      "Before removing NA values:\n"
     ]
    },
    {
     "data": {
      "text/plain": [
       "national_inv            0\n",
       "lead_time            3403\n",
       "in_transit_qty          0\n",
       "forecast_3_month        0\n",
       "forecast_6_month        0\n",
       "forecast_9_month        0\n",
       "sales_1_month           0\n",
       "sales_3_month           0\n",
       "sales_6_month           0\n",
       "sales_9_month           0\n",
       "min_bank                0\n",
       "potential_issue         0\n",
       "pieces_past_due         0\n",
       "perf_6_month_avg     4341\n",
       "perf_12_month_avg    4091\n",
       "local_bo_qty            0\n",
       "deck_risk               0\n",
       "oe_constraint           0\n",
       "ppap_risk               0\n",
       "stop_auto_buy           0\n",
       "rev_stop                0\n",
       "went_on_backorder       0\n",
       "dtype: int64"
      ]
     },
     "execution_count": 14,
     "metadata": {},
     "output_type": "execute_result"
    }
   ],
   "source": [
    "print('Before removing NA values:')\n",
    "data.isna().sum()"
   ]
  },
  {
   "cell_type": "markdown",
   "metadata": {},
   "source": [
    "Since the number of missing values is about 5%. For initial analysis we ignore all these records"
   ]
  },
  {
   "cell_type": "code",
   "execution_count": 15,
   "metadata": {},
   "outputs": [
    {
     "name": "stdout",
     "output_type": "stream",
     "text": [
      "After removing NA values:\n"
     ]
    },
    {
     "data": {
      "text/plain": [
       "national_inv         0\n",
       "lead_time            0\n",
       "in_transit_qty       0\n",
       "forecast_3_month     0\n",
       "forecast_6_month     0\n",
       "forecast_9_month     0\n",
       "sales_1_month        0\n",
       "sales_3_month        0\n",
       "sales_6_month        0\n",
       "sales_9_month        0\n",
       "min_bank             0\n",
       "potential_issue      0\n",
       "pieces_past_due      0\n",
       "perf_6_month_avg     0\n",
       "perf_12_month_avg    0\n",
       "local_bo_qty         0\n",
       "deck_risk            0\n",
       "oe_constraint        0\n",
       "ppap_risk            0\n",
       "stop_auto_buy        0\n",
       "rev_stop             0\n",
       "went_on_backorder    0\n",
       "dtype: int64"
      ]
     },
     "execution_count": 15,
     "metadata": {},
     "output_type": "execute_result"
    }
   ],
   "source": [
    "data.dropna(inplace=True)\n",
    "print('After removing NA values:')\n",
    "data.isna().sum()"
   ]
  },
  {
   "cell_type": "markdown",
   "metadata": {},
   "source": [
    "#### Converting Categorical to Numeric\n",
    "\n",
    "For some of the models all the independent attribute should be of type numeric and ANN model is one among them.\n",
    "But this data set has some categorial attributes.\n",
    "\n",
    "'pandas.get_dummies' To convert convert categorical variable into dummy/indicator variables\n"
   ]
  },
  {
   "cell_type": "markdown",
   "metadata": {},
   "source": [
    "##### Creating dummy variables.\n",
    "\n",
    "If we have k levels in a category, then we create k-1 dummy variables as the last one would be redundant. So we use the parameter drop_first in pd.get_dummies function that drops the first level in each of the category\n"
   ]
  },
  {
   "cell_type": "code",
   "execution_count": 16,
   "metadata": {},
   "outputs": [
    {
     "name": "stdout",
     "output_type": "stream",
     "text": [
      "national_inv               int64\n",
      "lead_time                float64\n",
      "in_transit_qty             int64\n",
      "forecast_3_month           int64\n",
      "forecast_6_month           int64\n",
      "forecast_9_month           int64\n",
      "sales_1_month              int64\n",
      "sales_3_month              int64\n",
      "sales_6_month              int64\n",
      "sales_9_month              int64\n",
      "min_bank                   int64\n",
      "pieces_past_due            int64\n",
      "perf_6_month_avg         float64\n",
      "perf_12_month_avg        float64\n",
      "local_bo_qty               int64\n",
      "potential_issue_Yes        uint8\n",
      "deck_risk_Yes              uint8\n",
      "oe_constraint_Yes          uint8\n",
      "ppap_risk_Yes              uint8\n",
      "stop_auto_buy_Yes          uint8\n",
      "rev_stop_Yes               uint8\n",
      "went_on_backorder_Yes      uint8\n",
      "dtype: object\n"
     ]
    },
    {
     "data": {
      "text/html": [
       "<div>\n",
       "<style scoped>\n",
       "    .dataframe tbody tr th:only-of-type {\n",
       "        vertical-align: middle;\n",
       "    }\n",
       "\n",
       "    .dataframe tbody tr th {\n",
       "        vertical-align: top;\n",
       "    }\n",
       "\n",
       "    .dataframe thead th {\n",
       "        text-align: right;\n",
       "    }\n",
       "</style>\n",
       "<table border=\"1\" class=\"dataframe\">\n",
       "  <thead>\n",
       "    <tr style=\"text-align: right;\">\n",
       "      <th></th>\n",
       "      <th>national_inv</th>\n",
       "      <th>lead_time</th>\n",
       "      <th>in_transit_qty</th>\n",
       "      <th>forecast_3_month</th>\n",
       "      <th>forecast_6_month</th>\n",
       "      <th>forecast_9_month</th>\n",
       "      <th>sales_1_month</th>\n",
       "      <th>sales_3_month</th>\n",
       "      <th>sales_6_month</th>\n",
       "      <th>sales_9_month</th>\n",
       "      <th>...</th>\n",
       "      <th>perf_6_month_avg</th>\n",
       "      <th>perf_12_month_avg</th>\n",
       "      <th>local_bo_qty</th>\n",
       "      <th>potential_issue_Yes</th>\n",
       "      <th>deck_risk_Yes</th>\n",
       "      <th>oe_constraint_Yes</th>\n",
       "      <th>ppap_risk_Yes</th>\n",
       "      <th>stop_auto_buy_Yes</th>\n",
       "      <th>rev_stop_Yes</th>\n",
       "      <th>went_on_backorder_Yes</th>\n",
       "    </tr>\n",
       "  </thead>\n",
       "  <tbody>\n",
       "    <tr>\n",
       "      <th>1</th>\n",
       "      <td>7</td>\n",
       "      <td>2.0</td>\n",
       "      <td>0</td>\n",
       "      <td>0</td>\n",
       "      <td>0</td>\n",
       "      <td>0</td>\n",
       "      <td>0</td>\n",
       "      <td>0</td>\n",
       "      <td>0</td>\n",
       "      <td>0</td>\n",
       "      <td>...</td>\n",
       "      <td>0.50</td>\n",
       "      <td>0.28</td>\n",
       "      <td>0</td>\n",
       "      <td>0</td>\n",
       "      <td>1</td>\n",
       "      <td>0</td>\n",
       "      <td>0</td>\n",
       "      <td>1</td>\n",
       "      <td>0</td>\n",
       "      <td>0</td>\n",
       "    </tr>\n",
       "    <tr>\n",
       "      <th>2</th>\n",
       "      <td>258</td>\n",
       "      <td>15.0</td>\n",
       "      <td>10</td>\n",
       "      <td>10</td>\n",
       "      <td>77</td>\n",
       "      <td>184</td>\n",
       "      <td>46</td>\n",
       "      <td>132</td>\n",
       "      <td>256</td>\n",
       "      <td>365</td>\n",
       "      <td>...</td>\n",
       "      <td>0.54</td>\n",
       "      <td>0.70</td>\n",
       "      <td>0</td>\n",
       "      <td>0</td>\n",
       "      <td>0</td>\n",
       "      <td>0</td>\n",
       "      <td>0</td>\n",
       "      <td>1</td>\n",
       "      <td>0</td>\n",
       "      <td>0</td>\n",
       "    </tr>\n",
       "    <tr>\n",
       "      <th>3</th>\n",
       "      <td>46</td>\n",
       "      <td>2.0</td>\n",
       "      <td>0</td>\n",
       "      <td>0</td>\n",
       "      <td>0</td>\n",
       "      <td>0</td>\n",
       "      <td>1</td>\n",
       "      <td>2</td>\n",
       "      <td>6</td>\n",
       "      <td>9</td>\n",
       "      <td>...</td>\n",
       "      <td>0.75</td>\n",
       "      <td>0.90</td>\n",
       "      <td>0</td>\n",
       "      <td>0</td>\n",
       "      <td>1</td>\n",
       "      <td>0</td>\n",
       "      <td>0</td>\n",
       "      <td>1</td>\n",
       "      <td>0</td>\n",
       "      <td>0</td>\n",
       "    </tr>\n",
       "    <tr>\n",
       "      <th>4</th>\n",
       "      <td>2</td>\n",
       "      <td>2.0</td>\n",
       "      <td>0</td>\n",
       "      <td>4</td>\n",
       "      <td>6</td>\n",
       "      <td>10</td>\n",
       "      <td>2</td>\n",
       "      <td>2</td>\n",
       "      <td>5</td>\n",
       "      <td>6</td>\n",
       "      <td>...</td>\n",
       "      <td>0.97</td>\n",
       "      <td>0.92</td>\n",
       "      <td>0</td>\n",
       "      <td>0</td>\n",
       "      <td>0</td>\n",
       "      <td>0</td>\n",
       "      <td>0</td>\n",
       "      <td>1</td>\n",
       "      <td>0</td>\n",
       "      <td>0</td>\n",
       "    </tr>\n",
       "    <tr>\n",
       "      <th>5</th>\n",
       "      <td>297</td>\n",
       "      <td>12.0</td>\n",
       "      <td>0</td>\n",
       "      <td>0</td>\n",
       "      <td>0</td>\n",
       "      <td>0</td>\n",
       "      <td>5</td>\n",
       "      <td>6</td>\n",
       "      <td>44</td>\n",
       "      <td>57</td>\n",
       "      <td>...</td>\n",
       "      <td>0.58</td>\n",
       "      <td>0.75</td>\n",
       "      <td>0</td>\n",
       "      <td>0</td>\n",
       "      <td>1</td>\n",
       "      <td>0</td>\n",
       "      <td>0</td>\n",
       "      <td>1</td>\n",
       "      <td>0</td>\n",
       "      <td>0</td>\n",
       "    </tr>\n",
       "  </tbody>\n",
       "</table>\n",
       "<p>5 rows × 22 columns</p>\n",
       "</div>"
      ],
      "text/plain": [
       "   national_inv  lead_time  in_transit_qty  forecast_3_month  \\\n",
       "1             7        2.0               0                 0   \n",
       "2           258       15.0              10                10   \n",
       "3            46        2.0               0                 0   \n",
       "4             2        2.0               0                 4   \n",
       "5           297       12.0               0                 0   \n",
       "\n",
       "   forecast_6_month  forecast_9_month  sales_1_month  sales_3_month  \\\n",
       "1                 0                 0              0              0   \n",
       "2                77               184             46            132   \n",
       "3                 0                 0              1              2   \n",
       "4                 6                10              2              2   \n",
       "5                 0                 0              5              6   \n",
       "\n",
       "   sales_6_month  sales_9_month  ...  perf_6_month_avg  perf_12_month_avg  \\\n",
       "1              0              0  ...              0.50               0.28   \n",
       "2            256            365  ...              0.54               0.70   \n",
       "3              6              9  ...              0.75               0.90   \n",
       "4              5              6  ...              0.97               0.92   \n",
       "5             44             57  ...              0.58               0.75   \n",
       "\n",
       "   local_bo_qty  potential_issue_Yes  deck_risk_Yes  oe_constraint_Yes  \\\n",
       "1             0                    0              1                  0   \n",
       "2             0                    0              0                  0   \n",
       "3             0                    0              1                  0   \n",
       "4             0                    0              0                  0   \n",
       "5             0                    0              1                  0   \n",
       "\n",
       "   ppap_risk_Yes  stop_auto_buy_Yes  rev_stop_Yes  went_on_backorder_Yes  \n",
       "1              0                  1             0                      0  \n",
       "2              0                  1             0                      0  \n",
       "3              0                  1             0                      0  \n",
       "4              0                  1             0                      0  \n",
       "5              0                  1             0                      0  \n",
       "\n",
       "[5 rows x 22 columns]"
      ]
     },
     "execution_count": 16,
     "metadata": {},
     "output_type": "execute_result"
    }
   ],
   "source": [
    "data = pd.get_dummies(data, columns=['potential_issue','deck_risk','oe_constraint','ppap_risk',\n",
    "                                     'stop_auto_buy','rev_stop','went_on_backorder'], drop_first=True)\n",
    "print(data.dtypes)\n",
    "data.head()"
   ]
  },
  {
   "cell_type": "markdown",
   "metadata": {},
   "source": [
    "#### Target attribute distribution"
   ]
  },
  {
   "cell_type": "code",
   "execution_count": 17,
   "metadata": {},
   "outputs": [
    {
     "data": {
      "text/plain": [
       "0    81.024665\n",
       "1    18.975335\n",
       "Name: went_on_backorder_Yes, dtype: float64"
      ]
     },
     "execution_count": 17,
     "metadata": {},
     "output_type": "execute_result"
    }
   ],
   "source": [
    "data.went_on_backorder_Yes.value_counts()*100/data.went_on_backorder_Yes.count()"
   ]
  },
  {
   "cell_type": "markdown",
   "metadata": {},
   "source": [
    "#### Train-Test Split\n",
    "\n",
    "Using sklearn.model_selection.train_test_split\n",
    "\n",
    "    Split arrays or matrices into train and test subsets"
   ]
  },
  {
   "cell_type": "code",
   "execution_count": 18,
   "metadata": {},
   "outputs": [],
   "source": [
    "from sklearn.model_selection import train_test_split\n",
    "\n",
    "X_train, X_test, y_train, y_test = train_test_split(data[data.columns.difference(['went_on_backorder_Yes'])],\n",
    "                                                   data['went_on_backorder_Yes'], test_size=0.3,\n",
    "                                                   random_state=123, stratify = data['went_on_backorder_Yes'],\n",
    "                                                   shuffle=True)"
   ]
  },
  {
   "cell_type": "markdown",
   "metadata": {},
   "source": [
    "### Perceptron Model"
   ]
  },
  {
   "cell_type": "code",
   "execution_count": 19,
   "metadata": {},
   "outputs": [
    {
     "name": "stderr",
     "output_type": "stream",
     "text": [
      "Using TensorFlow backend.\n"
     ]
    }
   ],
   "source": [
    "from keras.models import Sequential\n",
    "from keras.layers import Dense"
   ]
  },
  {
   "cell_type": "code",
   "execution_count": 20,
   "metadata": {},
   "outputs": [],
   "source": [
    "perceptron_model = Sequential()\n",
    "\n",
    "perceptron_model.add(Dense(1, input_dim=21, activation='sigmoid', kernel_initializer='normal'))"
   ]
  },
  {
   "cell_type": "code",
   "execution_count": 21,
   "metadata": {},
   "outputs": [],
   "source": [
    "perceptron_model.compile(loss='binary_crossentropy', optimizer='sgd', metrics=['accuracy'])\n",
    "\n",
    "# Note:\n",
    "# For multi-class classification use loss = 'categorical_crossentropy' and metrics = 'categorical_accuracy'\n",
    "# Even if you use \"binary_crossentropy\" as loss, use metrics = 'categorical_accuracy' for multi-class\n",
    "\n",
    "# Why? Because:\n",
    "# Keras does not define a single accuracy metric, but several different ones, among them binary_accuracy and \n",
    "# categorical_accuracy. What happens under the hood is that, since you have selected binary cross entropy as\n",
    "# your loss function and have not specified a particular accuracy metric, Keras (wrongly...) infers that you\n",
    "# are interested in the binary_accuracy, and this is what it returns - while in fact you are interested in \n",
    "# the categorical_accuracy."
   ]
  },
  {
   "cell_type": "code",
   "execution_count": 22,
   "metadata": {},
   "outputs": [
    {
     "name": "stdout",
     "output_type": "stream",
     "text": [
      "Train on 32058 samples, validate on 8015 samples\n",
      "Epoch 1/10\n",
      "32058/32058 [==============================] - 1s 23us/step - loss: 1494.3274 - accuracy: 0.8069 - val_loss: 179.7598 - val_accuracy: 0.8099\n",
      "Epoch 2/10\n",
      "32058/32058 [==============================] - 1s 23us/step - loss: 1345.5779 - accuracy: 0.8267 - val_loss: 1932.6475 - val_accuracy: 0.7647\n",
      "Epoch 3/10\n",
      "32058/32058 [==============================] - 1s 22us/step - loss: 4446.7124 - accuracy: 0.7974 - val_loss: 1607.7090 - val_accuracy: 0.8050\n",
      "Epoch 4/10\n",
      "32058/32058 [==============================] - 1s 20us/step - loss: 2647.5053 - accuracy: 0.8000 - val_loss: 403.7133 - val_accuracy: 0.8399\n",
      "Epoch 5/10\n",
      "32058/32058 [==============================] - 1s 19us/step - loss: 1624.6081 - accuracy: 0.8129 - val_loss: 167.3338 - val_accuracy: 0.8478\n",
      "Epoch 6/10\n",
      "32058/32058 [==============================] - 1s 20us/step - loss: 3037.5554 - accuracy: 0.8214 - val_loss: 4821.1001 - val_accuracy: 0.7654\n",
      "Epoch 7/10\n",
      "32058/32058 [==============================] - 1s 23us/step - loss: 2683.6423 - accuracy: 0.7877 - val_loss: 3619.3441 - val_accuracy: 0.7571\n",
      "Epoch 8/10\n",
      "32058/32058 [==============================] - 1s 18us/step - loss: 1804.6586 - accuracy: 0.8056 - val_loss: 3378.9909 - val_accuracy: 0.7641\n",
      "Epoch 9/10\n",
      "32058/32058 [==============================] - 1s 19us/step - loss: 1739.8266 - accuracy: 0.8059 - val_loss: 1672.9296 - val_accuracy: 0.7946\n",
      "Epoch 10/10\n",
      "32058/32058 [==============================] - 1s 20us/step - loss: 1878.3557 - accuracy: 0.8184 - val_loss: 9099.2489 - val_accuracy: 0.7824\n"
     ]
    }
   ],
   "source": [
    "perceptron_model_history = perceptron_model.fit(X_train, y_train, epochs=10, batch_size=64,\n",
    "                                               validation_split=0.2,use_multiprocessing=True) #shuffle=True"
   ]
  },
  {
   "cell_type": "markdown",
   "metadata": {},
   "source": [
    "##### Plot"
   ]
  },
  {
   "cell_type": "code",
   "execution_count": 23,
   "metadata": {},
   "outputs": [
    {
     "name": "stdout",
     "output_type": "stream",
     "text": [
      "dict_keys(['val_loss', 'val_accuracy', 'loss', 'accuracy'])\n"
     ]
    }
   ],
   "source": [
    "print(perceptron_model_history.history.keys())"
   ]
  },
  {
   "cell_type": "code",
   "execution_count": 24,
   "metadata": {},
   "outputs": [],
   "source": [
    "import matplotlib.pyplot as plt"
   ]
  },
  {
   "cell_type": "code",
   "execution_count": 25,
   "metadata": {},
   "outputs": [
    {
     "data": {
      "image/png": "[encoded data removed]",
      "text/plain": [
       "<Figure size 432x288 with 1 Axes>"
      ]
     },
     "metadata": {
      "needs_background": "light"
     },
     "output_type": "display_data"
    }
   ],
   "source": [
    "plt.plot(perceptron_model_history.history['accuracy'])\n",
    "plt.plot(perceptron_model_history.history['val_accuracy'])\n",
    "plt.title('Accuracy Plot')\n",
    "plt.ylabel('Accuracy')\n",
    "plt.xlabel('Epoch')\n",
    "plt.legend(['Train', 'Validation'])\n",
    "plt.show()"
   ]
  },
  {
   "cell_type": "code",
   "execution_count": 26,
   "metadata": {},
   "outputs": [
    {
     "data": {
      "image/png": "[encoded data removed]",
      "text/plain": [
       "<Figure size 432x288 with 1 Axes>"
      ]
     },
     "metadata": {
      "needs_background": "light"
     },
     "output_type": "display_data"
    }
   ],
   "source": [
    "plt.plot(perceptron_model_history.history['loss'])\n",
    "plt.plot(perceptron_model_history.history['val_loss'])\n",
    "plt.title('Loss Function Plot')\n",
    "plt.ylabel('Loss')\n",
    "plt.xlabel('Epoch')\n",
    "plt.legend(['Train', 'Validation'])\n",
    "plt.show()"
   ]
  },
  {
   "cell_type": "code",
   "execution_count": 27,
   "metadata": {},
   "outputs": [
    {
     "name": "stdout",
     "output_type": "stream",
     "text": [
      "Model: \"sequential_1\"\n",
      "_________________________________________________________________\n",
      "Layer (type)                 Output Shape              Param #   \n",
      "=================================================================\n",
      "dense_1 (Dense)              (None, 1)                 22        \n",
      "=================================================================\n",
      "Total params: 22\n",
      "Trainable params: 22\n",
      "Non-trainable params: 0\n",
      "_________________________________________________________________\n",
      "None\n"
     ]
    }
   ],
   "source": [
    "# Get Model Summary:\n",
    "\n",
    "print(perceptron_model.summary())"
   ]
  },
  {
   "cell_type": "code",
   "execution_count": 28,
   "metadata": {},
   "outputs": [
    {
     "data": {
      "image/png": "[encoded data removed]",
      "text/plain": [
       "<IPython.core.display.Image object>"
      ]
     },
     "execution_count": 28,
     "metadata": {},
     "output_type": "execute_result"
    }
   ],
   "source": [
    "# Vizualize the model:\n",
    "\n",
    "from keras.utils.vis_utils import plot_model\n",
    "\n",
    "plot_model(perceptron_model, to_file='perceptron_model.png', show_shapes=True, show_layer_names=True) # to_file='model_plot.png'"
   ]
  },
  {
   "cell_type": "markdown",
   "metadata": {},
   "source": [
    "##### Predictions"
   ]
  },
  {
   "cell_type": "code",
   "execution_count": 29,
   "metadata": {},
   "outputs": [],
   "source": [
    "from sklearn.metrics import confusion_matrix"
   ]
  },
  {
   "cell_type": "code",
   "execution_count": 30,
   "metadata": {},
   "outputs": [
    {
     "name": "stdout",
     "output_type": "stream",
     "text": [
      "[[31471   998]\n",
      " [ 7522    82]]\n",
      "[[13483   433]\n",
      " [ 3228    31]]\n"
     ]
    }
   ],
   "source": [
    "test_pred = perceptron_model.predict_classes(X_test)\n",
    "train_pred = perceptron_model.predict_classes(X_train)\n",
    "\n",
    "confusion_matrix_test = confusion_matrix(y_test, test_pred)\n",
    "confusion_matrix_train = confusion_matrix(y_train, train_pred)\n",
    "\n",
    "print(confusion_matrix_train)\n",
    "print(confusion_matrix_test)"
   ]
  },
  {
   "cell_type": "markdown",
   "metadata": {},
   "source": [
    "##### Train Test Accuracy, True Negative Rate and True Positive Rate"
   ]
  },
  {
   "cell_type": "code",
   "execution_count": 31,
   "metadata": {},
   "outputs": [
    {
     "name": "stdout",
     "output_type": "stream",
     "text": [
      "Train TNR:  0.969262989312883\n",
      "Train TPR:  0.010783798001052078\n",
      "Train Accuracy:  0.7873880168692137\n",
      "-----------------------\n",
      "Test TNR:  0.968884736993389\n",
      "Test TPR:  0.009512120282295183\n",
      "Test Accuracy:  0.7868413391557496\n"
     ]
    }
   ],
   "source": [
    "Accuracy_Train=(confusion_matrix_train[0,0]+confusion_matrix_train[1,1])/(confusion_matrix_train[0,0]+confusion_matrix_train[0,1]+confusion_matrix_train[1,0]+confusion_matrix_train[1,1])\n",
    "TNR_Train= confusion_matrix_train[0,0]/(confusion_matrix_train[0,0]+confusion_matrix_train[0,1])\n",
    "TPR_Train= confusion_matrix_train[1,1]/(confusion_matrix_train[1,0]+confusion_matrix_train[1,1])\n",
    "\n",
    "print(\"Train TNR: \",TNR_Train)\n",
    "print(\"Train TPR: \",TPR_Train)\n",
    "print(\"Train Accuracy: \",Accuracy_Train)\n",
    "\n",
    "print(\"-----------------------\")\n",
    "\n",
    "Accuracy_Test=(confusion_matrix_test[0,0]+confusion_matrix_test[1,1])/(confusion_matrix_test[0,0]+confusion_matrix_test[0,1]+confusion_matrix_test[1,0]+confusion_matrix_test[1,1])\n",
    "TNR_Test= confusion_matrix_test[0,0]/(confusion_matrix_test[0,0] +confusion_matrix_test[0,1])\n",
    "TPR_Test= confusion_matrix_test[1,1]/(confusion_matrix_test[1,0] +confusion_matrix_test[1,1])\n",
    "\n",
    "print(\"Test TNR: \",TNR_Test)\n",
    "print(\"Test TPR: \",TPR_Test)\n",
    "print(\"Test Accuracy: \",Accuracy_Test)"
   ]
  },
  {
   "cell_type": "markdown",
   "metadata": {},
   "source": [
    "### MLP with 2 layers\n",
    "\n",
    "    1 hidden layer with 15 neurons"
   ]
  },
  {
   "cell_type": "code",
   "execution_count": 32,
   "metadata": {},
   "outputs": [
    {
     "name": "stdout",
     "output_type": "stream",
     "text": [
      "Train on 32058 samples, validate on 8015 samples\n",
      "Epoch 1/10\n",
      "32058/32058 [==============================] - 1s 30us/step - loss: 0.3196 - accuracy: 0.8497 - val_loss: 0.3069 - val_accuracy: 0.8477\n",
      "Epoch 2/10\n",
      "32058/32058 [==============================] - 1s 27us/step - loss: 0.2963 - accuracy: 0.8695 - val_loss: 0.2893 - val_accuracy: 0.8845\n",
      "Epoch 3/10\n",
      "32058/32058 [==============================] - 1s 27us/step - loss: 0.3062 - accuracy: 0.8560 - val_loss: 0.3020 - val_accuracy: 0.8827\n",
      "Epoch 4/10\n",
      "32058/32058 [==============================] - 1s 31us/step - loss: 0.3048 - accuracy: 0.8612 - val_loss: 0.2924 - val_accuracy: 0.8833\n",
      "Epoch 5/10\n",
      "32058/32058 [==============================] - 1s 27us/step - loss: 0.2874 - accuracy: 0.8759 - val_loss: 0.2937 - val_accuracy: 0.8801\n",
      "Epoch 6/10\n",
      "32058/32058 [==============================] - 1s 32us/step - loss: 0.2985 - accuracy: 0.8610 - val_loss: 0.2963 - val_accuracy: 0.8720\n",
      "Epoch 7/10\n",
      "32058/32058 [==============================] - 1s 25us/step - loss: 0.2790 - accuracy: 0.8853 - val_loss: 0.2814 - val_accuracy: 0.8840\n",
      "Epoch 8/10\n",
      "32058/32058 [==============================] - 1s 27us/step - loss: 0.2850 - accuracy: 0.8776 - val_loss: 0.3328 - val_accuracy: 0.8220\n",
      "Epoch 9/10\n",
      "32058/32058 [==============================] - 1s 34us/step - loss: 0.2965 - accuracy: 0.8638 - val_loss: 0.2921 - val_accuracy: 0.8813\n",
      "Epoch 10/10\n",
      "32058/32058 [==============================] - 1s 36us/step - loss: 0.3116 - accuracy: 0.8538 - val_loss: 0.3687 - val_accuracy: 0.8096\n",
      "dict_keys(['val_loss', 'val_accuracy', 'loss', 'accuracy'])\n"
     ]
    },
    {
     "data": {
      "image/png": "[encoded data removed]",
      "text/plain": [
       "<Figure size 432x288 with 1 Axes>"
      ]
     },
     "metadata": {
      "needs_background": "light"
     },
     "output_type": "display_data"
    },
    {
     "data": {
      "image/png": "[encoded data removed]",
      "text/plain": [
       "<Figure size 432x288 with 1 Axes>"
      ]
     },
     "metadata": {
      "needs_background": "light"
     },
     "output_type": "display_data"
    },
    {
     "name": "stdout",
     "output_type": "stream",
     "text": [
      "Model: \"sequential_2\"\n",
      "_________________________________________________________________\n",
      "Layer (type)                 Output Shape              Param #   \n",
      "=================================================================\n",
      "dense_2 (Dense)              (None, 15)                330       \n",
      "_________________________________________________________________\n",
      "dense_3 (Dense)              (None, 1)                 16        \n",
      "=================================================================\n",
      "Total params: 346\n",
      "Trainable params: 346\n",
      "Non-trainable params: 0\n",
      "_________________________________________________________________\n",
      "None\n"
     ]
    },
    {
     "data": {
      "image/png": "[encoded data removed]",
      "text/plain": [
       "<IPython.core.display.Image object>"
      ]
     },
     "execution_count": 32,
     "metadata": {},
     "output_type": "execute_result"
    }
   ],
   "source": [
    "## MLP with 2 layers and 15 neurons:\n",
    "\n",
    "# Define MLP model:\n",
    "\n",
    "from keras import initializers\n",
    "\n",
    "mlp_model_15 = Sequential()\n",
    "\n",
    "mlp_model_15.add(Dense(15, input_dim=21, activation='tanh', kernel_initializer=initializers.RandomUniform(seed=123)))\n",
    "mlp_model_15.add(Dense(1, activation='sigmoid'))\n",
    "mlp_model_15.compile(loss='binary_crossentropy', optimizer='sgd', metrics=['accuracy'])\n",
    "\n",
    "\n",
    "mlp_model_15_history = mlp_model_15.fit(X_train, y_train, epochs=10, batch_size=64,\n",
    "                                        validation_split=0.2,use_multiprocessing=True)\n",
    "\n",
    "## Plot:\n",
    "print(mlp_model_15_history.history.keys())\n",
    "\n",
    "## Accuracy:\n",
    "plt.plot(mlp_model_15_history.history['accuracy'])\n",
    "plt.plot(mlp_model_15_history.history['val_accuracy'])\n",
    "plt.title('Accuracy Plot')\n",
    "plt.ylabel('Accuracy')\n",
    "plt.xlabel('Epoch')\n",
    "plt.legend(['Train', 'Validation'])\n",
    "plt.show()\n",
    "\n",
    "## Loss:\n",
    "plt.plot(mlp_model_15_history.history['loss'])\n",
    "plt.plot(mlp_model_15_history.history['val_loss'])\n",
    "plt.title('Loss Function Plot')\n",
    "plt.ylabel('Loss')\n",
    "plt.xlabel('Epoch')\n",
    "plt.legend(['Train', 'Validation'])\n",
    "plt.show()\n",
    "\n",
    "# Get Model Summary:\n",
    "print(mlp_model_15.summary())\n",
    "\n",
    "# Vizualize the model:\n",
    "from keras.utils.vis_utils import plot_model\n",
    "\n",
    "plot_model(mlp_model_15, to_file='mlp_model_15.png', show_shapes=True, show_layer_names=True) # to_file='model_plot.png'\n"
   ]
  },
  {
   "cell_type": "markdown",
   "metadata": {},
   "source": [
    "#### Predictions"
   ]
  },
  {
   "cell_type": "markdown",
   "metadata": {},
   "source": [
    "#### Getting evaluation metrics and evaluating model performance"
   ]
  },
  {
   "cell_type": "markdown",
   "metadata": {},
   "source": [
    "#### Calculate Accuracy, True Positive Rate and True Negative Rates"
   ]
  },
  {
   "cell_type": "code",
   "execution_count": 33,
   "metadata": {},
   "outputs": [
    {
     "name": "stdout",
     "output_type": "stream",
     "text": [
      "[[32293   176]\n",
      " [ 7318   286]]\n",
      "[[13828    88]\n",
      " [ 3127   132]]\n",
      "Train TNR:  0.9945794450090856\n",
      "Train TPR:  0.03761178327196212\n",
      "Train Accuracy:  0.8129912908941183\n",
      "-----------------------\n",
      "Test TNR:  0.9936763437769474\n",
      "Test TPR:  0.04050322184719239\n",
      "Test Accuracy:  0.8128093158660844\n"
     ]
    }
   ],
   "source": [
    "#### Predictions\n",
    "\n",
    "#### Getting evaluation metrics and evaluating model performance\n",
    "\n",
    "mlp_test_pred_15 = mlp_model_15.predict_classes(X_test)\n",
    "mlp_train_pred_15 = mlp_model_15.predict_classes(X_train)\n",
    "\n",
    "mlp_confusion_matrix_test_15 = confusion_matrix(y_test, mlp_test_pred_15)\n",
    "mlp_confusion_matrix_train_15 = confusion_matrix(y_train, mlp_train_pred_15)\n",
    "\n",
    "print(mlp_confusion_matrix_train_15)\n",
    "print(mlp_confusion_matrix_test_15)\n",
    "\n",
    "\n",
    "#### Calculate Accuracy, True Positive Rate and True Negative Rates\n",
    "\n",
    "##### Train Test Accuracy, True Negative Rate and True Positive Rate\n",
    "\n",
    "mlp_Accuracy_Train_15=(mlp_confusion_matrix_train_15[0,0]+mlp_confusion_matrix_train_15[1,1])/(mlp_confusion_matrix_train_15[0,0]+mlp_confusion_matrix_train_15[0,1]+mlp_confusion_matrix_train_15[1,0]+mlp_confusion_matrix_train_15[1,1])\n",
    "mlp_TNR_Train_15=mlp_confusion_matrix_train_15[0,0]/(mlp_confusion_matrix_train_15[0,0]+mlp_confusion_matrix_train_15[0,1])\n",
    "mlp_TPR_Train_15=mlp_confusion_matrix_train_15[1,1]/(mlp_confusion_matrix_train_15[1,0]+mlp_confusion_matrix_train_15[1,1])\n",
    "\n",
    "print(\"Train TNR: \",mlp_TNR_Train_15)\n",
    "print(\"Train TPR: \",mlp_TPR_Train_15)\n",
    "print(\"Train Accuracy: \",mlp_Accuracy_Train_15)\n",
    "\n",
    "print(\"-----------------------\")\n",
    "\n",
    "mlp_Accuracy_Test_15=(mlp_confusion_matrix_test_15[0,0]+mlp_confusion_matrix_test_15[1,1])/(mlp_confusion_matrix_test_15[0,0]+mlp_confusion_matrix_test_15[0,1]+mlp_confusion_matrix_test_15[1,0]+mlp_confusion_matrix_test_15[1,1])\n",
    "mlp_TNR_Test_15= mlp_confusion_matrix_test_15[0,0]/(mlp_confusion_matrix_test_15[0,0] + mlp_confusion_matrix_test_15[0,1])\n",
    "mlp_TPR_Test_15= mlp_confusion_matrix_test_15[1,1]/(mlp_confusion_matrix_test_15[1,0] + mlp_confusion_matrix_test_15[1,1])\n",
    "\n",
    "print(\"Test TNR: \",mlp_TNR_Test_15)\n",
    "print(\"Test TPR: \",mlp_TPR_Test_15)\n",
    "print(\"Test Accuracy: \",mlp_Accuracy_Test_15)"
   ]
  },
  {
   "cell_type": "markdown",
   "metadata": {},
   "source": [
    "### MLP with 2 layers\n",
    "\n",
    "    1 hidden layer with 20 neurons"
   ]
  },
  {
   "cell_type": "code",
   "execution_count": 34,
   "metadata": {},
   "outputs": [],
   "source": [
    "# Define MLP model:\n",
    "\n",
    "from keras import initializers\n",
    "\n",
    "mlp_model = Sequential()\n",
    "\n",
    "mlp_model.add(Dense(20, input_dim=21, activation='relu', kernel_initializer=initializers.RandomUniform(seed=123)))\n",
    "mlp_model.add(Dense(1, activation='sigmoid'))\n",
    "mlp_model.compile(loss='binary_crossentropy', optimizer='sgd', metrics=['accuracy'])\n"
   ]
  },
  {
   "cell_type": "code",
   "execution_count": 35,
   "metadata": {},
   "outputs": [
    {
     "name": "stdout",
     "output_type": "stream",
     "text": [
      "Train on 32058 samples, validate on 8015 samples\n",
      "Epoch 1/10\n",
      "32058/32058 [==============================] - 1s 27us/step - loss: 0.8505 - accuracy: 0.8091 - val_loss: 0.4009 - val_accuracy: 0.8055\n",
      "Epoch 2/10\n",
      "32058/32058 [==============================] - 1s 25us/step - loss: 0.4032 - accuracy: 0.8111 - val_loss: 0.4322 - val_accuracy: 0.8055\n",
      "Epoch 3/10\n",
      "32058/32058 [==============================] - 1s 24us/step - loss: 0.4053 - accuracy: 0.8115 - val_loss: 0.4101 - val_accuracy: 0.8055\n",
      "Epoch 4/10\n",
      "32058/32058 [==============================] - 1s 25us/step - loss: 0.4527 - accuracy: 0.8115 - val_loss: 0.4039 - val_accuracy: 0.8054\n",
      "Epoch 5/10\n",
      "32058/32058 [==============================] - 1s 30us/step - loss: 0.3825 - accuracy: 0.8114 - val_loss: 0.3928 - val_accuracy: 0.8055\n",
      "Epoch 6/10\n",
      "32058/32058 [==============================] - 1s 27us/step - loss: 0.3991 - accuracy: 0.8114 - val_loss: 0.4094 - val_accuracy: 0.8055\n",
      "Epoch 7/10\n",
      "32058/32058 [==============================] - 1s 25us/step - loss: 0.3930 - accuracy: 0.8115 - val_loss: 0.4070 - val_accuracy: 0.8056\n",
      "Epoch 8/10\n",
      "32058/32058 [==============================] - 1s 28us/step - loss: 0.3909 - accuracy: 0.8116 - val_loss: 0.4028 - val_accuracy: 0.8056\n",
      "Epoch 9/10\n",
      "32058/32058 [==============================] - 1s 24us/step - loss: 0.3863 - accuracy: 0.8114 - val_loss: 0.4003 - val_accuracy: 0.8055\n",
      "Epoch 10/10\n",
      "32058/32058 [==============================] - 1s 28us/step - loss: 0.3896 - accuracy: 0.8114 - val_loss: 0.3955 - val_accuracy: 0.8055\n"
     ]
    }
   ],
   "source": [
    "mlp_model_history = mlp_model.fit(X_train, y_train, epochs=10, batch_size=64, validation_split=0.2,\n",
    "                                 use_multiprocessing=True)"
   ]
  },
  {
   "cell_type": "code",
   "execution_count": 36,
   "metadata": {},
   "outputs": [
    {
     "name": "stdout",
     "output_type": "stream",
     "text": [
      "dict_keys(['val_loss', 'val_accuracy', 'loss', 'accuracy'])\n"
     ]
    },
    {
     "data": {
      "image/png": "[encoded data removed]",
      "text/plain": [
       "<Figure size 432x288 with 1 Axes>"
      ]
     },
     "metadata": {
      "needs_background": "light"
     },
     "output_type": "display_data"
    },
    {
     "data": {
      "image/png": "[encoded data removed]",
      "text/plain": [
       "<Figure size 432x288 with 1 Axes>"
      ]
     },
     "metadata": {
      "needs_background": "light"
     },
     "output_type": "display_data"
    }
   ],
   "source": [
    "## Plot:\n",
    "print(mlp_model_history.history.keys())\n",
    "\n",
    "## Accuracy:\n",
    "plt.plot(mlp_model_history.history['accuracy'])\n",
    "plt.plot(mlp_model_history.history['val_accuracy'])\n",
    "plt.title('Accuracy Plot')\n",
    "plt.ylabel('Accuracy')\n",
    "plt.xlabel('Epoch')\n",
    "plt.legend(['Train', 'Validation'])\n",
    "plt.show()\n",
    "\n",
    "## Loss:\n",
    "plt.plot(mlp_model_history.history['loss'])\n",
    "plt.plot(mlp_model_history.history['val_loss'])\n",
    "plt.title('Loss Function Plot')\n",
    "plt.ylabel('Loss')\n",
    "plt.xlabel('Epoch')\n",
    "plt.legend(['Train', 'Validation'])\n",
    "plt.show()"
   ]
  },
  {
   "cell_type": "code",
   "execution_count": 37,
   "metadata": {},
   "outputs": [
    {
     "name": "stdout",
     "output_type": "stream",
     "text": [
      "Model: \"sequential_3\"\n",
      "_________________________________________________________________\n",
      "Layer (type)                 Output Shape              Param #   \n",
      "=================================================================\n",
      "dense_4 (Dense)              (None, 20)                440       \n",
      "_________________________________________________________________\n",
      "dense_5 (Dense)              (None, 1)                 21        \n",
      "=================================================================\n",
      "Total params: 461\n",
      "Trainable params: 461\n",
      "Non-trainable params: 0\n",
      "_________________________________________________________________\n",
      "None\n"
     ]
    }
   ],
   "source": [
    "# Get Model Summary:\n",
    "print(mlp_model.summary())"
   ]
  },
  {
   "cell_type": "code",
   "execution_count": 38,
   "metadata": {},
   "outputs": [
    {
     "data": {
      "image/png": "[encoded data removed]",
      "text/plain": [
       "<IPython.core.display.Image object>"
      ]
     },
     "execution_count": 38,
     "metadata": {},
     "output_type": "execute_result"
    }
   ],
   "source": [
    "# Vizualize the model:\n",
    "from keras.utils.vis_utils import plot_model\n",
    "\n",
    "plot_model(mlp_model, to_file='mlp_model.png', show_shapes=True, show_layer_names=True) # to_file='model_plot.png'"
   ]
  },
  {
   "cell_type": "markdown",
   "metadata": {},
   "source": [
    "#### Predictions"
   ]
  },
  {
   "cell_type": "markdown",
   "metadata": {},
   "source": [
    "#### Getting evaluation metrics and evaluating model performance"
   ]
  },
  {
   "cell_type": "code",
   "execution_count": 39,
   "metadata": {},
   "outputs": [
    {
     "name": "stdout",
     "output_type": "stream",
     "text": [
      "[[32467     2]\n",
      " [ 7602     2]]\n",
      "[[13916     0]\n",
      " [ 3258     1]]\n"
     ]
    }
   ],
   "source": [
    "mlp_test_pred = mlp_model.predict_classes(X_test)\n",
    "mlp_train_pred = mlp_model.predict_classes(X_train)\n",
    "\n",
    "mlp_confusion_matrix_test = confusion_matrix(y_test, mlp_test_pred)\n",
    "mlp_confusion_matrix_train = confusion_matrix(y_train, mlp_train_pred)\n",
    "\n",
    "print(mlp_confusion_matrix_train)\n",
    "print(mlp_confusion_matrix_test)\n"
   ]
  },
  {
   "cell_type": "markdown",
   "metadata": {},
   "source": [
    "#### Calculate Accuracy, True Positive Rate and True Negative Rates"
   ]
  },
  {
   "cell_type": "code",
   "execution_count": 40,
   "metadata": {},
   "outputs": [
    {
     "name": "stdout",
     "output_type": "stream",
     "text": [
      "Train TNR:  0.9999384027841941\n",
      "Train TPR:  0.0002630194634402946\n",
      "Train Accuracy:  0.8102463005015846\n",
      "-----------------------\n",
      "Test TNR:  1.0\n",
      "Test TPR:  0.0003068425897514575\n",
      "Test Accuracy:  0.8103056768558952\n"
     ]
    }
   ],
   "source": [
    "##### Train Test Accuracy, True Negative Rate and True Positive Rate\n",
    "\n",
    "mlp_Accuracy_Train=(mlp_confusion_matrix_train[0,0]+mlp_confusion_matrix_train[1,1])/(mlp_confusion_matrix_train[0,0]+mlp_confusion_matrix_train[0,1]+mlp_confusion_matrix_train[1,0]+mlp_confusion_matrix_train[1,1])\n",
    "mlp_TNR_Train=mlp_confusion_matrix_train[0,0]/(mlp_confusion_matrix_train[0,0]+mlp_confusion_matrix_train[0,1])\n",
    "mlp_TPR_Train=mlp_confusion_matrix_train[1,1]/(mlp_confusion_matrix_train[1,0]+mlp_confusion_matrix_train[1,1])\n",
    "\n",
    "print(\"Train TNR: \",mlp_TNR_Train)\n",
    "print(\"Train TPR: \",mlp_TPR_Train)\n",
    "print(\"Train Accuracy: \",mlp_Accuracy_Train)\n",
    "\n",
    "print(\"-----------------------\")\n",
    "\n",
    "mlp_Accuracy_Test=(mlp_confusion_matrix_test[0,0]+mlp_confusion_matrix_test[1,1])/(mlp_confusion_matrix_test[0,0]+mlp_confusion_matrix_test[0,1]+mlp_confusion_matrix_test[1,0]+mlp_confusion_matrix_test[1,1])\n",
    "mlp_TNR_Test= mlp_confusion_matrix_test[0,0]/(mlp_confusion_matrix_test[0,0] + mlp_confusion_matrix_test[0,1])\n",
    "mlp_TPR_Test= mlp_confusion_matrix_test[1,1]/(mlp_confusion_matrix_test[1,0] + mlp_confusion_matrix_test[1,1])\n",
    "\n",
    "print(\"Test TNR: \",mlp_TNR_Test)\n",
    "print(\"Test TPR: \",mlp_TPR_Test)\n",
    "print(\"Test Accuracy: \",mlp_Accuracy_Test)"
   ]
  },
  {
   "cell_type": "markdown",
   "metadata": {},
   "source": [
    "### MLP with 2 layers\n",
    "\n",
    "    1 hidden layer with 25 neurons"
   ]
  },
  {
   "cell_type": "code",
   "execution_count": 41,
   "metadata": {},
   "outputs": [],
   "source": [
    "mlp25 = Sequential()\n",
    "\n",
    "mlp25.add(Dense(25, input_dim=21, activation='sigmoid', kernel_initializer=initializers.RandomUniform(seed=351)))\n",
    "mlp25.add(Dense(1, activation='sigmoid'))\n",
    "mlp25.compile(loss='binary_crossentropy', optimizer='sgd', metrics=['accuracy'])"
   ]
  },
  {
   "cell_type": "code",
   "execution_count": 42,
   "metadata": {},
   "outputs": [
    {
     "name": "stdout",
     "output_type": "stream",
     "text": [
      "Train on 32058 samples, validate on 8015 samples\n",
      "Epoch 1/10\n",
      "32058/32058 [==============================] - 1s 28us/step - loss: 0.3396 - accuracy: 0.8415 - val_loss: 0.3017 - val_accuracy: 0.8689\n",
      "Epoch 2/10\n",
      "32058/32058 [==============================] - 1s 31us/step - loss: 0.2973 - accuracy: 0.8678 - val_loss: 0.3049 - val_accuracy: 0.8520\n",
      "Epoch 3/10\n",
      "32058/32058 [==============================] - 1s 30us/step - loss: 0.2809 - accuracy: 0.8813 - val_loss: 0.2860 - val_accuracy: 0.8761\n",
      "Epoch 4/10\n",
      "32058/32058 [==============================] - 1s 25us/step - loss: 0.2811 - accuracy: 0.8802 - val_loss: 0.2813 - val_accuracy: 0.8837\n",
      "Epoch 5/10\n",
      "32058/32058 [==============================] - 1s 27us/step - loss: 0.2754 - accuracy: 0.8843 - val_loss: 0.2745 - val_accuracy: 0.8925\n",
      "Epoch 6/10\n",
      "32058/32058 [==============================] - 1s 32us/step - loss: 0.2807 - accuracy: 0.8833 - val_loss: 0.2851 - val_accuracy: 0.8816\n",
      "Epoch 7/10\n",
      "32058/32058 [==============================] - 1s 28us/step - loss: 0.2693 - accuracy: 0.8875 - val_loss: 0.2719 - val_accuracy: 0.8908\n",
      "Epoch 8/10\n",
      "32058/32058 [==============================] - 1s 27us/step - loss: 0.2639 - accuracy: 0.8900 - val_loss: 0.2652 - val_accuracy: 0.8944\n",
      "Epoch 9/10\n",
      "32058/32058 [==============================] - 1s 25us/step - loss: 0.2634 - accuracy: 0.8900 - val_loss: 0.2644 - val_accuracy: 0.8907\n",
      "Epoch 10/10\n",
      "32058/32058 [==============================] - 1s 28us/step - loss: 0.2638 - accuracy: 0.8895 - val_loss: 0.2725 - val_accuracy: 0.8866\n"
     ]
    }
   ],
   "source": [
    "mlp25_hist = mlp25.fit(X_train, y_train, epochs=10, batch_size=64, validation_split=0.2,\n",
    "                      use_multiprocessing=True, shuffle=True)"
   ]
  },
  {
   "cell_type": "code",
   "execution_count": 43,
   "metadata": {},
   "outputs": [
    {
     "name": "stdout",
     "output_type": "stream",
     "text": [
      "dict_keys(['val_loss', 'val_accuracy', 'loss', 'accuracy'])\n"
     ]
    },
    {
     "data": {
      "image/png": "[encoded data removed]",
      "text/plain": [
       "<Figure size 432x288 with 1 Axes>"
      ]
     },
     "metadata": {
      "needs_background": "light"
     },
     "output_type": "display_data"
    },
    {
     "data": {
      "image/png": "[encoded data removed]",
      "text/plain": [
       "<Figure size 432x288 with 1 Axes>"
      ]
     },
     "metadata": {
      "needs_background": "light"
     },
     "output_type": "display_data"
    }
   ],
   "source": [
    "## Plot:\n",
    "\n",
    "print(mlp25_hist.history.keys())\n",
    "\n",
    "## Accuracy:\n",
    "\n",
    "plt.plot(mlp25_hist.history['accuracy'])\n",
    "plt.plot(mlp25_hist.history['val_accuracy'])\n",
    "plt.title('Accuracy Plot')\n",
    "plt.ylabel('Accuracy')\n",
    "plt.xlabel('Epoch')\n",
    "plt.legend(['Train','Validation'])\n",
    "plt.show()\n",
    "\n",
    "## Loss:\n",
    "\n",
    "plt.plot(mlp25_hist.history['loss'])\n",
    "plt.plot(mlp25_hist.history['val_loss'])\n",
    "plt.title('Loss Function Plot')\n",
    "plt.ylabel('Loss')\n",
    "plt.xlabel('Epoch')\n",
    "plt.legend(['Train','Validation'])\n",
    "plt.show()"
   ]
  },
  {
   "cell_type": "code",
   "execution_count": 44,
   "metadata": {},
   "outputs": [
    {
     "name": "stdout",
     "output_type": "stream",
     "text": [
      "Model: \"sequential_4\"\n",
      "_________________________________________________________________\n",
      "Layer (type)                 Output Shape              Param #   \n",
      "=================================================================\n",
      "dense_6 (Dense)              (None, 25)                550       \n",
      "_________________________________________________________________\n",
      "dense_7 (Dense)              (None, 1)                 26        \n",
      "=================================================================\n",
      "Total params: 576\n",
      "Trainable params: 576\n",
      "Non-trainable params: 0\n",
      "_________________________________________________________________\n"
     ]
    }
   ],
   "source": [
    "mlp25.summary()"
   ]
  },
  {
   "cell_type": "code",
   "execution_count": 45,
   "metadata": {},
   "outputs": [
    {
     "data": {
      "image/png": "[encoded data removed]",
      "text/plain": [
       "<IPython.core.display.Image object>"
      ]
     },
     "execution_count": 45,
     "metadata": {},
     "output_type": "execute_result"
    }
   ],
   "source": [
    "plot_model(mlp25, to_file=\"MLP_25_Neuron.png\", show_layer_names=True, show_shapes=True)"
   ]
  },
  {
   "cell_type": "markdown",
   "metadata": {},
   "source": [
    "#### Predictions"
   ]
  },
  {
   "cell_type": "markdown",
   "metadata": {},
   "source": [
    "#### Getting evaluation metrics and evaluating model performance"
   ]
  },
  {
   "cell_type": "code",
   "execution_count": 46,
   "metadata": {},
   "outputs": [
    {
     "name": "stdout",
     "output_type": "stream",
     "text": [
      "Confusion Matrix for Train Data:\n",
      "[[30817  1652]\n",
      " [ 2922  4682]]\n",
      "Confusion Matrix for Test Data:\n",
      "[[13250   666]\n",
      " [ 1288  1971]]\n"
     ]
    }
   ],
   "source": [
    "mlp25_test_pred = mlp25.predict_classes(X_test)\n",
    "mlp25_train_pred = mlp25.predict_classes(X_train)\n",
    "\n",
    "mlp25_confusion_matrix_test = confusion_matrix(y_test, mlp25_test_pred)\n",
    "mlp25_confusion_matrix_train = confusion_matrix(y_train, mlp25_train_pred)\n",
    "\n",
    "print(\"Confusion Matrix for Train Data:\")\n",
    "print(mlp25_confusion_matrix_train)\n",
    "print(\"Confusion Matrix for Test Data:\")\n",
    "print(mlp25_confusion_matrix_test)\n"
   ]
  },
  {
   "cell_type": "markdown",
   "metadata": {},
   "source": [
    "#### Calculate Accuracy, True Positive Rate and True Negative Rates"
   ]
  },
  {
   "cell_type": "markdown",
   "metadata": {},
   "source": [
    "Observation:\n",
    "\n",
    "    Based on the TPR, 2 layer MLP with 25 nodes hidden layer is best"
   ]
  },
  {
   "cell_type": "code",
   "execution_count": 47,
   "metadata": {},
   "outputs": [
    {
     "name": "stdout",
     "output_type": "stream",
     "text": [
      "Train TNR:  0.9491206997443715\n",
      "Train TPR:  0.6157285639137297\n",
      "Train Accuracy:  0.885858308586829\n",
      "-----------------------\n",
      "Test TNR:  0.952141419948261\n",
      "Test TPR:  0.6047867444001227\n",
      "Test Accuracy:  0.8862299854439593\n"
     ]
    }
   ],
   "source": [
    "##### Train Test Accuracy, True Negative Rate and True Positive Rate\n",
    "\n",
    "mlp25_Accuracy_Train = (mlp25_confusion_matrix_train[0,0]+\n",
    "                        mlp25_confusion_matrix_train[1,1])/(\n",
    "                        mlp25_confusion_matrix_train[0,0]+\n",
    "                        mlp25_confusion_matrix_train[0,1]+\n",
    "                        mlp25_confusion_matrix_train[1,0]+\n",
    "                        mlp25_confusion_matrix_train[1,1])\n",
    "    \n",
    "mlp25_TNR_Train = mlp25_confusion_matrix_train[0,0]/(\n",
    "                    mlp25_confusion_matrix_train[0,0]+\n",
    "                    mlp25_confusion_matrix_train[0,1])\n",
    "\n",
    "mlp25_TPR_Train = mlp25_confusion_matrix_train[1,1]/(\n",
    "                    mlp25_confusion_matrix_train[1,0]+\n",
    "                    mlp25_confusion_matrix_train[1,1])\n",
    "\n",
    "print(\"Train TNR: \",mlp25_TNR_Train)\n",
    "print(\"Train TPR: \",mlp25_TPR_Train)\n",
    "print(\"Train Accuracy: \",mlp25_Accuracy_Train)\n",
    "\n",
    "print(\"-----------------------\")\n",
    "\n",
    "mlp25_Accuracy_Test = (mlp25_confusion_matrix_test[0,0]+\n",
    "                        mlp25_confusion_matrix_test[1,1])/(\n",
    "                        mlp25_confusion_matrix_test[0,0]+\n",
    "                        mlp25_confusion_matrix_test[0,1]+\n",
    "                        mlp25_confusion_matrix_test[1,0]+\n",
    "                        mlp25_confusion_matrix_test[1,1])\n",
    "    \n",
    "mlp25_TNR_Test = mlp25_confusion_matrix_test[0,0]/(\n",
    "                    mlp25_confusion_matrix_test[0,0]+\n",
    "                    mlp25_confusion_matrix_test[0,1])\n",
    "\n",
    "mlp25_TPR_Test = mlp25_confusion_matrix_test[1,1]/(\n",
    "                    mlp25_confusion_matrix_test[1,0]+\n",
    "                    mlp25_confusion_matrix_test[1,1])\n",
    "\n",
    "print(\"Test TNR: \",mlp25_TNR_Test)\n",
    "print(\"Test TPR: \",mlp25_TPR_Test)\n",
    "print(\"Test Accuracy: \",mlp25_Accuracy_Test)\n"
   ]
  },
  {
   "cell_type": "markdown",
   "metadata": {},
   "source": [
    "### MLP with 3 layers\n",
    "\n",
    "    1st hidden layer with 25 neurons\n",
    "    2nd hidden layer with 15 neurons"
   ]
  },
  {
   "cell_type": "code",
   "execution_count": 48,
   "metadata": {},
   "outputs": [
    {
     "name": "stdout",
     "output_type": "stream",
     "text": [
      "Train on 32058 samples, validate on 8015 samples\n",
      "Epoch 1/10\n",
      "32058/32058 [==============================] - 1s 40us/step - loss: 0.8358 - accuracy: 0.8228 - val_loss: 1.0130 - val_accuracy: 0.8089\n",
      "Epoch 2/10\n",
      "32058/32058 [==============================] - 1s 26us/step - loss: 0.5337 - accuracy: 0.8580 - val_loss: 0.3580 - val_accuracy: 0.8852\n",
      "Epoch 3/10\n",
      "32058/32058 [==============================] - 1s 26us/step - loss: 0.6029 - accuracy: 0.8691 - val_loss: 0.8109 - val_accuracy: 0.8719\n",
      "Epoch 4/10\n",
      "32058/32058 [==============================] - 1s 26us/step - loss: 0.3672 - accuracy: 0.8765 - val_loss: 0.3538 - val_accuracy: 0.8890\n",
      "Epoch 5/10\n",
      "32058/32058 [==============================] - 1s 26us/step - loss: 0.4199 - accuracy: 0.8817 - val_loss: 2.2060 - val_accuracy: 0.8086\n",
      "Epoch 6/10\n",
      "32058/32058 [==============================] - 1s 31us/step - loss: 0.6747 - accuracy: 0.8769 - val_loss: 1.4337 - val_accuracy: 0.8223\n",
      "Epoch 7/10\n",
      "32058/32058 [==============================] - 1s 27us/step - loss: 0.8553 - accuracy: 0.8643 - val_loss: 0.3277 - val_accuracy: 0.8949\n",
      "Epoch 8/10\n",
      "32058/32058 [==============================] - 1s 32us/step - loss: 0.3727 - accuracy: 0.8872 - val_loss: 0.3359 - val_accuracy: 0.8964\n",
      "Epoch 9/10\n",
      "32058/32058 [==============================] - 1s 34us/step - loss: 0.3499 - accuracy: 0.8909 - val_loss: 0.9258 - val_accuracy: 0.8650\n",
      "Epoch 10/10\n",
      "32058/32058 [==============================] - 1s 33us/step - loss: 1.1163 - accuracy: 0.8598 - val_loss: 1.0126 - val_accuracy: 0.8870\n"
     ]
    }
   ],
   "source": [
    "## MLP with 3 layers: 25 & 15 neurons:\n",
    "\n",
    "from sklearn.model_selection import train_test_split\n",
    "\n",
    "X_train, X_test, y_train, y_test = train_test_split(data[data.columns.difference(['went_on_backorder_Yes'])],\n",
    "                                                   data['went_on_backorder_Yes'], test_size=0.3,\n",
    "                                                   random_state=123, stratify = data['went_on_backorder_Yes'],\n",
    "                                                   shuffle=True)\n",
    "\n",
    "# Define MLP model:\n",
    "\n",
    "from keras import initializers\n",
    "from keras.layers.advanced_activations import LeakyReLU\n",
    "\n",
    "mlp_model_3 = Sequential()\n",
    "mlp_model_3.add(Dense(25, input_dim=21, activation='relu', kernel_initializer=initializers.RandomUniform(seed=351)))\n",
    "mlp_model_3.add(Dense(15))\n",
    "mlp_model_3.add(LeakyReLU(alpha=0.09))\n",
    "mlp_model_3.add(Dense(1, activation='sigmoid'))\n",
    "mlp_model_3.compile(loss='binary_crossentropy', optimizer='adam', metrics=['accuracy'])\n",
    "\n",
    "\n",
    "mlp_model_3_history = mlp_model_3.fit(X_train, y_train, epochs=10, batch_size=64, validation_split=0.2, use_multiprocessing=True)\n"
   ]
  },
  {
   "cell_type": "code",
   "execution_count": 49,
   "metadata": {},
   "outputs": [
    {
     "name": "stdout",
     "output_type": "stream",
     "text": [
      "dict_keys(['val_loss', 'val_accuracy', 'loss', 'accuracy'])\n"
     ]
    },
    {
     "data": {
      "image/png": "[encoded data removed]",
      "text/plain": [
       "<Figure size 432x288 with 1 Axes>"
      ]
     },
     "metadata": {
      "needs_background": "light"
     },
     "output_type": "display_data"
    },
    {
     "data": {
      "image/png": "[encoded data removed]",
      "text/plain": [
       "<Figure size 432x288 with 1 Axes>"
      ]
     },
     "metadata": {
      "needs_background": "light"
     },
     "output_type": "display_data"
    },
    {
     "name": "stdout",
     "output_type": "stream",
     "text": [
      "Model: \"sequential_5\"\n",
      "_________________________________________________________________\n",
      "Layer (type)                 Output Shape              Param #   \n",
      "=================================================================\n",
      "dense_8 (Dense)              (None, 25)                550       \n",
      "_________________________________________________________________\n",
      "dense_9 (Dense)              (None, 15)                390       \n",
      "_________________________________________________________________\n",
      "leaky_re_lu_1 (LeakyReLU)    (None, 15)                0         \n",
      "_________________________________________________________________\n",
      "dense_10 (Dense)             (None, 1)                 16        \n",
      "=================================================================\n",
      "Total params: 956\n",
      "Trainable params: 956\n",
      "Non-trainable params: 0\n",
      "_________________________________________________________________\n",
      "None\n"
     ]
    },
    {
     "data": {
      "image/png": "[encoded data removed]",
      "text/plain": [
       "<IPython.core.display.Image object>"
      ]
     },
     "execution_count": 49,
     "metadata": {},
     "output_type": "execute_result"
    }
   ],
   "source": [
    "## Plot:\n",
    "print(mlp_model_3_history.history.keys())\n",
    "\n",
    "## Accuracy:\n",
    "plt.plot(mlp_model_3_history.history['accuracy'])\n",
    "plt.plot(mlp_model_3_history.history['val_accuracy'])\n",
    "plt.title('Accuracy Plot')\n",
    "plt.ylabel('Accuracy')\n",
    "plt.xlabel('Epoch')\n",
    "plt.legend(['Train', 'Validation'])\n",
    "plt.show()\n",
    "\n",
    "## Loss:\n",
    "plt.plot(mlp_model_3_history.history['loss'])\n",
    "plt.plot(mlp_model_3_history.history['val_loss'])\n",
    "plt.title('Loss Function Plot')\n",
    "plt.ylabel('Loss')\n",
    "plt.xlabel('Epoch')\n",
    "plt.legend(['Train', 'Validation'])\n",
    "plt.show()\n",
    "\n",
    "# Get Model Summary:\n",
    "print(mlp_model_3.summary())\n",
    "\n",
    "# Vizualize the model:\n",
    "from keras.utils.vis_utils import plot_model\n",
    "\n",
    "plot_model(mlp_model_3, to_file='mlp_model_3.png', show_shapes=True, show_layer_names=True) # to_file='model_plot.png'\n"
   ]
  },
  {
   "cell_type": "markdown",
   "metadata": {},
   "source": [
    "#### Predictions"
   ]
  },
  {
   "cell_type": "markdown",
   "metadata": {},
   "source": [
    "#### Getting evaluation metrics and evaluating model performance"
   ]
  },
  {
   "cell_type": "markdown",
   "metadata": {},
   "source": [
    "#### Calculate Accuracy, True Positive Rate and True Negative Rates"
   ]
  },
  {
   "cell_type": "markdown",
   "metadata": {},
   "source": [
    "Observation:\n",
    "\n",
    "    Based on the TPR: 3 layer mlp, with 25 nodes in hidden layer 1 and 15 nodes in hidden layer 2 is the best "
   ]
  },
  {
   "cell_type": "code",
   "execution_count": 50,
   "metadata": {},
   "outputs": [
    {
     "name": "stdout",
     "output_type": "stream",
     "text": [
      "[[30062  2407]\n",
      " [ 2104  5500]]\n",
      "[[12930   986]\n",
      " [  946  2313]]\n",
      "Train TNR:  0.9258677507776648\n",
      "Train TPR:  0.7233035244608101\n",
      "Train Accuracy:  0.8874304394480074\n",
      "-----------------------\n",
      "Test TNR:  0.9291463064098879\n",
      "Test TPR:  0.7097269100951212\n",
      "Test Accuracy:  0.8875109170305677\n"
     ]
    }
   ],
   "source": [
    "#### Predictions\n",
    "\n",
    "#### Getting evaluation metrics and evaluating model performance\n",
    "\n",
    "mlp_test_pred_3 = mlp_model_3.predict_classes(X_test)\n",
    "mlp_train_pred_3 = mlp_model_3.predict_classes(X_train)\n",
    "\n",
    "mlp_confusion_matrix_test_3 = confusion_matrix(y_test, mlp_test_pred_3)\n",
    "mlp_confusion_matrix_train_3 = confusion_matrix(y_train, mlp_train_pred_3)\n",
    "\n",
    "print(mlp_confusion_matrix_train_3)\n",
    "print(mlp_confusion_matrix_test_3)\n",
    "\n",
    "\n",
    "#### Calculate Accuracy, True Positive Rate and True Negative Rates\n",
    "\n",
    "##### Train Test Accuracy, True Negative Rate and True Positive Rate\n",
    "\n",
    "mlp_Accuracy_Train_3=(mlp_confusion_matrix_train_3[0,0]+mlp_confusion_matrix_train_3[1,1])/(mlp_confusion_matrix_train_3[0,0]+mlp_confusion_matrix_train_3[0,1]+mlp_confusion_matrix_train_3[1,0]+mlp_confusion_matrix_train_3[1,1])\n",
    "mlp_TNR_Train_3=mlp_confusion_matrix_train_3[0,0]/(mlp_confusion_matrix_train_3[0,0]+mlp_confusion_matrix_train_3[0,1])\n",
    "mlp_TPR_Train_3=mlp_confusion_matrix_train_3[1,1]/(mlp_confusion_matrix_train_3[1,0]+mlp_confusion_matrix_train_3[1,1])\n",
    "\n",
    "print(\"Train TNR: \",mlp_TNR_Train_3)\n",
    "print(\"Train TPR: \",mlp_TPR_Train_3)\n",
    "print(\"Train Accuracy: \",mlp_Accuracy_Train_3)\n",
    "\n",
    "print(\"-----------------------\")\n",
    "\n",
    "mlp_Accuracy_Test_3=(mlp_confusion_matrix_test_3[0,0]+mlp_confusion_matrix_test_3[1,1])/(mlp_confusion_matrix_test_3[0,0]+mlp_confusion_matrix_test_3[0,1]+mlp_confusion_matrix_test_3[1,0]+mlp_confusion_matrix_test_3[1,1])\n",
    "mlp_TNR_Test_3= mlp_confusion_matrix_test_3[0,0]/(mlp_confusion_matrix_test_3[0,0] + mlp_confusion_matrix_test_3[0,1])\n",
    "mlp_TPR_Test_3= mlp_confusion_matrix_test_3[1,1]/(mlp_confusion_matrix_test_3[1,0] + mlp_confusion_matrix_test_3[1,1])\n",
    "\n",
    "print(\"Test TNR: \",mlp_TNR_Test_3)\n",
    "print(\"Test TPR: \",mlp_TPR_Test_3)\n",
    "print(\"Test Accuracy: \",mlp_Accuracy_Test_3)"
   ]
  },
  {
   "cell_type": "markdown",
   "metadata": {},
   "source": [
    "### MLP with 3 layers\n",
    "\n",
    "    1st hidden layer with 25 neurons\n",
    "    2nd hidden layer with 20 neurons"
   ]
  },
  {
   "cell_type": "code",
   "execution_count": 51,
   "metadata": {},
   "outputs": [
    {
     "name": "stdout",
     "output_type": "stream",
     "text": [
      "Train on 32058 samples, validate on 8015 samples\n",
      "Epoch 1/10\n",
      "32058/32058 [==============================] - 1s 38us/step - loss: 0.5851 - accuracy: 0.8317 - val_loss: 0.3609 - val_accuracy: 0.8749\n",
      "Epoch 2/10\n",
      "32058/32058 [==============================] - 1s 38us/step - loss: 0.5049 - accuracy: 0.8673 - val_loss: 0.5630 - val_accuracy: 0.8586\n",
      "Epoch 3/10\n",
      "32058/32058 [==============================] - 1s 42us/step - loss: 0.4191 - accuracy: 0.8719 - val_loss: 0.5674 - val_accuracy: 0.8749\n",
      "Epoch 4/10\n",
      "32058/32058 [==============================] - 1s 38us/step - loss: 0.5383 - accuracy: 0.8667 - val_loss: 1.2498 - val_accuracy: 0.8303\n",
      "Epoch 5/10\n",
      "32058/32058 [==============================] - 1s 30us/step - loss: 0.3914 - accuracy: 0.8746 - val_loss: 0.3267 - val_accuracy: 0.8843\n",
      "Epoch 6/10\n",
      "32058/32058 [==============================] - 1s 28us/step - loss: 0.3943 - accuracy: 0.8807 - val_loss: 0.3358 - val_accuracy: 0.8897\n",
      "Epoch 7/10\n",
      "32058/32058 [==============================] - 1s 32us/step - loss: 0.3456 - accuracy: 0.8870 - val_loss: 0.9655 - val_accuracy: 0.8669\n",
      "Epoch 8/10\n",
      "32058/32058 [==============================] - 1s 39us/step - loss: 0.3897 - accuracy: 0.8859 - val_loss: 0.3589 - val_accuracy: 0.8887\n",
      "Epoch 9/10\n",
      "32058/32058 [==============================] - 1s 41us/step - loss: 0.4329 - accuracy: 0.8849 - val_loss: 0.3010 - val_accuracy: 0.8896\n",
      "Epoch 10/10\n",
      "32058/32058 [==============================] - 1s 39us/step - loss: 0.3470 - accuracy: 0.8838 - val_loss: 0.4349 - val_accuracy: 0.8926\n"
     ]
    }
   ],
   "source": [
    "## MLP with 3 layers: 25 & 20 neurons:\n",
    "\n",
    "# Define MLP model:\n",
    "\n",
    "from keras import initializers\n",
    "from keras.layers.advanced_activations import LeakyReLU\n",
    "\n",
    "mlp_model_25_20 = Sequential()\n",
    "mlp_model_25_20.add(Dense(25, input_dim=21, activation='relu', kernel_initializer=initializers.RandomUniform(seed=351)))\n",
    "mlp_model_25_20.add(Dense(20))\n",
    "mlp_model_25_20.add(LeakyReLU(alpha=0.09))\n",
    "mlp_model_25_20.add(Dense(1, activation='sigmoid'))\n",
    "mlp_model_25_20.compile(loss='binary_crossentropy', optimizer='adam', metrics=['accuracy'])\n",
    "\n",
    "\n",
    "mlp_model_25_20_history = mlp_model_25_20.fit(X_train, y_train, epochs=10, batch_size=64, validation_split=0.2, use_multiprocessing=True)\n"
   ]
  },
  {
   "cell_type": "code",
   "execution_count": 52,
   "metadata": {},
   "outputs": [
    {
     "name": "stdout",
     "output_type": "stream",
     "text": [
      "dict_keys(['val_loss', 'val_accuracy', 'loss', 'accuracy'])\n"
     ]
    },
    {
     "data": {
      "image/png": "[encoded data removed]",
      "text/plain": [
       "<Figure size 432x288 with 1 Axes>"
      ]
     },
     "metadata": {
      "needs_background": "light"
     },
     "output_type": "display_data"
    },
    {
     "data": {
      "image/png": "[encoded data removed]",
      "text/plain": [
       "<Figure size 432x288 with 1 Axes>"
      ]
     },
     "metadata": {
      "needs_background": "light"
     },
     "output_type": "display_data"
    },
    {
     "name": "stdout",
     "output_type": "stream",
     "text": [
      "Model: \"sequential_6\"\n",
      "_________________________________________________________________\n",
      "Layer (type)                 Output Shape              Param #   \n",
      "=================================================================\n",
      "dense_11 (Dense)             (None, 25)                550       \n",
      "_________________________________________________________________\n",
      "dense_12 (Dense)             (None, 20)                520       \n",
      "_________________________________________________________________\n",
      "leaky_re_lu_2 (LeakyReLU)    (None, 20)                0         \n",
      "_________________________________________________________________\n",
      "dense_13 (Dense)             (None, 1)                 21        \n",
      "=================================================================\n",
      "Total params: 1,091\n",
      "Trainable params: 1,091\n",
      "Non-trainable params: 0\n",
      "_________________________________________________________________\n",
      "None\n"
     ]
    },
    {
     "data": {
      "image/png": "[encoded data removed]",
      "text/plain": [
       "<IPython.core.display.Image object>"
      ]
     },
     "execution_count": 52,
     "metadata": {},
     "output_type": "execute_result"
    }
   ],
   "source": [
    "## Plot:\n",
    "print(mlp_model_25_20_history.history.keys())\n",
    "\n",
    "## Accuracy:\n",
    "plt.plot(mlp_model_25_20_history.history['accuracy'])\n",
    "plt.plot(mlp_model_25_20_history.history['val_accuracy'])\n",
    "plt.title('Accuracy Plot')\n",
    "plt.ylabel('Accuracy')\n",
    "plt.xlabel('Epoch')\n",
    "plt.legend(['Train', 'Validation'])\n",
    "plt.show()\n",
    "\n",
    "## Loss:\n",
    "plt.plot(mlp_model_25_20_history.history['loss'])\n",
    "plt.plot(mlp_model_25_20_history.history['val_loss'])\n",
    "plt.title('Loss Function Plot')\n",
    "plt.ylabel('Loss')\n",
    "plt.xlabel('Epoch')\n",
    "plt.legend(['Train', 'Validation'])\n",
    "plt.show()\n",
    "\n",
    "# Get Model Summary:\n",
    "print(mlp_model_25_20.summary())\n",
    "\n",
    "# Vizualize the model:\n",
    "from keras.utils.vis_utils import plot_model\n",
    "\n",
    "plot_model(mlp_model_25_20, to_file='mlp_model_20_25.png', show_shapes=True, show_layer_names=True) # to_file='model_plot.png'\n"
   ]
  },
  {
   "cell_type": "markdown",
   "metadata": {},
   "source": [
    "#### Predictions"
   ]
  },
  {
   "cell_type": "markdown",
   "metadata": {},
   "source": [
    "#### Getting evaluation metrics and evaluating model performance"
   ]
  },
  {
   "cell_type": "markdown",
   "metadata": {},
   "source": [
    "#### Calculate Accuracy, True Positive Rate and True Negative Rates"
   ]
  },
  {
   "cell_type": "markdown",
   "metadata": {},
   "source": [
    "Observation:\n",
    "\n",
    "    Based on the TPR: 3 layer mlp, with 25 nodes in hidden layer 1 and 15 nodes in hidden layer 2 is the best "
   ]
  },
  {
   "cell_type": "code",
   "execution_count": 53,
   "metadata": {},
   "outputs": [
    {
     "name": "stdout",
     "output_type": "stream",
     "text": [
      "[[30677  1792]\n",
      " [ 2650  4954]]\n",
      "[[13240   676]\n",
      " [ 1165  2094]]\n",
      "Train TNR:  0.9448088946379624\n",
      "Train TPR:  0.6514992109416097\n",
      "Train Accuracy:  0.8891522970578694\n",
      "-----------------------\n",
      "Test TNR:  0.9514228226501869\n",
      "Test TPR:  0.6425283829395521\n",
      "Test Accuracy:  0.8928093158660845\n"
     ]
    }
   ],
   "source": [
    "#### Predictions\n",
    "\n",
    "#### Getting evaluation metrics and evaluating model performance\n",
    "\n",
    "mlp_test_pred_25_20 = mlp_model_25_20.predict_classes(X_test)\n",
    "mlp_train_pred_25_20 = mlp_model_25_20.predict_classes(X_train)\n",
    "\n",
    "mlp_confusion_matrix_test_25_20 = confusion_matrix(y_test, mlp_test_pred_25_20)\n",
    "mlp_confusion_matrix_train_25_20 = confusion_matrix(y_train, mlp_train_pred_25_20)\n",
    "\n",
    "print(mlp_confusion_matrix_train_25_20)\n",
    "print(mlp_confusion_matrix_test_25_20)\n",
    "\n",
    "\n",
    "#### Calculate Accuracy, True Positive Rate and True Negative Rates\n",
    "\n",
    "##### Train Test Accuracy, True Negative Rate and True Positive Rate\n",
    "\n",
    "mlp_Accuracy_Train_25_20=(mlp_confusion_matrix_train_25_20[0,0]+mlp_confusion_matrix_train_25_20[1,1])/(mlp_confusion_matrix_train_25_20[0,0]+mlp_confusion_matrix_train_25_20[0,1]+mlp_confusion_matrix_train_25_20[1,0]+mlp_confusion_matrix_train_25_20[1,1])\n",
    "mlp_TNR_Train_25_20=mlp_confusion_matrix_train_25_20[0,0]/(mlp_confusion_matrix_train_25_20[0,0]+mlp_confusion_matrix_train_25_20[0,1])\n",
    "mlp_TPR_Train_25_20=mlp_confusion_matrix_train_25_20[1,1]/(mlp_confusion_matrix_train_25_20[1,0]+mlp_confusion_matrix_train_25_20[1,1])\n",
    "\n",
    "print(\"Train TNR: \",mlp_TNR_Train_25_20)\n",
    "print(\"Train TPR: \",mlp_TPR_Train_25_20)\n",
    "print(\"Train Accuracy: \",mlp_Accuracy_Train_25_20)\n",
    "\n",
    "print(\"-----------------------\")\n",
    "\n",
    "mlp_Accuracy_Test_25_20=(mlp_confusion_matrix_test_25_20[0,0]+mlp_confusion_matrix_test_25_20[1,1])/(mlp_confusion_matrix_test_25_20[0,0]+mlp_confusion_matrix_test_25_20[0,1]+mlp_confusion_matrix_test_25_20[1,0]+mlp_confusion_matrix_test_25_20[1,1])\n",
    "mlp_TNR_Test_25_20= mlp_confusion_matrix_test_25_20[0,0]/(mlp_confusion_matrix_test_25_20[0,0] + mlp_confusion_matrix_test_25_20[0,1])\n",
    "mlp_TPR_Test_25_20= mlp_confusion_matrix_test_25_20[1,1]/(mlp_confusion_matrix_test_25_20[1,0] + mlp_confusion_matrix_test_25_20[1,1])\n",
    "\n",
    "print(\"Test TNR: \",mlp_TNR_Test_25_20)\n",
    "print(\"Test TPR: \",mlp_TPR_Test_25_20)\n",
    "print(\"Test Accuracy: \",mlp_Accuracy_Test_25_20)"
   ]
  },
  {
   "cell_type": "code",
   "execution_count": 54,
   "metadata": {},
   "outputs": [
    {
     "name": "stdout",
     "output_type": "stream",
     "text": [
      "[0.009512120282295183, 0.04050322184719239, 0.0003068425897514575, 0.6047867444001227, 0.7097269100951212, 0.6425283829395521]\n",
      "\n",
      "[0.968884736993389, 0.9936763437769474, 1.0, 0.952141419948261, 0.9291463064098879, 0.9514228226501869]\n",
      "\n",
      "[0.7868413391557496, 0.8128093158660844, 0.8103056768558952, 0.8862299854439593, 0.8875109170305677, 0.8928093158660845]\n"
     ]
    },
    {
     "data": {
      "text/html": [
       "<div>\n",
       "<style scoped>\n",
       "    .dataframe tbody tr th:only-of-type {\n",
       "        vertical-align: middle;\n",
       "    }\n",
       "\n",
       "    .dataframe tbody tr th {\n",
       "        vertical-align: top;\n",
       "    }\n",
       "\n",
       "    .dataframe thead th {\n",
       "        text-align: right;\n",
       "    }\n",
       "</style>\n",
       "<table border=\"1\" class=\"dataframe\">\n",
       "  <thead>\n",
       "    <tr style=\"text-align: right;\">\n",
       "      <th></th>\n",
       "      <th>Model_type</th>\n",
       "      <th>Accuracy</th>\n",
       "      <th>TPR</th>\n",
       "      <th>TNR</th>\n",
       "    </tr>\n",
       "  </thead>\n",
       "  <tbody>\n",
       "    <tr>\n",
       "      <th>0</th>\n",
       "      <td>Perceptron</td>\n",
       "      <td>0.786841</td>\n",
       "      <td>0.009512</td>\n",
       "      <td>0.968885</td>\n",
       "    </tr>\n",
       "    <tr>\n",
       "      <th>1</th>\n",
       "      <td>MLP_15_neurons</td>\n",
       "      <td>0.812809</td>\n",
       "      <td>0.040503</td>\n",
       "      <td>0.993676</td>\n",
       "    </tr>\n",
       "    <tr>\n",
       "      <th>2</th>\n",
       "      <td>MLP_20_neurons</td>\n",
       "      <td>0.810306</td>\n",
       "      <td>0.000307</td>\n",
       "      <td>1.000000</td>\n",
       "    </tr>\n",
       "    <tr>\n",
       "      <th>3</th>\n",
       "      <td>MLP_25_neurons</td>\n",
       "      <td>0.886230</td>\n",
       "      <td>0.604787</td>\n",
       "      <td>0.952141</td>\n",
       "    </tr>\n",
       "    <tr>\n",
       "      <th>4</th>\n",
       "      <td>MLP_25_15_neurons</td>\n",
       "      <td>0.887511</td>\n",
       "      <td>0.709727</td>\n",
       "      <td>0.929146</td>\n",
       "    </tr>\n",
       "    <tr>\n",
       "      <th>5</th>\n",
       "      <td>MLP_25_20_neurons</td>\n",
       "      <td>0.892809</td>\n",
       "      <td>0.642528</td>\n",
       "      <td>0.951423</td>\n",
       "    </tr>\n",
       "  </tbody>\n",
       "</table>\n",
       "</div>"
      ],
      "text/plain": [
       "          Model_type  Accuracy       TPR       TNR\n",
       "0         Perceptron  0.786841  0.009512  0.968885\n",
       "1     MLP_15_neurons  0.812809  0.040503  0.993676\n",
       "2     MLP_20_neurons  0.810306  0.000307  1.000000\n",
       "3     MLP_25_neurons  0.886230  0.604787  0.952141\n",
       "4  MLP_25_15_neurons  0.887511  0.709727  0.929146\n",
       "5  MLP_25_20_neurons  0.892809  0.642528  0.951423"
      ]
     },
     "execution_count": 54,
     "metadata": {},
     "output_type": "execute_result"
    }
   ],
   "source": [
    "#np.logspace(0.0001,1,8, base=0.5)\n",
    "#np.logspace(-3,-1,8)\n",
    "#np.exp(-3)\n",
    "tpr=[TPR_Test,mlp_TPR_Test_15,mlp_TPR_Test,\n",
    "     mlp25_TPR_Test,mlp_TPR_Test_3, mlp_TPR_Test_25_20]\n",
    "print(tpr)\n",
    "print()\n",
    "\n",
    "tnr=[TNR_Test,mlp_TNR_Test_15,mlp_TNR_Test,\n",
    "     mlp25_TNR_Test,mlp_TNR_Test_3, mlp_TNR_Test_25_20]\n",
    "print(tnr)\n",
    "print()\n",
    "\n",
    "models_l = ['Perceptron','MLP_15_neurons','MLP_20_neurons',\n",
    "            'MLP_25_neurons','MLP_25_15_neurons','MLP_25_20_neurons']\n",
    "\n",
    "accuracy=[Accuracy_Test, mlp_Accuracy_Test_15,\n",
    "         mlp_Accuracy_Test, mlp25_Accuracy_Test,\n",
    "         mlp_Accuracy_Test_3, mlp_Accuracy_Test_25_20]\n",
    "print(accuracy)\n",
    "\n",
    "\n",
    "pd.DataFrame(list(zip(models_l, accuracy, tpr, tnr)), \n",
    "             columns=(['Model_type','Accuracy','TPR','TNR']))\n",
    "#pd.DataFrame([accuracy, tpr, tnr]).T"
   ]
  },
  {
   "cell_type": "markdown",
   "metadata": {},
   "source": [
    "## Find best parameter"
   ]
  },
  {
   "cell_type": "markdown",
   "metadata": {},
   "source": [
    "### Find the best Learning rate"
   ]
  },
  {
   "cell_type": "markdown",
   "metadata": {},
   "source": [
    "    Using logarithmic scale randomly generate values between 0.0001 to 1 "
   ]
  },
  {
   "cell_type": "code",
   "execution_count": 55,
   "metadata": {},
   "outputs": [
    {
     "data": {
      "text/plain": [
       "array([0.001     , 0.0019307 , 0.00372759, 0.00719686, 0.01389495,\n",
       "       0.02682696, 0.05179475, 0.1       ])"
      ]
     },
     "execution_count": 55,
     "metadata": {},
     "output_type": "execute_result"
    }
   ],
   "source": [
    "#l_rate = np.logspace(0.0001,1,8)\n",
    "#l_rate = 10**(-2.3 * np.random.rand(6))\n",
    "l_rate = np.logspace(-3,-1,8)\n",
    "l_rate\n"
   ]
  },
  {
   "cell_type": "code",
   "execution_count": 56,
   "metadata": {},
   "outputs": [],
   "source": [
    "from keras.optimizers import Adam\n",
    "from sklearn.model_selection import GridSearchCV"
   ]
  },
  {
   "cell_type": "code",
   "execution_count": 57,
   "metadata": {},
   "outputs": [],
   "source": [
    "def tune_l_rate(l_rate=0.01):\n",
    "    # Create a model:\n",
    "    tuned_model = Sequential()\n",
    "    tuned_model.add(Dense(25, input_dim=21, activation='relu', kernel_initializer=initializers.RandomUniform(seed=351)))\n",
    "    tuned_model.add(Dense(20))\n",
    "    tuned_model.add(LeakyReLU(alpha=0.09))\n",
    "    tuned_model.add(Dense(1, activation='sigmoid'))\n",
    "    optimizer = Adam(lr=l_rate)\n",
    "    \n",
    "    # Compile Model:\n",
    "    tuned_model.compile(loss='binary_crossentropy', optimizer=optimizer, metrics=['accuracy'])\n",
    "\n",
    "    return tuned_model\n"
   ]
  },
  {
   "cell_type": "code",
   "execution_count": 58,
   "metadata": {},
   "outputs": [
    {
     "name": "stdout",
     "output_type": "stream",
     "text": [
      "Train on 32058 samples, validate on 8015 samples\n",
      "Epoch 1/1\n",
      "32058/32058 [==============================] - 1s 38us/step - loss: 1.1879 - accuracy: 0.8414 - val_loss: 1.7997 - val_accuracy: 0.8658\n",
      "Train on 32058 samples, validate on 8015 samples\n",
      "Epoch 1/1\n",
      "32058/32058 [==============================] - 1s 39us/step - loss: 0.9516 - accuracy: 0.8273 - val_loss: 3.4238 - val_accuracy: 0.8065\n",
      "Train on 32058 samples, validate on 8015 samples\n",
      "Epoch 1/1\n",
      "32058/32058 [==============================] - 1s 36us/step - loss: 7.7896 - accuracy: 0.8411 - val_loss: 2.2151 - val_accuracy: 0.8339\n",
      "Train on 32058 samples, validate on 8015 samples\n",
      "Epoch 1/1\n",
      "32058/32058 [==============================] - 1s 41us/step - loss: 1.1932 - accuracy: 0.8492 - val_loss: 0.4657 - val_accuracy: 0.8643\n",
      "Train on 32058 samples, validate on 8015 samples\n",
      "Epoch 1/1\n",
      "32058/32058 [==============================] - 1s 40us/step - loss: 1.1723 - accuracy: 0.8139 - val_loss: 0.4360 - val_accuracy: 0.8301\n",
      "Train on 32058 samples, validate on 8015 samples\n",
      "Epoch 1/1\n",
      "32058/32058 [==============================] - 1s 40us/step - loss: 0.4395 - accuracy: 0.8082 - val_loss: 0.3844 - val_accuracy: 0.8055\n",
      "Train on 32058 samples, validate on 8015 samples\n",
      "Epoch 1/1\n",
      "32058/32058 [==============================] - 1s 34us/step - loss: 0.8688 - accuracy: 0.8147 - val_loss: 0.4568 - val_accuracy: 0.8056\n",
      "Train on 32058 samples, validate on 8015 samples\n",
      "Epoch 1/1\n",
      "32058/32058 [==============================] - 1s 36us/step - loss: 1.6444 - accuracy: 0.8058 - val_loss: 0.4123 - val_accuracy: 0.8055\n"
     ]
    }
   ],
   "source": [
    "hist_loss=[]\n",
    "hist_acc=[]\n",
    "\n",
    "for l_rate_v in l_rate:\n",
    "    \n",
    "    tuned_model = tune_l_rate(l_rate_v)\n",
    "    \n",
    "    #Fit the model\n",
    "    tuned_model_history = tuned_model.fit(X_train, y_train, epochs=1,\n",
    "                                       batch_size=64, validation_split=0.2,\n",
    "                                       use_multiprocessing=True)\n",
    "\n",
    "    \n",
    "    hist_loss.append(tuned_model_history.history['val_loss'])\n",
    "    hist_acc.append(tuned_model_history.history['val_accuracy'])"
   ]
  },
  {
   "cell_type": "code",
   "execution_count": 59,
   "metadata": {
    "scrolled": true
   },
   "outputs": [
    {
     "data": {
      "text/html": [
       "<div>\n",
       "<style scoped>\n",
       "    .dataframe tbody tr th:only-of-type {\n",
       "        vertical-align: middle;\n",
       "    }\n",
       "\n",
       "    .dataframe tbody tr th {\n",
       "        vertical-align: top;\n",
       "    }\n",
       "\n",
       "    .dataframe thead th {\n",
       "        text-align: right;\n",
       "    }\n",
       "</style>\n",
       "<table border=\"1\" class=\"dataframe\">\n",
       "  <thead>\n",
       "    <tr style=\"text-align: right;\">\n",
       "      <th></th>\n",
       "      <th>l_rate</th>\n",
       "      <th>val_loss</th>\n",
       "      <th>val_accuracy</th>\n",
       "    </tr>\n",
       "  </thead>\n",
       "  <tbody>\n",
       "    <tr>\n",
       "      <th>0</th>\n",
       "      <td>0.026827</td>\n",
       "      <td>[0.3843876900370985]</td>\n",
       "      <td>[0.805489718914032]</td>\n",
       "    </tr>\n",
       "    <tr>\n",
       "      <th>1</th>\n",
       "      <td>0.1</td>\n",
       "      <td>[0.4122813565725099]</td>\n",
       "      <td>[0.805489718914032]</td>\n",
       "    </tr>\n",
       "    <tr>\n",
       "      <th>2</th>\n",
       "      <td>0.013895</td>\n",
       "      <td>[0.4359639452385739]</td>\n",
       "      <td>[0.8300686478614807]</td>\n",
       "    </tr>\n",
       "    <tr>\n",
       "      <th>3</th>\n",
       "      <td>0.0517947</td>\n",
       "      <td>[0.456761069102207]</td>\n",
       "      <td>[0.8056144714355469]</td>\n",
       "    </tr>\n",
       "    <tr>\n",
       "      <th>4</th>\n",
       "      <td>0.00719686</td>\n",
       "      <td>[0.46572290130205923]</td>\n",
       "      <td>[0.8642545342445374]</td>\n",
       "    </tr>\n",
       "    <tr>\n",
       "      <th>5</th>\n",
       "      <td>0.001</td>\n",
       "      <td>[1.7996768565119912]</td>\n",
       "      <td>[0.8657517433166504]</td>\n",
       "    </tr>\n",
       "    <tr>\n",
       "      <th>6</th>\n",
       "      <td>0.00372759</td>\n",
       "      <td>[2.2151219062595464]</td>\n",
       "      <td>[0.8339363932609558]</td>\n",
       "    </tr>\n",
       "    <tr>\n",
       "      <th>7</th>\n",
       "      <td>0.0019307</td>\n",
       "      <td>[3.4238368456001513]</td>\n",
       "      <td>[0.8064878582954407]</td>\n",
       "    </tr>\n",
       "  </tbody>\n",
       "</table>\n",
       "</div>"
      ],
      "text/plain": [
       "       l_rate               val_loss          val_accuracy\n",
       "0    0.026827   [0.3843876900370985]   [0.805489718914032]\n",
       "1         0.1   [0.4122813565725099]   [0.805489718914032]\n",
       "2    0.013895   [0.4359639452385739]  [0.8300686478614807]\n",
       "3   0.0517947    [0.456761069102207]  [0.8056144714355469]\n",
       "4  0.00719686  [0.46572290130205923]  [0.8642545342445374]\n",
       "5       0.001   [1.7996768565119912]  [0.8657517433166504]\n",
       "6  0.00372759   [2.2151219062595464]  [0.8339363932609558]\n",
       "7   0.0019307   [3.4238368456001513]  [0.8064878582954407]"
      ]
     },
     "execution_count": 59,
     "metadata": {},
     "output_type": "execute_result"
    }
   ],
   "source": [
    "# Get the Learning rate and loss Dataframe\n",
    "loss_l_rate = pd.DataFrame([l_rate, hist_loss, hist_acc]).T  \n",
    "\n",
    "#Give the coloumn names\n",
    "loss_l_rate.columns=['l_rate','val_loss','val_accuracy']\n",
    "\n",
    "#Sort the values and reset the index\n",
    "loss_l_rate=loss_l_rate.sort_values('val_loss').reset_index().drop('index',axis=1)\n",
    "loss_l_rate"
   ]
  },
  {
   "cell_type": "markdown",
   "metadata": {},
   "source": [
    "#### Build model with the best learning rate"
   ]
  },
  {
   "cell_type": "code",
   "execution_count": 60,
   "metadata": {},
   "outputs": [],
   "source": [
    "import tensorflow as tf"
   ]
  },
  {
   "cell_type": "code",
   "execution_count": 61,
   "metadata": {},
   "outputs": [],
   "source": [
    "np.random.seed(123)\n",
    "tf.random.set_seed(123)"
   ]
  },
  {
   "cell_type": "code",
   "execution_count": 62,
   "metadata": {},
   "outputs": [],
   "source": [
    "l_tuned_model = Sequential()\n",
    "l_tuned_model.add(Dense(25, input_dim=21, activation='relu', kernel_initializer=initializers.RandomUniform(seed=351)))\n",
    "l_tuned_model.add(Dense(20))\n",
    "l_tuned_model.add(LeakyReLU(alpha=0.09))\n",
    "l_tuned_model.add(Dense(1, activation='sigmoid'))\n",
    "optimizer = Adam(lr=0.00719686)\n",
    "    \n",
    "# Compile Model:\n",
    "l_tuned_model.compile(loss='binary_crossentropy', optimizer=optimizer, metrics=['accuracy'])"
   ]
  },
  {
   "cell_type": "code",
   "execution_count": 63,
   "metadata": {},
   "outputs": [
    {
     "name": "stdout",
     "output_type": "stream",
     "text": [
      "Model: \"sequential_15\"\n",
      "_________________________________________________________________\n",
      "Layer (type)                 Output Shape              Param #   \n",
      "=================================================================\n",
      "dense_38 (Dense)             (None, 25)                550       \n",
      "_________________________________________________________________\n",
      "dense_39 (Dense)             (None, 20)                520       \n",
      "_________________________________________________________________\n",
      "leaky_re_lu_11 (LeakyReLU)   (None, 20)                0         \n",
      "_________________________________________________________________\n",
      "dense_40 (Dense)             (None, 1)                 21        \n",
      "=================================================================\n",
      "Total params: 1,091\n",
      "Trainable params: 1,091\n",
      "Non-trainable params: 0\n",
      "_________________________________________________________________\n"
     ]
    }
   ],
   "source": [
    "l_tuned_model.summary()"
   ]
  },
  {
   "cell_type": "code",
   "execution_count": 64,
   "metadata": {},
   "outputs": [
    {
     "name": "stdout",
     "output_type": "stream",
     "text": [
      "Train on 32058 samples, validate on 8015 samples\n",
      "Epoch 1/100\n",
      "32058/32058 [==============================] - 1s 39us/step - loss: 0.5045 - accuracy: 0.8642 - val_loss: 0.2959 - val_accuracy: 0.8846\n",
      "Epoch 2/100\n",
      "32058/32058 [==============================] - 1s 31us/step - loss: 0.3543 - accuracy: 0.8702 - val_loss: 0.3046 - val_accuracy: 0.8803\n",
      "Epoch 3/100\n",
      "32058/32058 [==============================] - 1s 28us/step - loss: 0.4871 - accuracy: 0.8514 - val_loss: 0.3505 - val_accuracy: 0.8060\n",
      "Epoch 4/100\n",
      "32058/32058 [==============================] - 1s 31us/step - loss: 0.3463 - accuracy: 0.8642 - val_loss: 0.3861 - val_accuracy: 0.8246\n",
      "Epoch 5/100\n",
      "32058/32058 [==============================] - 1s 42us/step - loss: 0.3553 - accuracy: 0.8316 - val_loss: 0.3421 - val_accuracy: 0.8398\n",
      "Epoch 6/100\n",
      "32058/32058 [==============================] - 1s 33us/step - loss: 0.3704 - accuracy: 0.8506 - val_loss: 0.4262 - val_accuracy: 0.8488\n",
      "Epoch 7/100\n",
      "32058/32058 [==============================] - 1s 29us/step - loss: 0.4700 - accuracy: 0.8297 - val_loss: 0.3885 - val_accuracy: 0.8052\n",
      "Epoch 8/100\n",
      "32058/32058 [==============================] - 1s 26us/step - loss: 0.3622 - accuracy: 0.8203 - val_loss: 0.3704 - val_accuracy: 0.8168\n",
      "Epoch 9/100\n",
      "32058/32058 [==============================] - 1s 24us/step - loss: 0.3416 - accuracy: 0.8348 - val_loss: 0.3382 - val_accuracy: 0.8299\n",
      "Epoch 10/100\n",
      "32058/32058 [==============================] - 1s 23us/step - loss: 0.3341 - accuracy: 0.8533 - val_loss: 0.3537 - val_accuracy: 0.8808\n",
      "Epoch 11/100\n",
      "32058/32058 [==============================] - 1s 23us/step - loss: 0.3659 - accuracy: 0.8567 - val_loss: 0.2888 - val_accuracy: 0.8756\n",
      "Epoch 12/100\n",
      "32058/32058 [==============================] - 1s 23us/step - loss: 0.3555 - accuracy: 0.8573 - val_loss: 0.2881 - val_accuracy: 0.8936\n",
      "Epoch 13/100\n",
      "32058/32058 [==============================] - 1s 25us/step - loss: 0.3693 - accuracy: 0.8520 - val_loss: 0.2973 - val_accuracy: 0.8707\n",
      "Epoch 14/100\n",
      "32058/32058 [==============================] - 1s 23us/step - loss: 0.3681 - accuracy: 0.8452 - val_loss: 0.3420 - val_accuracy: 0.8322\n",
      "Epoch 15/100\n",
      "32058/32058 [==============================] - 1s 23us/step - loss: 0.3297 - accuracy: 0.8560 - val_loss: 0.2844 - val_accuracy: 0.8893\n",
      "Epoch 16/100\n",
      "32058/32058 [==============================] - 1s 22us/step - loss: 0.2761 - accuracy: 0.8925 - val_loss: 0.4409 - val_accuracy: 0.8253\n",
      "Epoch 17/100\n",
      "32058/32058 [==============================] - 1s 23us/step - loss: 0.3090 - accuracy: 0.8596 - val_loss: 0.2967 - val_accuracy: 0.8404\n",
      "Epoch 18/100\n",
      "32058/32058 [==============================] - 1s 23us/step - loss: 0.2817 - accuracy: 0.8863 - val_loss: 0.2768 - val_accuracy: 0.8989\n",
      "Epoch 19/100\n",
      "32058/32058 [==============================] - 1s 23us/step - loss: 0.2680 - accuracy: 0.8952 - val_loss: 0.2832 - val_accuracy: 0.8973\n",
      "Epoch 20/100\n",
      "32058/32058 [==============================] - 1s 23us/step - loss: 0.2692 - accuracy: 0.8888 - val_loss: 0.3158 - val_accuracy: 0.8473\n",
      "Epoch 21/100\n",
      "32058/32058 [==============================] - 1s 23us/step - loss: 0.3113 - accuracy: 0.8746 - val_loss: 0.2878 - val_accuracy: 0.9028\n",
      "Epoch 22/100\n",
      "32058/32058 [==============================] - 1s 22us/step - loss: 0.2892 - accuracy: 0.8807 - val_loss: 0.2880 - val_accuracy: 0.8816\n",
      "Epoch 23/100\n",
      "32058/32058 [==============================] - 1s 23us/step - loss: 0.2734 - accuracy: 0.8944 - val_loss: 0.2678 - val_accuracy: 0.9001\n",
      "Epoch 24/100\n",
      "32058/32058 [==============================] - 1s 23us/step - loss: 0.2761 - accuracy: 0.8897 - val_loss: 0.2714 - val_accuracy: 0.8932\n",
      "Epoch 25/100\n",
      "32058/32058 [==============================] - 1s 23us/step - loss: 0.2931 - accuracy: 0.8677 - val_loss: 0.2640 - val_accuracy: 0.9011\n",
      "Epoch 26/100\n",
      "32058/32058 [==============================] - 1s 23us/step - loss: 0.2684 - accuracy: 0.8903 - val_loss: 0.2797 - val_accuracy: 0.8993\n",
      "Epoch 27/100\n",
      "32058/32058 [==============================] - 1s 23us/step - loss: 0.2595 - accuracy: 0.8948 - val_loss: 0.2691 - val_accuracy: 0.9018\n",
      "Epoch 28/100\n",
      "32058/32058 [==============================] - 1s 23us/step - loss: 0.2568 - accuracy: 0.8981 - val_loss: 0.2738 - val_accuracy: 0.8992\n",
      "Epoch 29/100\n",
      "32058/32058 [==============================] - 1s 22us/step - loss: 0.2715 - accuracy: 0.8898 - val_loss: 0.2823 - val_accuracy: 0.9008\n",
      "Epoch 30/100\n",
      "32058/32058 [==============================] - 1s 23us/step - loss: 0.3271 - accuracy: 0.8539 - val_loss: 0.2680 - val_accuracy: 0.8946\n",
      "Epoch 31/100\n",
      "32058/32058 [==============================] - 1s 23us/step - loss: 0.2847 - accuracy: 0.8834 - val_loss: 0.2795 - val_accuracy: 0.8983\n",
      "Epoch 32/100\n",
      "32058/32058 [==============================] - 1s 23us/step - loss: 0.3198 - accuracy: 0.8793 - val_loss: 0.2874 - val_accuracy: 0.8888\n",
      "Epoch 33/100\n",
      "32058/32058 [==============================] - 1s 23us/step - loss: 0.4513 - accuracy: 0.8416 - val_loss: 0.3636 - val_accuracy: 0.8257\n",
      "Epoch 34/100\n",
      "32058/32058 [==============================] - 1s 26us/step - loss: 0.3380 - accuracy: 0.8348 - val_loss: 0.3405 - val_accuracy: 0.8359\n",
      "Epoch 35/100\n",
      "32058/32058 [==============================] - 1s 23us/step - loss: 0.3197 - accuracy: 0.8527 - val_loss: 0.3291 - val_accuracy: 0.8745\n",
      "Epoch 36/100\n",
      "32058/32058 [==============================] - 1s 24us/step - loss: 0.3226 - accuracy: 0.8497 - val_loss: 0.3196 - val_accuracy: 0.8397\n",
      "Epoch 37/100\n",
      "32058/32058 [==============================] - 1s 23us/step - loss: 0.3303 - accuracy: 0.8423 - val_loss: 0.3015 - val_accuracy: 0.8679\n",
      "Epoch 38/100\n",
      "32058/32058 [==============================] - 1s 23us/step - loss: 0.3020 - accuracy: 0.8772 - val_loss: 0.2782 - val_accuracy: 0.8968\n",
      "Epoch 39/100\n",
      "32058/32058 [==============================] - 1s 23us/step - loss: 0.2995 - accuracy: 0.8793 - val_loss: 0.3214 - val_accuracy: 0.8591\n",
      "Epoch 40/100\n",
      "32058/32058 [==============================] - 1s 23us/step - loss: 0.2988 - accuracy: 0.8719 - val_loss: 0.3449 - val_accuracy: 0.8343\n",
      "Epoch 41/100\n",
      "32058/32058 [==============================] - 1s 23us/step - loss: 0.2816 - accuracy: 0.8735 - val_loss: 0.8611 - val_accuracy: 0.8299\n",
      "Epoch 42/100\n",
      "32058/32058 [==============================] - 1s 23us/step - loss: 0.3034 - accuracy: 0.8637 - val_loss: 0.3542 - val_accuracy: 0.8892\n",
      "Epoch 43/100\n",
      "32058/32058 [==============================] - 1s 23us/step - loss: 0.2755 - accuracy: 0.8856 - val_loss: 0.2814 - val_accuracy: 0.8972\n",
      "Epoch 44/100\n",
      "32058/32058 [==============================] - 1s 23us/step - loss: 0.2780 - accuracy: 0.8818 - val_loss: 0.3172 - val_accuracy: 0.8469\n",
      "Epoch 45/100\n",
      "32058/32058 [==============================] - 1s 23us/step - loss: 0.2998 - accuracy: 0.8828 - val_loss: 0.3709 - val_accuracy: 0.8483\n",
      "Epoch 46/100\n",
      "32058/32058 [==============================] - 1s 23us/step - loss: 0.3398 - accuracy: 0.8664 - val_loss: 0.3648 - val_accuracy: 0.8659\n",
      "Epoch 47/100\n",
      "32058/32058 [==============================] - 1s 23us/step - loss: 0.3179 - accuracy: 0.8656 - val_loss: 0.3430 - val_accuracy: 0.8454\n",
      "Epoch 48/100\n",
      "32058/32058 [==============================] - 1s 23us/step - loss: 0.2854 - accuracy: 0.8726 - val_loss: 0.2978 - val_accuracy: 0.8911\n",
      "Epoch 49/100\n",
      "32058/32058 [==============================] - 1s 23us/step - loss: 0.2768 - accuracy: 0.8841 - val_loss: 0.2965 - val_accuracy: 0.8976\n",
      "Epoch 50/100\n",
      "32058/32058 [==============================] - 1s 23us/step - loss: 0.2747 - accuracy: 0.8907 - val_loss: 0.2774 - val_accuracy: 0.8876\n",
      "Epoch 51/100\n",
      "32058/32058 [==============================] - 1s 23us/step - loss: 0.2976 - accuracy: 0.8941 - val_loss: 0.3260 - val_accuracy: 0.8974\n",
      "Epoch 52/100\n",
      "32058/32058 [==============================] - 1s 23us/step - loss: 0.2648 - accuracy: 0.8966 - val_loss: 0.6178 - val_accuracy: 0.7949\n",
      "Epoch 53/100\n",
      "32058/32058 [==============================] - 1s 32us/step - loss: 0.3648 - accuracy: 0.8579 - val_loss: 0.3266 - val_accuracy: 0.8573\n",
      "Epoch 54/100\n",
      "32058/32058 [==============================] - 1s 29us/step - loss: 0.2722 - accuracy: 0.8828 - val_loss: 0.2649 - val_accuracy: 0.8952\n",
      "Epoch 55/100\n",
      "32058/32058 [==============================] - 1s 27us/step - loss: 0.3439 - accuracy: 0.8637 - val_loss: 0.3433 - val_accuracy: 0.8638\n"
     ]
    },
    {
     "name": "stdout",
     "output_type": "stream",
     "text": [
      "Epoch 56/100\n",
      "32058/32058 [==============================] - 1s 25us/step - loss: 0.4659 - accuracy: 0.8425 - val_loss: 0.3710 - val_accuracy: 0.8230\n",
      "Epoch 57/100\n",
      "32058/32058 [==============================] - 1s 25us/step - loss: 0.3295 - accuracy: 0.8575 - val_loss: 0.3855 - val_accuracy: 0.8251\n",
      "Epoch 58/100\n",
      "32058/32058 [==============================] - 1s 25us/step - loss: 0.3323 - accuracy: 0.8406 - val_loss: 0.3551 - val_accuracy: 0.8474\n",
      "Epoch 59/100\n",
      "32058/32058 [==============================] - 1s 25us/step - loss: 0.3084 - accuracy: 0.8554 - val_loss: 0.3541 - val_accuracy: 0.8175\n",
      "Epoch 60/100\n",
      "32058/32058 [==============================] - 1s 25us/step - loss: 0.3075 - accuracy: 0.8727 - val_loss: 0.3506 - val_accuracy: 0.8492\n",
      "Epoch 61/100\n",
      "32058/32058 [==============================] - 1s 25us/step - loss: 0.3686 - accuracy: 0.8545 - val_loss: 0.4154 - val_accuracy: 0.8055\n",
      "Epoch 62/100\n",
      "32058/32058 [==============================] - 1s 25us/step - loss: 0.3207 - accuracy: 0.8472 - val_loss: 0.3087 - val_accuracy: 0.8527\n",
      "Epoch 63/100\n",
      "32058/32058 [==============================] - 1s 25us/step - loss: 0.2839 - accuracy: 0.8792 - val_loss: 0.3458 - val_accuracy: 0.8362\n",
      "Epoch 64/100\n",
      "32058/32058 [==============================] - 1s 25us/step - loss: 0.2813 - accuracy: 0.8768 - val_loss: 0.3139 - val_accuracy: 0.8494\n",
      "Epoch 65/100\n",
      "32058/32058 [==============================] - 1s 25us/step - loss: 0.3248 - accuracy: 0.8579 - val_loss: 0.3008 - val_accuracy: 0.8636\n",
      "Epoch 66/100\n",
      "32058/32058 [==============================] - 1s 25us/step - loss: 0.2935 - accuracy: 0.8743 - val_loss: 0.2801 - val_accuracy: 0.8912\n",
      "Epoch 67/100\n",
      "32058/32058 [==============================] - 1s 25us/step - loss: 0.2708 - accuracy: 0.8878 - val_loss: 0.2844 - val_accuracy: 0.8890\n",
      "Epoch 68/100\n",
      "32058/32058 [==============================] - 1s 25us/step - loss: 0.3147 - accuracy: 0.8692 - val_loss: 0.3182 - val_accuracy: 0.8588\n",
      "Epoch 69/100\n",
      "32058/32058 [==============================] - 1s 25us/step - loss: 0.2988 - accuracy: 0.8692 - val_loss: 0.3519 - val_accuracy: 0.8741\n",
      "Epoch 70/100\n",
      "32058/32058 [==============================] - 1s 25us/step - loss: 0.2941 - accuracy: 0.8750 - val_loss: 0.2863 - val_accuracy: 0.8744\n",
      "Epoch 71/100\n",
      "32058/32058 [==============================] - 1s 25us/step - loss: 0.2698 - accuracy: 0.8854 - val_loss: 0.2716 - val_accuracy: 0.8978\n",
      "Epoch 72/100\n",
      "32058/32058 [==============================] - 1s 25us/step - loss: 0.2708 - accuracy: 0.8888 - val_loss: 0.2777 - val_accuracy: 0.8947\n",
      "Epoch 73/100\n",
      "32058/32058 [==============================] - 1s 25us/step - loss: 0.2951 - accuracy: 0.8750 - val_loss: 0.2845 - val_accuracy: 0.8936\n",
      "Epoch 74/100\n",
      "32058/32058 [==============================] - 1s 25us/step - loss: 0.2729 - accuracy: 0.8863 - val_loss: 0.2678 - val_accuracy: 0.8973\n",
      "Epoch 75/100\n",
      "32058/32058 [==============================] - 1s 25us/step - loss: 0.2661 - accuracy: 0.8889 - val_loss: 0.2914 - val_accuracy: 0.8912\n",
      "Epoch 76/100\n",
      "32058/32058 [==============================] - 1s 25us/step - loss: 0.3266 - accuracy: 0.8846 - val_loss: 0.2664 - val_accuracy: 0.8996\n",
      "Epoch 77/100\n",
      "32058/32058 [==============================] - 1s 26us/step - loss: 0.2720 - accuracy: 0.8839 - val_loss: 0.2713 - val_accuracy: 0.9018\n",
      "Epoch 78/100\n",
      "32058/32058 [==============================] - 1s 25us/step - loss: 0.2725 - accuracy: 0.8888 - val_loss: 0.3170 - val_accuracy: 0.8660\n",
      "Epoch 79/100\n",
      "32058/32058 [==============================] - 1s 26us/step - loss: 0.2919 - accuracy: 0.8802 - val_loss: 0.3619 - val_accuracy: 0.8556\n",
      "Epoch 80/100\n",
      "32058/32058 [==============================] - 1s 25us/step - loss: 0.2993 - accuracy: 0.8748 - val_loss: 0.3050 - val_accuracy: 0.8931\n",
      "Epoch 81/100\n",
      "32058/32058 [==============================] - 1s 25us/step - loss: 0.2717 - accuracy: 0.8790 - val_loss: 0.2755 - val_accuracy: 0.8971\n",
      "Epoch 82/100\n",
      "32058/32058 [==============================] - 1s 25us/step - loss: 0.2719 - accuracy: 0.8911 - val_loss: 0.3314 - val_accuracy: 0.8665\n",
      "Epoch 83/100\n",
      "32058/32058 [==============================] - 1s 25us/step - loss: 0.2962 - accuracy: 0.8806 - val_loss: 0.3439 - val_accuracy: 0.8564\n",
      "Epoch 84/100\n",
      "32058/32058 [==============================] - 1s 25us/step - loss: 0.3029 - accuracy: 0.8765 - val_loss: 0.3216 - val_accuracy: 0.8658\n",
      "Epoch 85/100\n",
      "32058/32058 [==============================] - 1s 25us/step - loss: 0.2821 - accuracy: 0.8819 - val_loss: 0.2748 - val_accuracy: 0.8857\n",
      "Epoch 86/100\n",
      "32058/32058 [==============================] - 1s 25us/step - loss: 0.2899 - accuracy: 0.8817 - val_loss: 0.2738 - val_accuracy: 0.8921\n",
      "Epoch 87/100\n",
      "32058/32058 [==============================] - 1s 25us/step - loss: 0.2771 - accuracy: 0.8846 - val_loss: 0.2790 - val_accuracy: 0.8853\n",
      "Epoch 88/100\n",
      "32058/32058 [==============================] - 1s 26us/step - loss: 0.2899 - accuracy: 0.8779 - val_loss: 0.2912 - val_accuracy: 0.8958\n",
      "Epoch 89/100\n",
      "32058/32058 [==============================] - 1s 26us/step - loss: 0.3190 - accuracy: 0.8864 - val_loss: 0.4892 - val_accuracy: 0.8563\n",
      "Epoch 90/100\n",
      "32058/32058 [==============================] - 1s 27us/step - loss: 0.3056 - accuracy: 0.8678 - val_loss: 0.3090 - val_accuracy: 0.8731\n",
      "Epoch 91/100\n",
      "32058/32058 [==============================] - 1s 25us/step - loss: 0.3196 - accuracy: 0.8689 - val_loss: 0.3139 - val_accuracy: 0.8712\n",
      "Epoch 92/100\n",
      "32058/32058 [==============================] - 1s 25us/step - loss: 0.2845 - accuracy: 0.8801 - val_loss: 0.2681 - val_accuracy: 0.8964\n",
      "Epoch 93/100\n",
      "32058/32058 [==============================] - 1s 25us/step - loss: 0.2836 - accuracy: 0.8886 - val_loss: 0.3119 - val_accuracy: 0.8774\n",
      "Epoch 94/100\n",
      "32058/32058 [==============================] - 1s 26us/step - loss: 0.3479 - accuracy: 0.8620 - val_loss: 0.3315 - val_accuracy: 0.8524\n",
      "Epoch 95/100\n",
      "32058/32058 [==============================] - 1s 26us/step - loss: 0.3339 - accuracy: 0.8701 - val_loss: 0.3054 - val_accuracy: 0.8881\n",
      "Epoch 96/100\n",
      "32058/32058 [==============================] - 1s 34us/step - loss: 0.3647 - accuracy: 0.8588 - val_loss: 0.3377 - val_accuracy: 0.8324\n",
      "Epoch 97/100\n",
      "32058/32058 [==============================] - 1s 43us/step - loss: 0.3402 - accuracy: 0.8548 - val_loss: 0.3509 - val_accuracy: 0.8368\n",
      "Epoch 98/100\n",
      "32058/32058 [==============================] - 1s 30us/step - loss: 0.5669 - accuracy: 0.8646 - val_loss: 0.3043 - val_accuracy: 0.8801\n",
      "Epoch 99/100\n",
      "32058/32058 [==============================] - 1s 28us/step - loss: 0.2820 - accuracy: 0.8848 - val_loss: 0.2855 - val_accuracy: 0.8932\n",
      "Epoch 100/100\n",
      "32058/32058 [==============================] - 1s 27us/step - loss: 0.2852 - accuracy: 0.8885 - val_loss: 0.3478 - val_accuracy: 0.8417\n"
     ]
    }
   ],
   "source": [
    "l_tuned_model_history = l_tuned_model.fit(X_train, y_train, epochs=100,\n",
    "                                       batch_size=64, validation_split=0.2,\n",
    "                                       use_multiprocessing=True)"
   ]
  },
  {
   "cell_type": "code",
   "execution_count": 65,
   "metadata": {},
   "outputs": [
    {
     "data": {
      "image/png": "[encoded data removed]",
      "text/plain": [
       "<Figure size 432x288 with 1 Axes>"
      ]
     },
     "metadata": {
      "needs_background": "light"
     },
     "output_type": "display_data"
    }
   ],
   "source": [
    "# Plotting Accuracy\n",
    "\n",
    "plt.plot(l_tuned_model_history.history['accuracy'])\n",
    "plt.plot(l_tuned_model_history.history['val_accuracy'])\n",
    "plt.title('Accuracy Plot')\n",
    "plt.ylabel('Accuracy')\n",
    "plt.xlabel('Epoch')\n",
    "plt.legend(['Train', 'Validation'])\n",
    "plt.show()"
   ]
  },
  {
   "cell_type": "code",
   "execution_count": 66,
   "metadata": {},
   "outputs": [
    {
     "data": {
      "image/png": "[encoded data removed]",
      "text/plain": [
       "<Figure size 432x288 with 1 Axes>"
      ]
     },
     "metadata": {
      "needs_background": "light"
     },
     "output_type": "display_data"
    }
   ],
   "source": [
    "# Plotting Loss\n",
    "\n",
    "plt.plot(l_tuned_model_history.history['loss'])\n",
    "plt.plot(l_tuned_model_history.history['val_loss'])\n",
    "plt.title('Loss Plot')\n",
    "plt.ylabel('Loss')\n",
    "plt.xlabel('Epoch')\n",
    "plt.legend(['Train', 'Validation'])\n",
    "plt.show()"
   ]
  },
  {
   "cell_type": "markdown",
   "metadata": {},
   "source": [
    "#### Predictions"
   ]
  },
  {
   "cell_type": "code",
   "execution_count": 67,
   "metadata": {},
   "outputs": [],
   "source": [
    "train_l_tuned_model = l_tuned_model.predict_classes(X_train)\n",
    "test_l_tuned_model = l_tuned_model.predict_classes(X_test)"
   ]
  },
  {
   "cell_type": "markdown",
   "metadata": {},
   "source": [
    "#### Getting evaluation metrics and evaluating model performance"
   ]
  },
  {
   "cell_type": "code",
   "execution_count": 68,
   "metadata": {},
   "outputs": [
    {
     "name": "stdout",
     "output_type": "stream",
     "text": [
      "[[31839   630]\n",
      " [ 5554  2050]]\n",
      "[[13644   272]\n",
      " [ 2397   862]]\n"
     ]
    }
   ],
   "source": [
    "l_confusion_matrix_train = confusion_matrix(y_train, train_l_tuned_model)\n",
    "l_confusion_matrix_test = confusion_matrix(y_test, test_l_tuned_model)\n",
    "\n",
    "print(l_confusion_matrix_train)\n",
    "print(l_confusion_matrix_test)"
   ]
  },
  {
   "cell_type": "markdown",
   "metadata": {},
   "source": [
    "#### Calculate Accuracy, True Positive Rate and True Negative Rates"
   ]
  },
  {
   "cell_type": "code",
   "execution_count": 69,
   "metadata": {},
   "outputs": [
    {
     "name": "stdout",
     "output_type": "stream",
     "text": [
      "Train TNR:  0.9805968770211586\n",
      "Train TPR:  0.26959495002630196\n",
      "Train Accuracy:  0.8456816310233823\n",
      "-----------------------\n",
      "Test TNR:  0.9804541534923829\n",
      "Test TPR:  0.2644983123657564\n",
      "Test Accuracy:  0.8445997088791849\n",
      "-----------------------\n"
     ]
    }
   ],
   "source": [
    "Accuracy_Train_l =(l_confusion_matrix_train[0,0]+l_confusion_matrix_train[1,1])/(l_confusion_matrix_train[0,0]+l_confusion_matrix_train[0,1]+l_confusion_matrix_train[1,0]+l_confusion_matrix_train[1,1])\n",
    "TNR_Train_l = l_confusion_matrix_train[0,0]/(l_confusion_matrix_train[0,0]+l_confusion_matrix_train[0,1])\n",
    "TPR_Train_l = l_confusion_matrix_train[1,1]/(l_confusion_matrix_train[1,0]+l_confusion_matrix_train[1,1])\n",
    "\n",
    "print(\"Train TNR: \",TNR_Train_l)\n",
    "print(\"Train TPR: \",TPR_Train_l)\n",
    "print(\"Train Accuracy: \",Accuracy_Train_l)\n",
    "\n",
    "print(\"-----------------------\")\n",
    "\n",
    "Accuracy_Test_l = (l_confusion_matrix_test[0,0]+l_confusion_matrix_test[1,1])/(l_confusion_matrix_test[0,0]+l_confusion_matrix_test[0,1]+l_confusion_matrix_test[1,0]+l_confusion_matrix_test[1,1])\n",
    "TNR_Test_l = l_confusion_matrix_test[0,0]/(l_confusion_matrix_test[0,0] +l_confusion_matrix_test[0,1])\n",
    "TPR_Test_l = l_confusion_matrix_test[1,1]/(l_confusion_matrix_test[1,0] +l_confusion_matrix_test[1,1])\n",
    "\n",
    "print(\"Test TNR: \",TNR_Test_l)\n",
    "print(\"Test TPR: \",TPR_Test_l)\n",
    "print(\"Test Accuracy: \",Accuracy_Test_l)\n",
    "\n",
    "print(\"-----------------------\")\n"
   ]
  },
  {
   "cell_type": "markdown",
   "metadata": {},
   "source": [
    "#### Find the best Batch size "
   ]
  },
  {
   "cell_type": "code",
   "execution_count": 70,
   "metadata": {},
   "outputs": [],
   "source": [
    "#l_rate = np.logspace(0.0001,1,8)\n",
    "#l_rate = 10**(-2.3 * np.random.rand(6))\n",
    "b_size = [32, 64, 128, 256]\n",
    "b_size\n",
    "\n",
    "best_l_rate=0.00719686"
   ]
  },
  {
   "cell_type": "code",
   "execution_count": 71,
   "metadata": {},
   "outputs": [
    {
     "name": "stdout",
     "output_type": "stream",
     "text": [
      "Train on 32058 samples, validate on 8015 samples\n",
      "Epoch 1/1\n",
      "32058/32058 [==============================] - 2s 62us/step - loss: 0.3431 - accuracy: 0.8609 - val_loss: 0.3621 - val_accuracy: 0.8624\n",
      "Train on 32058 samples, validate on 8015 samples\n",
      "Epoch 1/1\n",
      "32058/32058 [==============================] - 1s 34us/step - loss: 0.3364 - accuracy: 0.8629 - val_loss: 0.3476 - val_accuracy: 0.8442\n",
      "Train on 32058 samples, validate on 8015 samples\n",
      "Epoch 1/1\n",
      "32058/32058 [==============================] - 1s 17us/step - loss: 0.3349 - accuracy: 0.8566 - val_loss: 0.3251 - val_accuracy: 0.8605\n",
      "Train on 32058 samples, validate on 8015 samples\n",
      "Epoch 1/1\n",
      "32058/32058 [==============================] - 0s 8us/step - loss: 0.3200 - accuracy: 0.8486 - val_loss: 0.3297 - val_accuracy: 0.8397\n"
     ]
    }
   ],
   "source": [
    "b_hist_loss=[]\n",
    "b_hist_acc=[]\n",
    "\n",
    "for b_size_v in b_size:\n",
    "    \n",
    "    #Fit the model\n",
    "    b_l_tuned_model_history = l_tuned_model.fit(X_train, y_train, epochs=1,\n",
    "                                       batch_size=b_size_v, validation_split=0.2,\n",
    "                                       use_multiprocessing=True)\n",
    "\n",
    "    b_hist_loss.append(b_l_tuned_model_history.history['val_loss'])\n",
    "    b_hist_acc.append(b_l_tuned_model_history.history['val_accuracy'])"
   ]
  },
  {
   "cell_type": "code",
   "execution_count": 72,
   "metadata": {},
   "outputs": [
    {
     "data": {
      "text/html": [
       "<div>\n",
       "<style scoped>\n",
       "    .dataframe tbody tr th:only-of-type {\n",
       "        vertical-align: middle;\n",
       "    }\n",
       "\n",
       "    .dataframe tbody tr th {\n",
       "        vertical-align: top;\n",
       "    }\n",
       "\n",
       "    .dataframe thead th {\n",
       "        text-align: right;\n",
       "    }\n",
       "</style>\n",
       "<table border=\"1\" class=\"dataframe\">\n",
       "  <thead>\n",
       "    <tr style=\"text-align: right;\">\n",
       "      <th></th>\n",
       "      <th>b_size</th>\n",
       "      <th>val_loss</th>\n",
       "      <th>val_accuracy</th>\n",
       "    </tr>\n",
       "  </thead>\n",
       "  <tbody>\n",
       "    <tr>\n",
       "      <th>0</th>\n",
       "      <td>128</td>\n",
       "      <td>[0.32510667296401874]</td>\n",
       "      <td>[0.8605115413665771]</td>\n",
       "    </tr>\n",
       "    <tr>\n",
       "      <th>1</th>\n",
       "      <td>256</td>\n",
       "      <td>[0.32966845308849385]</td>\n",
       "      <td>[0.8396756052970886]</td>\n",
       "    </tr>\n",
       "    <tr>\n",
       "      <th>2</th>\n",
       "      <td>64</td>\n",
       "      <td>[0.3476190584195233]</td>\n",
       "      <td>[0.844167172908783]</td>\n",
       "    </tr>\n",
       "    <tr>\n",
       "      <th>3</th>\n",
       "      <td>32</td>\n",
       "      <td>[0.3620794325416265]</td>\n",
       "      <td>[0.8623830080032349]</td>\n",
       "    </tr>\n",
       "  </tbody>\n",
       "</table>\n",
       "</div>"
      ],
      "text/plain": [
       "  b_size               val_loss          val_accuracy\n",
       "0    128  [0.32510667296401874]  [0.8605115413665771]\n",
       "1    256  [0.32966845308849385]  [0.8396756052970886]\n",
       "2     64   [0.3476190584195233]   [0.844167172908783]\n",
       "3     32   [0.3620794325416265]  [0.8623830080032349]"
      ]
     },
     "execution_count": 72,
     "metadata": {},
     "output_type": "execute_result"
    }
   ],
   "source": [
    "# Get the Learning rate and loss Dataframe\n",
    "b_size_t = pd.DataFrame([b_size, b_hist_loss, b_hist_acc]).T  \n",
    "\n",
    "#Give the coloumn names\n",
    "b_size_t.columns=['b_size','val_loss','val_accuracy']\n",
    "\n",
    "#Sort the values and reset the index\n",
    "b_size_t=b_size_t.sort_values('val_loss').reset_index().drop('index',axis=1)\n",
    "b_size_t"
   ]
  },
  {
   "cell_type": "markdown",
   "metadata": {},
   "source": [
    "#### Build model with the best batch size"
   ]
  },
  {
   "cell_type": "code",
   "execution_count": 73,
   "metadata": {},
   "outputs": [
    {
     "name": "stdout",
     "output_type": "stream",
     "text": [
      "Train on 32058 samples, validate on 8015 samples\n",
      "Epoch 1/100\n",
      "32058/32058 [==============================] - 0s 8us/step - loss: 0.3143 - accuracy: 0.8500 - val_loss: 0.3220 - val_accuracy: 0.8483\n",
      "Epoch 2/100\n",
      "32058/32058 [==============================] - 0s 8us/step - loss: 0.3052 - accuracy: 0.8566 - val_loss: 0.3073 - val_accuracy: 0.8574\n",
      "Epoch 3/100\n",
      "32058/32058 [==============================] - 0s 8us/step - loss: 0.2933 - accuracy: 0.8649 - val_loss: 0.2925 - val_accuracy: 0.8643\n",
      "Epoch 4/100\n",
      "32058/32058 [==============================] - 0s 9us/step - loss: 0.2706 - accuracy: 0.8864 - val_loss: 0.2717 - val_accuracy: 0.8937\n",
      "Epoch 5/100\n",
      "32058/32058 [==============================] - 0s 9us/step - loss: 0.2616 - accuracy: 0.8970 - val_loss: 0.2782 - val_accuracy: 0.8925\n",
      "Epoch 6/100\n",
      "32058/32058 [==============================] - 0s 8us/step - loss: 0.2620 - accuracy: 0.8950 - val_loss: 0.2685 - val_accuracy: 0.8981\n",
      "Epoch 7/100\n",
      "32058/32058 [==============================] - 0s 8us/step - loss: 0.2536 - accuracy: 0.8993 - val_loss: 0.2680 - val_accuracy: 0.8876\n",
      "Epoch 8/100\n",
      "32058/32058 [==============================] - 0s 8us/step - loss: 0.2515 - accuracy: 0.8993 - val_loss: 0.2748 - val_accuracy: 0.8883\n",
      "Epoch 9/100\n",
      "32058/32058 [==============================] - 0s 8us/step - loss: 0.3348 - accuracy: 0.8539 - val_loss: 0.3141 - val_accuracy: 0.8706\n",
      "Epoch 10/100\n",
      "32058/32058 [==============================] - 0s 8us/step - loss: 0.2966 - accuracy: 0.8767 - val_loss: 0.3488 - val_accuracy: 0.8887\n",
      "Epoch 11/100\n",
      "32058/32058 [==============================] - 0s 8us/step - loss: 0.2788 - accuracy: 0.8879 - val_loss: 0.2786 - val_accuracy: 0.8938\n",
      "Epoch 12/100\n",
      "32058/32058 [==============================] - 0s 8us/step - loss: 0.2822 - accuracy: 0.8885 - val_loss: 0.2705 - val_accuracy: 0.8989\n",
      "Epoch 13/100\n",
      "32058/32058 [==============================] - 0s 8us/step - loss: 0.2868 - accuracy: 0.8860 - val_loss: 0.3156 - val_accuracy: 0.8628\n",
      "Epoch 14/100\n",
      "32058/32058 [==============================] - 0s 8us/step - loss: 0.2881 - accuracy: 0.8715 - val_loss: 0.2921 - val_accuracy: 0.8786\n",
      "Epoch 15/100\n",
      "32058/32058 [==============================] - 0s 8us/step - loss: 0.2671 - accuracy: 0.8885 - val_loss: 0.2735 - val_accuracy: 0.8947\n",
      "Epoch 16/100\n",
      "32058/32058 [==============================] - 0s 8us/step - loss: 0.2528 - accuracy: 0.8981 - val_loss: 0.2675 - val_accuracy: 0.8988\n",
      "Epoch 17/100\n",
      "32058/32058 [==============================] - 0s 9us/step - loss: 0.2553 - accuracy: 0.8998 - val_loss: 0.3550 - val_accuracy: 0.8959\n",
      "Epoch 18/100\n",
      "32058/32058 [==============================] - 0s 9us/step - loss: 0.2984 - accuracy: 0.8836 - val_loss: 0.2861 - val_accuracy: 0.8782\n",
      "Epoch 19/100\n",
      "32058/32058 [==============================] - 0s 9us/step - loss: 0.3169 - accuracy: 0.8745 - val_loss: 0.3028 - val_accuracy: 0.8871\n",
      "Epoch 20/100\n",
      "32058/32058 [==============================] - 0s 9us/step - loss: 0.2719 - accuracy: 0.8934 - val_loss: 0.2770 - val_accuracy: 0.8915\n",
      "Epoch 21/100\n",
      "32058/32058 [==============================] - 0s 8us/step - loss: 0.2616 - accuracy: 0.8960 - val_loss: 0.2817 - val_accuracy: 0.8976\n",
      "Epoch 22/100\n",
      "32058/32058 [==============================] - 0s 9us/step - loss: 0.2546 - accuracy: 0.8980 - val_loss: 0.2857 - val_accuracy: 0.8976\n",
      "Epoch 23/100\n",
      "32058/32058 [==============================] - 0s 8us/step - loss: 0.2575 - accuracy: 0.8996 - val_loss: 0.3211 - val_accuracy: 0.8952\n",
      "Epoch 24/100\n",
      "32058/32058 [==============================] - 0s 8us/step - loss: 0.2744 - accuracy: 0.8903 - val_loss: 0.2745 - val_accuracy: 0.8969\n",
      "Epoch 25/100\n",
      "32058/32058 [==============================] - 0s 8us/step - loss: 0.2546 - accuracy: 0.9000 - val_loss: 0.2728 - val_accuracy: 0.8994\n",
      "Epoch 26/100\n",
      "32058/32058 [==============================] - 0s 9us/step - loss: 0.2498 - accuracy: 0.8998 - val_loss: 0.2684 - val_accuracy: 0.8973\n",
      "Epoch 27/100\n",
      "32058/32058 [==============================] - 0s 8us/step - loss: 0.2555 - accuracy: 0.8993 - val_loss: 0.2702 - val_accuracy: 0.9013\n",
      "Epoch 28/100\n",
      "32058/32058 [==============================] - 0s 8us/step - loss: 0.2465 - accuracy: 0.9007 - val_loss: 0.2723 - val_accuracy: 0.8982\n",
      "Epoch 29/100\n",
      "32058/32058 [==============================] - 0s 8us/step - loss: 0.2487 - accuracy: 0.9022 - val_loss: 0.2832 - val_accuracy: 0.9004\n",
      "Epoch 30/100\n",
      "32058/32058 [==============================] - 0s 8us/step - loss: 0.2536 - accuracy: 0.9005 - val_loss: 0.2613 - val_accuracy: 0.9017\n",
      "Epoch 31/100\n",
      "32058/32058 [==============================] - 0s 8us/step - loss: 0.2431 - accuracy: 0.9020 - val_loss: 0.2641 - val_accuracy: 0.9011\n",
      "Epoch 32/100\n",
      "32058/32058 [==============================] - 0s 8us/step - loss: 0.2454 - accuracy: 0.9019 - val_loss: 0.2924 - val_accuracy: 0.9012\n",
      "Epoch 33/100\n",
      "32058/32058 [==============================] - 0s 8us/step - loss: 0.2539 - accuracy: 0.9008 - val_loss: 0.2581 - val_accuracy: 0.8999\n",
      "Epoch 34/100\n",
      "32058/32058 [==============================] - 0s 8us/step - loss: 0.2423 - accuracy: 0.9018 - val_loss: 0.2669 - val_accuracy: 0.9022\n",
      "Epoch 35/100\n",
      "32058/32058 [==============================] - 0s 8us/step - loss: 0.2470 - accuracy: 0.9004 - val_loss: 0.2588 - val_accuracy: 0.9016\n",
      "Epoch 36/100\n",
      "32058/32058 [==============================] - 0s 8us/step - loss: 0.2418 - accuracy: 0.9018 - val_loss: 0.2607 - val_accuracy: 0.9029\n",
      "Epoch 37/100\n",
      "32058/32058 [==============================] - 0s 8us/step - loss: 0.2436 - accuracy: 0.9016 - val_loss: 0.2837 - val_accuracy: 0.8988\n",
      "Epoch 38/100\n",
      "32058/32058 [==============================] - 0s 8us/step - loss: 0.2505 - accuracy: 0.9006 - val_loss: 0.2632 - val_accuracy: 0.9011\n",
      "Epoch 39/100\n",
      "32058/32058 [==============================] - 0s 8us/step - loss: 0.2441 - accuracy: 0.9008 - val_loss: 0.2878 - val_accuracy: 0.9002\n",
      "Epoch 40/100\n",
      "32058/32058 [==============================] - 0s 8us/step - loss: 0.2483 - accuracy: 0.9012 - val_loss: 0.2607 - val_accuracy: 0.9023\n",
      "Epoch 41/100\n",
      "32058/32058 [==============================] - 0s 8us/step - loss: 0.2481 - accuracy: 0.8972 - val_loss: 0.2740 - val_accuracy: 0.8982\n",
      "Epoch 42/100\n",
      "32058/32058 [==============================] - 0s 8us/step - loss: 0.2448 - accuracy: 0.9010 - val_loss: 0.2619 - val_accuracy: 0.9027\n",
      "Epoch 43/100\n",
      "32058/32058 [==============================] - 0s 8us/step - loss: 0.2515 - accuracy: 0.9011 - val_loss: 0.2835 - val_accuracy: 0.8994\n",
      "Epoch 44/100\n",
      "32058/32058 [==============================] - 0s 8us/step - loss: 0.3298 - accuracy: 0.8689 - val_loss: 0.2855 - val_accuracy: 0.8953\n",
      "Epoch 45/100\n",
      "32058/32058 [==============================] - 0s 8us/step - loss: 0.2971 - accuracy: 0.8755 - val_loss: 0.3575 - val_accuracy: 0.8796\n",
      "Epoch 46/100\n",
      "32058/32058 [==============================] - 0s 8us/step - loss: 0.4124 - accuracy: 0.8459 - val_loss: 0.4306 - val_accuracy: 0.8042\n",
      "Epoch 47/100\n",
      "32058/32058 [==============================] - 0s 8us/step - loss: 0.3545 - accuracy: 0.8156 - val_loss: 0.3778 - val_accuracy: 0.8237\n",
      "Epoch 48/100\n",
      "32058/32058 [==============================] - 0s 8us/step - loss: 0.3116 - accuracy: 0.8414 - val_loss: 0.2973 - val_accuracy: 0.8878\n",
      "Epoch 49/100\n",
      "32058/32058 [==============================] - 0s 8us/step - loss: 0.3116 - accuracy: 0.8826 - val_loss: 0.3512 - val_accuracy: 0.8954\n",
      "Epoch 50/100\n",
      "32058/32058 [==============================] - 0s 8us/step - loss: 0.3016 - accuracy: 0.8935 - val_loss: 0.3224 - val_accuracy: 0.8651\n",
      "Epoch 51/100\n",
      "32058/32058 [==============================] - 0s 8us/step - loss: 0.2786 - accuracy: 0.8913 - val_loss: 0.2966 - val_accuracy: 0.8867\n",
      "Epoch 52/100\n",
      "32058/32058 [==============================] - 0s 8us/step - loss: 0.2594 - accuracy: 0.8964 - val_loss: 0.2867 - val_accuracy: 0.8897\n",
      "Epoch 53/100\n",
      "32058/32058 [==============================] - 0s 8us/step - loss: 0.2571 - accuracy: 0.8961 - val_loss: 0.2855 - val_accuracy: 0.8984\n",
      "Epoch 54/100\n",
      "32058/32058 [==============================] - 0s 8us/step - loss: 0.2600 - accuracy: 0.8967 - val_loss: 0.2922 - val_accuracy: 0.9013\n",
      "Epoch 55/100\n",
      "32058/32058 [==============================] - 0s 8us/step - loss: 0.2655 - accuracy: 0.8970 - val_loss: 0.2783 - val_accuracy: 0.9003\n",
      "Epoch 56/100\n"
     ]
    },
    {
     "name": "stdout",
     "output_type": "stream",
     "text": [
      "32058/32058 [==============================] - 0s 8us/step - loss: 0.2551 - accuracy: 0.8938 - val_loss: 0.2793 - val_accuracy: 0.9026\n",
      "Epoch 57/100\n",
      "32058/32058 [==============================] - 0s 8us/step - loss: 0.2557 - accuracy: 0.8986 - val_loss: 0.2674 - val_accuracy: 0.9006\n",
      "Epoch 58/100\n",
      "32058/32058 [==============================] - 0s 8us/step - loss: 0.2568 - accuracy: 0.8957 - val_loss: 0.2607 - val_accuracy: 0.8968\n",
      "Epoch 59/100\n",
      "32058/32058 [==============================] - 0s 8us/step - loss: 0.2463 - accuracy: 0.8996 - val_loss: 0.2695 - val_accuracy: 0.8979\n",
      "Epoch 60/100\n",
      "32058/32058 [==============================] - 0s 8us/step - loss: 0.2544 - accuracy: 0.9018 - val_loss: 0.2996 - val_accuracy: 0.8969\n",
      "Epoch 61/100\n",
      "32058/32058 [==============================] - 0s 8us/step - loss: 0.2751 - accuracy: 0.8898 - val_loss: 0.2729 - val_accuracy: 0.8949\n",
      "Epoch 62/100\n",
      "32058/32058 [==============================] - 0s 8us/step - loss: 0.2543 - accuracy: 0.8994 - val_loss: 0.2654 - val_accuracy: 0.9016\n",
      "Epoch 63/100\n",
      "32058/32058 [==============================] - 0s 8us/step - loss: 0.2484 - accuracy: 0.8999 - val_loss: 0.2816 - val_accuracy: 0.8972\n",
      "Epoch 64/100\n",
      "32058/32058 [==============================] - 0s 8us/step - loss: 0.2467 - accuracy: 0.9020 - val_loss: 0.2810 - val_accuracy: 0.8961\n",
      "Epoch 65/100\n",
      "32058/32058 [==============================] - 0s 8us/step - loss: 0.2428 - accuracy: 0.9011 - val_loss: 0.2710 - val_accuracy: 0.9023\n",
      "Epoch 66/100\n",
      "32058/32058 [==============================] - 0s 8us/step - loss: 0.2406 - accuracy: 0.9026 - val_loss: 0.2826 - val_accuracy: 0.8992\n",
      "Epoch 67/100\n",
      "32058/32058 [==============================] - 0s 8us/step - loss: 0.2457 - accuracy: 0.9025 - val_loss: 0.2784 - val_accuracy: 0.9011\n",
      "Epoch 68/100\n",
      "32058/32058 [==============================] - 0s 8us/step - loss: 0.2419 - accuracy: 0.9020 - val_loss: 0.2788 - val_accuracy: 0.9008\n",
      "Epoch 69/100\n",
      "32058/32058 [==============================] - 0s 8us/step - loss: 0.2424 - accuracy: 0.9008 - val_loss: 0.2702 - val_accuracy: 0.9039\n",
      "Epoch 70/100\n",
      "32058/32058 [==============================] - 0s 8us/step - loss: 0.2396 - accuracy: 0.9038 - val_loss: 0.2977 - val_accuracy: 0.9021\n",
      "Epoch 71/100\n",
      "32058/32058 [==============================] - 0s 8us/step - loss: 0.2430 - accuracy: 0.9026 - val_loss: 0.2802 - val_accuracy: 0.9012\n",
      "Epoch 72/100\n",
      "32058/32058 [==============================] - 0s 8us/step - loss: 0.2538 - accuracy: 0.9010 - val_loss: 0.2959 - val_accuracy: 0.8978\n",
      "Epoch 73/100\n",
      "32058/32058 [==============================] - 0s 8us/step - loss: 0.2502 - accuracy: 0.9002 - val_loss: 0.2973 - val_accuracy: 0.9034\n",
      "Epoch 74/100\n",
      "32058/32058 [==============================] - 0s 8us/step - loss: 0.2470 - accuracy: 0.9028 - val_loss: 0.2948 - val_accuracy: 0.8991\n",
      "Epoch 75/100\n",
      "32058/32058 [==============================] - 0s 8us/step - loss: 0.2398 - accuracy: 0.9043 - val_loss: 0.2870 - val_accuracy: 0.8992\n",
      "Epoch 76/100\n",
      "32058/32058 [==============================] - 0s 8us/step - loss: 0.2409 - accuracy: 0.9029 - val_loss: 0.2820 - val_accuracy: 0.9023\n",
      "Epoch 77/100\n",
      "32058/32058 [==============================] - 0s 8us/step - loss: 0.2419 - accuracy: 0.9024 - val_loss: 0.3031 - val_accuracy: 0.8969\n",
      "Epoch 78/100\n",
      "32058/32058 [==============================] - 0s 8us/step - loss: 0.2474 - accuracy: 0.9010 - val_loss: 0.2992 - val_accuracy: 0.9021\n",
      "Epoch 79/100\n",
      "32058/32058 [==============================] - 0s 8us/step - loss: 0.2515 - accuracy: 0.9001 - val_loss: 0.2696 - val_accuracy: 0.9029\n",
      "Epoch 80/100\n",
      "32058/32058 [==============================] - 0s 8us/step - loss: 0.2427 - accuracy: 0.9025 - val_loss: 0.2733 - val_accuracy: 0.9042\n",
      "Epoch 81/100\n",
      "32058/32058 [==============================] - 0s 8us/step - loss: 0.2908 - accuracy: 0.8912 - val_loss: 0.3677 - val_accuracy: 0.8867\n",
      "Epoch 82/100\n",
      "32058/32058 [==============================] - 0s 8us/step - loss: 0.2887 - accuracy: 0.8933 - val_loss: 0.3288 - val_accuracy: 0.8978\n",
      "Epoch 83/100\n",
      "32058/32058 [==============================] - 0s 8us/step - loss: 0.3118 - accuracy: 0.8757 - val_loss: 0.3352 - val_accuracy: 0.8977\n",
      "Epoch 84/100\n",
      "32058/32058 [==============================] - 0s 8us/step - loss: 0.3034 - accuracy: 0.8634 - val_loss: 0.2960 - val_accuracy: 0.8493\n",
      "Epoch 85/100\n",
      "32058/32058 [==============================] - 0s 8us/step - loss: 0.2698 - accuracy: 0.8843 - val_loss: 0.2770 - val_accuracy: 0.8963\n",
      "Epoch 86/100\n",
      "32058/32058 [==============================] - 0s 8us/step - loss: 0.2413 - accuracy: 0.8992 - val_loss: 0.2800 - val_accuracy: 0.8961\n",
      "Epoch 87/100\n",
      "32058/32058 [==============================] - 0s 8us/step - loss: 0.2542 - accuracy: 0.8969 - val_loss: 0.2655 - val_accuracy: 0.8988\n",
      "Epoch 88/100\n",
      "32058/32058 [==============================] - 0s 8us/step - loss: 0.2552 - accuracy: 0.8950 - val_loss: 0.2822 - val_accuracy: 0.9002\n",
      "Epoch 89/100\n",
      "32058/32058 [==============================] - 0s 8us/step - loss: 0.2615 - accuracy: 0.8957 - val_loss: 0.2881 - val_accuracy: 0.8737\n",
      "Epoch 90/100\n",
      "32058/32058 [==============================] - 0s 8us/step - loss: 0.2560 - accuracy: 0.8929 - val_loss: 0.2785 - val_accuracy: 0.8942\n",
      "Epoch 91/100\n",
      "32058/32058 [==============================] - 0s 8us/step - loss: 0.2612 - accuracy: 0.8943 - val_loss: 0.2702 - val_accuracy: 0.8978\n",
      "Epoch 92/100\n",
      "32058/32058 [==============================] - 0s 8us/step - loss: 0.2492 - accuracy: 0.8989 - val_loss: 0.2985 - val_accuracy: 0.8939\n",
      "Epoch 93/100\n",
      "32058/32058 [==============================] - 0s 8us/step - loss: 0.2549 - accuracy: 0.8980 - val_loss: 0.3172 - val_accuracy: 0.8957\n",
      "Epoch 94/100\n",
      "32058/32058 [==============================] - 0s 8us/step - loss: 0.2765 - accuracy: 0.8908 - val_loss: 0.3610 - val_accuracy: 0.8116\n",
      "Epoch 95/100\n",
      "32058/32058 [==============================] - 0s 8us/step - loss: 0.2819 - accuracy: 0.8824 - val_loss: 0.3023 - val_accuracy: 0.8971\n",
      "Epoch 96/100\n",
      "32058/32058 [==============================] - 0s 8us/step - loss: 0.2635 - accuracy: 0.8881 - val_loss: 0.2773 - val_accuracy: 0.8881\n",
      "Epoch 97/100\n",
      "32058/32058 [==============================] - 0s 8us/step - loss: 7.6107 - accuracy: 0.8681 - val_loss: 0.3130 - val_accuracy: 0.8826\n",
      "Epoch 98/100\n",
      "32058/32058 [==============================] - 0s 8us/step - loss: 0.2695 - accuracy: 0.8963 - val_loss: 0.2811 - val_accuracy: 0.8996\n",
      "Epoch 99/100\n",
      "32058/32058 [==============================] - 0s 8us/step - loss: 0.2632 - accuracy: 0.8982 - val_loss: 0.2676 - val_accuracy: 0.8946\n",
      "Epoch 100/100\n",
      "32058/32058 [==============================] - 0s 8us/step - loss: 0.2569 - accuracy: 0.9007 - val_loss: 0.2522 - val_accuracy: 0.9037\n"
     ]
    }
   ],
   "source": [
    "b_l_tuned_model_history = l_tuned_model.fit(X_train, y_train, epochs=100,\n",
    "                                       batch_size=256, validation_split=0.2,\n",
    "                                       use_multiprocessing=True)"
   ]
  },
  {
   "cell_type": "code",
   "execution_count": 74,
   "metadata": {},
   "outputs": [
    {
     "data": {
      "image/png": "[encoded data removed]",
      "text/plain": [
       "<Figure size 432x288 with 1 Axes>"
      ]
     },
     "metadata": {
      "needs_background": "light"
     },
     "output_type": "display_data"
    }
   ],
   "source": [
    "# Plotting Accuracy\n",
    "\n",
    "plt.plot(b_l_tuned_model_history.history['accuracy'])\n",
    "plt.plot(b_l_tuned_model_history.history['val_accuracy'])\n",
    "plt.title('Accuracy Plot')\n",
    "plt.ylabel('Accuracy')\n",
    "plt.xlabel('Epoch')\n",
    "plt.legend(['Train', 'Validation'])\n",
    "plt.show()"
   ]
  },
  {
   "cell_type": "code",
   "execution_count": 75,
   "metadata": {},
   "outputs": [
    {
     "data": {
      "image/png": "[encoded data removed]",
      "text/plain": [
       "<Figure size 432x288 with 1 Axes>"
      ]
     },
     "metadata": {
      "needs_background": "light"
     },
     "output_type": "display_data"
    }
   ],
   "source": [
    "# Plotting Loss\n",
    "\n",
    "plt.plot(b_l_tuned_model_history.history['loss'])\n",
    "plt.plot(b_l_tuned_model_history.history['val_loss'])\n",
    "plt.title('Loss Plot')\n",
    "plt.ylabel('Loss')\n",
    "plt.xlabel('Epoch')\n",
    "plt.legend(['Train', 'Validation'])\n",
    "plt.show()"
   ]
  },
  {
   "cell_type": "markdown",
   "metadata": {},
   "source": [
    "#### Predictions"
   ]
  },
  {
   "cell_type": "code",
   "execution_count": 76,
   "metadata": {},
   "outputs": [],
   "source": [
    "train_b_l_tuned_model = l_tuned_model.predict_classes(X_train)\n",
    "test_b_l_tuned_model = l_tuned_model.predict_classes(X_test)"
   ]
  },
  {
   "cell_type": "markdown",
   "metadata": {},
   "source": [
    "#### Getting evaluation metrics and evaluating model performance"
   ]
  },
  {
   "cell_type": "code",
   "execution_count": 77,
   "metadata": {},
   "outputs": [
    {
     "name": "stdout",
     "output_type": "stream",
     "text": [
      "[[30595  1874]\n",
      " [ 1979  5625]]\n",
      "[[13139   777]\n",
      " [  868  2391]]\n"
     ]
    }
   ],
   "source": [
    "b_l_confusion_matrix_train = confusion_matrix(y_train, train_b_l_tuned_model)\n",
    "b_l_confusion_matrix_test = confusion_matrix(y_test, test_b_l_tuned_model)\n",
    "\n",
    "print(b_l_confusion_matrix_train)\n",
    "print(b_l_confusion_matrix_test)"
   ]
  },
  {
   "cell_type": "markdown",
   "metadata": {},
   "source": [
    "#### Calculate Accuracy, True Positive Rate and True Negative Rates"
   ]
  },
  {
   "cell_type": "code",
   "execution_count": 78,
   "metadata": {},
   "outputs": [
    {
     "name": "stdout",
     "output_type": "stream",
     "text": [
      "Train TNR:  0.7397422409258285\n",
      "Train TPR:  0.7397422409258285\n",
      "Train Accuracy:  0.9038504728869813\n",
      "-----------------------\n",
      "Test TNR:  0.9441649899396378\n",
      "Test TPR:  0.7336606320957348\n",
      "Test Accuracy:  0.9042212518195051\n",
      "-----------------------\n"
     ]
    }
   ],
   "source": [
    "Accuracy_Train_l_b =(b_l_confusion_matrix_train[0,0]+b_l_confusion_matrix_train[1,1])/(b_l_confusion_matrix_train[0,0]+b_l_confusion_matrix_train[0,1]+b_l_confusion_matrix_train[1,0]+b_l_confusion_matrix_train[1,1])\n",
    "TNR_Train_l_b = b_l_confusion_matrix_train[0,0]/(b_l_confusion_matrix_train[0,0]+b_l_confusion_matrix_train[0,1])\n",
    "TNR_Train_l_b = b_l_confusion_matrix_train[1,1]/(b_l_confusion_matrix_train[1,0]+b_l_confusion_matrix_train[1,1])\n",
    "\n",
    "print(\"Train TNR: \",TNR_Train_l_b)\n",
    "print(\"Train TPR: \",TNR_Train_l_b)\n",
    "print(\"Train Accuracy: \",Accuracy_Train_l_b)\n",
    "\n",
    "print(\"-----------------------\")\n",
    "\n",
    "Accuracy_Test_l_b = (b_l_confusion_matrix_test[0,0]+b_l_confusion_matrix_test[1,1])/(b_l_confusion_matrix_test[0,0]+b_l_confusion_matrix_test[0,1]+b_l_confusion_matrix_test[1,0]+b_l_confusion_matrix_test[1,1])\n",
    "TNR_Test_l_b = b_l_confusion_matrix_test[0,0]/(b_l_confusion_matrix_test[0,0] +b_l_confusion_matrix_test[0,1])\n",
    "TPR_Test_l_b = b_l_confusion_matrix_test[1,1]/(b_l_confusion_matrix_test[1,0] +b_l_confusion_matrix_test[1,1])\n",
    "\n",
    "print(\"Test TNR: \",TNR_Test_l_b)\n",
    "print(\"Test TPR: \",TPR_Test_l_b)\n",
    "print(\"Test Accuracy: \",Accuracy_Test_l_b)\n",
    "\n",
    "print(\"-----------------------\")\n"
   ]
  },
  {
   "cell_type": "code",
   "execution_count": 79,
   "metadata": {},
   "outputs": [
    {
     "name": "stdout",
     "output_type": "stream",
     "text": [
      "Model: \"sequential_15\"\n",
      "_________________________________________________________________\n",
      "Layer (type)                 Output Shape              Param #   \n",
      "=================================================================\n",
      "dense_38 (Dense)             (None, 25)                550       \n",
      "_________________________________________________________________\n",
      "dense_39 (Dense)             (None, 20)                520       \n",
      "_________________________________________________________________\n",
      "leaky_re_lu_11 (LeakyReLU)   (None, 20)                0         \n",
      "_________________________________________________________________\n",
      "dense_40 (Dense)             (None, 1)                 21        \n",
      "=================================================================\n",
      "Total params: 1,091\n",
      "Trainable params: 1,091\n",
      "Non-trainable params: 0\n",
      "_________________________________________________________________\n",
      "None\n"
     ]
    },
    {
     "data": {
      "image/png": "[encoded data removed]",
      "text/plain": [
       "<IPython.core.display.Image object>"
      ]
     },
     "execution_count": 79,
     "metadata": {},
     "output_type": "execute_result"
    }
   ],
   "source": [
    "# Get Model Summary:\n",
    "print(l_tuned_model.summary())\n",
    "\n",
    "# Vizualize the model:\n",
    "plot_model(l_tuned_model, to_file='l_tuned_model.png', show_shapes=True, show_layer_names=True) # to_file='model_plot.png'\n"
   ]
  },
  {
   "cell_type": "markdown",
   "metadata": {
    "collapsed": true
   },
   "source": [
    "### Reference Links:\n",
    "\n",
    "https://machinelearningmastery.com/adam-optimization-algorithm-for-deep-learning/\n",
    "\n",
    "https://keras.io/"
   ]
  },
  {
   "cell_type": "code",
   "execution_count": null,
   "metadata": {},
   "outputs": [],
   "source": []
  }
 ],
 "metadata": {
  "kernelspec": {
   "display_name": "Python 3",
   "language": "python",
   "name": "python3"
  },
  "language_info": {
   "codemirror_mode": {
    "name": "ipython",
    "version": 3
   },
   "file_extension": ".py",
   "mimetype": "text/x-python",
   "name": "python",
   "nbconvert_exporter": "python",
   "pygments_lexer": "ipython3",
   "version": "3.7.3"
  },
  "toc": {
   "base_numbering": 1,
   "nav_menu": {},
   "number_sections": true,
   "sideBar": true,
   "skip_h1_title": false,
   "title_cell": "Table of Contents",
   "title_sidebar": "Contents",
   "toc_cell": false,
   "toc_position": {
    "height": "calc(100% - 180px)",
    "left": "10px",
    "top": "150px",
    "width": "273.2px"
   },
   "toc_section_display": true,
   "toc_window_display": false
  },
  "varInspector": {
   "cols": {
    "lenName": 16,
    "lenType": 16,
    "lenVar": 40
   },
   "kernels_config": {
    "python": {
     "delete_cmd_postfix": "",
     "delete_cmd_prefix": "del ",
     "library": "var_list.py",
     "varRefreshCmd": "print(var_dic_list())"
    },
    "r": {
     "delete_cmd_postfix": ") ",
     "delete_cmd_prefix": "rm(",
     "library": "var_list.r",
     "varRefreshCmd": "cat(var_dic_list()) "
    }
   },
   "types_to_exclude": [
    "module",
    "function",
    "builtin_function_or_method",
    "instance",
    "_Feature"
   ],
   "window_display": false
  }
 },
 "nbformat": 4,
 "nbformat_minor": 2
}
